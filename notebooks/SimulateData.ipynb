{
 "cells": [
  {
   "cell_type": "markdown",
   "metadata": {},
   "source": [
    "## Download the data"
   ]
  },
  {
   "cell_type": "markdown",
   "metadata": {},
   "source": [
    "### Main genomes.\n",
    "Veillonella Parvula type strain (refseq reference): https://www.ncbi.nlm.nih.gov/nuccore/NZ_LT906445.1/\n",
    "NZ_LT906445.1  \n",
    "\n",
    "Clostridium beijerinckii: https://www.ncbi.nlm.nih.gov/nuccore/NZ_CP053893.1  \n",
    "NZ_CP053893.1  \n",
    "Clostridium ljungdahlii: https://www.ncbi.nlm.nih.gov/nuccore/NC_014328.1/  \n",
    "NC_014328.1  \n",
    "\n",
    "### Noise\n",
    "\n",
    "Veillonella atypica: https://www.ncbi.nlm.nih.gov/nuccore/NZ_CP020566.1  \n",
    "NZ_CP020566.1  \n",
    "Veillonella rodentium: https://www.ncbi.nlm.nih.gov/nuccore/NZ_LT906470.1  \n",
    "NZ_LT906470.1 \n",
    "\n",
    "\n",
    "### Script: See bin/fetch_ncbi.py"
   ]
  },
  {
   "cell_type": "code",
   "execution_count": 5,
   "metadata": {},
   "outputs": [
    {
     "data": {
      "text/plain": [
       "'a/b'"
      ]
     },
     "execution_count": 5,
     "metadata": {},
     "output_type": "execute_result"
    }
   ],
   "source": [
    "import os\n",
    "os.path.dirname(\"a/b/\")"
   ]
  },
  {
   "cell_type": "code",
   "execution_count": 1,
   "metadata": {},
   "outputs": [],
   "source": [
    "id_list = [\n",
    "    \"NZ_LT906445.1\",\n",
    "    \"NZ_CP053893.1\",\n",
    "    \"NC_014328.1\",\n",
    "    \"NZ_CP020566.1\",\n",
    "    \"NZ_LT906470.1\"\n",
    "]"
   ]
  },
  {
   "cell_type": "code",
   "execution_count": 4,
   "metadata": {},
   "outputs": [
    {
     "data": {
      "text/plain": [
       "'https://eutils.ncbi.nlm.nih.gov/entrez/eutils/efetch.fcgi?db=nuccore&id=NZ_LT906470.1&rettype=genbank&retmode=text'"
      ]
     },
     "execution_count": 4,
     "metadata": {},
     "output_type": "execute_result"
    }
   ],
   "source": [
    "ncbi_id = \"NZ_LT906470.1\"\n",
    "entrez_api_url = f'https://eutils.ncbi.nlm.nih.gov/entrez/eutils/efetch.fcgi?db=nuccore&id={ncbi_id}&rettype=genbank&retmode=text'\n",
    "entrez_api_url"
   ]
  },
  {
   "cell_type": "code",
   "execution_count": 58,
   "metadata": {},
   "outputs": [],
   "source": [
    "import requests\n",
    "import os, sys\n",
    "from typing import List\n",
    "\n",
    "\n",
    "def fetch_fasta_from_ncbi(ncbi_id, outdir = None, overwrite: bool=False, verbose: bool=False) -> str:\n",
    "    \n",
    "    \n",
    "    entrez_api_url = f'https://eutils.ncbi.nlm.nih.gov/entrez/eutils/efetch.fcgi?db=nuccore&id={ncbi_id}&rettype=fasta&retmode=text'\n",
    "    local_filename = ncbi_id.replace(\".\",\"_\")+\".fasta\"\n",
    "    \n",
    "    if outdir:\n",
    "        if not os.path.isdir(outdir):\n",
    "            print(\"Creating output folder: \" +outdir)\n",
    "            os.mkdir(outdir)\n",
    "        local_filehandle = os.path.join(outdir, local_filename)\n",
    "    else:\n",
    "        local_filehandle = local_filename\n",
    "   \n",
    "    #Check if file already exists:\n",
    "    if not overwrite and os.path.isfile(local_filehandle):\n",
    "        if verbose:\n",
    "            print(f\"{ncbi_id} already in outdir -> Skipping\", file=sys.stderr)\n",
    "        return os.path.abspath(local_filehandle)\n",
    "        \n",
    "    \n",
    "    # NOTE the stream=True parameter below\n",
    "    print(\"Pulling file with id: \" + ncbi_id, file=sys.stderr)\n",
    "    with requests.get(entrez_api_url, stream=True) as r:\n",
    "        r.raise_for_status()\n",
    "        with open(local_filehandle, 'wb') as f:\n",
    "            for chunk in r.iter_content(chunk_size=8192): \n",
    "                # If you have chunk encoded response uncomment if\n",
    "                # and set chunk_size parameter to None.\n",
    "                #if chunk: \n",
    "                f.write(chunk)\n",
    "    return os.path.abspath(local_filehandle)\n",
    "\n",
    "def fetch_fastas_async(ncbi_ids: List[str], outdir: str=None, overwrite: bool=False, verbose: bool=False) -> List[str]:\n",
    "    loaded_files = []\n",
    "    for ncbi_id in ncbi_ids: #todo: run as async group\n",
    "        try:\n",
    "            filepath = fetch_fasta_from_ncbi(ncbi_id = ncbi_id, outdir = outdir, overwrite=overwrite, verbose=verbose)\n",
    "            loaded_files.append(filepath)\n",
    "        except Exception as err:\n",
    "            print(err, file=sys.sterr)\n",
    "    return loaded_files"
   ]
  },
  {
   "cell_type": "code",
   "execution_count": 29,
   "metadata": {},
   "outputs": [
    {
     "name": "stderr",
     "output_type": "stream",
     "text": [
      "Creating working dir -> /home/people/henspi/AntibioticaScreeningWD\n"
     ]
    },
    {
     "ename": "FileNotFoundError",
     "evalue": "[Errno 2] No such file or directory: '/home/people/henspi/AntibioticaScreeningWD'",
     "output_type": "error",
     "traceback": [
      "\u001b[0;31m---------------------------------------------------------------------------\u001b[0m",
      "\u001b[0;31mFileNotFoundError\u001b[0m                         Traceback (most recent call last)",
      "\u001b[0;32m<ipython-input-29-2562e7711203>\u001b[0m in \u001b[0;36m<module>\u001b[0;34m()\u001b[0m\n\u001b[1;32m     13\u001b[0m \u001b[0;32mif\u001b[0m \u001b[0;32mnot\u001b[0m \u001b[0mos\u001b[0m\u001b[0;34m.\u001b[0m\u001b[0mpath\u001b[0m\u001b[0;34m.\u001b[0m\u001b[0misdir\u001b[0m\u001b[0;34m(\u001b[0m\u001b[0mworking_dir\u001b[0m\u001b[0;34m)\u001b[0m\u001b[0;34m:\u001b[0m\u001b[0;34m\u001b[0m\u001b[0m\n\u001b[1;32m     14\u001b[0m     \u001b[0mprint\u001b[0m\u001b[0;34m(\u001b[0m\u001b[0;34m\"Creating working dir -> \"\u001b[0m\u001b[0;34m+\u001b[0m\u001b[0mworking_dir\u001b[0m\u001b[0;34m,\u001b[0m \u001b[0mfile\u001b[0m\u001b[0;34m=\u001b[0m\u001b[0msys\u001b[0m\u001b[0;34m.\u001b[0m\u001b[0mstderr\u001b[0m\u001b[0;34m)\u001b[0m\u001b[0;34m\u001b[0m\u001b[0m\n\u001b[0;32m---> 15\u001b[0;31m     \u001b[0mos\u001b[0m\u001b[0;34m.\u001b[0m\u001b[0mmkdir\u001b[0m\u001b[0;34m(\u001b[0m\u001b[0mworking_dir\u001b[0m\u001b[0;34m)\u001b[0m\u001b[0;34m\u001b[0m\u001b[0m\n\u001b[0m\u001b[1;32m     16\u001b[0m \u001b[0;34m\u001b[0m\u001b[0m\n\u001b[1;32m     17\u001b[0m \u001b[0;34m\u001b[0m\u001b[0m\n",
      "\u001b[0;31mFileNotFoundError\u001b[0m: [Errno 2] No such file or directory: '/home/people/henspi/AntibioticaScreeningWD'"
     ]
    }
   ],
   "source": [
    "#!/usr/bin/env python3\n",
    "import os, sys\n",
    "\n",
    "# Qsub pipeline intro:\n",
    "\n",
    "from lib.general_functions import submit2\n",
    "\n",
    "code_dir = \"/home/people/henspi/git/AntibioticaScreening/project\" # TODO: Should be argument\n",
    "working_dir = \"/home/people/henspi/AntibioticaScreeningWD\"        # TODO: Should be argument\n",
    "\n",
    "id_list_fp = \"data/simulated_data/id_list.txt\"\n",
    "\n",
    "if not os.path.isdir(working_dir):\n",
    "    print(\"Creating working dir -> \"+working_dir, file=sys.stderr)\n",
    "    os.mkdir(working_dir)\n",
    "\n",
    "\n",
    "run_command = f\"\"\"\\\n",
    "cat {os.path.join(working_dir, id_list_fp)} |\\\n",
    "{os.path.join(code_dir, 'bin/ncbi_fetch.py')}\\ \n",
    "--outdir {os.path.join(working_dir, 'simulated_data/input_genomes')}\\\n",
    "\"\"\"\n",
    "\n",
    "\n",
    "\n",
    "print(run_command, file=sys.stderr)\n"
   ]
  },
  {
   "cell_type": "code",
   "execution_count": 10,
   "metadata": {},
   "outputs": [],
   "source": [
    "metadata_str = \"\"\"\\\n",
    "genome_ID,OTU,NCBI_ID,novelty_category\n",
    "Genome1,x,748727,known_species\n",
    "Genome2,x,39777,known_species\n",
    "Genome3,x,1520,known_species\n",
    "Genome4,x,29466,known_species\n",
    "Genome5,x,248315,known_species\n",
    "\"\"\""
   ]
  },
  {
   "cell_type": "code",
   "execution_count": 8,
   "metadata": {},
   "outputs": [],
   "source": [
    "from io import StringIO"
   ]
  },
  {
   "cell_type": "code",
   "execution_count": 12,
   "metadata": {},
   "outputs": [],
   "source": [
    "import pandas as pd\n",
    "df = pd.read_csv(StringIO(metadata_str), sep=\",\")"
   ]
  },
  {
   "cell_type": "code",
   "execution_count": 23,
   "metadata": {},
   "outputs": [
    {
     "ename": "ValueError",
     "evalue": "too many values to unpack (expected 2)",
     "output_type": "error",
     "traceback": [
      "\u001b[0;31m---------------------------------------------------------------------------\u001b[0m",
      "\u001b[0;31mValueError\u001b[0m                                Traceback (most recent call last)",
      "\u001b[0;32m<ipython-input-23-34147dd99c99>\u001b[0m in \u001b[0;36m<module>\u001b[0;34m()\u001b[0m\n\u001b[1;32m      2\u001b[0m \u001b[0moutput_cleaned\u001b[0m \u001b[0;34m=\u001b[0m \u001b[0;34m[\u001b[0m\u001b[0mx\u001b[0m\u001b[0;34m.\u001b[0m\u001b[0mstrip\u001b[0m\u001b[0;34m(\u001b[0m\u001b[0;34m)\u001b[0m \u001b[0;32mfor\u001b[0m \u001b[0mx\u001b[0m \u001b[0;32min\u001b[0m \u001b[0;34m\"\"\u001b[0m\u001b[0;34m.\u001b[0m\u001b[0mjoin\u001b[0m\u001b[0;34m(\u001b[0m\u001b[0moutput\u001b[0m\u001b[0;34m)\u001b[0m\u001b[0;34m.\u001b[0m\u001b[0mreplace\u001b[0m\u001b[0;34m(\u001b[0m\u001b[0;34m\"\\n\\t\"\u001b[0m\u001b[0;34m,\u001b[0m \u001b[0;34m\"\"\u001b[0m\u001b[0;34m)\u001b[0m\u001b[0;34m.\u001b[0m\u001b[0msplit\u001b[0m\u001b[0;34m(\u001b[0m\u001b[0;34m\"\\n\"\u001b[0m\u001b[0;34m)\u001b[0m\u001b[0;34m]\u001b[0m\u001b[0;34m\u001b[0m\u001b[0m\n\u001b[1;32m      3\u001b[0m \u001b[0moutput_cleaned\u001b[0m\u001b[0;34m\u001b[0m\u001b[0m\n\u001b[0;32m----> 4\u001b[0;31m \u001b[0moutput_dict\u001b[0m \u001b[0;34m=\u001b[0m \u001b[0;34m{\u001b[0m\u001b[0mk\u001b[0m\u001b[0;34m.\u001b[0m\u001b[0mstrip\u001b[0m\u001b[0;34m(\u001b[0m\u001b[0;34m)\u001b[0m\u001b[0;34m:\u001b[0m \u001b[0mv\u001b[0m\u001b[0;34m.\u001b[0m\u001b[0mstrip\u001b[0m\u001b[0;34m(\u001b[0m\u001b[0;34m)\u001b[0m \u001b[0;32mfor\u001b[0m \u001b[0mline\u001b[0m \u001b[0;32min\u001b[0m \u001b[0moutput_cleaned\u001b[0m \u001b[0;32mfor\u001b[0m \u001b[0mk\u001b[0m\u001b[0;34m,\u001b[0m\u001b[0mv\u001b[0m \u001b[0;32min\u001b[0m \u001b[0mline\u001b[0m\u001b[0;34m.\u001b[0m\u001b[0msplit\u001b[0m\u001b[0;34m(\u001b[0m\u001b[0;34m\"=\"\u001b[0m\u001b[0;34m)\u001b[0m\u001b[0;34m}\u001b[0m\u001b[0;34m\u001b[0m\u001b[0m\n\u001b[0m\u001b[1;32m      5\u001b[0m \u001b[0moutput_dict\u001b[0m\u001b[0;34m\u001b[0m\u001b[0m\n",
      "\u001b[0;32m<ipython-input-23-34147dd99c99>\u001b[0m in \u001b[0;36m<dictcomp>\u001b[0;34m(.0)\u001b[0m\n\u001b[1;32m      2\u001b[0m \u001b[0moutput_cleaned\u001b[0m \u001b[0;34m=\u001b[0m \u001b[0;34m[\u001b[0m\u001b[0mx\u001b[0m\u001b[0;34m.\u001b[0m\u001b[0mstrip\u001b[0m\u001b[0;34m(\u001b[0m\u001b[0;34m)\u001b[0m \u001b[0;32mfor\u001b[0m \u001b[0mx\u001b[0m \u001b[0;32min\u001b[0m \u001b[0;34m\"\"\u001b[0m\u001b[0;34m.\u001b[0m\u001b[0mjoin\u001b[0m\u001b[0;34m(\u001b[0m\u001b[0moutput\u001b[0m\u001b[0;34m)\u001b[0m\u001b[0;34m.\u001b[0m\u001b[0mreplace\u001b[0m\u001b[0;34m(\u001b[0m\u001b[0;34m\"\\n\\t\"\u001b[0m\u001b[0;34m,\u001b[0m \u001b[0;34m\"\"\u001b[0m\u001b[0;34m)\u001b[0m\u001b[0;34m.\u001b[0m\u001b[0msplit\u001b[0m\u001b[0;34m(\u001b[0m\u001b[0;34m\"\\n\"\u001b[0m\u001b[0;34m)\u001b[0m\u001b[0;34m]\u001b[0m\u001b[0;34m\u001b[0m\u001b[0m\n\u001b[1;32m      3\u001b[0m \u001b[0moutput_cleaned\u001b[0m\u001b[0;34m\u001b[0m\u001b[0m\n\u001b[0;32m----> 4\u001b[0;31m \u001b[0moutput_dict\u001b[0m \u001b[0;34m=\u001b[0m \u001b[0;34m{\u001b[0m\u001b[0mk\u001b[0m\u001b[0;34m.\u001b[0m\u001b[0mstrip\u001b[0m\u001b[0;34m(\u001b[0m\u001b[0;34m)\u001b[0m\u001b[0;34m:\u001b[0m \u001b[0mv\u001b[0m\u001b[0;34m.\u001b[0m\u001b[0mstrip\u001b[0m\u001b[0;34m(\u001b[0m\u001b[0;34m)\u001b[0m \u001b[0;32mfor\u001b[0m \u001b[0mline\u001b[0m \u001b[0;32min\u001b[0m \u001b[0moutput_cleaned\u001b[0m \u001b[0;32mfor\u001b[0m \u001b[0mk\u001b[0m\u001b[0;34m,\u001b[0m\u001b[0mv\u001b[0m \u001b[0;32min\u001b[0m \u001b[0mline\u001b[0m\u001b[0;34m.\u001b[0m\u001b[0msplit\u001b[0m\u001b[0;34m(\u001b[0m\u001b[0;34m\"=\"\u001b[0m\u001b[0;34m)\u001b[0m\u001b[0;34m}\u001b[0m\u001b[0;34m\u001b[0m\u001b[0m\n\u001b[0m\u001b[1;32m      5\u001b[0m \u001b[0moutput_dict\u001b[0m\u001b[0;34m\u001b[0m\u001b[0m\n",
      "\u001b[0;31mValueError\u001b[0m: too many values to unpack (expected 2)"
     ]
    }
   ],
   "source": [
    "output = open(\"test\", \"r\").readlines()\n",
    "output_cleaned = [x.strip() for x in \"\".join(output).replace(\"\\n\\t\", \"\").split(\"\\n\")]\n",
    "output_cleaned\n",
    "output_dict = {k.strip(): v.strip() for line in output_cleaned for k,v in line.split(\"=\")}\n",
    "output_dict"
   ]
  },
  {
   "cell_type": "code",
   "execution_count": 35,
   "metadata": {
    "scrolled": true
   },
   "outputs": [],
   "source": [
    "output_dict = {}\n",
    "for line in output_cleaned[1::]:\n",
    "    if not line or \"=\" not in line:\n",
    "        continue\n",
    "    k, v = line.split(\" = \")\n",
    "    if k in [\"Error_Path\", \"Output_Path\"]:\n",
    "        v = v.split(\":\")[1]\n",
    "    output_dict[k] = v\n",
    "    "
   ]
  },
  {
   "cell_type": "code",
   "execution_count": 37,
   "metadata": {},
   "outputs": [
    {
     "data": {
      "text/plain": [
       "'R'"
      ]
     },
     "execution_count": 37,
     "metadata": {},
     "output_type": "execute_result"
    }
   ],
   "source": [
    "output_dict['job_state']"
   ]
  },
  {
   "cell_type": "code",
   "execution_count": 38,
   "metadata": {},
   "outputs": [
    {
     "data": {
      "text/plain": [
       "{'Job_Name': 'camisim',\n",
       " 'Job_Owner': 'henspi@g-12-l0002.eth.cla',\n",
       " 'resources_used.cput': '00:09:03',\n",
       " 'resources_used.energy_used': '0',\n",
       " 'resources_used.mem': '1790832kb',\n",
       " 'resources_used.vmem': '90528556kb',\n",
       " 'resources_used.walltime': '00:05:37',\n",
       " 'job_state': 'R',\n",
       " 'queue': 'batch',\n",
       " 'server': 'moab.eth.cla',\n",
       " 'Account_Name': 'dtu_00009',\n",
       " 'Checkpoint': 'u',\n",
       " 'ctime': 'Wed Aug 31 13:21:18 2022',\n",
       " 'Error_Path': '/home/projects/dtu_00009/people/henspi/git/AntibioticaScreening/project/logs/camisim_stderr.txt',\n",
       " 'exec_host': 'g-01-c0070/0-34',\n",
       " 'group_list': 'dtu_00009',\n",
       " 'Hold_Types': 'n',\n",
       " 'Join_Path': 'n',\n",
       " 'Keep_Files': 'n',\n",
       " 'Mail_Points': 'a',\n",
       " 'mtime': 'Wed Aug 31 13:21:57 2022',\n",
       " 'Output_Path': '/home/projects/dtu_00009/people/henspi/git/AntibioticaScreening/project/logs/camisim_output.txt',\n",
       " 'Priority': '0',\n",
       " 'qtime': 'Wed Aug 31 13:21:18 2022',\n",
       " 'Rerunable': 'True',\n",
       " 'Resource_List.nodes': '1:ppn=35',\n",
       " 'Resource_List.mem': '185gb',\n",
       " 'Resource_List.walltime': '02:40:00',\n",
       " 'Resource_List.nodect': '1',\n",
       " 'session_id': '4978',\n",
       " 'Variable_List': 'PBS_O_QUEUE=batch,PBS_O_HOME=/home/people/henspi,PBS_O_LOGNAME=henspi,PBS_O_PATH=/services/tools/anaconda3/2020.07/bin:/usr/local/bin:/usr/local/sbin:/usr/lib64/qt-3.3/bin:/cm/local/apps/environment-modules/4.2.1//bin:/opt/moab/bin:/usr/local/bin:/usr/bin:/usr/local/sbin:/usr/sbin:/sbin:/usr/sbin:/cm/local/apps/environment-modules/4.2.1/bin:/opt/thinlinc/bin:/home/people/henspi/bin/:/home/people/henspi/.local/bin:/home/people/henspi/bin,PBS_O_MAIL=/var/spool/mail/henspi,PBS_O_SHELL=/bin/bash,PBS_O_LANG=en_US.utf-8,PBS_O_INITDIR=/home/projects/dtu_00009/people/henspi/git/AntibioticaScreening/project,PBS_O_WORKDIR=/home/projects/dtu_00009/people/henspi/git/AntibioticaScreening/project,PBS_O_HOST=g-12-l0002.cm.cluster,PBS_O_SERVER=moab',\n",
       " 'euser': 'henspi',\n",
       " 'egroup': 'dtu_00009',\n",
       " 'queue_type': 'E',\n",
       " 'etime': 'Wed Aug 31 13:21:18 2022',\n",
       " 'start_time': 'Wed Aug 31 13:21:57 2022',\n",
       " 'Walltime.Remaining': '9221',\n",
       " 'start_count': '1',\n",
       " 'fault_tolerant': 'False',\n",
       " 'job_radix': '0',\n",
       " 'submit_host': 'g-12-l0002.cm.cluster',\n",
       " 'init_work_dir': '/home/projects/dtu_00009/people/henspi/git/AntibioticaScreening/project',\n",
       " 'request_version': '1',\n",
       " 'req_information.task_count.0': '1',\n",
       " 'req_information.lprocs.0': '35',\n",
       " 'req_information.total_memory.0': '193986560kb',\n",
       " 'req_information.memory.0': '193986560kb',\n",
       " 'req_information.thread_usage_policy.0': 'allowthreads',\n",
       " 'req_information.hostlist.0': 'g-01-c0070:ppn=35',\n",
       " 'req_information.task_usage.0.task.0.cpu_list': '0-34',\n",
       " 'req_information.task_usage.0.task.0.mem_list': '0-1',\n",
       " 'req_information.task_usage.0.task.0.cores': '0',\n",
       " 'req_information.task_usage.0.task.0.threads': '35',\n",
       " 'req_information.task_usage.0.task.0.host': 'g-01-c0070',\n",
       " 'cpuset_string': 'g-01-c0070:0-34',\n",
       " 'memset_string': 'g-01-c0070:0-1'}"
      ]
     },
     "execution_count": 38,
     "metadata": {},
     "output_type": "execute_result"
    }
   ],
   "source": [
    "output_dict"
   ]
  }
 ],
 "metadata": {
  "kernelspec": {
   "display_name": "Python 3",
   "language": "python",
   "name": "python3"
  },
  "language_info": {
   "codemirror_mode": {
    "name": "ipython",
    "version": 3
   },
   "file_extension": ".py",
   "mimetype": "text/x-python",
   "name": "python",
   "nbconvert_exporter": "python",
   "pygments_lexer": "ipython3",
   "version": "3.7.0"
  }
 },
 "nbformat": 4,
 "nbformat_minor": 2
}
