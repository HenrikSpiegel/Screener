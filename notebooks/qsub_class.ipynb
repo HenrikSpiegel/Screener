{
 "cells": [
  {
   "cell_type": "code",
   "execution_count": 2,
   "id": "36618a56",
   "metadata": {},
   "outputs": [],
   "source": [
    "import logging\n",
    "import os, sys\n",
    "if not \"../\" in sys.path:\n",
    "    sys.path.insert(0, \"../\")"
   ]
  },
  {
   "cell_type": "code",
   "execution_count": 3,
   "id": "77379d46",
   "metadata": {},
   "outputs": [
    {
     "data": {
      "text/plain": [
       "['../',\n",
       " '/mnt/computerome/home/projects/dtu_00009/people/henspi/git/Screener/notebooks',\n",
       " '/home/henrik/anaconda3/lib/python310.zip',\n",
       " '/home/henrik/anaconda3/lib/python3.10',\n",
       " '/home/henrik/anaconda3/lib/python3.10/lib-dynload',\n",
       " '',\n",
       " '/home/henrik/anaconda3/lib/python3.10/site-packages']"
      ]
     },
     "execution_count": 3,
     "metadata": {},
     "output_type": "execute_result"
    }
   ],
   "source": [
    "sys.path"
   ]
  },
  {
   "cell_type": "code",
   "execution_count": 5,
   "id": "1e61379b",
   "metadata": {},
   "outputs": [],
   "source": [
    "from scripts.qsub_mapquantifier import QuantifierMap"
   ]
  },
  {
   "cell_type": "code",
   "execution_count": 6,
   "id": "e8a9d887",
   "metadata": {},
   "outputs": [],
   "source": [
    "import inspect"
   ]
  },
  {
   "cell_type": "code",
   "execution_count": null,
   "id": "e278145d",
   "metadata": {},
   "outputs": [],
   "source": []
  },
  {
   "cell_type": "code",
   "execution_count": 4,
   "id": "4ad1565c",
   "metadata": {},
   "outputs": [
    {
     "data": {
      "text/plain": [
       "'abc'"
      ]
     },
     "execution_count": 4,
     "metadata": {},
     "output_type": "execute_result"
    }
   ],
   "source": [
    "\"abc.gz\"[:-3]"
   ]
  },
  {
   "cell_type": "code",
   "execution_count": 84,
   "id": "c96c5a95",
   "metadata": {},
   "outputs": [
    {
     "data": {
      "text/plain": [
       "'a/b'"
      ]
     },
     "execution_count": 84,
     "metadata": {},
     "output_type": "execute_result"
    }
   ],
   "source": [
    "os.path.dirname(\"a/b/c\")"
   ]
  },
  {
   "cell_type": "code",
   "execution_count": 82,
   "id": "487d2269",
   "metadata": {},
   "outputs": [],
   "source": [
    "class qsub_base:\n",
    "    working_dir = \"/home/projects/dtu_00009/people/henspi/git/AntibioticaScreening/project\"\n",
    "    \n",
    "    \n",
    "    @property\n",
    "    def log_setup(self):\n",
    "        setup = dict(\n",
    "            name = self.__class__.__name__,\n",
    "            level = logging.DEBUG,\n",
    "            log_file = None\n",
    "        )    \n",
    "        return setup\n",
    "    @property\n",
    "    def log(self):\n",
    "        if not hasattr(self, \"_log\"):\n",
    "            setup = self.log_setup\n",
    "            logger = logging.getLogger(setup[\"name\"])\n",
    "            \n",
    "            #remove old handlers:\n",
    "            while logger.handlers:\n",
    "                logger.removeHandler(logger.handlers[0])\n",
    "            \n",
    "            logger.setLevel(setup[\"level\"])\n",
    "            \n",
    "            formatter = logging.Formatter('%(asctime)s - %(name)s - %(levelname)s - %(message)s', datefmt='%d-%b-%y %H:%M:%S')\n",
    "            stream_handler = logging.StreamHandler()\n",
    "            stream_handler.setFormatter(formatter)\n",
    "            stream_handler.setLevel(setup[\"level\"])\n",
    "            logger.addHandler(stream_handler)\n",
    "            \n",
    "            if setup[\"log_file\"]:\n",
    "                file_handler = logging.FileHandler(setup[\"log_file\"])\n",
    "                file_handler.setFormatter(formatter)\n",
    "                file_handler.setLevel(setup[\"level\"])\n",
    "                logger.addHandler(file_handler)\n",
    "                logger.debug(\"logfile at -> \"+setup[\"log_file\"])\n",
    "            self._log = logger\n",
    "        return self._log\n",
    "  \n",
    "    @property\n",
    "    def default_qsub_requirement(self) -> dict:\n",
    "        self.log.warning(\"Using default qsub_base compute requirements - set property: default_qsub_requirement in class\")\n",
    "        args = dict(\n",
    "            modules = \"tools anaconda3/2021.11 \",\n",
    "            runtime = 30,\n",
    "            cores = 5,\n",
    "            ram=20,\n",
    "        )\n",
    "        return args\n",
    "\n",
    "    def gen_qsub_args(self, jobtag: str=None, **kwargs):\n",
    "        jobname = self.__class__.__name__\n",
    "        if jobtag:\n",
    "            jobname = \"_\".join([jobname, jobtag])\n",
    "        qsub_args = self.default_qsub_requirement\n",
    "        qsub_args.update(dict(\n",
    "            directory = self.working_dir,\n",
    "            group=\"dtu_00009\",\n",
    "            jobname=jobname,\n",
    "            output = os.path.join(\"logs\", jobname+ \"_stdout\"),\n",
    "            error = os.path.join(\"logs\", jobname+ \"_stderr\")\n",
    "        ))\n",
    "        qsub_args.update(kwargs)\n",
    "        return qsub_args\n",
    "    \n",
    "    def generate_syscall(self, **kwargs) -> str:\n",
    "        raise NotImplementedError\n",
    "        \n",
    "    def preflight(self, **kwargs) -> None:\n",
    "        raise NotImplementedError\n",
    "        \n",
    "    def output_exist(self, **kwargs) -> bool:\n",
    "        raise NotImplementedError\n",
    "    \n",
    "    def is_succes(self) -> bool:\n",
    "        raise NotImplementedError\n"
   ]
  },
  {
   "cell_type": "code",
   "execution_count": 91,
   "id": "f350f94d",
   "metadata": {},
   "outputs": [],
   "source": [
    "import re\n",
    "dir_p = \"../data/simulated_data/camisim/0_1GB/2022.09.08_08.12.03_sample_0/reads/\"\n",
    "files = os.listdir(dir_p)\n",
    "reads1 = sorted([x for x in files if re.search(\"Genome\\d1.fq.gz\", x)])\n",
    "reads2 = sorted([x for x in files if re.search(\"Genome\\d2.fq.gz\", x)])"
   ]
  },
  {
   "cell_type": "code",
   "execution_count": 92,
   "id": "2cb135aa",
   "metadata": {},
   "outputs": [
    {
     "data": {
      "text/plain": [
       "['Genome11.fq.gz',\n",
       " 'Genome21.fq.gz',\n",
       " 'Genome31.fq.gz',\n",
       " 'Genome41.fq.gz',\n",
       " 'Genome51.fq.gz']"
      ]
     },
     "execution_count": 92,
     "metadata": {},
     "output_type": "execute_result"
    }
   ],
   "source": [
    "reads1"
   ]
  },
  {
   "cell_type": "code",
   "execution_count": 93,
   "id": "1578a917",
   "metadata": {},
   "outputs": [
    {
     "data": {
      "text/plain": [
       "['Genome12.fq.gz',\n",
       " 'Genome22.fq.gz',\n",
       " 'Genome32.fq.gz',\n",
       " 'Genome42.fq.gz',\n",
       " 'Genome52.fq.gz']"
      ]
     },
     "execution_count": 93,
     "metadata": {},
     "output_type": "execute_result"
    }
   ],
   "source": [
    "reads2"
   ]
  }
 ],
 "metadata": {
  "kernelspec": {
   "display_name": "Python 3 (ipykernel)",
   "language": "python",
   "name": "python3"
  },
  "language_info": {
   "codemirror_mode": {
    "name": "ipython",
    "version": 3
   },
   "file_extension": ".py",
   "mimetype": "text/x-python",
   "name": "python",
   "nbconvert_exporter": "python",
   "pygments_lexer": "ipython3",
   "version": "3.10.4"
  }
 },
 "nbformat": 4,
 "nbformat_minor": 5
}
