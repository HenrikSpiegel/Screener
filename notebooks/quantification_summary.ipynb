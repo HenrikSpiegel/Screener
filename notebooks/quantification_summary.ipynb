{
 "cells": [
  {
   "cell_type": "code",
   "execution_count": 14,
   "metadata": {},
   "outputs": [],
   "source": [
    "#input:\n"
   ]
  },
  {
   "cell_type": "code",
   "execution_count": 24,
   "metadata": {},
   "outputs": [
    {
     "ename": "NameError",
     "evalue": "name 'file' is not defined",
     "output_type": "error",
     "traceback": [
      "\u001b[0;31m---------------------------------------------------------------------------\u001b[0m",
      "\u001b[0;31mNameError\u001b[0m                                 Traceback (most recent call last)",
      "Input \u001b[0;32mIn [24]\u001b[0m, in \u001b[0;36m<cell line: 2>\u001b[0;34m()\u001b[0m\n\u001b[1;32m      1\u001b[0m total_length \u001b[38;5;241m=\u001b[39m \u001b[38;5;241m0\u001b[39m\n\u001b[0;32m----> 2\u001b[0m \u001b[38;5;28;01mfor\u001b[39;00m line \u001b[38;5;129;01min\u001b[39;00m \u001b[38;5;28mopen\u001b[39m(\u001b[43mfile\u001b[49m, \u001b[38;5;124m\"\u001b[39m\u001b[38;5;124mrb\u001b[39m\u001b[38;5;124m\"\u001b[39m):\n\u001b[1;32m      3\u001b[0m     \u001b[38;5;28;01mif\u001b[39;00m line[\u001b[38;5;241m0\u001b[39m] \u001b[38;5;241m==\u001b[39m \u001b[38;5;241m62\u001b[39m: \u001b[38;5;66;03m#bit for '>'\u001b[39;00m\n\u001b[1;32m      4\u001b[0m         \u001b[38;5;28mprint\u001b[39m(total_length)\n",
      "\u001b[0;31mNameError\u001b[0m: name 'file' is not defined"
     ]
    }
   ],
   "source": [
    "file = \"..data/simulated_data/input_genomes/combined.fa\"\n",
    "total_length = 0\n",
    "for line in open(file, \"rb\"):\n",
    "    if line[0] == 62: #bit for '>'\n",
    "        print(total_length)\n",
    "        print(line)\n",
    "        continue\n",
    "    total_length += len(line.strip())\n",
    "print(total_length)"
   ]
  },
  {
   "cell_type": "code",
   "execution_count": 34,
   "metadata": {},
   "outputs": [
    {
     "name": "stderr",
     "output_type": "stream",
     "text": [
      "Gathered summary from (8): ['0_01GB', '0_02GB', '1GB', '0_002GB', '0_2GB', '0_1GB', '0_001GB', '2GB']\n"
     ]
    }
   ],
   "source": [
    "import glob\n",
    "import pandas as pd\n",
    "import os, sys\n",
    "from typing import List, Callable\n",
    "def gather_reference_quantification(\n",
    "        quantification_dir: str=\"data/simulated_data/quantification/\", \n",
    "        expected_labels: List[str]=None):\n",
    "    \n",
    "    summary_files = glob.glob(os.path.join(quantification_dir, \"*/cmseq_summation.tsv\"))\n",
    "    summary_labels = [x.rsplit(\"/\",2)[1] for x in summary_files]\n",
    "    \n",
    "    if expected_labels:\n",
    "        if not set(expected_labels) == set(summary_labels):\n",
    "            err_msg = f\"\\\n",
    "expected summary files != found summary files.\\n\\\n",
    "Expected labels({len(expected_labels)}):{expected_labels}\\n\\\n",
    "Found labels({len(summary_labels)}):{summary_labels}\"\n",
    "            raise ValueError(err_msg)\n",
    "    \n",
    "    dataframes = []\n",
    "    for file, label in zip(summary_files, summary_labels):\n",
    "        readsGB = float(label[:-2].replace(\"_\", \".\"))\n",
    "        df = pd.read_csv(file, sep=\"\\t\")\n",
    "        df[\"readsGB\"] = readsGB\n",
    "        dataframes.append(df)        \n",
    "    print(f\"Gathered summary from ({len(summary_labels)}): {summary_labels}\", file=sys.stderr)\n",
    "    return pd.concat(dataframes)\n",
    "\n",
    "df_ref_quant = gather_reference_quantification(\"../data/simulated_data/quantification/\")"
   ]
  },
  {
   "cell_type": "code",
   "execution_count": 35,
   "metadata": {},
   "outputs": [
    {
     "name": "stderr",
     "output_type": "stream",
     "text": [
      "Combined genome size (16859816)bp\n"
     ]
    },
    {
     "data": {
      "text/plain": [
       "[5.931262832287137]"
      ]
     },
     "execution_count": 35,
     "metadata": {},
     "output_type": "execute_result"
    }
   ],
   "source": [
    "file = \"../data/simulated_data/input_genomes/combined.fa\"\n",
    "def expected_count_eq_ratio(readsGB:List[int], input_genomes_fasta: str = \"data/simulated_data/input_genomes/combined.fa\"):\n",
    "    total_length = 0\n",
    "    for line in open(file, \"rb\"):\n",
    "        if line[0] == 62: #bit for '>'\n",
    "            #print(total_length)\n",
    "            #print(line)\n",
    "            continue\n",
    "        total_length += len(line.strip())\n",
    "    print(f\"Combined genome size ({total_length})bp\", file=sys.stderr)\n",
    "    expected_counts = [(x*10**9)/total_length for x in readsGB]\n",
    "    return expected_counts\n",
    "expected_count_eq_ratio([0.1], file)"
   ]
  },
  {
   "cell_type": "code",
   "execution_count": 42,
   "metadata": {},
   "outputs": [
    {
     "name": "stderr",
     "output_type": "stream",
     "text": [
      "Combined genome size (16859816)bp\n"
     ]
    }
   ],
   "source": [
    "import numpy as np\n",
    "def calculate_error_metrics(df: pd.DataFrame) -> pd.DataFrame:\n",
    "    df_out = df.copy()\n",
    "    \n",
    "    fp_inputcombined = \"../data/simulated_data/input_genomes/combined.fa\"\n",
    "    df_out[\"expected_value\"] = expected_count_eq_ratio(df[\"readsGB\"], fp_inputcombined)\n",
    "    df_out[\"expected_value_int\"] = df_out[\"expected_value\"].round(0)\n",
    "    \n",
    "    df_out[\"RAE_raw\"] = np.abs(df_out[\"expected_value\"].values-df_out[\"Depth median\"])/df_out[\"expected_value\"]\n",
    "    df_out[\"RAE_int\"] = np.abs(df_out[\"expected_value_int\"].values-df_out[\"Depth median\"])/df_out[\"expected_value_int\"]\n",
    "    \n",
    "    return df_out\n",
    "    #df_out[\"abs_err\"] = \n",
    "\n",
    "df_summary = calculate_error_metrics(df_ref_quant)"
   ]
  },
  {
   "cell_type": "code",
   "execution_count": 43,
   "metadata": {},
   "outputs": [
    {
     "data": {
      "text/html": [
       "<div>\n",
       "<style scoped>\n",
       "    .dataframe tbody tr th:only-of-type {\n",
       "        vertical-align: middle;\n",
       "    }\n",
       "\n",
       "    .dataframe tbody tr th {\n",
       "        vertical-align: top;\n",
       "    }\n",
       "\n",
       "    .dataframe thead th {\n",
       "        text-align: right;\n",
       "    }\n",
       "</style>\n",
       "<table border=\"1\" class=\"dataframe\">\n",
       "  <thead>\n",
       "    <tr style=\"text-align: right;\">\n",
       "      <th></th>\n",
       "      <th>Contig</th>\n",
       "      <th>Breadth</th>\n",
       "      <th>Depth avg</th>\n",
       "      <th>Depth median</th>\n",
       "      <th>readsGB</th>\n",
       "      <th>expected_value</th>\n",
       "      <th>expected_value_int</th>\n",
       "      <th>RAE_raw</th>\n",
       "      <th>RAE_int</th>\n",
       "    </tr>\n",
       "  </thead>\n",
       "  <tbody>\n",
       "    <tr>\n",
       "      <th>0</th>\n",
       "      <td>NC_014328.1.region004</td>\n",
       "      <td>0.419422</td>\n",
       "      <td>1.382508</td>\n",
       "      <td>1.0</td>\n",
       "      <td>0.01</td>\n",
       "      <td>0.593126</td>\n",
       "      <td>1.0</td>\n",
       "      <td>0.685982</td>\n",
       "      <td>0.0</td>\n",
       "    </tr>\n",
       "    <tr>\n",
       "      <th>1</th>\n",
       "      <td>NZ_CP053893.1.region001</td>\n",
       "      <td>0.355457</td>\n",
       "      <td>1.301931</td>\n",
       "      <td>1.0</td>\n",
       "      <td>0.01</td>\n",
       "      <td>0.593126</td>\n",
       "      <td>1.0</td>\n",
       "      <td>0.685982</td>\n",
       "      <td>0.0</td>\n",
       "    </tr>\n",
       "    <tr>\n",
       "      <th>2</th>\n",
       "      <td>NZ_LT906470.1.region001</td>\n",
       "      <td>0.360043</td>\n",
       "      <td>1.355237</td>\n",
       "      <td>1.0</td>\n",
       "      <td>0.01</td>\n",
       "      <td>0.593126</td>\n",
       "      <td>1.0</td>\n",
       "      <td>0.685982</td>\n",
       "      <td>0.0</td>\n",
       "    </tr>\n",
       "    <tr>\n",
       "      <th>3</th>\n",
       "      <td>NZ_CP053893.1.region004</td>\n",
       "      <td>0.469589</td>\n",
       "      <td>1.565359</td>\n",
       "      <td>1.0</td>\n",
       "      <td>0.01</td>\n",
       "      <td>0.593126</td>\n",
       "      <td>1.0</td>\n",
       "      <td>0.685982</td>\n",
       "      <td>0.0</td>\n",
       "    </tr>\n",
       "    <tr>\n",
       "      <th>4</th>\n",
       "      <td>NZ_CP053893.1.region003</td>\n",
       "      <td>0.346818</td>\n",
       "      <td>1.309063</td>\n",
       "      <td>1.0</td>\n",
       "      <td>0.01</td>\n",
       "      <td>0.593126</td>\n",
       "      <td>1.0</td>\n",
       "      <td>0.685982</td>\n",
       "      <td>0.0</td>\n",
       "    </tr>\n",
       "  </tbody>\n",
       "</table>\n",
       "</div>"
      ],
      "text/plain": [
       "                    Contig   Breadth  Depth avg  Depth median  readsGB  \\\n",
       "0    NC_014328.1.region004  0.419422   1.382508           1.0     0.01   \n",
       "1  NZ_CP053893.1.region001  0.355457   1.301931           1.0     0.01   \n",
       "2  NZ_LT906470.1.region001  0.360043   1.355237           1.0     0.01   \n",
       "3  NZ_CP053893.1.region004  0.469589   1.565359           1.0     0.01   \n",
       "4  NZ_CP053893.1.region003  0.346818   1.309063           1.0     0.01   \n",
       "\n",
       "   expected_value  expected_value_int   RAE_raw  RAE_int  \n",
       "0        0.593126                 1.0  0.685982      0.0  \n",
       "1        0.593126                 1.0  0.685982      0.0  \n",
       "2        0.593126                 1.0  0.685982      0.0  \n",
       "3        0.593126                 1.0  0.685982      0.0  \n",
       "4        0.593126                 1.0  0.685982      0.0  "
      ]
     },
     "execution_count": 43,
     "metadata": {},
     "output_type": "execute_result"
    }
   ],
   "source": [
    "df_summary.head(5)"
   ]
  },
  {
   "cell_type": "code",
   "execution_count": 48,
   "metadata": {},
   "outputs": [
    {
     "data": {
      "text/html": [
       "<div>\n",
       "<style scoped>\n",
       "    .dataframe tbody tr th:only-of-type {\n",
       "        vertical-align: middle;\n",
       "    }\n",
       "\n",
       "    .dataframe tbody tr th {\n",
       "        vertical-align: top;\n",
       "    }\n",
       "\n",
       "    .dataframe thead th {\n",
       "        text-align: right;\n",
       "    }\n",
       "</style>\n",
       "<table border=\"1\" class=\"dataframe\">\n",
       "  <thead>\n",
       "    <tr style=\"text-align: right;\">\n",
       "      <th></th>\n",
       "      <th>Contig</th>\n",
       "      <th>readsGB</th>\n",
       "      <th>Metric</th>\n",
       "      <th>value</th>\n",
       "    </tr>\n",
       "  </thead>\n",
       "  <tbody>\n",
       "    <tr>\n",
       "      <th>0</th>\n",
       "      <td>NC_014328.1.region004</td>\n",
       "      <td>0.01</td>\n",
       "      <td>RAE_raw</td>\n",
       "      <td>0.685982</td>\n",
       "    </tr>\n",
       "    <tr>\n",
       "      <th>1</th>\n",
       "      <td>NZ_CP053893.1.region001</td>\n",
       "      <td>0.01</td>\n",
       "      <td>RAE_raw</td>\n",
       "      <td>0.685982</td>\n",
       "    </tr>\n",
       "    <tr>\n",
       "      <th>2</th>\n",
       "      <td>NZ_LT906470.1.region001</td>\n",
       "      <td>0.01</td>\n",
       "      <td>RAE_raw</td>\n",
       "      <td>0.685982</td>\n",
       "    </tr>\n",
       "    <tr>\n",
       "      <th>3</th>\n",
       "      <td>NZ_CP053893.1.region004</td>\n",
       "      <td>0.01</td>\n",
       "      <td>RAE_raw</td>\n",
       "      <td>0.685982</td>\n",
       "    </tr>\n",
       "    <tr>\n",
       "      <th>4</th>\n",
       "      <td>NZ_CP053893.1.region003</td>\n",
       "      <td>0.01</td>\n",
       "      <td>RAE_raw</td>\n",
       "      <td>0.685982</td>\n",
       "    </tr>\n",
       "  </tbody>\n",
       "</table>\n",
       "</div>"
      ],
      "text/plain": [
       "                    Contig  readsGB   Metric     value\n",
       "0    NC_014328.1.region004     0.01  RAE_raw  0.685982\n",
       "1  NZ_CP053893.1.region001     0.01  RAE_raw  0.685982\n",
       "2  NZ_LT906470.1.region001     0.01  RAE_raw  0.685982\n",
       "3  NZ_CP053893.1.region004     0.01  RAE_raw  0.685982\n",
       "4  NZ_CP053893.1.region003     0.01  RAE_raw  0.685982"
      ]
     },
     "execution_count": 48,
     "metadata": {},
     "output_type": "execute_result"
    }
   ],
   "source": [
    "# Visualisation\n",
    "df_summary_long = df_summary.melt(\n",
    "    id_vars=[\"Contig\", \"readsGB\"],\n",
    "    value_vars=[\"RAE_raw\", \"RAE_int\"],\n",
    "    var_name=\"Metric\")\n",
    "df_summary_long.head(5)"
   ]
  },
  {
   "cell_type": "code",
   "execution_count": null,
   "metadata": {},
   "outputs": [],
   "source": []
  },
  {
   "cell_type": "code",
   "execution_count": 59,
   "metadata": {},
   "outputs": [
    {
     "data": {
      "application/vnd.plotly.v1+json": {
       "config": {
        "plotlyServerURL": "https://plot.ly"
       },
       "data": [
        {
         "hovertemplate": "Contig=NZ_CP020566.1.region001<br>readsGB=%{x}<br>value=%{y}<extra></extra>",
         "legendgroup": "NZ_CP020566.1.region001",
         "line": {
          "color": "#636efa",
          "dash": "solid"
         },
         "marker": {
          "symbol": "circle"
         },
         "mode": "lines",
         "name": "NZ_CP020566.1.region001",
         "orientation": "v",
         "showlegend": true,
         "type": "scatter",
         "x": [
          0.001,
          0.002,
          0.01,
          0.02,
          0.1,
          0.2,
          1,
          2
         ],
         "xaxis": "x",
         "y": [
          15.859816000000002,
          7.429908,
          0.6859816000000001,
          0.15700919999999996,
          0.32560735999999996,
          0.24130827999999996,
          0.1570092,
          0.173869016
         ],
         "yaxis": "y"
        },
        {
         "hovertemplate": "Contig=NZ_LT906445.1.region001<br>readsGB=%{x}<br>value=%{y}<extra></extra>",
         "legendgroup": "NZ_LT906445.1.region001",
         "line": {
          "color": "#EF553B",
          "dash": "solid"
         },
         "marker": {
          "symbol": "circle"
         },
         "mode": "lines",
         "name": "NZ_LT906445.1.region001",
         "orientation": "v",
         "showlegend": true,
         "type": "scatter",
         "x": [
          0.001,
          0.002,
          0.01,
          0.02,
          0.1,
          0.2,
          1,
          2
         ],
         "xaxis": "x",
         "y": [
          15.859816000000002,
          7.429908,
          0.6859816000000001,
          0.6859816000000001,
          0.15700919999999993,
          0.24130827999999996,
          0.173869016,
          0.173869016
         ],
         "yaxis": "y"
        },
        {
         "hovertemplate": "Contig=NZ_LT906470.1.region003<br>readsGB=%{x}<br>value=%{y}<extra></extra>",
         "legendgroup": "NZ_LT906470.1.region003",
         "line": {
          "color": "#00cc96",
          "dash": "solid"
         },
         "marker": {
          "symbol": "circle"
         },
         "mode": "lines",
         "name": "NZ_LT906470.1.region003",
         "orientation": "v",
         "showlegend": true,
         "type": "scatter",
         "x": [
          0.001,
          0.002,
          0.01,
          0.02,
          0.1,
          0.2,
          1,
          2
         ],
         "xaxis": "x",
         "y": [
          15.859816000000002,
          7.429908,
          0.6859816000000001,
          0.15700919999999996,
          0.15700919999999993,
          0.24130827999999996,
          0.1570092,
          0.165439108
         ],
         "yaxis": "y"
        },
        {
         "hovertemplate": "Contig=NZ_LT906470.1.region002<br>readsGB=%{x}<br>value=%{y}<extra></extra>",
         "legendgroup": "NZ_LT906470.1.region002",
         "line": {
          "color": "#ab63fa",
          "dash": "solid"
         },
         "marker": {
          "symbol": "circle"
         },
         "mode": "lines",
         "name": "NZ_LT906470.1.region002",
         "orientation": "v",
         "showlegend": true,
         "type": "scatter",
         "x": [
          0.001,
          0.002,
          0.01,
          0.02,
          0.1,
          0.2,
          1,
          2
         ],
         "xaxis": "x",
         "y": [
          15.859816000000002,
          7.429908,
          0.6859816000000001,
          0.6859816000000001,
          0.15700919999999993,
          0.15700919999999993,
          0.1570092,
          0.1570092
         ],
         "yaxis": "y"
        },
        {
         "hovertemplate": "Contig=NC_014328.1.region005<br>readsGB=%{x}<br>value=%{y}<extra></extra>",
         "legendgroup": "NC_014328.1.region005",
         "line": {
          "color": "#FFA15A",
          "dash": "solid"
         },
         "marker": {
          "symbol": "circle"
         },
         "mode": "lines",
         "name": "NC_014328.1.region005",
         "orientation": "v",
         "showlegend": true,
         "type": "scatter",
         "x": [
          0.001,
          0.002,
          0.01,
          0.02,
          0.1,
          0.2,
          1,
          2
         ],
         "xaxis": "x",
         "y": [
          15.859816000000002,
          7.429908,
          0.6859816000000001,
          0.6859816000000001,
          0.15700919999999993,
          0.15700919999999993,
          0.1570092,
          0.1570092
         ],
         "yaxis": "y"
        },
        {
         "hovertemplate": "Contig=NC_014328.1.region001<br>readsGB=%{x}<br>value=%{y}<extra></extra>",
         "legendgroup": "NC_014328.1.region001",
         "line": {
          "color": "#19d3f3",
          "dash": "solid"
         },
         "marker": {
          "symbol": "circle"
         },
         "mode": "lines",
         "name": "NC_014328.1.region001",
         "orientation": "v",
         "showlegend": true,
         "type": "scatter",
         "x": [
          0.001,
          0.002,
          0.01,
          0.02,
          0.1,
          0.2,
          1,
          2
         ],
         "xaxis": "x",
         "y": [
          15.859816000000002,
          7.429908,
          0.6859816000000001,
          0.15700919999999996,
          0.32560735999999996,
          0.24130827999999996,
          0.173869016,
          0.1570092
         ],
         "yaxis": "y"
        },
        {
         "hovertemplate": "Contig=NZ_CP053893.1.region006<br>readsGB=%{x}<br>value=%{y}<extra></extra>",
         "legendgroup": "NZ_CP053893.1.region006",
         "line": {
          "color": "#FF6692",
          "dash": "solid"
         },
         "marker": {
          "symbol": "circle"
         },
         "mode": "lines",
         "name": "NZ_CP053893.1.region006",
         "orientation": "v",
         "showlegend": true,
         "type": "scatter",
         "x": [
          0.001,
          0.002,
          0.01,
          0.02,
          0.1,
          0.2,
          1,
          2
         ],
         "xaxis": "x",
         "y": [
          15.859816000000002,
          7.429908,
          0.6859816000000001,
          0.6859816000000001,
          0.01158896000000007,
          0.01158896000000007,
          0.10642975199999999,
          0.12328956799999999
         ],
         "yaxis": "y"
        },
        {
         "hovertemplate": "Contig=NC_014328.1.region003<br>readsGB=%{x}<br>value=%{y}<extra></extra>",
         "legendgroup": "NC_014328.1.region003",
         "line": {
          "color": "#B6E880",
          "dash": "solid"
         },
         "marker": {
          "symbol": "circle"
         },
         "mode": "lines",
         "name": "NC_014328.1.region003",
         "orientation": "v",
         "showlegend": true,
         "type": "scatter",
         "x": [
          0.001,
          0.002,
          0.01,
          0.02,
          0.1,
          0.2,
          1,
          2
         ],
         "xaxis": "x",
         "y": [
          15.859816000000002,
          7.429908,
          0.6859816000000001,
          0.15700919999999996,
          0.15700919999999993,
          0.15700919999999993,
          0.173869016,
          0.1570092
         ],
         "yaxis": "y"
        },
        {
         "hovertemplate": "Contig=NZ_CP053893.1.region005<br>readsGB=%{x}<br>value=%{y}<extra></extra>",
         "legendgroup": "NZ_CP053893.1.region005",
         "line": {
          "color": "#FF97FF",
          "dash": "solid"
         },
         "marker": {
          "symbol": "circle"
         },
         "mode": "lines",
         "name": "NZ_CP053893.1.region005",
         "orientation": "v",
         "showlegend": true,
         "type": "scatter",
         "x": [
          0.001,
          0.002,
          0.01,
          0.02,
          0.1,
          0.2,
          1,
          2
         ],
         "xaxis": "x",
         "y": [
          15.859816000000002,
          7.429908,
          0.6859816000000001,
          0.15700919999999996,
          0.15700919999999993,
          0.15700919999999993,
          0.173869016,
          0.165439108
         ],
         "yaxis": "y"
        },
        {
         "hovertemplate": "Contig=NZ_CP053893.1.region002<br>readsGB=%{x}<br>value=%{y}<extra></extra>",
         "legendgroup": "NZ_CP053893.1.region002",
         "line": {
          "color": "#FECB52",
          "dash": "solid"
         },
         "marker": {
          "symbol": "circle"
         },
         "mode": "lines",
         "name": "NZ_CP053893.1.region002",
         "orientation": "v",
         "showlegend": true,
         "type": "scatter",
         "x": [
          0.001,
          0.002,
          0.01,
          0.02,
          0.1,
          0.2,
          1,
          2
         ],
         "xaxis": "x",
         "y": [
          15.859816000000002,
          15.859816000000002,
          2.3719632,
          0.6859816000000001,
          0.01158896000000007,
          0.01158896000000007,
          0.08956993599999999,
          0.12328956799999999
         ],
         "yaxis": "y"
        },
        {
         "hovertemplate": "Contig=NZ_CP053893.1.region003<br>readsGB=%{x}<br>value=%{y}<extra></extra>",
         "legendgroup": "NZ_CP053893.1.region003",
         "line": {
          "color": "#636efa",
          "dash": "solid"
         },
         "marker": {
          "symbol": "circle"
         },
         "mode": "lines",
         "name": "NZ_CP053893.1.region003",
         "orientation": "v",
         "showlegend": true,
         "type": "scatter",
         "x": [
          0.001,
          0.002,
          0.01,
          0.02,
          0.1,
          0.2,
          1,
          2
         ],
         "xaxis": "x",
         "y": [
          15.859816000000002,
          7.429908,
          0.6859816000000001,
          0.15700919999999996,
          0.15700919999999993,
          0.15700919999999993,
          0.173869016,
          0.173869016
         ],
         "yaxis": "y"
        },
        {
         "hovertemplate": "Contig=NZ_CP053893.1.region004<br>readsGB=%{x}<br>value=%{y}<extra></extra>",
         "legendgroup": "NZ_CP053893.1.region004",
         "line": {
          "color": "#EF553B",
          "dash": "solid"
         },
         "marker": {
          "symbol": "circle"
         },
         "mode": "lines",
         "name": "NZ_CP053893.1.region004",
         "orientation": "v",
         "showlegend": true,
         "type": "scatter",
         "x": [
          0.001,
          0.002,
          0.01,
          0.02,
          0.1,
          0.2,
          1,
          2
         ],
         "xaxis": "x",
         "y": [
          15.859816000000002,
          7.429908,
          0.6859816000000001,
          0.15700919999999996,
          0.15700919999999993,
          0.15700919999999993,
          0.12328956799999999,
          0.140149384
         ],
         "yaxis": "y"
        },
        {
         "hovertemplate": "Contig=NZ_LT906470.1.region001<br>readsGB=%{x}<br>value=%{y}<extra></extra>",
         "legendgroup": "NZ_LT906470.1.region001",
         "line": {
          "color": "#00cc96",
          "dash": "solid"
         },
         "marker": {
          "symbol": "circle"
         },
         "mode": "lines",
         "name": "NZ_LT906470.1.region001",
         "orientation": "v",
         "showlegend": true,
         "type": "scatter",
         "x": [
          0.001,
          0.002,
          0.01,
          0.02,
          0.1,
          0.2,
          1,
          2
         ],
         "xaxis": "x",
         "y": [
          15.859816000000002,
          7.429908,
          0.6859816000000001,
          0.15700919999999996,
          0.15700919999999993,
          0.15700919999999993,
          0.140149384,
          0.148579292
         ],
         "yaxis": "y"
        },
        {
         "hovertemplate": "Contig=NZ_CP053893.1.region001<br>readsGB=%{x}<br>value=%{y}<extra></extra>",
         "legendgroup": "NZ_CP053893.1.region001",
         "line": {
          "color": "#ab63fa",
          "dash": "solid"
         },
         "marker": {
          "symbol": "circle"
         },
         "mode": "lines",
         "name": "NZ_CP053893.1.region001",
         "orientation": "v",
         "showlegend": true,
         "type": "scatter",
         "x": [
          0.001,
          0.002,
          0.01,
          0.02,
          0.1,
          0.2,
          1,
          2
         ],
         "xaxis": "x",
         "y": [
          15.859816000000002,
          7.429908,
          0.6859816000000001,
          0.6859816000000001,
          0.15700919999999993,
          0.15700919999999993,
          0.1570092,
          0.165439108
         ],
         "yaxis": "y"
        },
        {
         "hovertemplate": "Contig=NC_014328.1.region004<br>readsGB=%{x}<br>value=%{y}<extra></extra>",
         "legendgroup": "NC_014328.1.region004",
         "line": {
          "color": "#FFA15A",
          "dash": "solid"
         },
         "marker": {
          "symbol": "circle"
         },
         "mode": "lines",
         "name": "NC_014328.1.region004",
         "orientation": "v",
         "showlegend": true,
         "type": "scatter",
         "x": [
          0.001,
          0.002,
          0.01,
          0.02,
          0.1,
          0.2,
          1,
          2
         ],
         "xaxis": "x",
         "y": [
          15.859816000000002,
          7.429908,
          0.6859816000000001,
          0.15700919999999996,
          0.15700919999999993,
          0.15700919999999993,
          0.1570092,
          0.148579292
         ],
         "yaxis": "y"
        },
        {
         "hovertemplate": "Contig=NC_014328.1.region002<br>readsGB=%{x}<br>value=%{y}<extra></extra>",
         "legendgroup": "NC_014328.1.region002",
         "line": {
          "color": "#19d3f3",
          "dash": "solid"
         },
         "marker": {
          "symbol": "circle"
         },
         "mode": "lines",
         "name": "NC_014328.1.region002",
         "orientation": "v",
         "showlegend": true,
         "type": "scatter",
         "x": [
          0.002,
          0.01,
          0.02,
          0.1,
          0.2,
          1,
          2
         ],
         "xaxis": "x",
         "y": [
          7.429908,
          0.6859816000000001,
          0.15700919999999996,
          0.15700919999999993,
          0.24130827999999996,
          0.1570092,
          0.182298924
         ],
         "yaxis": "y"
        }
       ],
       "layout": {
        "legend": {
         "title": {
          "text": "Contig"
         },
         "tracegroupgap": 0
        },
        "margin": {
         "t": 60
        },
        "template": {
         "data": {
          "bar": [
           {
            "error_x": {
             "color": "#2a3f5f"
            },
            "error_y": {
             "color": "#2a3f5f"
            },
            "marker": {
             "line": {
              "color": "#E5ECF6",
              "width": 0.5
             },
             "pattern": {
              "fillmode": "overlay",
              "size": 10,
              "solidity": 0.2
             }
            },
            "type": "bar"
           }
          ],
          "barpolar": [
           {
            "marker": {
             "line": {
              "color": "#E5ECF6",
              "width": 0.5
             },
             "pattern": {
              "fillmode": "overlay",
              "size": 10,
              "solidity": 0.2
             }
            },
            "type": "barpolar"
           }
          ],
          "carpet": [
           {
            "aaxis": {
             "endlinecolor": "#2a3f5f",
             "gridcolor": "white",
             "linecolor": "white",
             "minorgridcolor": "white",
             "startlinecolor": "#2a3f5f"
            },
            "baxis": {
             "endlinecolor": "#2a3f5f",
             "gridcolor": "white",
             "linecolor": "white",
             "minorgridcolor": "white",
             "startlinecolor": "#2a3f5f"
            },
            "type": "carpet"
           }
          ],
          "choropleth": [
           {
            "colorbar": {
             "outlinewidth": 0,
             "ticks": ""
            },
            "type": "choropleth"
           }
          ],
          "contour": [
           {
            "colorbar": {
             "outlinewidth": 0,
             "ticks": ""
            },
            "colorscale": [
             [
              0,
              "#0d0887"
             ],
             [
              0.1111111111111111,
              "#46039f"
             ],
             [
              0.2222222222222222,
              "#7201a8"
             ],
             [
              0.3333333333333333,
              "#9c179e"
             ],
             [
              0.4444444444444444,
              "#bd3786"
             ],
             [
              0.5555555555555556,
              "#d8576b"
             ],
             [
              0.6666666666666666,
              "#ed7953"
             ],
             [
              0.7777777777777778,
              "#fb9f3a"
             ],
             [
              0.8888888888888888,
              "#fdca26"
             ],
             [
              1,
              "#f0f921"
             ]
            ],
            "type": "contour"
           }
          ],
          "contourcarpet": [
           {
            "colorbar": {
             "outlinewidth": 0,
             "ticks": ""
            },
            "type": "contourcarpet"
           }
          ],
          "heatmap": [
           {
            "colorbar": {
             "outlinewidth": 0,
             "ticks": ""
            },
            "colorscale": [
             [
              0,
              "#0d0887"
             ],
             [
              0.1111111111111111,
              "#46039f"
             ],
             [
              0.2222222222222222,
              "#7201a8"
             ],
             [
              0.3333333333333333,
              "#9c179e"
             ],
             [
              0.4444444444444444,
              "#bd3786"
             ],
             [
              0.5555555555555556,
              "#d8576b"
             ],
             [
              0.6666666666666666,
              "#ed7953"
             ],
             [
              0.7777777777777778,
              "#fb9f3a"
             ],
             [
              0.8888888888888888,
              "#fdca26"
             ],
             [
              1,
              "#f0f921"
             ]
            ],
            "type": "heatmap"
           }
          ],
          "heatmapgl": [
           {
            "colorbar": {
             "outlinewidth": 0,
             "ticks": ""
            },
            "colorscale": [
             [
              0,
              "#0d0887"
             ],
             [
              0.1111111111111111,
              "#46039f"
             ],
             [
              0.2222222222222222,
              "#7201a8"
             ],
             [
              0.3333333333333333,
              "#9c179e"
             ],
             [
              0.4444444444444444,
              "#bd3786"
             ],
             [
              0.5555555555555556,
              "#d8576b"
             ],
             [
              0.6666666666666666,
              "#ed7953"
             ],
             [
              0.7777777777777778,
              "#fb9f3a"
             ],
             [
              0.8888888888888888,
              "#fdca26"
             ],
             [
              1,
              "#f0f921"
             ]
            ],
            "type": "heatmapgl"
           }
          ],
          "histogram": [
           {
            "marker": {
             "pattern": {
              "fillmode": "overlay",
              "size": 10,
              "solidity": 0.2
             }
            },
            "type": "histogram"
           }
          ],
          "histogram2d": [
           {
            "colorbar": {
             "outlinewidth": 0,
             "ticks": ""
            },
            "colorscale": [
             [
              0,
              "#0d0887"
             ],
             [
              0.1111111111111111,
              "#46039f"
             ],
             [
              0.2222222222222222,
              "#7201a8"
             ],
             [
              0.3333333333333333,
              "#9c179e"
             ],
             [
              0.4444444444444444,
              "#bd3786"
             ],
             [
              0.5555555555555556,
              "#d8576b"
             ],
             [
              0.6666666666666666,
              "#ed7953"
             ],
             [
              0.7777777777777778,
              "#fb9f3a"
             ],
             [
              0.8888888888888888,
              "#fdca26"
             ],
             [
              1,
              "#f0f921"
             ]
            ],
            "type": "histogram2d"
           }
          ],
          "histogram2dcontour": [
           {
            "colorbar": {
             "outlinewidth": 0,
             "ticks": ""
            },
            "colorscale": [
             [
              0,
              "#0d0887"
             ],
             [
              0.1111111111111111,
              "#46039f"
             ],
             [
              0.2222222222222222,
              "#7201a8"
             ],
             [
              0.3333333333333333,
              "#9c179e"
             ],
             [
              0.4444444444444444,
              "#bd3786"
             ],
             [
              0.5555555555555556,
              "#d8576b"
             ],
             [
              0.6666666666666666,
              "#ed7953"
             ],
             [
              0.7777777777777778,
              "#fb9f3a"
             ],
             [
              0.8888888888888888,
              "#fdca26"
             ],
             [
              1,
              "#f0f921"
             ]
            ],
            "type": "histogram2dcontour"
           }
          ],
          "mesh3d": [
           {
            "colorbar": {
             "outlinewidth": 0,
             "ticks": ""
            },
            "type": "mesh3d"
           }
          ],
          "parcoords": [
           {
            "line": {
             "colorbar": {
              "outlinewidth": 0,
              "ticks": ""
             }
            },
            "type": "parcoords"
           }
          ],
          "pie": [
           {
            "automargin": true,
            "type": "pie"
           }
          ],
          "scatter": [
           {
            "fillpattern": {
             "fillmode": "overlay",
             "size": 10,
             "solidity": 0.2
            },
            "type": "scatter"
           }
          ],
          "scatter3d": [
           {
            "line": {
             "colorbar": {
              "outlinewidth": 0,
              "ticks": ""
             }
            },
            "marker": {
             "colorbar": {
              "outlinewidth": 0,
              "ticks": ""
             }
            },
            "type": "scatter3d"
           }
          ],
          "scattercarpet": [
           {
            "marker": {
             "colorbar": {
              "outlinewidth": 0,
              "ticks": ""
             }
            },
            "type": "scattercarpet"
           }
          ],
          "scattergeo": [
           {
            "marker": {
             "colorbar": {
              "outlinewidth": 0,
              "ticks": ""
             }
            },
            "type": "scattergeo"
           }
          ],
          "scattergl": [
           {
            "marker": {
             "colorbar": {
              "outlinewidth": 0,
              "ticks": ""
             }
            },
            "type": "scattergl"
           }
          ],
          "scattermapbox": [
           {
            "marker": {
             "colorbar": {
              "outlinewidth": 0,
              "ticks": ""
             }
            },
            "type": "scattermapbox"
           }
          ],
          "scatterpolar": [
           {
            "marker": {
             "colorbar": {
              "outlinewidth": 0,
              "ticks": ""
             }
            },
            "type": "scatterpolar"
           }
          ],
          "scatterpolargl": [
           {
            "marker": {
             "colorbar": {
              "outlinewidth": 0,
              "ticks": ""
             }
            },
            "type": "scatterpolargl"
           }
          ],
          "scatterternary": [
           {
            "marker": {
             "colorbar": {
              "outlinewidth": 0,
              "ticks": ""
             }
            },
            "type": "scatterternary"
           }
          ],
          "surface": [
           {
            "colorbar": {
             "outlinewidth": 0,
             "ticks": ""
            },
            "colorscale": [
             [
              0,
              "#0d0887"
             ],
             [
              0.1111111111111111,
              "#46039f"
             ],
             [
              0.2222222222222222,
              "#7201a8"
             ],
             [
              0.3333333333333333,
              "#9c179e"
             ],
             [
              0.4444444444444444,
              "#bd3786"
             ],
             [
              0.5555555555555556,
              "#d8576b"
             ],
             [
              0.6666666666666666,
              "#ed7953"
             ],
             [
              0.7777777777777778,
              "#fb9f3a"
             ],
             [
              0.8888888888888888,
              "#fdca26"
             ],
             [
              1,
              "#f0f921"
             ]
            ],
            "type": "surface"
           }
          ],
          "table": [
           {
            "cells": {
             "fill": {
              "color": "#EBF0F8"
             },
             "line": {
              "color": "white"
             }
            },
            "header": {
             "fill": {
              "color": "#C8D4E3"
             },
             "line": {
              "color": "white"
             }
            },
            "type": "table"
           }
          ]
         },
         "layout": {
          "annotationdefaults": {
           "arrowcolor": "#2a3f5f",
           "arrowhead": 0,
           "arrowwidth": 1
          },
          "autotypenumbers": "strict",
          "coloraxis": {
           "colorbar": {
            "outlinewidth": 0,
            "ticks": ""
           }
          },
          "colorscale": {
           "diverging": [
            [
             0,
             "#8e0152"
            ],
            [
             0.1,
             "#c51b7d"
            ],
            [
             0.2,
             "#de77ae"
            ],
            [
             0.3,
             "#f1b6da"
            ],
            [
             0.4,
             "#fde0ef"
            ],
            [
             0.5,
             "#f7f7f7"
            ],
            [
             0.6,
             "#e6f5d0"
            ],
            [
             0.7,
             "#b8e186"
            ],
            [
             0.8,
             "#7fbc41"
            ],
            [
             0.9,
             "#4d9221"
            ],
            [
             1,
             "#276419"
            ]
           ],
           "sequential": [
            [
             0,
             "#0d0887"
            ],
            [
             0.1111111111111111,
             "#46039f"
            ],
            [
             0.2222222222222222,
             "#7201a8"
            ],
            [
             0.3333333333333333,
             "#9c179e"
            ],
            [
             0.4444444444444444,
             "#bd3786"
            ],
            [
             0.5555555555555556,
             "#d8576b"
            ],
            [
             0.6666666666666666,
             "#ed7953"
            ],
            [
             0.7777777777777778,
             "#fb9f3a"
            ],
            [
             0.8888888888888888,
             "#fdca26"
            ],
            [
             1,
             "#f0f921"
            ]
           ],
           "sequentialminus": [
            [
             0,
             "#0d0887"
            ],
            [
             0.1111111111111111,
             "#46039f"
            ],
            [
             0.2222222222222222,
             "#7201a8"
            ],
            [
             0.3333333333333333,
             "#9c179e"
            ],
            [
             0.4444444444444444,
             "#bd3786"
            ],
            [
             0.5555555555555556,
             "#d8576b"
            ],
            [
             0.6666666666666666,
             "#ed7953"
            ],
            [
             0.7777777777777778,
             "#fb9f3a"
            ],
            [
             0.8888888888888888,
             "#fdca26"
            ],
            [
             1,
             "#f0f921"
            ]
           ]
          },
          "colorway": [
           "#636efa",
           "#EF553B",
           "#00cc96",
           "#ab63fa",
           "#FFA15A",
           "#19d3f3",
           "#FF6692",
           "#B6E880",
           "#FF97FF",
           "#FECB52"
          ],
          "font": {
           "color": "#2a3f5f"
          },
          "geo": {
           "bgcolor": "white",
           "lakecolor": "white",
           "landcolor": "#E5ECF6",
           "showlakes": true,
           "showland": true,
           "subunitcolor": "white"
          },
          "hoverlabel": {
           "align": "left"
          },
          "hovermode": "closest",
          "mapbox": {
           "style": "light"
          },
          "paper_bgcolor": "white",
          "plot_bgcolor": "#E5ECF6",
          "polar": {
           "angularaxis": {
            "gridcolor": "white",
            "linecolor": "white",
            "ticks": ""
           },
           "bgcolor": "#E5ECF6",
           "radialaxis": {
            "gridcolor": "white",
            "linecolor": "white",
            "ticks": ""
           }
          },
          "scene": {
           "xaxis": {
            "backgroundcolor": "#E5ECF6",
            "gridcolor": "white",
            "gridwidth": 2,
            "linecolor": "white",
            "showbackground": true,
            "ticks": "",
            "zerolinecolor": "white"
           },
           "yaxis": {
            "backgroundcolor": "#E5ECF6",
            "gridcolor": "white",
            "gridwidth": 2,
            "linecolor": "white",
            "showbackground": true,
            "ticks": "",
            "zerolinecolor": "white"
           },
           "zaxis": {
            "backgroundcolor": "#E5ECF6",
            "gridcolor": "white",
            "gridwidth": 2,
            "linecolor": "white",
            "showbackground": true,
            "ticks": "",
            "zerolinecolor": "white"
           }
          },
          "shapedefaults": {
           "line": {
            "color": "#2a3f5f"
           }
          },
          "ternary": {
           "aaxis": {
            "gridcolor": "white",
            "linecolor": "white",
            "ticks": ""
           },
           "baxis": {
            "gridcolor": "white",
            "linecolor": "white",
            "ticks": ""
           },
           "bgcolor": "#E5ECF6",
           "caxis": {
            "gridcolor": "white",
            "linecolor": "white",
            "ticks": ""
           }
          },
          "title": {
           "x": 0.05
          },
          "xaxis": {
           "automargin": true,
           "gridcolor": "white",
           "linecolor": "white",
           "ticks": "",
           "title": {
            "standoff": 15
           },
           "zerolinecolor": "white",
           "zerolinewidth": 2
          },
          "yaxis": {
           "automargin": true,
           "gridcolor": "white",
           "linecolor": "white",
           "ticks": "",
           "title": {
            "standoff": 15
           },
           "zerolinecolor": "white",
           "zerolinewidth": 2
          }
         }
        },
        "xaxis": {
         "anchor": "y",
         "domain": [
          0,
          1
         ],
         "title": {
          "text": "readsGB"
         }
        },
        "yaxis": {
         "anchor": "x",
         "domain": [
          0,
          1
         ],
         "title": {
          "text": "value"
         }
        }
       }
      },
      "text/html": [
       "<div>                            <div id=\"837a4d5c-37dd-44ab-98b2-6d8c79f1fe56\" class=\"plotly-graph-div\" style=\"height:525px; width:100%;\"></div>            <script type=\"text/javascript\">                require([\"plotly\"], function(Plotly) {                    window.PLOTLYENV=window.PLOTLYENV || {};                                    if (document.getElementById(\"837a4d5c-37dd-44ab-98b2-6d8c79f1fe56\")) {                    Plotly.newPlot(                        \"837a4d5c-37dd-44ab-98b2-6d8c79f1fe56\",                        [{\"hovertemplate\":\"Contig=NZ_CP020566.1.region001<br>readsGB=%{x}<br>value=%{y}<extra></extra>\",\"legendgroup\":\"NZ_CP020566.1.region001\",\"line\":{\"color\":\"#636efa\",\"dash\":\"solid\"},\"marker\":{\"symbol\":\"circle\"},\"mode\":\"lines\",\"name\":\"NZ_CP020566.1.region001\",\"orientation\":\"v\",\"showlegend\":true,\"x\":[0.001,0.002,0.01,0.02,0.1,0.2,1.0,2.0],\"xaxis\":\"x\",\"y\":[15.859816000000002,7.429908,0.6859816000000001,0.15700919999999996,0.32560735999999996,0.24130827999999996,0.1570092,0.173869016],\"yaxis\":\"y\",\"type\":\"scatter\"},{\"hovertemplate\":\"Contig=NZ_LT906445.1.region001<br>readsGB=%{x}<br>value=%{y}<extra></extra>\",\"legendgroup\":\"NZ_LT906445.1.region001\",\"line\":{\"color\":\"#EF553B\",\"dash\":\"solid\"},\"marker\":{\"symbol\":\"circle\"},\"mode\":\"lines\",\"name\":\"NZ_LT906445.1.region001\",\"orientation\":\"v\",\"showlegend\":true,\"x\":[0.001,0.002,0.01,0.02,0.1,0.2,1.0,2.0],\"xaxis\":\"x\",\"y\":[15.859816000000002,7.429908,0.6859816000000001,0.6859816000000001,0.15700919999999993,0.24130827999999996,0.173869016,0.173869016],\"yaxis\":\"y\",\"type\":\"scatter\"},{\"hovertemplate\":\"Contig=NZ_LT906470.1.region003<br>readsGB=%{x}<br>value=%{y}<extra></extra>\",\"legendgroup\":\"NZ_LT906470.1.region003\",\"line\":{\"color\":\"#00cc96\",\"dash\":\"solid\"},\"marker\":{\"symbol\":\"circle\"},\"mode\":\"lines\",\"name\":\"NZ_LT906470.1.region003\",\"orientation\":\"v\",\"showlegend\":true,\"x\":[0.001,0.002,0.01,0.02,0.1,0.2,1.0,2.0],\"xaxis\":\"x\",\"y\":[15.859816000000002,7.429908,0.6859816000000001,0.15700919999999996,0.15700919999999993,0.24130827999999996,0.1570092,0.165439108],\"yaxis\":\"y\",\"type\":\"scatter\"},{\"hovertemplate\":\"Contig=NZ_LT906470.1.region002<br>readsGB=%{x}<br>value=%{y}<extra></extra>\",\"legendgroup\":\"NZ_LT906470.1.region002\",\"line\":{\"color\":\"#ab63fa\",\"dash\":\"solid\"},\"marker\":{\"symbol\":\"circle\"},\"mode\":\"lines\",\"name\":\"NZ_LT906470.1.region002\",\"orientation\":\"v\",\"showlegend\":true,\"x\":[0.001,0.002,0.01,0.02,0.1,0.2,1.0,2.0],\"xaxis\":\"x\",\"y\":[15.859816000000002,7.429908,0.6859816000000001,0.6859816000000001,0.15700919999999993,0.15700919999999993,0.1570092,0.1570092],\"yaxis\":\"y\",\"type\":\"scatter\"},{\"hovertemplate\":\"Contig=NC_014328.1.region005<br>readsGB=%{x}<br>value=%{y}<extra></extra>\",\"legendgroup\":\"NC_014328.1.region005\",\"line\":{\"color\":\"#FFA15A\",\"dash\":\"solid\"},\"marker\":{\"symbol\":\"circle\"},\"mode\":\"lines\",\"name\":\"NC_014328.1.region005\",\"orientation\":\"v\",\"showlegend\":true,\"x\":[0.001,0.002,0.01,0.02,0.1,0.2,1.0,2.0],\"xaxis\":\"x\",\"y\":[15.859816000000002,7.429908,0.6859816000000001,0.6859816000000001,0.15700919999999993,0.15700919999999993,0.1570092,0.1570092],\"yaxis\":\"y\",\"type\":\"scatter\"},{\"hovertemplate\":\"Contig=NC_014328.1.region001<br>readsGB=%{x}<br>value=%{y}<extra></extra>\",\"legendgroup\":\"NC_014328.1.region001\",\"line\":{\"color\":\"#19d3f3\",\"dash\":\"solid\"},\"marker\":{\"symbol\":\"circle\"},\"mode\":\"lines\",\"name\":\"NC_014328.1.region001\",\"orientation\":\"v\",\"showlegend\":true,\"x\":[0.001,0.002,0.01,0.02,0.1,0.2,1.0,2.0],\"xaxis\":\"x\",\"y\":[15.859816000000002,7.429908,0.6859816000000001,0.15700919999999996,0.32560735999999996,0.24130827999999996,0.173869016,0.1570092],\"yaxis\":\"y\",\"type\":\"scatter\"},{\"hovertemplate\":\"Contig=NZ_CP053893.1.region006<br>readsGB=%{x}<br>value=%{y}<extra></extra>\",\"legendgroup\":\"NZ_CP053893.1.region006\",\"line\":{\"color\":\"#FF6692\",\"dash\":\"solid\"},\"marker\":{\"symbol\":\"circle\"},\"mode\":\"lines\",\"name\":\"NZ_CP053893.1.region006\",\"orientation\":\"v\",\"showlegend\":true,\"x\":[0.001,0.002,0.01,0.02,0.1,0.2,1.0,2.0],\"xaxis\":\"x\",\"y\":[15.859816000000002,7.429908,0.6859816000000001,0.6859816000000001,0.01158896000000007,0.01158896000000007,0.10642975199999999,0.12328956799999999],\"yaxis\":\"y\",\"type\":\"scatter\"},{\"hovertemplate\":\"Contig=NC_014328.1.region003<br>readsGB=%{x}<br>value=%{y}<extra></extra>\",\"legendgroup\":\"NC_014328.1.region003\",\"line\":{\"color\":\"#B6E880\",\"dash\":\"solid\"},\"marker\":{\"symbol\":\"circle\"},\"mode\":\"lines\",\"name\":\"NC_014328.1.region003\",\"orientation\":\"v\",\"showlegend\":true,\"x\":[0.001,0.002,0.01,0.02,0.1,0.2,1.0,2.0],\"xaxis\":\"x\",\"y\":[15.859816000000002,7.429908,0.6859816000000001,0.15700919999999996,0.15700919999999993,0.15700919999999993,0.173869016,0.1570092],\"yaxis\":\"y\",\"type\":\"scatter\"},{\"hovertemplate\":\"Contig=NZ_CP053893.1.region005<br>readsGB=%{x}<br>value=%{y}<extra></extra>\",\"legendgroup\":\"NZ_CP053893.1.region005\",\"line\":{\"color\":\"#FF97FF\",\"dash\":\"solid\"},\"marker\":{\"symbol\":\"circle\"},\"mode\":\"lines\",\"name\":\"NZ_CP053893.1.region005\",\"orientation\":\"v\",\"showlegend\":true,\"x\":[0.001,0.002,0.01,0.02,0.1,0.2,1.0,2.0],\"xaxis\":\"x\",\"y\":[15.859816000000002,7.429908,0.6859816000000001,0.15700919999999996,0.15700919999999993,0.15700919999999993,0.173869016,0.165439108],\"yaxis\":\"y\",\"type\":\"scatter\"},{\"hovertemplate\":\"Contig=NZ_CP053893.1.region002<br>readsGB=%{x}<br>value=%{y}<extra></extra>\",\"legendgroup\":\"NZ_CP053893.1.region002\",\"line\":{\"color\":\"#FECB52\",\"dash\":\"solid\"},\"marker\":{\"symbol\":\"circle\"},\"mode\":\"lines\",\"name\":\"NZ_CP053893.1.region002\",\"orientation\":\"v\",\"showlegend\":true,\"x\":[0.001,0.002,0.01,0.02,0.1,0.2,1.0,2.0],\"xaxis\":\"x\",\"y\":[15.859816000000002,15.859816000000002,2.3719632,0.6859816000000001,0.01158896000000007,0.01158896000000007,0.08956993599999999,0.12328956799999999],\"yaxis\":\"y\",\"type\":\"scatter\"},{\"hovertemplate\":\"Contig=NZ_CP053893.1.region003<br>readsGB=%{x}<br>value=%{y}<extra></extra>\",\"legendgroup\":\"NZ_CP053893.1.region003\",\"line\":{\"color\":\"#636efa\",\"dash\":\"solid\"},\"marker\":{\"symbol\":\"circle\"},\"mode\":\"lines\",\"name\":\"NZ_CP053893.1.region003\",\"orientation\":\"v\",\"showlegend\":true,\"x\":[0.001,0.002,0.01,0.02,0.1,0.2,1.0,2.0],\"xaxis\":\"x\",\"y\":[15.859816000000002,7.429908,0.6859816000000001,0.15700919999999996,0.15700919999999993,0.15700919999999993,0.173869016,0.173869016],\"yaxis\":\"y\",\"type\":\"scatter\"},{\"hovertemplate\":\"Contig=NZ_CP053893.1.region004<br>readsGB=%{x}<br>value=%{y}<extra></extra>\",\"legendgroup\":\"NZ_CP053893.1.region004\",\"line\":{\"color\":\"#EF553B\",\"dash\":\"solid\"},\"marker\":{\"symbol\":\"circle\"},\"mode\":\"lines\",\"name\":\"NZ_CP053893.1.region004\",\"orientation\":\"v\",\"showlegend\":true,\"x\":[0.001,0.002,0.01,0.02,0.1,0.2,1.0,2.0],\"xaxis\":\"x\",\"y\":[15.859816000000002,7.429908,0.6859816000000001,0.15700919999999996,0.15700919999999993,0.15700919999999993,0.12328956799999999,0.140149384],\"yaxis\":\"y\",\"type\":\"scatter\"},{\"hovertemplate\":\"Contig=NZ_LT906470.1.region001<br>readsGB=%{x}<br>value=%{y}<extra></extra>\",\"legendgroup\":\"NZ_LT906470.1.region001\",\"line\":{\"color\":\"#00cc96\",\"dash\":\"solid\"},\"marker\":{\"symbol\":\"circle\"},\"mode\":\"lines\",\"name\":\"NZ_LT906470.1.region001\",\"orientation\":\"v\",\"showlegend\":true,\"x\":[0.001,0.002,0.01,0.02,0.1,0.2,1.0,2.0],\"xaxis\":\"x\",\"y\":[15.859816000000002,7.429908,0.6859816000000001,0.15700919999999996,0.15700919999999993,0.15700919999999993,0.140149384,0.148579292],\"yaxis\":\"y\",\"type\":\"scatter\"},{\"hovertemplate\":\"Contig=NZ_CP053893.1.region001<br>readsGB=%{x}<br>value=%{y}<extra></extra>\",\"legendgroup\":\"NZ_CP053893.1.region001\",\"line\":{\"color\":\"#ab63fa\",\"dash\":\"solid\"},\"marker\":{\"symbol\":\"circle\"},\"mode\":\"lines\",\"name\":\"NZ_CP053893.1.region001\",\"orientation\":\"v\",\"showlegend\":true,\"x\":[0.001,0.002,0.01,0.02,0.1,0.2,1.0,2.0],\"xaxis\":\"x\",\"y\":[15.859816000000002,7.429908,0.6859816000000001,0.6859816000000001,0.15700919999999993,0.15700919999999993,0.1570092,0.165439108],\"yaxis\":\"y\",\"type\":\"scatter\"},{\"hovertemplate\":\"Contig=NC_014328.1.region004<br>readsGB=%{x}<br>value=%{y}<extra></extra>\",\"legendgroup\":\"NC_014328.1.region004\",\"line\":{\"color\":\"#FFA15A\",\"dash\":\"solid\"},\"marker\":{\"symbol\":\"circle\"},\"mode\":\"lines\",\"name\":\"NC_014328.1.region004\",\"orientation\":\"v\",\"showlegend\":true,\"x\":[0.001,0.002,0.01,0.02,0.1,0.2,1.0,2.0],\"xaxis\":\"x\",\"y\":[15.859816000000002,7.429908,0.6859816000000001,0.15700919999999996,0.15700919999999993,0.15700919999999993,0.1570092,0.148579292],\"yaxis\":\"y\",\"type\":\"scatter\"},{\"hovertemplate\":\"Contig=NC_014328.1.region002<br>readsGB=%{x}<br>value=%{y}<extra></extra>\",\"legendgroup\":\"NC_014328.1.region002\",\"line\":{\"color\":\"#19d3f3\",\"dash\":\"solid\"},\"marker\":{\"symbol\":\"circle\"},\"mode\":\"lines\",\"name\":\"NC_014328.1.region002\",\"orientation\":\"v\",\"showlegend\":true,\"x\":[0.002,0.01,0.02,0.1,0.2,1.0,2.0],\"xaxis\":\"x\",\"y\":[7.429908,0.6859816000000001,0.15700919999999996,0.15700919999999993,0.24130827999999996,0.1570092,0.182298924],\"yaxis\":\"y\",\"type\":\"scatter\"}],                        {\"template\":{\"data\":{\"histogram2dcontour\":[{\"type\":\"histogram2dcontour\",\"colorbar\":{\"outlinewidth\":0,\"ticks\":\"\"},\"colorscale\":[[0.0,\"#0d0887\"],[0.1111111111111111,\"#46039f\"],[0.2222222222222222,\"#7201a8\"],[0.3333333333333333,\"#9c179e\"],[0.4444444444444444,\"#bd3786\"],[0.5555555555555556,\"#d8576b\"],[0.6666666666666666,\"#ed7953\"],[0.7777777777777778,\"#fb9f3a\"],[0.8888888888888888,\"#fdca26\"],[1.0,\"#f0f921\"]]}],\"choropleth\":[{\"type\":\"choropleth\",\"colorbar\":{\"outlinewidth\":0,\"ticks\":\"\"}}],\"histogram2d\":[{\"type\":\"histogram2d\",\"colorbar\":{\"outlinewidth\":0,\"ticks\":\"\"},\"colorscale\":[[0.0,\"#0d0887\"],[0.1111111111111111,\"#46039f\"],[0.2222222222222222,\"#7201a8\"],[0.3333333333333333,\"#9c179e\"],[0.4444444444444444,\"#bd3786\"],[0.5555555555555556,\"#d8576b\"],[0.6666666666666666,\"#ed7953\"],[0.7777777777777778,\"#fb9f3a\"],[0.8888888888888888,\"#fdca26\"],[1.0,\"#f0f921\"]]}],\"heatmap\":[{\"type\":\"heatmap\",\"colorbar\":{\"outlinewidth\":0,\"ticks\":\"\"},\"colorscale\":[[0.0,\"#0d0887\"],[0.1111111111111111,\"#46039f\"],[0.2222222222222222,\"#7201a8\"],[0.3333333333333333,\"#9c179e\"],[0.4444444444444444,\"#bd3786\"],[0.5555555555555556,\"#d8576b\"],[0.6666666666666666,\"#ed7953\"],[0.7777777777777778,\"#fb9f3a\"],[0.8888888888888888,\"#fdca26\"],[1.0,\"#f0f921\"]]}],\"heatmapgl\":[{\"type\":\"heatmapgl\",\"colorbar\":{\"outlinewidth\":0,\"ticks\":\"\"},\"colorscale\":[[0.0,\"#0d0887\"],[0.1111111111111111,\"#46039f\"],[0.2222222222222222,\"#7201a8\"],[0.3333333333333333,\"#9c179e\"],[0.4444444444444444,\"#bd3786\"],[0.5555555555555556,\"#d8576b\"],[0.6666666666666666,\"#ed7953\"],[0.7777777777777778,\"#fb9f3a\"],[0.8888888888888888,\"#fdca26\"],[1.0,\"#f0f921\"]]}],\"contourcarpet\":[{\"type\":\"contourcarpet\",\"colorbar\":{\"outlinewidth\":0,\"ticks\":\"\"}}],\"contour\":[{\"type\":\"contour\",\"colorbar\":{\"outlinewidth\":0,\"ticks\":\"\"},\"colorscale\":[[0.0,\"#0d0887\"],[0.1111111111111111,\"#46039f\"],[0.2222222222222222,\"#7201a8\"],[0.3333333333333333,\"#9c179e\"],[0.4444444444444444,\"#bd3786\"],[0.5555555555555556,\"#d8576b\"],[0.6666666666666666,\"#ed7953\"],[0.7777777777777778,\"#fb9f3a\"],[0.8888888888888888,\"#fdca26\"],[1.0,\"#f0f921\"]]}],\"surface\":[{\"type\":\"surface\",\"colorbar\":{\"outlinewidth\":0,\"ticks\":\"\"},\"colorscale\":[[0.0,\"#0d0887\"],[0.1111111111111111,\"#46039f\"],[0.2222222222222222,\"#7201a8\"],[0.3333333333333333,\"#9c179e\"],[0.4444444444444444,\"#bd3786\"],[0.5555555555555556,\"#d8576b\"],[0.6666666666666666,\"#ed7953\"],[0.7777777777777778,\"#fb9f3a\"],[0.8888888888888888,\"#fdca26\"],[1.0,\"#f0f921\"]]}],\"mesh3d\":[{\"type\":\"mesh3d\",\"colorbar\":{\"outlinewidth\":0,\"ticks\":\"\"}}],\"scatter\":[{\"fillpattern\":{\"fillmode\":\"overlay\",\"size\":10,\"solidity\":0.2},\"type\":\"scatter\"}],\"parcoords\":[{\"type\":\"parcoords\",\"line\":{\"colorbar\":{\"outlinewidth\":0,\"ticks\":\"\"}}}],\"scatterpolargl\":[{\"type\":\"scatterpolargl\",\"marker\":{\"colorbar\":{\"outlinewidth\":0,\"ticks\":\"\"}}}],\"bar\":[{\"error_x\":{\"color\":\"#2a3f5f\"},\"error_y\":{\"color\":\"#2a3f5f\"},\"marker\":{\"line\":{\"color\":\"#E5ECF6\",\"width\":0.5},\"pattern\":{\"fillmode\":\"overlay\",\"size\":10,\"solidity\":0.2}},\"type\":\"bar\"}],\"scattergeo\":[{\"type\":\"scattergeo\",\"marker\":{\"colorbar\":{\"outlinewidth\":0,\"ticks\":\"\"}}}],\"scatterpolar\":[{\"type\":\"scatterpolar\",\"marker\":{\"colorbar\":{\"outlinewidth\":0,\"ticks\":\"\"}}}],\"histogram\":[{\"marker\":{\"pattern\":{\"fillmode\":\"overlay\",\"size\":10,\"solidity\":0.2}},\"type\":\"histogram\"}],\"scattergl\":[{\"type\":\"scattergl\",\"marker\":{\"colorbar\":{\"outlinewidth\":0,\"ticks\":\"\"}}}],\"scatter3d\":[{\"type\":\"scatter3d\",\"line\":{\"colorbar\":{\"outlinewidth\":0,\"ticks\":\"\"}},\"marker\":{\"colorbar\":{\"outlinewidth\":0,\"ticks\":\"\"}}}],\"scattermapbox\":[{\"type\":\"scattermapbox\",\"marker\":{\"colorbar\":{\"outlinewidth\":0,\"ticks\":\"\"}}}],\"scatterternary\":[{\"type\":\"scatterternary\",\"marker\":{\"colorbar\":{\"outlinewidth\":0,\"ticks\":\"\"}}}],\"scattercarpet\":[{\"type\":\"scattercarpet\",\"marker\":{\"colorbar\":{\"outlinewidth\":0,\"ticks\":\"\"}}}],\"carpet\":[{\"aaxis\":{\"endlinecolor\":\"#2a3f5f\",\"gridcolor\":\"white\",\"linecolor\":\"white\",\"minorgridcolor\":\"white\",\"startlinecolor\":\"#2a3f5f\"},\"baxis\":{\"endlinecolor\":\"#2a3f5f\",\"gridcolor\":\"white\",\"linecolor\":\"white\",\"minorgridcolor\":\"white\",\"startlinecolor\":\"#2a3f5f\"},\"type\":\"carpet\"}],\"table\":[{\"cells\":{\"fill\":{\"color\":\"#EBF0F8\"},\"line\":{\"color\":\"white\"}},\"header\":{\"fill\":{\"color\":\"#C8D4E3\"},\"line\":{\"color\":\"white\"}},\"type\":\"table\"}],\"barpolar\":[{\"marker\":{\"line\":{\"color\":\"#E5ECF6\",\"width\":0.5},\"pattern\":{\"fillmode\":\"overlay\",\"size\":10,\"solidity\":0.2}},\"type\":\"barpolar\"}],\"pie\":[{\"automargin\":true,\"type\":\"pie\"}]},\"layout\":{\"autotypenumbers\":\"strict\",\"colorway\":[\"#636efa\",\"#EF553B\",\"#00cc96\",\"#ab63fa\",\"#FFA15A\",\"#19d3f3\",\"#FF6692\",\"#B6E880\",\"#FF97FF\",\"#FECB52\"],\"font\":{\"color\":\"#2a3f5f\"},\"hovermode\":\"closest\",\"hoverlabel\":{\"align\":\"left\"},\"paper_bgcolor\":\"white\",\"plot_bgcolor\":\"#E5ECF6\",\"polar\":{\"bgcolor\":\"#E5ECF6\",\"angularaxis\":{\"gridcolor\":\"white\",\"linecolor\":\"white\",\"ticks\":\"\"},\"radialaxis\":{\"gridcolor\":\"white\",\"linecolor\":\"white\",\"ticks\":\"\"}},\"ternary\":{\"bgcolor\":\"#E5ECF6\",\"aaxis\":{\"gridcolor\":\"white\",\"linecolor\":\"white\",\"ticks\":\"\"},\"baxis\":{\"gridcolor\":\"white\",\"linecolor\":\"white\",\"ticks\":\"\"},\"caxis\":{\"gridcolor\":\"white\",\"linecolor\":\"white\",\"ticks\":\"\"}},\"coloraxis\":{\"colorbar\":{\"outlinewidth\":0,\"ticks\":\"\"}},\"colorscale\":{\"sequential\":[[0.0,\"#0d0887\"],[0.1111111111111111,\"#46039f\"],[0.2222222222222222,\"#7201a8\"],[0.3333333333333333,\"#9c179e\"],[0.4444444444444444,\"#bd3786\"],[0.5555555555555556,\"#d8576b\"],[0.6666666666666666,\"#ed7953\"],[0.7777777777777778,\"#fb9f3a\"],[0.8888888888888888,\"#fdca26\"],[1.0,\"#f0f921\"]],\"sequentialminus\":[[0.0,\"#0d0887\"],[0.1111111111111111,\"#46039f\"],[0.2222222222222222,\"#7201a8\"],[0.3333333333333333,\"#9c179e\"],[0.4444444444444444,\"#bd3786\"],[0.5555555555555556,\"#d8576b\"],[0.6666666666666666,\"#ed7953\"],[0.7777777777777778,\"#fb9f3a\"],[0.8888888888888888,\"#fdca26\"],[1.0,\"#f0f921\"]],\"diverging\":[[0,\"#8e0152\"],[0.1,\"#c51b7d\"],[0.2,\"#de77ae\"],[0.3,\"#f1b6da\"],[0.4,\"#fde0ef\"],[0.5,\"#f7f7f7\"],[0.6,\"#e6f5d0\"],[0.7,\"#b8e186\"],[0.8,\"#7fbc41\"],[0.9,\"#4d9221\"],[1,\"#276419\"]]},\"xaxis\":{\"gridcolor\":\"white\",\"linecolor\":\"white\",\"ticks\":\"\",\"title\":{\"standoff\":15},\"zerolinecolor\":\"white\",\"automargin\":true,\"zerolinewidth\":2},\"yaxis\":{\"gridcolor\":\"white\",\"linecolor\":\"white\",\"ticks\":\"\",\"title\":{\"standoff\":15},\"zerolinecolor\":\"white\",\"automargin\":true,\"zerolinewidth\":2},\"scene\":{\"xaxis\":{\"backgroundcolor\":\"#E5ECF6\",\"gridcolor\":\"white\",\"linecolor\":\"white\",\"showbackground\":true,\"ticks\":\"\",\"zerolinecolor\":\"white\",\"gridwidth\":2},\"yaxis\":{\"backgroundcolor\":\"#E5ECF6\",\"gridcolor\":\"white\",\"linecolor\":\"white\",\"showbackground\":true,\"ticks\":\"\",\"zerolinecolor\":\"white\",\"gridwidth\":2},\"zaxis\":{\"backgroundcolor\":\"#E5ECF6\",\"gridcolor\":\"white\",\"linecolor\":\"white\",\"showbackground\":true,\"ticks\":\"\",\"zerolinecolor\":\"white\",\"gridwidth\":2}},\"shapedefaults\":{\"line\":{\"color\":\"#2a3f5f\"}},\"annotationdefaults\":{\"arrowcolor\":\"#2a3f5f\",\"arrowhead\":0,\"arrowwidth\":1},\"geo\":{\"bgcolor\":\"white\",\"landcolor\":\"#E5ECF6\",\"subunitcolor\":\"white\",\"showland\":true,\"showlakes\":true,\"lakecolor\":\"white\"},\"title\":{\"x\":0.05},\"mapbox\":{\"style\":\"light\"}}},\"xaxis\":{\"anchor\":\"y\",\"domain\":[0.0,1.0],\"title\":{\"text\":\"readsGB\"}},\"yaxis\":{\"anchor\":\"x\",\"domain\":[0.0,1.0],\"title\":{\"text\":\"value\"}},\"legend\":{\"title\":{\"text\":\"Contig\"},\"tracegroupgap\":0},\"margin\":{\"t\":60}},                        {\"responsive\": true}                    ).then(function(){\n",
       "                            \n",
       "var gd = document.getElementById('837a4d5c-37dd-44ab-98b2-6d8c79f1fe56');\n",
       "var x = new MutationObserver(function (mutations, observer) {{\n",
       "        var display = window.getComputedStyle(gd).display;\n",
       "        if (!display || display === 'none') {{\n",
       "            console.log([gd, 'removed!']);\n",
       "            Plotly.purge(gd);\n",
       "            observer.disconnect();\n",
       "        }}\n",
       "}});\n",
       "\n",
       "// Listen for the removal of the full notebook cells\n",
       "var notebookContainer = gd.closest('#notebook-container');\n",
       "if (notebookContainer) {{\n",
       "    x.observe(notebookContainer, {childList: true});\n",
       "}}\n",
       "\n",
       "// Listen for the clearing of the current output cell\n",
       "var outputEl = gd.closest('.output');\n",
       "if (outputEl) {{\n",
       "    x.observe(outputEl, {childList: true});\n",
       "}}\n",
       "\n",
       "                        })                };                });            </script>        </div>"
      ]
     },
     "metadata": {},
     "output_type": "display_data"
    }
   ],
   "source": [
    "import plotly.express as px\n",
    "px.line(df_summary_long.sort_values(\"readsGB\").query(\"Metric=='RAE_raw'\"), x=\"readsGB\", y=\"value\", color=\"Contig\")"
   ]
  },
  {
   "cell_type": "code",
   "execution_count": 67,
   "metadata": {},
   "outputs": [
    {
     "data": {
      "text/html": [
       "<div>\n",
       "<style scoped>\n",
       "    .dataframe tbody tr th:only-of-type {\n",
       "        vertical-align: middle;\n",
       "    }\n",
       "\n",
       "    .dataframe tbody tr th {\n",
       "        vertical-align: top;\n",
       "    }\n",
       "\n",
       "    .dataframe thead th {\n",
       "        text-align: right;\n",
       "    }\n",
       "</style>\n",
       "<table border=\"1\" class=\"dataframe\">\n",
       "  <thead>\n",
       "    <tr style=\"text-align: right;\">\n",
       "      <th></th>\n",
       "      <th>Contig</th>\n",
       "      <th>Breadth</th>\n",
       "      <th>Depth avg</th>\n",
       "      <th>Depth median</th>\n",
       "      <th>readsGB</th>\n",
       "      <th>expected_value</th>\n",
       "      <th>expected_value_int</th>\n",
       "      <th>RAE_raw</th>\n",
       "      <th>RAE_int</th>\n",
       "    </tr>\n",
       "  </thead>\n",
       "  <tbody>\n",
       "    <tr>\n",
       "      <th>0</th>\n",
       "      <td>NC_014328.1.region004</td>\n",
       "      <td>0.990049</td>\n",
       "      <td>5.382567</td>\n",
       "      <td>5.0</td>\n",
       "      <td>0.1</td>\n",
       "      <td>5.931263</td>\n",
       "      <td>6.0</td>\n",
       "      <td>0.157009</td>\n",
       "      <td>0.166667</td>\n",
       "    </tr>\n",
       "    <tr>\n",
       "      <th>1</th>\n",
       "      <td>NZ_CP053893.1.region001</td>\n",
       "      <td>0.991744</td>\n",
       "      <td>5.140252</td>\n",
       "      <td>5.0</td>\n",
       "      <td>0.1</td>\n",
       "      <td>5.931263</td>\n",
       "      <td>6.0</td>\n",
       "      <td>0.157009</td>\n",
       "      <td>0.166667</td>\n",
       "    </tr>\n",
       "    <tr>\n",
       "      <th>2</th>\n",
       "      <td>NZ_LT906470.1.region001</td>\n",
       "      <td>0.987658</td>\n",
       "      <td>5.187827</td>\n",
       "      <td>5.0</td>\n",
       "      <td>0.1</td>\n",
       "      <td>5.931263</td>\n",
       "      <td>6.0</td>\n",
       "      <td>0.157009</td>\n",
       "      <td>0.166667</td>\n",
       "    </tr>\n",
       "    <tr>\n",
       "      <th>3</th>\n",
       "      <td>NZ_CP053893.1.region004</td>\n",
       "      <td>0.996785</td>\n",
       "      <td>5.879550</td>\n",
       "      <td>5.0</td>\n",
       "      <td>0.1</td>\n",
       "      <td>5.931263</td>\n",
       "      <td>6.0</td>\n",
       "      <td>0.157009</td>\n",
       "      <td>0.166667</td>\n",
       "    </tr>\n",
       "    <tr>\n",
       "      <th>4</th>\n",
       "      <td>NZ_CP053893.1.region003</td>\n",
       "      <td>0.991860</td>\n",
       "      <td>5.162646</td>\n",
       "      <td>5.0</td>\n",
       "      <td>0.1</td>\n",
       "      <td>5.931263</td>\n",
       "      <td>6.0</td>\n",
       "      <td>0.157009</td>\n",
       "      <td>0.166667</td>\n",
       "    </tr>\n",
       "    <tr>\n",
       "      <th>5</th>\n",
       "      <td>NZ_CP053893.1.region002</td>\n",
       "      <td>0.985503</td>\n",
       "      <td>28.251507</td>\n",
       "      <td>6.0</td>\n",
       "      <td>0.1</td>\n",
       "      <td>5.931263</td>\n",
       "      <td>6.0</td>\n",
       "      <td>0.011589</td>\n",
       "      <td>0.000000</td>\n",
       "    </tr>\n",
       "    <tr>\n",
       "      <th>6</th>\n",
       "      <td>NZ_CP053893.1.region005</td>\n",
       "      <td>0.992474</td>\n",
       "      <td>5.115603</td>\n",
       "      <td>5.0</td>\n",
       "      <td>0.1</td>\n",
       "      <td>5.931263</td>\n",
       "      <td>6.0</td>\n",
       "      <td>0.157009</td>\n",
       "      <td>0.166667</td>\n",
       "    </tr>\n",
       "    <tr>\n",
       "      <th>7</th>\n",
       "      <td>NC_014328.1.region003</td>\n",
       "      <td>0.997253</td>\n",
       "      <td>5.764677</td>\n",
       "      <td>5.0</td>\n",
       "      <td>0.1</td>\n",
       "      <td>5.931263</td>\n",
       "      <td>6.0</td>\n",
       "      <td>0.157009</td>\n",
       "      <td>0.166667</td>\n",
       "    </tr>\n",
       "    <tr>\n",
       "      <th>8</th>\n",
       "      <td>NZ_CP053893.1.region006</td>\n",
       "      <td>0.994557</td>\n",
       "      <td>6.305226</td>\n",
       "      <td>6.0</td>\n",
       "      <td>0.1</td>\n",
       "      <td>5.931263</td>\n",
       "      <td>6.0</td>\n",
       "      <td>0.011589</td>\n",
       "      <td>0.000000</td>\n",
       "    </tr>\n",
       "    <tr>\n",
       "      <th>9</th>\n",
       "      <td>NC_014328.1.region001</td>\n",
       "      <td>0.989533</td>\n",
       "      <td>4.648313</td>\n",
       "      <td>4.0</td>\n",
       "      <td>0.1</td>\n",
       "      <td>5.931263</td>\n",
       "      <td>6.0</td>\n",
       "      <td>0.325607</td>\n",
       "      <td>0.333333</td>\n",
       "    </tr>\n",
       "    <tr>\n",
       "      <th>10</th>\n",
       "      <td>NC_014328.1.region005</td>\n",
       "      <td>0.988514</td>\n",
       "      <td>5.536335</td>\n",
       "      <td>5.0</td>\n",
       "      <td>0.1</td>\n",
       "      <td>5.931263</td>\n",
       "      <td>6.0</td>\n",
       "      <td>0.157009</td>\n",
       "      <td>0.166667</td>\n",
       "    </tr>\n",
       "    <tr>\n",
       "      <th>11</th>\n",
       "      <td>NZ_LT906470.1.region002</td>\n",
       "      <td>0.983449</td>\n",
       "      <td>5.347873</td>\n",
       "      <td>5.0</td>\n",
       "      <td>0.1</td>\n",
       "      <td>5.931263</td>\n",
       "      <td>6.0</td>\n",
       "      <td>0.157009</td>\n",
       "      <td>0.166667</td>\n",
       "    </tr>\n",
       "    <tr>\n",
       "      <th>12</th>\n",
       "      <td>NZ_LT906470.1.region003</td>\n",
       "      <td>0.988243</td>\n",
       "      <td>4.882104</td>\n",
       "      <td>5.0</td>\n",
       "      <td>0.1</td>\n",
       "      <td>5.931263</td>\n",
       "      <td>6.0</td>\n",
       "      <td>0.157009</td>\n",
       "      <td>0.166667</td>\n",
       "    </tr>\n",
       "    <tr>\n",
       "      <th>13</th>\n",
       "      <td>NC_014328.1.region002</td>\n",
       "      <td>0.990862</td>\n",
       "      <td>4.784915</td>\n",
       "      <td>5.0</td>\n",
       "      <td>0.1</td>\n",
       "      <td>5.931263</td>\n",
       "      <td>6.0</td>\n",
       "      <td>0.157009</td>\n",
       "      <td>0.166667</td>\n",
       "    </tr>\n",
       "    <tr>\n",
       "      <th>14</th>\n",
       "      <td>NZ_LT906445.1.region001</td>\n",
       "      <td>0.977947</td>\n",
       "      <td>5.062050</td>\n",
       "      <td>5.0</td>\n",
       "      <td>0.1</td>\n",
       "      <td>5.931263</td>\n",
       "      <td>6.0</td>\n",
       "      <td>0.157009</td>\n",
       "      <td>0.166667</td>\n",
       "    </tr>\n",
       "    <tr>\n",
       "      <th>15</th>\n",
       "      <td>NZ_CP020566.1.region001</td>\n",
       "      <td>0.990470</td>\n",
       "      <td>4.852422</td>\n",
       "      <td>4.0</td>\n",
       "      <td>0.1</td>\n",
       "      <td>5.931263</td>\n",
       "      <td>6.0</td>\n",
       "      <td>0.325607</td>\n",
       "      <td>0.333333</td>\n",
       "    </tr>\n",
       "  </tbody>\n",
       "</table>\n",
       "</div>"
      ],
      "text/plain": [
       "                     Contig   Breadth  Depth avg  Depth median  readsGB  \\\n",
       "0     NC_014328.1.region004  0.990049   5.382567           5.0      0.1   \n",
       "1   NZ_CP053893.1.region001  0.991744   5.140252           5.0      0.1   \n",
       "2   NZ_LT906470.1.region001  0.987658   5.187827           5.0      0.1   \n",
       "3   NZ_CP053893.1.region004  0.996785   5.879550           5.0      0.1   \n",
       "4   NZ_CP053893.1.region003  0.991860   5.162646           5.0      0.1   \n",
       "5   NZ_CP053893.1.region002  0.985503  28.251507           6.0      0.1   \n",
       "6   NZ_CP053893.1.region005  0.992474   5.115603           5.0      0.1   \n",
       "7     NC_014328.1.region003  0.997253   5.764677           5.0      0.1   \n",
       "8   NZ_CP053893.1.region006  0.994557   6.305226           6.0      0.1   \n",
       "9     NC_014328.1.region001  0.989533   4.648313           4.0      0.1   \n",
       "10    NC_014328.1.region005  0.988514   5.536335           5.0      0.1   \n",
       "11  NZ_LT906470.1.region002  0.983449   5.347873           5.0      0.1   \n",
       "12  NZ_LT906470.1.region003  0.988243   4.882104           5.0      0.1   \n",
       "13    NC_014328.1.region002  0.990862   4.784915           5.0      0.1   \n",
       "14  NZ_LT906445.1.region001  0.977947   5.062050           5.0      0.1   \n",
       "15  NZ_CP020566.1.region001  0.990470   4.852422           4.0      0.1   \n",
       "\n",
       "    expected_value  expected_value_int   RAE_raw   RAE_int  \n",
       "0         5.931263                 6.0  0.157009  0.166667  \n",
       "1         5.931263                 6.0  0.157009  0.166667  \n",
       "2         5.931263                 6.0  0.157009  0.166667  \n",
       "3         5.931263                 6.0  0.157009  0.166667  \n",
       "4         5.931263                 6.0  0.157009  0.166667  \n",
       "5         5.931263                 6.0  0.011589  0.000000  \n",
       "6         5.931263                 6.0  0.157009  0.166667  \n",
       "7         5.931263                 6.0  0.157009  0.166667  \n",
       "8         5.931263                 6.0  0.011589  0.000000  \n",
       "9         5.931263                 6.0  0.325607  0.333333  \n",
       "10        5.931263                 6.0  0.157009  0.166667  \n",
       "11        5.931263                 6.0  0.157009  0.166667  \n",
       "12        5.931263                 6.0  0.157009  0.166667  \n",
       "13        5.931263                 6.0  0.157009  0.166667  \n",
       "14        5.931263                 6.0  0.157009  0.166667  \n",
       "15        5.931263                 6.0  0.325607  0.333333  "
      ]
     },
     "execution_count": 67,
     "metadata": {},
     "output_type": "execute_result"
    }
   ],
   "source": [
    "df_summary.query(\"readsGB == 0.1\")"
   ]
  },
  {
   "cell_type": "code",
   "execution_count": 98,
   "metadata": {
    "scrolled": false
   },
   "outputs": [
    {
     "data": {
      "application/vnd.plotly.v1+json": {
       "config": {
        "plotlyServerURL": "https://plot.ly"
       },
       "data": [
        {
         "hovertemplate": "Contig=NZ_CP053893.1.region001<br>readGB=%{x}<br>RAE_med=%{y}<extra></extra>",
         "legendgroup": "NZ_CP053893.1.region001",
         "line": {
          "color": "#636efa",
          "dash": "solid"
         },
         "marker": {
          "symbol": "circle"
         },
         "mode": "lines",
         "name": "NZ_CP053893.1.region001",
         "orientation": "v",
         "showlegend": true,
         "type": "scatter",
         "x": [
          0.001,
          0.002,
          0.01,
          0.02,
          0.1,
          0.2,
          1,
          2
         ],
         "xaxis": "x",
         "y": [
          15.859816000000002,
          7.429908,
          0.6859816000000001,
          0.15700919999999996,
          0.15700919999999993,
          0.15700919999999993,
          0.140149384,
          0.165439108
         ],
         "yaxis": "y"
        },
        {
         "hovertemplate": "Contig=NC_014328.1.region004<br>readGB=%{x}<br>RAE_med=%{y}<extra></extra>",
         "legendgroup": "NC_014328.1.region004",
         "line": {
          "color": "#EF553B",
          "dash": "solid"
         },
         "marker": {
          "symbol": "circle"
         },
         "mode": "lines",
         "name": "NC_014328.1.region004",
         "orientation": "v",
         "showlegend": true,
         "type": "scatter",
         "x": [
          0.001,
          0.002,
          0.01,
          0.02,
          0.1,
          0.2,
          1,
          2
         ],
         "xaxis": "x",
         "y": [
          15.859816000000002,
          7.429908,
          0.6859816000000001,
          0.15700919999999996,
          0.15700919999999993,
          0.15700919999999993,
          0.1570092,
          0.140149384
         ],
         "yaxis": "y"
        },
        {
         "hovertemplate": "Contig=NZ_LT906470.1.region001<br>readGB=%{x}<br>RAE_med=%{y}<extra></extra>",
         "legendgroup": "NZ_LT906470.1.region001",
         "line": {
          "color": "#00cc96",
          "dash": "solid"
         },
         "marker": {
          "symbol": "circle"
         },
         "mode": "lines",
         "name": "NZ_LT906470.1.region001",
         "orientation": "v",
         "showlegend": true,
         "type": "scatter",
         "x": [
          0.001,
          0.002,
          0.01,
          0.02,
          0.1,
          0.2,
          1,
          2
         ],
         "xaxis": "x",
         "y": [
          15.859816000000002,
          7.429908,
          0.6859816000000001,
          0.15700919999999996,
          0.15700919999999993,
          0.07271011999999993,
          0.12328956799999999,
          0.148579292
         ],
         "yaxis": "y"
        },
        {
         "hovertemplate": "Contig=NZ_CP053893.1.region004<br>readGB=%{x}<br>RAE_med=%{y}<extra></extra>",
         "legendgroup": "NZ_CP053893.1.region004",
         "line": {
          "color": "#ab63fa",
          "dash": "solid"
         },
         "marker": {
          "symbol": "circle"
         },
         "mode": "lines",
         "name": "NZ_CP053893.1.region004",
         "orientation": "v",
         "showlegend": true,
         "type": "scatter",
         "x": [
          0.001,
          0.002,
          0.01,
          0.02,
          0.1,
          0.2,
          1,
          2
         ],
         "xaxis": "x",
         "y": [
          15.859816000000002,
          7.429908,
          0.6859816000000001,
          0.15700919999999996,
          0.15700919999999993,
          0.15700919999999993,
          0.12328956799999999,
          0.1570092
         ],
         "yaxis": "y"
        },
        {
         "hovertemplate": "Contig=NZ_CP053893.1.region003<br>readGB=%{x}<br>RAE_med=%{y}<extra></extra>",
         "legendgroup": "NZ_CP053893.1.region003",
         "line": {
          "color": "#FFA15A",
          "dash": "solid"
         },
         "marker": {
          "symbol": "circle"
         },
         "mode": "lines",
         "name": "NZ_CP053893.1.region003",
         "orientation": "v",
         "showlegend": true,
         "type": "scatter",
         "x": [
          0.001,
          0.002,
          0.01,
          0.02,
          0.1,
          0.2,
          1,
          2
         ],
         "xaxis": "x",
         "y": [
          15.859816000000002,
          7.429908,
          0.6859816000000001,
          0.6859816000000001,
          0.15700919999999993,
          0.15700919999999993,
          0.1570092,
          0.131719476
         ],
         "yaxis": "y"
        },
        {
         "hovertemplate": "Contig=NZ_CP053893.1.region005<br>readGB=%{x}<br>RAE_med=%{y}<extra></extra>",
         "legendgroup": "NZ_CP053893.1.region005",
         "line": {
          "color": "#19d3f3",
          "dash": "solid"
         },
         "marker": {
          "symbol": "circle"
         },
         "mode": "lines",
         "name": "NZ_CP053893.1.region005",
         "orientation": "v",
         "showlegend": true,
         "type": "scatter",
         "x": [
          0.001,
          0.002,
          0.01,
          0.02,
          0.1,
          0.2,
          1,
          2
         ],
         "xaxis": "x",
         "y": [
          15.859816000000002,
          7.429908,
          0.6859816000000001,
          0.15700919999999996,
          0.15700919999999993,
          0.15700919999999993,
          0.173869016,
          0.1570092
         ],
         "yaxis": "y"
        },
        {
         "hovertemplate": "Contig=NC_014328.1.region003<br>readGB=%{x}<br>RAE_med=%{y}<extra></extra>",
         "legendgroup": "NC_014328.1.region003",
         "line": {
          "color": "#FF6692",
          "dash": "solid"
         },
         "marker": {
          "symbol": "circle"
         },
         "mode": "lines",
         "name": "NC_014328.1.region003",
         "orientation": "v",
         "showlegend": true,
         "type": "scatter",
         "x": [
          0.001,
          0.002,
          0.01,
          0.02,
          0.1,
          0.2,
          1,
          2
         ],
         "xaxis": "x",
         "y": [
          15.859816000000002,
          7.429908,
          0.6859816000000001,
          0.15700919999999996,
          0.15700919999999993,
          0.15700919999999993,
          0.1570092,
          0.1570092
         ],
         "yaxis": "y"
        },
        {
         "hovertemplate": "Contig=NZ_CP053893.1.region006<br>readGB=%{x}<br>RAE_med=%{y}<extra></extra>",
         "legendgroup": "NZ_CP053893.1.region006",
         "line": {
          "color": "#B6E880",
          "dash": "solid"
         },
         "marker": {
          "symbol": "circle"
         },
         "mode": "lines",
         "name": "NZ_CP053893.1.region006",
         "orientation": "v",
         "showlegend": true,
         "type": "scatter",
         "x": [
          0.001,
          0.002,
          0.01,
          0.02,
          0.1,
          0.2,
          1,
          2
         ],
         "xaxis": "x",
         "y": [
          15.859816000000002,
          7.429908,
          0.6859816000000001,
          0.6859816000000001,
          0.01158896000000007,
          0.07271011999999993,
          0.12328956799999999,
          0.09799984399999999
         ],
         "yaxis": "y"
        },
        {
         "hovertemplate": "Contig=NZ_CP053893.1.region002<br>readGB=%{x}<br>RAE_med=%{y}<extra></extra>",
         "legendgroup": "NZ_CP053893.1.region002",
         "line": {
          "color": "#FF97FF",
          "dash": "solid"
         },
         "marker": {
          "symbol": "circle"
         },
         "mode": "lines",
         "name": "NZ_CP053893.1.region002",
         "orientation": "v",
         "showlegend": true,
         "type": "scatter",
         "x": [
          0.001,
          0.002,
          0.01,
          0.02,
          0.1,
          0.2,
          1,
          2
         ],
         "xaxis": "x",
         "y": [
          15.859816000000002,
          7.429908,
          2.3719632,
          0.6859816000000001,
          0.01158896000000007,
          0.07271011999999993,
          0.12328956799999999,
          0.12328956799999999
         ],
         "yaxis": "y"
        },
        {
         "hovertemplate": "Contig=NC_014328.1.region005<br>readGB=%{x}<br>RAE_med=%{y}<extra></extra>",
         "legendgroup": "NC_014328.1.region005",
         "line": {
          "color": "#FECB52",
          "dash": "solid"
         },
         "marker": {
          "symbol": "circle"
         },
         "mode": "lines",
         "name": "NC_014328.1.region005",
         "orientation": "v",
         "showlegend": true,
         "type": "scatter",
         "x": [
          0.001,
          0.002,
          0.01,
          0.02,
          0.1,
          0.2,
          1,
          2
         ],
         "xaxis": "x",
         "y": [
          15.859816000000002,
          7.429908,
          0.6859816000000001,
          0.15700919999999996,
          0.15700919999999993,
          0.15700919999999993,
          0.1570092,
          0.1570092
         ],
         "yaxis": "y"
        },
        {
         "hovertemplate": "Contig=NZ_LT906470.1.region002<br>readGB=%{x}<br>RAE_med=%{y}<extra></extra>",
         "legendgroup": "NZ_LT906470.1.region002",
         "line": {
          "color": "#636efa",
          "dash": "solid"
         },
         "marker": {
          "symbol": "circle"
         },
         "mode": "lines",
         "name": "NZ_LT906470.1.region002",
         "orientation": "v",
         "showlegend": true,
         "type": "scatter",
         "x": [
          0.001,
          0.002,
          0.01,
          0.02,
          0.1,
          0.2,
          1,
          2
         ],
         "xaxis": "x",
         "y": [
          15.859816000000002,
          7.429908,
          0.6859816000000001,
          0.15700919999999996,
          0.15700919999999993,
          0.15700919999999993,
          0.1570092,
          0.1570092
         ],
         "yaxis": "y"
        },
        {
         "hovertemplate": "Contig=NZ_LT906470.1.region003<br>readGB=%{x}<br>RAE_med=%{y}<extra></extra>",
         "legendgroup": "NZ_LT906470.1.region003",
         "line": {
          "color": "#EF553B",
          "dash": "solid"
         },
         "marker": {
          "symbol": "circle"
         },
         "mode": "lines",
         "name": "NZ_LT906470.1.region003",
         "orientation": "v",
         "showlegend": true,
         "type": "scatter",
         "x": [
          0.001,
          0.002,
          0.01,
          0.02,
          0.1,
          0.2,
          1,
          2
         ],
         "xaxis": "x",
         "y": [
          15.859816000000002,
          7.429908,
          0.6859816000000001,
          0.15700919999999996,
          0.15700919999999993,
          0.15700919999999993,
          0.1570092,
          0.1570092
         ],
         "yaxis": "y"
        },
        {
         "hovertemplate": "Contig=NC_014328.1.region002<br>readGB=%{x}<br>RAE_med=%{y}<extra></extra>",
         "legendgroup": "NC_014328.1.region002",
         "line": {
          "color": "#00cc96",
          "dash": "solid"
         },
         "marker": {
          "symbol": "circle"
         },
         "mode": "lines",
         "name": "NC_014328.1.region002",
         "orientation": "v",
         "showlegend": true,
         "type": "scatter",
         "x": [
          0.001,
          0.002,
          0.01,
          0.02,
          0.1,
          0.2,
          1,
          2
         ],
         "xaxis": "x",
         "y": [
          15.859816000000002,
          7.429908,
          0.6859816000000001,
          0.15700919999999996,
          0.15700919999999993,
          0.24130827999999996,
          0.173869016,
          0.165439108
         ],
         "yaxis": "y"
        },
        {
         "hovertemplate": "Contig=NZ_LT906445.1.region001<br>readGB=%{x}<br>RAE_med=%{y}<extra></extra>",
         "legendgroup": "NZ_LT906445.1.region001",
         "line": {
          "color": "#ab63fa",
          "dash": "solid"
         },
         "marker": {
          "symbol": "circle"
         },
         "mode": "lines",
         "name": "NZ_LT906445.1.region001",
         "orientation": "v",
         "showlegend": true,
         "type": "scatter",
         "x": [
          0.001,
          0.002,
          0.01,
          0.02,
          0.1,
          0.2,
          1,
          2
         ],
         "xaxis": "x",
         "y": [
          15.859816000000002,
          7.429908,
          0.6859816000000001,
          0.15700919999999996,
          0.15700919999999993,
          0.15700919999999993,
          0.173869016,
          0.1570092
         ],
         "yaxis": "y"
        },
        {
         "hovertemplate": "Contig=NZ_CP020566.1.region001<br>readGB=%{x}<br>RAE_med=%{y}<extra></extra>",
         "legendgroup": "NZ_CP020566.1.region001",
         "line": {
          "color": "#FFA15A",
          "dash": "solid"
         },
         "marker": {
          "symbol": "circle"
         },
         "mode": "lines",
         "name": "NZ_CP020566.1.region001",
         "orientation": "v",
         "showlegend": true,
         "type": "scatter",
         "x": [
          0.001,
          0.002,
          0.01,
          0.02,
          0.1,
          0.2,
          1,
          2
         ],
         "xaxis": "x",
         "y": [
          15.859816000000002,
          7.429908,
          0.6859816000000001,
          0.15700919999999996,
          0.15700919999999993,
          0.15700919999999993,
          0.173869016,
          0.165439108
         ],
         "yaxis": "y"
        },
        {
         "hovertemplate": "Contig=NC_014328.1.region001<br>readGB=%{x}<br>RAE_med=%{y}<extra></extra>",
         "legendgroup": "NC_014328.1.region001",
         "line": {
          "color": "#19d3f3",
          "dash": "solid"
         },
         "marker": {
          "symbol": "circle"
         },
         "mode": "lines",
         "name": "NC_014328.1.region001",
         "orientation": "v",
         "showlegend": true,
         "type": "scatter",
         "x": [
          0.001,
          0.002,
          0.01,
          0.02,
          0.1,
          0.2,
          1,
          2
         ],
         "xaxis": "x",
         "y": [
          15.859816000000002,
          7.429908,
          0.6859816000000001,
          0.6859816000000001,
          0.15700919999999993,
          0.24130827999999996,
          0.1570092,
          0.148579292
         ],
         "yaxis": "y"
        }
       ],
       "layout": {
        "legend": {
         "title": {
          "text": "Contig"
         },
         "tracegroupgap": 0
        },
        "margin": {
         "t": 60
        },
        "template": {
         "data": {
          "bar": [
           {
            "error_x": {
             "color": "#2a3f5f"
            },
            "error_y": {
             "color": "#2a3f5f"
            },
            "marker": {
             "line": {
              "color": "#E5ECF6",
              "width": 0.5
             },
             "pattern": {
              "fillmode": "overlay",
              "size": 10,
              "solidity": 0.2
             }
            },
            "type": "bar"
           }
          ],
          "barpolar": [
           {
            "marker": {
             "line": {
              "color": "#E5ECF6",
              "width": 0.5
             },
             "pattern": {
              "fillmode": "overlay",
              "size": 10,
              "solidity": 0.2
             }
            },
            "type": "barpolar"
           }
          ],
          "carpet": [
           {
            "aaxis": {
             "endlinecolor": "#2a3f5f",
             "gridcolor": "white",
             "linecolor": "white",
             "minorgridcolor": "white",
             "startlinecolor": "#2a3f5f"
            },
            "baxis": {
             "endlinecolor": "#2a3f5f",
             "gridcolor": "white",
             "linecolor": "white",
             "minorgridcolor": "white",
             "startlinecolor": "#2a3f5f"
            },
            "type": "carpet"
           }
          ],
          "choropleth": [
           {
            "colorbar": {
             "outlinewidth": 0,
             "ticks": ""
            },
            "type": "choropleth"
           }
          ],
          "contour": [
           {
            "colorbar": {
             "outlinewidth": 0,
             "ticks": ""
            },
            "colorscale": [
             [
              0,
              "#0d0887"
             ],
             [
              0.1111111111111111,
              "#46039f"
             ],
             [
              0.2222222222222222,
              "#7201a8"
             ],
             [
              0.3333333333333333,
              "#9c179e"
             ],
             [
              0.4444444444444444,
              "#bd3786"
             ],
             [
              0.5555555555555556,
              "#d8576b"
             ],
             [
              0.6666666666666666,
              "#ed7953"
             ],
             [
              0.7777777777777778,
              "#fb9f3a"
             ],
             [
              0.8888888888888888,
              "#fdca26"
             ],
             [
              1,
              "#f0f921"
             ]
            ],
            "type": "contour"
           }
          ],
          "contourcarpet": [
           {
            "colorbar": {
             "outlinewidth": 0,
             "ticks": ""
            },
            "type": "contourcarpet"
           }
          ],
          "heatmap": [
           {
            "colorbar": {
             "outlinewidth": 0,
             "ticks": ""
            },
            "colorscale": [
             [
              0,
              "#0d0887"
             ],
             [
              0.1111111111111111,
              "#46039f"
             ],
             [
              0.2222222222222222,
              "#7201a8"
             ],
             [
              0.3333333333333333,
              "#9c179e"
             ],
             [
              0.4444444444444444,
              "#bd3786"
             ],
             [
              0.5555555555555556,
              "#d8576b"
             ],
             [
              0.6666666666666666,
              "#ed7953"
             ],
             [
              0.7777777777777778,
              "#fb9f3a"
             ],
             [
              0.8888888888888888,
              "#fdca26"
             ],
             [
              1,
              "#f0f921"
             ]
            ],
            "type": "heatmap"
           }
          ],
          "heatmapgl": [
           {
            "colorbar": {
             "outlinewidth": 0,
             "ticks": ""
            },
            "colorscale": [
             [
              0,
              "#0d0887"
             ],
             [
              0.1111111111111111,
              "#46039f"
             ],
             [
              0.2222222222222222,
              "#7201a8"
             ],
             [
              0.3333333333333333,
              "#9c179e"
             ],
             [
              0.4444444444444444,
              "#bd3786"
             ],
             [
              0.5555555555555556,
              "#d8576b"
             ],
             [
              0.6666666666666666,
              "#ed7953"
             ],
             [
              0.7777777777777778,
              "#fb9f3a"
             ],
             [
              0.8888888888888888,
              "#fdca26"
             ],
             [
              1,
              "#f0f921"
             ]
            ],
            "type": "heatmapgl"
           }
          ],
          "histogram": [
           {
            "marker": {
             "pattern": {
              "fillmode": "overlay",
              "size": 10,
              "solidity": 0.2
             }
            },
            "type": "histogram"
           }
          ],
          "histogram2d": [
           {
            "colorbar": {
             "outlinewidth": 0,
             "ticks": ""
            },
            "colorscale": [
             [
              0,
              "#0d0887"
             ],
             [
              0.1111111111111111,
              "#46039f"
             ],
             [
              0.2222222222222222,
              "#7201a8"
             ],
             [
              0.3333333333333333,
              "#9c179e"
             ],
             [
              0.4444444444444444,
              "#bd3786"
             ],
             [
              0.5555555555555556,
              "#d8576b"
             ],
             [
              0.6666666666666666,
              "#ed7953"
             ],
             [
              0.7777777777777778,
              "#fb9f3a"
             ],
             [
              0.8888888888888888,
              "#fdca26"
             ],
             [
              1,
              "#f0f921"
             ]
            ],
            "type": "histogram2d"
           }
          ],
          "histogram2dcontour": [
           {
            "colorbar": {
             "outlinewidth": 0,
             "ticks": ""
            },
            "colorscale": [
             [
              0,
              "#0d0887"
             ],
             [
              0.1111111111111111,
              "#46039f"
             ],
             [
              0.2222222222222222,
              "#7201a8"
             ],
             [
              0.3333333333333333,
              "#9c179e"
             ],
             [
              0.4444444444444444,
              "#bd3786"
             ],
             [
              0.5555555555555556,
              "#d8576b"
             ],
             [
              0.6666666666666666,
              "#ed7953"
             ],
             [
              0.7777777777777778,
              "#fb9f3a"
             ],
             [
              0.8888888888888888,
              "#fdca26"
             ],
             [
              1,
              "#f0f921"
             ]
            ],
            "type": "histogram2dcontour"
           }
          ],
          "mesh3d": [
           {
            "colorbar": {
             "outlinewidth": 0,
             "ticks": ""
            },
            "type": "mesh3d"
           }
          ],
          "parcoords": [
           {
            "line": {
             "colorbar": {
              "outlinewidth": 0,
              "ticks": ""
             }
            },
            "type": "parcoords"
           }
          ],
          "pie": [
           {
            "automargin": true,
            "type": "pie"
           }
          ],
          "scatter": [
           {
            "fillpattern": {
             "fillmode": "overlay",
             "size": 10,
             "solidity": 0.2
            },
            "type": "scatter"
           }
          ],
          "scatter3d": [
           {
            "line": {
             "colorbar": {
              "outlinewidth": 0,
              "ticks": ""
             }
            },
            "marker": {
             "colorbar": {
              "outlinewidth": 0,
              "ticks": ""
             }
            },
            "type": "scatter3d"
           }
          ],
          "scattercarpet": [
           {
            "marker": {
             "colorbar": {
              "outlinewidth": 0,
              "ticks": ""
             }
            },
            "type": "scattercarpet"
           }
          ],
          "scattergeo": [
           {
            "marker": {
             "colorbar": {
              "outlinewidth": 0,
              "ticks": ""
             }
            },
            "type": "scattergeo"
           }
          ],
          "scattergl": [
           {
            "marker": {
             "colorbar": {
              "outlinewidth": 0,
              "ticks": ""
             }
            },
            "type": "scattergl"
           }
          ],
          "scattermapbox": [
           {
            "marker": {
             "colorbar": {
              "outlinewidth": 0,
              "ticks": ""
             }
            },
            "type": "scattermapbox"
           }
          ],
          "scatterpolar": [
           {
            "marker": {
             "colorbar": {
              "outlinewidth": 0,
              "ticks": ""
             }
            },
            "type": "scatterpolar"
           }
          ],
          "scatterpolargl": [
           {
            "marker": {
             "colorbar": {
              "outlinewidth": 0,
              "ticks": ""
             }
            },
            "type": "scatterpolargl"
           }
          ],
          "scatterternary": [
           {
            "marker": {
             "colorbar": {
              "outlinewidth": 0,
              "ticks": ""
             }
            },
            "type": "scatterternary"
           }
          ],
          "surface": [
           {
            "colorbar": {
             "outlinewidth": 0,
             "ticks": ""
            },
            "colorscale": [
             [
              0,
              "#0d0887"
             ],
             [
              0.1111111111111111,
              "#46039f"
             ],
             [
              0.2222222222222222,
              "#7201a8"
             ],
             [
              0.3333333333333333,
              "#9c179e"
             ],
             [
              0.4444444444444444,
              "#bd3786"
             ],
             [
              0.5555555555555556,
              "#d8576b"
             ],
             [
              0.6666666666666666,
              "#ed7953"
             ],
             [
              0.7777777777777778,
              "#fb9f3a"
             ],
             [
              0.8888888888888888,
              "#fdca26"
             ],
             [
              1,
              "#f0f921"
             ]
            ],
            "type": "surface"
           }
          ],
          "table": [
           {
            "cells": {
             "fill": {
              "color": "#EBF0F8"
             },
             "line": {
              "color": "white"
             }
            },
            "header": {
             "fill": {
              "color": "#C8D4E3"
             },
             "line": {
              "color": "white"
             }
            },
            "type": "table"
           }
          ]
         },
         "layout": {
          "annotationdefaults": {
           "arrowcolor": "#2a3f5f",
           "arrowhead": 0,
           "arrowwidth": 1
          },
          "autotypenumbers": "strict",
          "coloraxis": {
           "colorbar": {
            "outlinewidth": 0,
            "ticks": ""
           }
          },
          "colorscale": {
           "diverging": [
            [
             0,
             "#8e0152"
            ],
            [
             0.1,
             "#c51b7d"
            ],
            [
             0.2,
             "#de77ae"
            ],
            [
             0.3,
             "#f1b6da"
            ],
            [
             0.4,
             "#fde0ef"
            ],
            [
             0.5,
             "#f7f7f7"
            ],
            [
             0.6,
             "#e6f5d0"
            ],
            [
             0.7,
             "#b8e186"
            ],
            [
             0.8,
             "#7fbc41"
            ],
            [
             0.9,
             "#4d9221"
            ],
            [
             1,
             "#276419"
            ]
           ],
           "sequential": [
            [
             0,
             "#0d0887"
            ],
            [
             0.1111111111111111,
             "#46039f"
            ],
            [
             0.2222222222222222,
             "#7201a8"
            ],
            [
             0.3333333333333333,
             "#9c179e"
            ],
            [
             0.4444444444444444,
             "#bd3786"
            ],
            [
             0.5555555555555556,
             "#d8576b"
            ],
            [
             0.6666666666666666,
             "#ed7953"
            ],
            [
             0.7777777777777778,
             "#fb9f3a"
            ],
            [
             0.8888888888888888,
             "#fdca26"
            ],
            [
             1,
             "#f0f921"
            ]
           ],
           "sequentialminus": [
            [
             0,
             "#0d0887"
            ],
            [
             0.1111111111111111,
             "#46039f"
            ],
            [
             0.2222222222222222,
             "#7201a8"
            ],
            [
             0.3333333333333333,
             "#9c179e"
            ],
            [
             0.4444444444444444,
             "#bd3786"
            ],
            [
             0.5555555555555556,
             "#d8576b"
            ],
            [
             0.6666666666666666,
             "#ed7953"
            ],
            [
             0.7777777777777778,
             "#fb9f3a"
            ],
            [
             0.8888888888888888,
             "#fdca26"
            ],
            [
             1,
             "#f0f921"
            ]
           ]
          },
          "colorway": [
           "#636efa",
           "#EF553B",
           "#00cc96",
           "#ab63fa",
           "#FFA15A",
           "#19d3f3",
           "#FF6692",
           "#B6E880",
           "#FF97FF",
           "#FECB52"
          ],
          "font": {
           "color": "#2a3f5f"
          },
          "geo": {
           "bgcolor": "white",
           "lakecolor": "white",
           "landcolor": "#E5ECF6",
           "showlakes": true,
           "showland": true,
           "subunitcolor": "white"
          },
          "hoverlabel": {
           "align": "left"
          },
          "hovermode": "closest",
          "mapbox": {
           "style": "light"
          },
          "paper_bgcolor": "white",
          "plot_bgcolor": "#E5ECF6",
          "polar": {
           "angularaxis": {
            "gridcolor": "white",
            "linecolor": "white",
            "ticks": ""
           },
           "bgcolor": "#E5ECF6",
           "radialaxis": {
            "gridcolor": "white",
            "linecolor": "white",
            "ticks": ""
           }
          },
          "scene": {
           "xaxis": {
            "backgroundcolor": "#E5ECF6",
            "gridcolor": "white",
            "gridwidth": 2,
            "linecolor": "white",
            "showbackground": true,
            "ticks": "",
            "zerolinecolor": "white"
           },
           "yaxis": {
            "backgroundcolor": "#E5ECF6",
            "gridcolor": "white",
            "gridwidth": 2,
            "linecolor": "white",
            "showbackground": true,
            "ticks": "",
            "zerolinecolor": "white"
           },
           "zaxis": {
            "backgroundcolor": "#E5ECF6",
            "gridcolor": "white",
            "gridwidth": 2,
            "linecolor": "white",
            "showbackground": true,
            "ticks": "",
            "zerolinecolor": "white"
           }
          },
          "shapedefaults": {
           "line": {
            "color": "#2a3f5f"
           }
          },
          "ternary": {
           "aaxis": {
            "gridcolor": "white",
            "linecolor": "white",
            "ticks": ""
           },
           "baxis": {
            "gridcolor": "white",
            "linecolor": "white",
            "ticks": ""
           },
           "bgcolor": "#E5ECF6",
           "caxis": {
            "gridcolor": "white",
            "linecolor": "white",
            "ticks": ""
           }
          },
          "title": {
           "x": 0.05
          },
          "xaxis": {
           "automargin": true,
           "gridcolor": "white",
           "linecolor": "white",
           "ticks": "",
           "title": {
            "standoff": 15
           },
           "zerolinecolor": "white",
           "zerolinewidth": 2
          },
          "yaxis": {
           "automargin": true,
           "gridcolor": "white",
           "linecolor": "white",
           "ticks": "",
           "title": {
            "standoff": 15
           },
           "zerolinecolor": "white",
           "zerolinewidth": 2
          }
         }
        },
        "xaxis": {
         "anchor": "y",
         "domain": [
          0,
          1
         ],
         "title": {
          "text": "readGB"
         }
        },
        "yaxis": {
         "anchor": "x",
         "domain": [
          0,
          1
         ],
         "title": {
          "text": "RAE_med"
         }
        }
       }
      },
      "text/html": [
       "<div>                            <div id=\"0c6efaf9-7c94-45fd-8cbb-c2cbd27d3576\" class=\"plotly-graph-div\" style=\"height:525px; width:100%;\"></div>            <script type=\"text/javascript\">                require([\"plotly\"], function(Plotly) {                    window.PLOTLYENV=window.PLOTLYENV || {};                                    if (document.getElementById(\"0c6efaf9-7c94-45fd-8cbb-c2cbd27d3576\")) {                    Plotly.newPlot(                        \"0c6efaf9-7c94-45fd-8cbb-c2cbd27d3576\",                        [{\"hovertemplate\":\"Contig=NZ_CP053893.1.region001<br>readGB=%{x}<br>RAE_med=%{y}<extra></extra>\",\"legendgroup\":\"NZ_CP053893.1.region001\",\"line\":{\"color\":\"#636efa\",\"dash\":\"solid\"},\"marker\":{\"symbol\":\"circle\"},\"mode\":\"lines\",\"name\":\"NZ_CP053893.1.region001\",\"orientation\":\"v\",\"showlegend\":true,\"x\":[0.001,0.002,0.01,0.02,0.1,0.2,1.0,2.0],\"xaxis\":\"x\",\"y\":[15.859816000000002,7.429908,0.6859816000000001,0.15700919999999996,0.15700919999999993,0.15700919999999993,0.140149384,0.165439108],\"yaxis\":\"y\",\"type\":\"scatter\"},{\"hovertemplate\":\"Contig=NC_014328.1.region004<br>readGB=%{x}<br>RAE_med=%{y}<extra></extra>\",\"legendgroup\":\"NC_014328.1.region004\",\"line\":{\"color\":\"#EF553B\",\"dash\":\"solid\"},\"marker\":{\"symbol\":\"circle\"},\"mode\":\"lines\",\"name\":\"NC_014328.1.region004\",\"orientation\":\"v\",\"showlegend\":true,\"x\":[0.001,0.002,0.01,0.02,0.1,0.2,1.0,2.0],\"xaxis\":\"x\",\"y\":[15.859816000000002,7.429908,0.6859816000000001,0.15700919999999996,0.15700919999999993,0.15700919999999993,0.1570092,0.140149384],\"yaxis\":\"y\",\"type\":\"scatter\"},{\"hovertemplate\":\"Contig=NZ_LT906470.1.region001<br>readGB=%{x}<br>RAE_med=%{y}<extra></extra>\",\"legendgroup\":\"NZ_LT906470.1.region001\",\"line\":{\"color\":\"#00cc96\",\"dash\":\"solid\"},\"marker\":{\"symbol\":\"circle\"},\"mode\":\"lines\",\"name\":\"NZ_LT906470.1.region001\",\"orientation\":\"v\",\"showlegend\":true,\"x\":[0.001,0.002,0.01,0.02,0.1,0.2,1.0,2.0],\"xaxis\":\"x\",\"y\":[15.859816000000002,7.429908,0.6859816000000001,0.15700919999999996,0.15700919999999993,0.07271011999999993,0.12328956799999999,0.148579292],\"yaxis\":\"y\",\"type\":\"scatter\"},{\"hovertemplate\":\"Contig=NZ_CP053893.1.region004<br>readGB=%{x}<br>RAE_med=%{y}<extra></extra>\",\"legendgroup\":\"NZ_CP053893.1.region004\",\"line\":{\"color\":\"#ab63fa\",\"dash\":\"solid\"},\"marker\":{\"symbol\":\"circle\"},\"mode\":\"lines\",\"name\":\"NZ_CP053893.1.region004\",\"orientation\":\"v\",\"showlegend\":true,\"x\":[0.001,0.002,0.01,0.02,0.1,0.2,1.0,2.0],\"xaxis\":\"x\",\"y\":[15.859816000000002,7.429908,0.6859816000000001,0.15700919999999996,0.15700919999999993,0.15700919999999993,0.12328956799999999,0.1570092],\"yaxis\":\"y\",\"type\":\"scatter\"},{\"hovertemplate\":\"Contig=NZ_CP053893.1.region003<br>readGB=%{x}<br>RAE_med=%{y}<extra></extra>\",\"legendgroup\":\"NZ_CP053893.1.region003\",\"line\":{\"color\":\"#FFA15A\",\"dash\":\"solid\"},\"marker\":{\"symbol\":\"circle\"},\"mode\":\"lines\",\"name\":\"NZ_CP053893.1.region003\",\"orientation\":\"v\",\"showlegend\":true,\"x\":[0.001,0.002,0.01,0.02,0.1,0.2,1.0,2.0],\"xaxis\":\"x\",\"y\":[15.859816000000002,7.429908,0.6859816000000001,0.6859816000000001,0.15700919999999993,0.15700919999999993,0.1570092,0.131719476],\"yaxis\":\"y\",\"type\":\"scatter\"},{\"hovertemplate\":\"Contig=NZ_CP053893.1.region005<br>readGB=%{x}<br>RAE_med=%{y}<extra></extra>\",\"legendgroup\":\"NZ_CP053893.1.region005\",\"line\":{\"color\":\"#19d3f3\",\"dash\":\"solid\"},\"marker\":{\"symbol\":\"circle\"},\"mode\":\"lines\",\"name\":\"NZ_CP053893.1.region005\",\"orientation\":\"v\",\"showlegend\":true,\"x\":[0.001,0.002,0.01,0.02,0.1,0.2,1.0,2.0],\"xaxis\":\"x\",\"y\":[15.859816000000002,7.429908,0.6859816000000001,0.15700919999999996,0.15700919999999993,0.15700919999999993,0.173869016,0.1570092],\"yaxis\":\"y\",\"type\":\"scatter\"},{\"hovertemplate\":\"Contig=NC_014328.1.region003<br>readGB=%{x}<br>RAE_med=%{y}<extra></extra>\",\"legendgroup\":\"NC_014328.1.region003\",\"line\":{\"color\":\"#FF6692\",\"dash\":\"solid\"},\"marker\":{\"symbol\":\"circle\"},\"mode\":\"lines\",\"name\":\"NC_014328.1.region003\",\"orientation\":\"v\",\"showlegend\":true,\"x\":[0.001,0.002,0.01,0.02,0.1,0.2,1.0,2.0],\"xaxis\":\"x\",\"y\":[15.859816000000002,7.429908,0.6859816000000001,0.15700919999999996,0.15700919999999993,0.15700919999999993,0.1570092,0.1570092],\"yaxis\":\"y\",\"type\":\"scatter\"},{\"hovertemplate\":\"Contig=NZ_CP053893.1.region006<br>readGB=%{x}<br>RAE_med=%{y}<extra></extra>\",\"legendgroup\":\"NZ_CP053893.1.region006\",\"line\":{\"color\":\"#B6E880\",\"dash\":\"solid\"},\"marker\":{\"symbol\":\"circle\"},\"mode\":\"lines\",\"name\":\"NZ_CP053893.1.region006\",\"orientation\":\"v\",\"showlegend\":true,\"x\":[0.001,0.002,0.01,0.02,0.1,0.2,1.0,2.0],\"xaxis\":\"x\",\"y\":[15.859816000000002,7.429908,0.6859816000000001,0.6859816000000001,0.01158896000000007,0.07271011999999993,0.12328956799999999,0.09799984399999999],\"yaxis\":\"y\",\"type\":\"scatter\"},{\"hovertemplate\":\"Contig=NZ_CP053893.1.region002<br>readGB=%{x}<br>RAE_med=%{y}<extra></extra>\",\"legendgroup\":\"NZ_CP053893.1.region002\",\"line\":{\"color\":\"#FF97FF\",\"dash\":\"solid\"},\"marker\":{\"symbol\":\"circle\"},\"mode\":\"lines\",\"name\":\"NZ_CP053893.1.region002\",\"orientation\":\"v\",\"showlegend\":true,\"x\":[0.001,0.002,0.01,0.02,0.1,0.2,1.0,2.0],\"xaxis\":\"x\",\"y\":[15.859816000000002,7.429908,2.3719632,0.6859816000000001,0.01158896000000007,0.07271011999999993,0.12328956799999999,0.12328956799999999],\"yaxis\":\"y\",\"type\":\"scatter\"},{\"hovertemplate\":\"Contig=NC_014328.1.region005<br>readGB=%{x}<br>RAE_med=%{y}<extra></extra>\",\"legendgroup\":\"NC_014328.1.region005\",\"line\":{\"color\":\"#FECB52\",\"dash\":\"solid\"},\"marker\":{\"symbol\":\"circle\"},\"mode\":\"lines\",\"name\":\"NC_014328.1.region005\",\"orientation\":\"v\",\"showlegend\":true,\"x\":[0.001,0.002,0.01,0.02,0.1,0.2,1.0,2.0],\"xaxis\":\"x\",\"y\":[15.859816000000002,7.429908,0.6859816000000001,0.15700919999999996,0.15700919999999993,0.15700919999999993,0.1570092,0.1570092],\"yaxis\":\"y\",\"type\":\"scatter\"},{\"hovertemplate\":\"Contig=NZ_LT906470.1.region002<br>readGB=%{x}<br>RAE_med=%{y}<extra></extra>\",\"legendgroup\":\"NZ_LT906470.1.region002\",\"line\":{\"color\":\"#636efa\",\"dash\":\"solid\"},\"marker\":{\"symbol\":\"circle\"},\"mode\":\"lines\",\"name\":\"NZ_LT906470.1.region002\",\"orientation\":\"v\",\"showlegend\":true,\"x\":[0.001,0.002,0.01,0.02,0.1,0.2,1.0,2.0],\"xaxis\":\"x\",\"y\":[15.859816000000002,7.429908,0.6859816000000001,0.15700919999999996,0.15700919999999993,0.15700919999999993,0.1570092,0.1570092],\"yaxis\":\"y\",\"type\":\"scatter\"},{\"hovertemplate\":\"Contig=NZ_LT906470.1.region003<br>readGB=%{x}<br>RAE_med=%{y}<extra></extra>\",\"legendgroup\":\"NZ_LT906470.1.region003\",\"line\":{\"color\":\"#EF553B\",\"dash\":\"solid\"},\"marker\":{\"symbol\":\"circle\"},\"mode\":\"lines\",\"name\":\"NZ_LT906470.1.region003\",\"orientation\":\"v\",\"showlegend\":true,\"x\":[0.001,0.002,0.01,0.02,0.1,0.2,1.0,2.0],\"xaxis\":\"x\",\"y\":[15.859816000000002,7.429908,0.6859816000000001,0.15700919999999996,0.15700919999999993,0.15700919999999993,0.1570092,0.1570092],\"yaxis\":\"y\",\"type\":\"scatter\"},{\"hovertemplate\":\"Contig=NC_014328.1.region002<br>readGB=%{x}<br>RAE_med=%{y}<extra></extra>\",\"legendgroup\":\"NC_014328.1.region002\",\"line\":{\"color\":\"#00cc96\",\"dash\":\"solid\"},\"marker\":{\"symbol\":\"circle\"},\"mode\":\"lines\",\"name\":\"NC_014328.1.region002\",\"orientation\":\"v\",\"showlegend\":true,\"x\":[0.001,0.002,0.01,0.02,0.1,0.2,1.0,2.0],\"xaxis\":\"x\",\"y\":[15.859816000000002,7.429908,0.6859816000000001,0.15700919999999996,0.15700919999999993,0.24130827999999996,0.173869016,0.165439108],\"yaxis\":\"y\",\"type\":\"scatter\"},{\"hovertemplate\":\"Contig=NZ_LT906445.1.region001<br>readGB=%{x}<br>RAE_med=%{y}<extra></extra>\",\"legendgroup\":\"NZ_LT906445.1.region001\",\"line\":{\"color\":\"#ab63fa\",\"dash\":\"solid\"},\"marker\":{\"symbol\":\"circle\"},\"mode\":\"lines\",\"name\":\"NZ_LT906445.1.region001\",\"orientation\":\"v\",\"showlegend\":true,\"x\":[0.001,0.002,0.01,0.02,0.1,0.2,1.0,2.0],\"xaxis\":\"x\",\"y\":[15.859816000000002,7.429908,0.6859816000000001,0.15700919999999996,0.15700919999999993,0.15700919999999993,0.173869016,0.1570092],\"yaxis\":\"y\",\"type\":\"scatter\"},{\"hovertemplate\":\"Contig=NZ_CP020566.1.region001<br>readGB=%{x}<br>RAE_med=%{y}<extra></extra>\",\"legendgroup\":\"NZ_CP020566.1.region001\",\"line\":{\"color\":\"#FFA15A\",\"dash\":\"solid\"},\"marker\":{\"symbol\":\"circle\"},\"mode\":\"lines\",\"name\":\"NZ_CP020566.1.region001\",\"orientation\":\"v\",\"showlegend\":true,\"x\":[0.001,0.002,0.01,0.02,0.1,0.2,1.0,2.0],\"xaxis\":\"x\",\"y\":[15.859816000000002,7.429908,0.6859816000000001,0.15700919999999996,0.15700919999999993,0.15700919999999993,0.173869016,0.165439108],\"yaxis\":\"y\",\"type\":\"scatter\"},{\"hovertemplate\":\"Contig=NC_014328.1.region001<br>readGB=%{x}<br>RAE_med=%{y}<extra></extra>\",\"legendgroup\":\"NC_014328.1.region001\",\"line\":{\"color\":\"#19d3f3\",\"dash\":\"solid\"},\"marker\":{\"symbol\":\"circle\"},\"mode\":\"lines\",\"name\":\"NC_014328.1.region001\",\"orientation\":\"v\",\"showlegend\":true,\"x\":[0.001,0.002,0.01,0.02,0.1,0.2,1.0,2.0],\"xaxis\":\"x\",\"y\":[15.859816000000002,7.429908,0.6859816000000001,0.6859816000000001,0.15700919999999993,0.24130827999999996,0.1570092,0.148579292],\"yaxis\":\"y\",\"type\":\"scatter\"}],                        {\"template\":{\"data\":{\"histogram2dcontour\":[{\"type\":\"histogram2dcontour\",\"colorbar\":{\"outlinewidth\":0,\"ticks\":\"\"},\"colorscale\":[[0.0,\"#0d0887\"],[0.1111111111111111,\"#46039f\"],[0.2222222222222222,\"#7201a8\"],[0.3333333333333333,\"#9c179e\"],[0.4444444444444444,\"#bd3786\"],[0.5555555555555556,\"#d8576b\"],[0.6666666666666666,\"#ed7953\"],[0.7777777777777778,\"#fb9f3a\"],[0.8888888888888888,\"#fdca26\"],[1.0,\"#f0f921\"]]}],\"choropleth\":[{\"type\":\"choropleth\",\"colorbar\":{\"outlinewidth\":0,\"ticks\":\"\"}}],\"histogram2d\":[{\"type\":\"histogram2d\",\"colorbar\":{\"outlinewidth\":0,\"ticks\":\"\"},\"colorscale\":[[0.0,\"#0d0887\"],[0.1111111111111111,\"#46039f\"],[0.2222222222222222,\"#7201a8\"],[0.3333333333333333,\"#9c179e\"],[0.4444444444444444,\"#bd3786\"],[0.5555555555555556,\"#d8576b\"],[0.6666666666666666,\"#ed7953\"],[0.7777777777777778,\"#fb9f3a\"],[0.8888888888888888,\"#fdca26\"],[1.0,\"#f0f921\"]]}],\"heatmap\":[{\"type\":\"heatmap\",\"colorbar\":{\"outlinewidth\":0,\"ticks\":\"\"},\"colorscale\":[[0.0,\"#0d0887\"],[0.1111111111111111,\"#46039f\"],[0.2222222222222222,\"#7201a8\"],[0.3333333333333333,\"#9c179e\"],[0.4444444444444444,\"#bd3786\"],[0.5555555555555556,\"#d8576b\"],[0.6666666666666666,\"#ed7953\"],[0.7777777777777778,\"#fb9f3a\"],[0.8888888888888888,\"#fdca26\"],[1.0,\"#f0f921\"]]}],\"heatmapgl\":[{\"type\":\"heatmapgl\",\"colorbar\":{\"outlinewidth\":0,\"ticks\":\"\"},\"colorscale\":[[0.0,\"#0d0887\"],[0.1111111111111111,\"#46039f\"],[0.2222222222222222,\"#7201a8\"],[0.3333333333333333,\"#9c179e\"],[0.4444444444444444,\"#bd3786\"],[0.5555555555555556,\"#d8576b\"],[0.6666666666666666,\"#ed7953\"],[0.7777777777777778,\"#fb9f3a\"],[0.8888888888888888,\"#fdca26\"],[1.0,\"#f0f921\"]]}],\"contourcarpet\":[{\"type\":\"contourcarpet\",\"colorbar\":{\"outlinewidth\":0,\"ticks\":\"\"}}],\"contour\":[{\"type\":\"contour\",\"colorbar\":{\"outlinewidth\":0,\"ticks\":\"\"},\"colorscale\":[[0.0,\"#0d0887\"],[0.1111111111111111,\"#46039f\"],[0.2222222222222222,\"#7201a8\"],[0.3333333333333333,\"#9c179e\"],[0.4444444444444444,\"#bd3786\"],[0.5555555555555556,\"#d8576b\"],[0.6666666666666666,\"#ed7953\"],[0.7777777777777778,\"#fb9f3a\"],[0.8888888888888888,\"#fdca26\"],[1.0,\"#f0f921\"]]}],\"surface\":[{\"type\":\"surface\",\"colorbar\":{\"outlinewidth\":0,\"ticks\":\"\"},\"colorscale\":[[0.0,\"#0d0887\"],[0.1111111111111111,\"#46039f\"],[0.2222222222222222,\"#7201a8\"],[0.3333333333333333,\"#9c179e\"],[0.4444444444444444,\"#bd3786\"],[0.5555555555555556,\"#d8576b\"],[0.6666666666666666,\"#ed7953\"],[0.7777777777777778,\"#fb9f3a\"],[0.8888888888888888,\"#fdca26\"],[1.0,\"#f0f921\"]]}],\"mesh3d\":[{\"type\":\"mesh3d\",\"colorbar\":{\"outlinewidth\":0,\"ticks\":\"\"}}],\"scatter\":[{\"fillpattern\":{\"fillmode\":\"overlay\",\"size\":10,\"solidity\":0.2},\"type\":\"scatter\"}],\"parcoords\":[{\"type\":\"parcoords\",\"line\":{\"colorbar\":{\"outlinewidth\":0,\"ticks\":\"\"}}}],\"scatterpolargl\":[{\"type\":\"scatterpolargl\",\"marker\":{\"colorbar\":{\"outlinewidth\":0,\"ticks\":\"\"}}}],\"bar\":[{\"error_x\":{\"color\":\"#2a3f5f\"},\"error_y\":{\"color\":\"#2a3f5f\"},\"marker\":{\"line\":{\"color\":\"#E5ECF6\",\"width\":0.5},\"pattern\":{\"fillmode\":\"overlay\",\"size\":10,\"solidity\":0.2}},\"type\":\"bar\"}],\"scattergeo\":[{\"type\":\"scattergeo\",\"marker\":{\"colorbar\":{\"outlinewidth\":0,\"ticks\":\"\"}}}],\"scatterpolar\":[{\"type\":\"scatterpolar\",\"marker\":{\"colorbar\":{\"outlinewidth\":0,\"ticks\":\"\"}}}],\"histogram\":[{\"marker\":{\"pattern\":{\"fillmode\":\"overlay\",\"size\":10,\"solidity\":0.2}},\"type\":\"histogram\"}],\"scattergl\":[{\"type\":\"scattergl\",\"marker\":{\"colorbar\":{\"outlinewidth\":0,\"ticks\":\"\"}}}],\"scatter3d\":[{\"type\":\"scatter3d\",\"line\":{\"colorbar\":{\"outlinewidth\":0,\"ticks\":\"\"}},\"marker\":{\"colorbar\":{\"outlinewidth\":0,\"ticks\":\"\"}}}],\"scattermapbox\":[{\"type\":\"scattermapbox\",\"marker\":{\"colorbar\":{\"outlinewidth\":0,\"ticks\":\"\"}}}],\"scatterternary\":[{\"type\":\"scatterternary\",\"marker\":{\"colorbar\":{\"outlinewidth\":0,\"ticks\":\"\"}}}],\"scattercarpet\":[{\"type\":\"scattercarpet\",\"marker\":{\"colorbar\":{\"outlinewidth\":0,\"ticks\":\"\"}}}],\"carpet\":[{\"aaxis\":{\"endlinecolor\":\"#2a3f5f\",\"gridcolor\":\"white\",\"linecolor\":\"white\",\"minorgridcolor\":\"white\",\"startlinecolor\":\"#2a3f5f\"},\"baxis\":{\"endlinecolor\":\"#2a3f5f\",\"gridcolor\":\"white\",\"linecolor\":\"white\",\"minorgridcolor\":\"white\",\"startlinecolor\":\"#2a3f5f\"},\"type\":\"carpet\"}],\"table\":[{\"cells\":{\"fill\":{\"color\":\"#EBF0F8\"},\"line\":{\"color\":\"white\"}},\"header\":{\"fill\":{\"color\":\"#C8D4E3\"},\"line\":{\"color\":\"white\"}},\"type\":\"table\"}],\"barpolar\":[{\"marker\":{\"line\":{\"color\":\"#E5ECF6\",\"width\":0.5},\"pattern\":{\"fillmode\":\"overlay\",\"size\":10,\"solidity\":0.2}},\"type\":\"barpolar\"}],\"pie\":[{\"automargin\":true,\"type\":\"pie\"}]},\"layout\":{\"autotypenumbers\":\"strict\",\"colorway\":[\"#636efa\",\"#EF553B\",\"#00cc96\",\"#ab63fa\",\"#FFA15A\",\"#19d3f3\",\"#FF6692\",\"#B6E880\",\"#FF97FF\",\"#FECB52\"],\"font\":{\"color\":\"#2a3f5f\"},\"hovermode\":\"closest\",\"hoverlabel\":{\"align\":\"left\"},\"paper_bgcolor\":\"white\",\"plot_bgcolor\":\"#E5ECF6\",\"polar\":{\"bgcolor\":\"#E5ECF6\",\"angularaxis\":{\"gridcolor\":\"white\",\"linecolor\":\"white\",\"ticks\":\"\"},\"radialaxis\":{\"gridcolor\":\"white\",\"linecolor\":\"white\",\"ticks\":\"\"}},\"ternary\":{\"bgcolor\":\"#E5ECF6\",\"aaxis\":{\"gridcolor\":\"white\",\"linecolor\":\"white\",\"ticks\":\"\"},\"baxis\":{\"gridcolor\":\"white\",\"linecolor\":\"white\",\"ticks\":\"\"},\"caxis\":{\"gridcolor\":\"white\",\"linecolor\":\"white\",\"ticks\":\"\"}},\"coloraxis\":{\"colorbar\":{\"outlinewidth\":0,\"ticks\":\"\"}},\"colorscale\":{\"sequential\":[[0.0,\"#0d0887\"],[0.1111111111111111,\"#46039f\"],[0.2222222222222222,\"#7201a8\"],[0.3333333333333333,\"#9c179e\"],[0.4444444444444444,\"#bd3786\"],[0.5555555555555556,\"#d8576b\"],[0.6666666666666666,\"#ed7953\"],[0.7777777777777778,\"#fb9f3a\"],[0.8888888888888888,\"#fdca26\"],[1.0,\"#f0f921\"]],\"sequentialminus\":[[0.0,\"#0d0887\"],[0.1111111111111111,\"#46039f\"],[0.2222222222222222,\"#7201a8\"],[0.3333333333333333,\"#9c179e\"],[0.4444444444444444,\"#bd3786\"],[0.5555555555555556,\"#d8576b\"],[0.6666666666666666,\"#ed7953\"],[0.7777777777777778,\"#fb9f3a\"],[0.8888888888888888,\"#fdca26\"],[1.0,\"#f0f921\"]],\"diverging\":[[0,\"#8e0152\"],[0.1,\"#c51b7d\"],[0.2,\"#de77ae\"],[0.3,\"#f1b6da\"],[0.4,\"#fde0ef\"],[0.5,\"#f7f7f7\"],[0.6,\"#e6f5d0\"],[0.7,\"#b8e186\"],[0.8,\"#7fbc41\"],[0.9,\"#4d9221\"],[1,\"#276419\"]]},\"xaxis\":{\"gridcolor\":\"white\",\"linecolor\":\"white\",\"ticks\":\"\",\"title\":{\"standoff\":15},\"zerolinecolor\":\"white\",\"automargin\":true,\"zerolinewidth\":2},\"yaxis\":{\"gridcolor\":\"white\",\"linecolor\":\"white\",\"ticks\":\"\",\"title\":{\"standoff\":15},\"zerolinecolor\":\"white\",\"automargin\":true,\"zerolinewidth\":2},\"scene\":{\"xaxis\":{\"backgroundcolor\":\"#E5ECF6\",\"gridcolor\":\"white\",\"linecolor\":\"white\",\"showbackground\":true,\"ticks\":\"\",\"zerolinecolor\":\"white\",\"gridwidth\":2},\"yaxis\":{\"backgroundcolor\":\"#E5ECF6\",\"gridcolor\":\"white\",\"linecolor\":\"white\",\"showbackground\":true,\"ticks\":\"\",\"zerolinecolor\":\"white\",\"gridwidth\":2},\"zaxis\":{\"backgroundcolor\":\"#E5ECF6\",\"gridcolor\":\"white\",\"linecolor\":\"white\",\"showbackground\":true,\"ticks\":\"\",\"zerolinecolor\":\"white\",\"gridwidth\":2}},\"shapedefaults\":{\"line\":{\"color\":\"#2a3f5f\"}},\"annotationdefaults\":{\"arrowcolor\":\"#2a3f5f\",\"arrowhead\":0,\"arrowwidth\":1},\"geo\":{\"bgcolor\":\"white\",\"landcolor\":\"#E5ECF6\",\"subunitcolor\":\"white\",\"showland\":true,\"showlakes\":true,\"lakecolor\":\"white\"},\"title\":{\"x\":0.05},\"mapbox\":{\"style\":\"light\"}}},\"xaxis\":{\"anchor\":\"y\",\"domain\":[0.0,1.0],\"title\":{\"text\":\"readGB\"}},\"yaxis\":{\"anchor\":\"x\",\"domain\":[0.0,1.0],\"title\":{\"text\":\"RAE_med\"}},\"legend\":{\"title\":{\"text\":\"Contig\"},\"tracegroupgap\":0},\"margin\":{\"t\":60}},                        {\"responsive\": true}                    ).then(function(){\n",
       "                            \n",
       "var gd = document.getElementById('0c6efaf9-7c94-45fd-8cbb-c2cbd27d3576');\n",
       "var x = new MutationObserver(function (mutations, observer) {{\n",
       "        var display = window.getComputedStyle(gd).display;\n",
       "        if (!display || display === 'none') {{\n",
       "            console.log([gd, 'removed!']);\n",
       "            Plotly.purge(gd);\n",
       "            observer.disconnect();\n",
       "        }}\n",
       "}});\n",
       "\n",
       "// Listen for the removal of the full notebook cells\n",
       "var notebookContainer = gd.closest('#notebook-container');\n",
       "if (notebookContainer) {{\n",
       "    x.observe(notebookContainer, {childList: true});\n",
       "}}\n",
       "\n",
       "// Listen for the clearing of the current output cell\n",
       "var outputEl = gd.closest('.output');\n",
       "if (outputEl) {{\n",
       "    x.observe(outputEl, {childList: true});\n",
       "}}\n",
       "\n",
       "                        })                };                });            </script>        </div>"
      ]
     },
     "metadata": {},
     "output_type": "display_data"
    }
   ],
   "source": [
    "px.line(df_summary, x=\"readGB\",y=\"RAE_med\", color=\"Contig\")"
   ]
  },
  {
   "cell_type": "code",
   "execution_count": 88,
   "metadata": {},
   "outputs": [
    {
     "data": {
      "text/html": [
       "<div>\n",
       "<style scoped>\n",
       "    .dataframe tbody tr th:only-of-type {\n",
       "        vertical-align: middle;\n",
       "    }\n",
       "\n",
       "    .dataframe tbody tr th {\n",
       "        vertical-align: top;\n",
       "    }\n",
       "\n",
       "    .dataframe thead th {\n",
       "        text-align: right;\n",
       "    }\n",
       "</style>\n",
       "<table border=\"1\" class=\"dataframe\">\n",
       "  <thead>\n",
       "    <tr style=\"text-align: right;\">\n",
       "      <th></th>\n",
       "      <th>readGB</th>\n",
       "      <th>expected</th>\n",
       "      <th>Depth_median</th>\n",
       "      <th>Depth_avg</th>\n",
       "      <th>MSE_median</th>\n",
       "      <th>MSE_avg</th>\n",
       "      <th>RAE_median</th>\n",
       "      <th>RAE_avg</th>\n",
       "    </tr>\n",
       "  </thead>\n",
       "  <tbody>\n",
       "    <tr>\n",
       "      <th>0</th>\n",
       "      <td>0.001</td>\n",
       "      <td>0.059313</td>\n",
       "      <td>1.0000</td>\n",
       "      <td>1.090025</td>\n",
       "      <td>0.884893</td>\n",
       "      <td>1.065897</td>\n",
       "      <td>17.970828</td>\n",
       "      <td>14.919129</td>\n",
       "    </tr>\n",
       "    <tr>\n",
       "      <th>1</th>\n",
       "      <td>0.002</td>\n",
       "      <td>0.118625</td>\n",
       "      <td>1.0000</td>\n",
       "      <td>1.157392</td>\n",
       "      <td>0.776821</td>\n",
       "      <td>1.125197</td>\n",
       "      <td>9.485308</td>\n",
       "      <td>6.548533</td>\n",
       "    </tr>\n",
       "    <tr>\n",
       "      <th>2</th>\n",
       "      <td>0.010</td>\n",
       "      <td>0.593126</td>\n",
       "      <td>1.0625</td>\n",
       "      <td>1.573637</td>\n",
       "      <td>0.278905</td>\n",
       "      <td>1.663066</td>\n",
       "      <td>2.803899</td>\n",
       "      <td>0.470229</td>\n",
       "    </tr>\n",
       "    <tr>\n",
       "      <th>3</th>\n",
       "      <td>0.020</td>\n",
       "      <td>1.186253</td>\n",
       "      <td>1.2500</td>\n",
       "      <td>2.130282</td>\n",
       "      <td>0.191564</td>\n",
       "      <td>2.937434</td>\n",
       "      <td>2.476230</td>\n",
       "      <td>0.161486</td>\n",
       "    </tr>\n",
       "    <tr>\n",
       "      <th>4</th>\n",
       "      <td>0.100</td>\n",
       "      <td>5.931263</td>\n",
       "      <td>5.1250</td>\n",
       "      <td>6.752666</td>\n",
       "      <td>0.759435</td>\n",
       "      <td>31.549487</td>\n",
       "      <td>5.319185</td>\n",
       "      <td>0.128039</td>\n",
       "    </tr>\n",
       "    <tr>\n",
       "      <th>5</th>\n",
       "      <td>0.200</td>\n",
       "      <td>11.862526</td>\n",
       "      <td>10.0625</td>\n",
       "      <td>13.301770</td>\n",
       "      <td>3.548686</td>\n",
       "      <td>124.758115</td>\n",
       "      <td>10.516994</td>\n",
       "      <td>0.299151</td>\n",
       "    </tr>\n",
       "    <tr>\n",
       "      <th>6</th>\n",
       "      <td>1.000</td>\n",
       "      <td>59.312628</td>\n",
       "      <td>50.3125</td>\n",
       "      <td>66.729243</td>\n",
       "      <td>82.217154</td>\n",
       "      <td>3146.714798</td>\n",
       "      <td>53.053032</td>\n",
       "      <td>1.386166</td>\n",
       "    </tr>\n",
       "    <tr>\n",
       "      <th>7</th>\n",
       "      <td>2.000</td>\n",
       "      <td>118.625257</td>\n",
       "      <td>100.9375</td>\n",
       "      <td>134.243185</td>\n",
       "      <td>317.165329</td>\n",
       "      <td>13034.348628</td>\n",
       "      <td>109.878360</td>\n",
       "      <td>2.673675</td>\n",
       "    </tr>\n",
       "  </tbody>\n",
       "</table>\n",
       "</div>"
      ],
      "text/plain": [
       "   readGB    expected  Depth_median   Depth_avg  MSE_median       MSE_avg  \\\n",
       "0   0.001    0.059313        1.0000    1.090025    0.884893      1.065897   \n",
       "1   0.002    0.118625        1.0000    1.157392    0.776821      1.125197   \n",
       "2   0.010    0.593126        1.0625    1.573637    0.278905      1.663066   \n",
       "3   0.020    1.186253        1.2500    2.130282    0.191564      2.937434   \n",
       "4   0.100    5.931263        5.1250    6.752666    0.759435     31.549487   \n",
       "5   0.200   11.862526       10.0625   13.301770    3.548686    124.758115   \n",
       "6   1.000   59.312628       50.3125   66.729243   82.217154   3146.714798   \n",
       "7   2.000  118.625257      100.9375  134.243185  317.165329  13034.348628   \n",
       "\n",
       "   RAE_median    RAE_avg  \n",
       "0   17.970828  14.919129  \n",
       "1    9.485308   6.548533  \n",
       "2    2.803899   0.470229  \n",
       "3    2.476230   0.161486  \n",
       "4    5.319185   0.128039  \n",
       "5   10.516994   0.299151  \n",
       "6   53.053032   1.386166  \n",
       "7  109.878360   2.673675  "
      ]
     },
     "execution_count": 88,
     "metadata": {},
     "output_type": "execute_result"
    }
   ],
   "source": [
    "df = df_summary.groupby(\"readGB\").agg(\n",
    "    expected = pd.NamedAgg(column=\"expectedCount\", aggfunc=\"mean\"),\n",
    "    Depth_median = pd.NamedAgg(column=\"Depth median\", aggfunc=\"mean\"),\n",
    "    Depth_avg = pd.NamedAgg(column=\"Depth avg\", aggfunc=\"mean\"),\n",
    "    MSE_median = pd.NamedAgg(column=\"SQErr_med\", aggfunc=\"mean\"),\n",
    "    MSE_avg = pd.NamedAgg(column=\"SQErr_avg\", aggfunc=\"mean\"),\n",
    ")\n",
    "df[\"RAE_median\"] = df[\"MSE_avg\"] / df[\"expected\"]\n",
    "df[\"RAE_avg\"] = df[\"MSE_median\"] / df[\"expected\"]\n",
    "df.reset_index(inplace=True)\n",
    "df"
   ]
  },
  {
   "cell_type": "code",
   "execution_count": null,
   "metadata": {},
   "outputs": [],
   "source": []
  },
  {
   "cell_type": "code",
   "execution_count": 51,
   "metadata": {},
   "outputs": [],
   "source": [
    "\n",
    "#add expected count:\n",
    "df_summary[\"expectedCount\"] = (df_summary[\"readGB\"].values*10**9) / total_length"
   ]
  },
  {
   "cell_type": "code",
   "execution_count": 76,
   "metadata": {},
   "outputs": [],
   "source": [
    "df_long = pd.melt(df_summary, id_vars=[\"Contig\",\"readGB\"], value_vars=[\"Breadth\",\"Depth avg\", \"Depth median\",\"expectedCount\", \"SQErr_avg\",\"SQErr_med\"])"
   ]
  },
  {
   "cell_type": "code",
   "execution_count": 65,
   "metadata": {},
   "outputs": [
    {
     "data": {
      "application/vnd.plotly.v1+json": {
       "config": {
        "plotlyServerURL": "https://plot.ly"
       },
       "data": [
        {
         "hovertemplate": "Contig=NZ_CP020566.1.region001<br>readGB=%{x}<br>Breadth=%{y}<extra></extra>",
         "legendgroup": "NZ_CP020566.1.region001",
         "line": {
          "color": "#636efa",
          "dash": "solid"
         },
         "marker": {
          "symbol": "circle"
         },
         "mode": "lines",
         "name": "NZ_CP020566.1.region001",
         "orientation": "v",
         "showlegend": true,
         "type": "scatter",
         "x": [
          0.001,
          0.002,
          0.01,
          0.02,
          0.1,
          0.2,
          1
         ],
         "xaxis": "x",
         "y": [
          0.0112333686294369,
          0.1035403526541135,
          0.3928456332581372,
          0.697942083697804,
          0.9861424427972928,
          1,
          1
         ],
         "yaxis": "y"
        },
        {
         "hovertemplate": "Contig=NC_014328.1.region004<br>readGB=%{x}<br>Breadth=%{y}<extra></extra>",
         "legendgroup": "NC_014328.1.region004",
         "line": {
          "color": "#EF553B",
          "dash": "solid"
         },
         "marker": {
          "symbol": "circle"
         },
         "mode": "lines",
         "name": "NC_014328.1.region004",
         "orientation": "v",
         "showlegend": true,
         "type": "scatter",
         "x": [
          0.001,
          0.002,
          0.01,
          0.02,
          0.1,
          0.2,
          1
         ],
         "xaxis": "x",
         "y": [
          0.0373151205391469,
          0.0893753674973992,
          0.4125921570401194,
          0.5659233796191596,
          0.9861142521145236,
          0.9999547695508616,
          1
         ],
         "yaxis": "y"
        },
        {
         "hovertemplate": "Contig=NZ_CP053893.1.region001<br>readGB=%{x}<br>Breadth=%{y}<extra></extra>",
         "legendgroup": "NZ_CP053893.1.region001",
         "line": {
          "color": "#00cc96",
          "dash": "solid"
         },
         "marker": {
          "symbol": "circle"
         },
         "mode": "lines",
         "name": "NZ_CP053893.1.region001",
         "orientation": "v",
         "showlegend": true,
         "type": "scatter",
         "x": [
          0.001,
          0.002,
          0.01,
          0.02,
          0.1,
          0.2,
          1
         ],
         "xaxis": "x",
         "y": [
          0.0727702796716293,
          0.084504429293632,
          0.2883910764806827,
          0.56639302444228,
          0.987941190111776,
          1,
          1
         ],
         "yaxis": "y"
        },
        {
         "hovertemplate": "Contig=NZ_LT906470.1.region001<br>readGB=%{x}<br>Breadth=%{y}<extra></extra>",
         "legendgroup": "NZ_LT906470.1.region001",
         "line": {
          "color": "#ab63fa",
          "dash": "solid"
         },
         "marker": {
          "symbol": "circle"
         },
         "mode": "lines",
         "name": "NZ_LT906470.1.region001",
         "orientation": "v",
         "showlegend": true,
         "type": "scatter",
         "x": [
          0.001,
          0.002,
          0.01,
          0.02,
          0.1,
          0.2,
          1
         ],
         "xaxis": "x",
         "y": [
          0.0918998974670565,
          0.1002164584361827,
          0.2561804579804808,
          0.6382865605893745,
          0.9925188926442108,
          1,
          1
         ],
         "yaxis": "y"
        },
        {
         "hovertemplate": "Contig=NZ_CP053893.1.region004<br>readGB=%{x}<br>Breadth=%{y}<extra></extra>",
         "legendgroup": "NZ_CP053893.1.region004",
         "line": {
          "color": "#FFA15A",
          "dash": "solid"
         },
         "marker": {
          "symbol": "circle"
         },
         "mode": "lines",
         "name": "NZ_CP053893.1.region004",
         "orientation": "v",
         "showlegend": true,
         "type": "scatter",
         "x": [
          0.001,
          0.002,
          0.01,
          0.02,
          0.1,
          0.2,
          1
         ],
         "xaxis": "x",
         "y": [
          0.0853658536585365,
          0.0783243188080416,
          0.3478926421063373,
          0.5606184304520869,
          0.9876518012042044,
          1,
          1
         ],
         "yaxis": "y"
        },
        {
         "hovertemplate": "Contig=NZ_LT906445.1.region001<br>readGB=%{x}<br>Breadth=%{y}<extra></extra>",
         "legendgroup": "NZ_LT906445.1.region001",
         "line": {
          "color": "#19d3f3",
          "dash": "solid"
         },
         "marker": {
          "symbol": "circle"
         },
         "mode": "lines",
         "name": "NZ_LT906445.1.region001",
         "orientation": "v",
         "showlegend": true,
         "type": "scatter",
         "x": [
          0.001,
          0.002,
          0.01,
          0.02,
          0.1,
          0.2,
          1
         ],
         "xaxis": "x",
         "y": [
          0.0650552486187845,
          0.1232044198895027,
          0.3324585635359116,
          0.616390423572744,
          0.9945672191528544,
          0.9999079189686924,
          1
         ],
         "yaxis": "y"
        },
        {
         "hovertemplate": "Contig=NZ_CP053893.1.region002<br>readGB=%{x}<br>Breadth=%{y}<extra></extra>",
         "legendgroup": "NZ_CP053893.1.region002",
         "line": {
          "color": "#FF6692",
          "dash": "solid"
         },
         "marker": {
          "symbol": "circle"
         },
         "mode": "lines",
         "name": "NZ_CP053893.1.region002",
         "orientation": "v",
         "showlegend": true,
         "type": "scatter",
         "x": [
          0.001,
          0.002,
          0.01,
          0.02,
          0.1,
          0.2,
          1
         ],
         "xaxis": "x",
         "y": [
          0.1690325178697271,
          0.2891875566294171,
          0.6208094231350045,
          0.7143360515453538,
          0.995268297593879,
          0.9999496627403603,
          1
         ],
         "yaxis": "y"
        },
        {
         "hovertemplate": "Contig=NZ_CP053893.1.region005<br>readGB=%{x}<br>Breadth=%{y}<extra></extra>",
         "legendgroup": "NZ_CP053893.1.region005",
         "line": {
          "color": "#B6E880",
          "dash": "solid"
         },
         "marker": {
          "symbol": "circle"
         },
         "mode": "lines",
         "name": "NZ_CP053893.1.region005",
         "orientation": "v",
         "showlegend": true,
         "type": "scatter",
         "x": [
          0.001,
          0.002,
          0.01,
          0.02,
          0.1,
          0.2,
          1
         ],
         "xaxis": "x",
         "y": [
          0.0533918837068443,
          0.0976377952755905,
          0.3942459115687462,
          0.6034524530587523,
          0.9931405208964263,
          0.999939430648092,
          1
         ],
         "yaxis": "y"
        },
        {
         "hovertemplate": "Contig=NZ_CP053893.1.region003<br>readGB=%{x}<br>Breadth=%{y}<extra></extra>",
         "legendgroup": "NZ_CP053893.1.region003",
         "line": {
          "color": "#FF97FF",
          "dash": "solid"
         },
         "marker": {
          "symbol": "circle"
         },
         "mode": "lines",
         "name": "NZ_CP053893.1.region003",
         "orientation": "v",
         "showlegend": true,
         "type": "scatter",
         "x": [
          0.001,
          0.002,
          0.01,
          0.02,
          0.1,
          0.2,
          1
         ],
         "xaxis": "x",
         "y": [
          0.0236834363047955,
          0.096057664018829,
          0.4521918211238599,
          0.6206727468863391,
          0.9897028537805236,
          0.999558693733451,
          1
         ],
         "yaxis": "y"
        },
        {
         "hovertemplate": "Contig=NZ_CP053893.1.region006<br>readGB=%{x}<br>Breadth=%{y}<extra></extra>",
         "legendgroup": "NZ_CP053893.1.region006",
         "line": {
          "color": "#FECB52",
          "dash": "solid"
         },
         "marker": {
          "symbol": "circle"
         },
         "mode": "lines",
         "name": "NZ_CP053893.1.region006",
         "orientation": "v",
         "showlegend": true,
         "type": "scatter",
         "x": [
          0.001,
          0.002,
          0.01,
          0.02,
          0.1,
          0.2,
          1
         ],
         "xaxis": "x",
         "y": [
          0.0642581888246628,
          0.0969653179190751,
          0.5042870905587669,
          0.6122350674373795,
          0.9945086705202312,
          0.99990366088632,
          1
         ],
         "yaxis": "y"
        },
        {
         "hovertemplate": "Contig=NC_014328.1.region001<br>readGB=%{x}<br>Breadth=%{y}<extra></extra>",
         "legendgroup": "NC_014328.1.region001",
         "line": {
          "color": "#636efa",
          "dash": "solid"
         },
         "marker": {
          "symbol": "circle"
         },
         "mode": "lines",
         "name": "NC_014328.1.region001",
         "orientation": "v",
         "showlegend": true,
         "type": "scatter",
         "x": [
          0.001,
          0.002,
          0.01,
          0.02,
          0.1,
          0.2,
          1
         ],
         "xaxis": "x",
         "y": [
          0.0390039665050683,
          0.1513882767739092,
          0.3712538563243719,
          0.6492948435434112,
          0.98732921992067,
          1,
          1
         ],
         "yaxis": "y"
        },
        {
         "hovertemplate": "Contig=NC_014328.1.region005<br>readGB=%{x}<br>Breadth=%{y}<extra></extra>",
         "legendgroup": "NC_014328.1.region005",
         "line": {
          "color": "#EF553B",
          "dash": "solid"
         },
         "marker": {
          "symbol": "circle"
         },
         "mode": "lines",
         "name": "NC_014328.1.region005",
         "orientation": "v",
         "showlegend": true,
         "type": "scatter",
         "x": [
          0.001,
          0.002,
          0.01,
          0.02,
          0.1,
          0.2,
          1
         ],
         "xaxis": "x",
         "y": [
          0.0369135287851419,
          0.1250521050437682,
          0.4329118614237414,
          0.6209994905284609,
          0.994766337825946,
          0.9999536844055392,
          1
         ],
         "yaxis": "y"
        },
        {
         "hovertemplate": "Contig=NZ_LT906470.1.region002<br>readGB=%{x}<br>Breadth=%{y}<extra></extra>",
         "legendgroup": "NZ_LT906470.1.region002",
         "line": {
          "color": "#00cc96",
          "dash": "solid"
         },
         "marker": {
          "symbol": "circle"
         },
         "mode": "lines",
         "name": "NZ_LT906470.1.region002",
         "orientation": "v",
         "showlegend": true,
         "type": "scatter",
         "x": [
          0.001,
          0.002,
          0.01,
          0.02,
          0.1,
          0.2,
          1
         ],
         "xaxis": "x",
         "y": [
          0.036697247706422,
          0.0990887676667493,
          0.3622613439127201,
          0.6168484998760229,
          0.9880052070419044,
          0.9998450285147532,
          1
         ],
         "yaxis": "y"
        },
        {
         "hovertemplate": "Contig=NZ_LT906470.1.region003<br>readGB=%{x}<br>Breadth=%{y}<extra></extra>",
         "legendgroup": "NZ_LT906470.1.region003",
         "line": {
          "color": "#ab63fa",
          "dash": "solid"
         },
         "marker": {
          "symbol": "circle"
         },
         "mode": "lines",
         "name": "NZ_LT906470.1.region003",
         "orientation": "v",
         "showlegend": true,
         "type": "scatter",
         "x": [
          0.001,
          0.002,
          0.01,
          0.02,
          0.1,
          0.2,
          1
         ],
         "xaxis": "x",
         "y": [
          0.0587370838117106,
          0.0991044776119403,
          0.3036969001148105,
          0.607715269804822,
          0.995683122847302,
          0.9998163030998852,
          1
         ],
         "yaxis": "y"
        },
        {
         "hovertemplate": "Contig=NC_014328.1.region002<br>readGB=%{x}<br>Breadth=%{y}<extra></extra>",
         "legendgroup": "NC_014328.1.region002",
         "line": {
          "color": "#FFA15A",
          "dash": "solid"
         },
         "marker": {
          "symbol": "circle"
         },
         "mode": "lines",
         "name": "NC_014328.1.region002",
         "orientation": "v",
         "showlegend": true,
         "type": "scatter",
         "x": [
          0.001,
          0.002,
          0.01,
          0.02,
          0.1,
          0.2,
          1
         ],
         "xaxis": "x",
         "y": [
          0.0367102568142429,
          0.1002573394254503,
          0.3948322041909564,
          0.5357911874376345,
          0.9849272622236228,
          0.999947481749908,
          1
         ],
         "yaxis": "y"
        },
        {
         "hovertemplate": "Contig=NC_014328.1.region003<br>readGB=%{x}<br>Breadth=%{y}<extra></extra>",
         "legendgroup": "NC_014328.1.region003",
         "line": {
          "color": "#19d3f3",
          "dash": "solid"
         },
         "marker": {
          "symbol": "circle"
         },
         "mode": "lines",
         "name": "NC_014328.1.region003",
         "orientation": "v",
         "showlegend": true,
         "type": "scatter",
         "x": [
          0.001,
          0.002,
          0.01,
          0.02,
          0.1,
          0.2,
          1
         ],
         "xaxis": "x",
         "y": [
          0.0762336160370084,
          0.0930512721665381,
          0.27732266769468,
          0.643793369313801,
          0.9889649190439476,
          0.9999518118735544,
          1
         ],
         "yaxis": "y"
        }
       ],
       "layout": {
        "legend": {
         "title": {
          "text": "Contig"
         },
         "tracegroupgap": 0
        },
        "margin": {
         "t": 60
        },
        "template": {
         "data": {
          "bar": [
           {
            "error_x": {
             "color": "#2a3f5f"
            },
            "error_y": {
             "color": "#2a3f5f"
            },
            "marker": {
             "line": {
              "color": "#E5ECF6",
              "width": 0.5
             },
             "pattern": {
              "fillmode": "overlay",
              "size": 10,
              "solidity": 0.2
             }
            },
            "type": "bar"
           }
          ],
          "barpolar": [
           {
            "marker": {
             "line": {
              "color": "#E5ECF6",
              "width": 0.5
             },
             "pattern": {
              "fillmode": "overlay",
              "size": 10,
              "solidity": 0.2
             }
            },
            "type": "barpolar"
           }
          ],
          "carpet": [
           {
            "aaxis": {
             "endlinecolor": "#2a3f5f",
             "gridcolor": "white",
             "linecolor": "white",
             "minorgridcolor": "white",
             "startlinecolor": "#2a3f5f"
            },
            "baxis": {
             "endlinecolor": "#2a3f5f",
             "gridcolor": "white",
             "linecolor": "white",
             "minorgridcolor": "white",
             "startlinecolor": "#2a3f5f"
            },
            "type": "carpet"
           }
          ],
          "choropleth": [
           {
            "colorbar": {
             "outlinewidth": 0,
             "ticks": ""
            },
            "type": "choropleth"
           }
          ],
          "contour": [
           {
            "colorbar": {
             "outlinewidth": 0,
             "ticks": ""
            },
            "colorscale": [
             [
              0,
              "#0d0887"
             ],
             [
              0.1111111111111111,
              "#46039f"
             ],
             [
              0.2222222222222222,
              "#7201a8"
             ],
             [
              0.3333333333333333,
              "#9c179e"
             ],
             [
              0.4444444444444444,
              "#bd3786"
             ],
             [
              0.5555555555555556,
              "#d8576b"
             ],
             [
              0.6666666666666666,
              "#ed7953"
             ],
             [
              0.7777777777777778,
              "#fb9f3a"
             ],
             [
              0.8888888888888888,
              "#fdca26"
             ],
             [
              1,
              "#f0f921"
             ]
            ],
            "type": "contour"
           }
          ],
          "contourcarpet": [
           {
            "colorbar": {
             "outlinewidth": 0,
             "ticks": ""
            },
            "type": "contourcarpet"
           }
          ],
          "heatmap": [
           {
            "colorbar": {
             "outlinewidth": 0,
             "ticks": ""
            },
            "colorscale": [
             [
              0,
              "#0d0887"
             ],
             [
              0.1111111111111111,
              "#46039f"
             ],
             [
              0.2222222222222222,
              "#7201a8"
             ],
             [
              0.3333333333333333,
              "#9c179e"
             ],
             [
              0.4444444444444444,
              "#bd3786"
             ],
             [
              0.5555555555555556,
              "#d8576b"
             ],
             [
              0.6666666666666666,
              "#ed7953"
             ],
             [
              0.7777777777777778,
              "#fb9f3a"
             ],
             [
              0.8888888888888888,
              "#fdca26"
             ],
             [
              1,
              "#f0f921"
             ]
            ],
            "type": "heatmap"
           }
          ],
          "heatmapgl": [
           {
            "colorbar": {
             "outlinewidth": 0,
             "ticks": ""
            },
            "colorscale": [
             [
              0,
              "#0d0887"
             ],
             [
              0.1111111111111111,
              "#46039f"
             ],
             [
              0.2222222222222222,
              "#7201a8"
             ],
             [
              0.3333333333333333,
              "#9c179e"
             ],
             [
              0.4444444444444444,
              "#bd3786"
             ],
             [
              0.5555555555555556,
              "#d8576b"
             ],
             [
              0.6666666666666666,
              "#ed7953"
             ],
             [
              0.7777777777777778,
              "#fb9f3a"
             ],
             [
              0.8888888888888888,
              "#fdca26"
             ],
             [
              1,
              "#f0f921"
             ]
            ],
            "type": "heatmapgl"
           }
          ],
          "histogram": [
           {
            "marker": {
             "pattern": {
              "fillmode": "overlay",
              "size": 10,
              "solidity": 0.2
             }
            },
            "type": "histogram"
           }
          ],
          "histogram2d": [
           {
            "colorbar": {
             "outlinewidth": 0,
             "ticks": ""
            },
            "colorscale": [
             [
              0,
              "#0d0887"
             ],
             [
              0.1111111111111111,
              "#46039f"
             ],
             [
              0.2222222222222222,
              "#7201a8"
             ],
             [
              0.3333333333333333,
              "#9c179e"
             ],
             [
              0.4444444444444444,
              "#bd3786"
             ],
             [
              0.5555555555555556,
              "#d8576b"
             ],
             [
              0.6666666666666666,
              "#ed7953"
             ],
             [
              0.7777777777777778,
              "#fb9f3a"
             ],
             [
              0.8888888888888888,
              "#fdca26"
             ],
             [
              1,
              "#f0f921"
             ]
            ],
            "type": "histogram2d"
           }
          ],
          "histogram2dcontour": [
           {
            "colorbar": {
             "outlinewidth": 0,
             "ticks": ""
            },
            "colorscale": [
             [
              0,
              "#0d0887"
             ],
             [
              0.1111111111111111,
              "#46039f"
             ],
             [
              0.2222222222222222,
              "#7201a8"
             ],
             [
              0.3333333333333333,
              "#9c179e"
             ],
             [
              0.4444444444444444,
              "#bd3786"
             ],
             [
              0.5555555555555556,
              "#d8576b"
             ],
             [
              0.6666666666666666,
              "#ed7953"
             ],
             [
              0.7777777777777778,
              "#fb9f3a"
             ],
             [
              0.8888888888888888,
              "#fdca26"
             ],
             [
              1,
              "#f0f921"
             ]
            ],
            "type": "histogram2dcontour"
           }
          ],
          "mesh3d": [
           {
            "colorbar": {
             "outlinewidth": 0,
             "ticks": ""
            },
            "type": "mesh3d"
           }
          ],
          "parcoords": [
           {
            "line": {
             "colorbar": {
              "outlinewidth": 0,
              "ticks": ""
             }
            },
            "type": "parcoords"
           }
          ],
          "pie": [
           {
            "automargin": true,
            "type": "pie"
           }
          ],
          "scatter": [
           {
            "fillpattern": {
             "fillmode": "overlay",
             "size": 10,
             "solidity": 0.2
            },
            "type": "scatter"
           }
          ],
          "scatter3d": [
           {
            "line": {
             "colorbar": {
              "outlinewidth": 0,
              "ticks": ""
             }
            },
            "marker": {
             "colorbar": {
              "outlinewidth": 0,
              "ticks": ""
             }
            },
            "type": "scatter3d"
           }
          ],
          "scattercarpet": [
           {
            "marker": {
             "colorbar": {
              "outlinewidth": 0,
              "ticks": ""
             }
            },
            "type": "scattercarpet"
           }
          ],
          "scattergeo": [
           {
            "marker": {
             "colorbar": {
              "outlinewidth": 0,
              "ticks": ""
             }
            },
            "type": "scattergeo"
           }
          ],
          "scattergl": [
           {
            "marker": {
             "colorbar": {
              "outlinewidth": 0,
              "ticks": ""
             }
            },
            "type": "scattergl"
           }
          ],
          "scattermapbox": [
           {
            "marker": {
             "colorbar": {
              "outlinewidth": 0,
              "ticks": ""
             }
            },
            "type": "scattermapbox"
           }
          ],
          "scatterpolar": [
           {
            "marker": {
             "colorbar": {
              "outlinewidth": 0,
              "ticks": ""
             }
            },
            "type": "scatterpolar"
           }
          ],
          "scatterpolargl": [
           {
            "marker": {
             "colorbar": {
              "outlinewidth": 0,
              "ticks": ""
             }
            },
            "type": "scatterpolargl"
           }
          ],
          "scatterternary": [
           {
            "marker": {
             "colorbar": {
              "outlinewidth": 0,
              "ticks": ""
             }
            },
            "type": "scatterternary"
           }
          ],
          "surface": [
           {
            "colorbar": {
             "outlinewidth": 0,
             "ticks": ""
            },
            "colorscale": [
             [
              0,
              "#0d0887"
             ],
             [
              0.1111111111111111,
              "#46039f"
             ],
             [
              0.2222222222222222,
              "#7201a8"
             ],
             [
              0.3333333333333333,
              "#9c179e"
             ],
             [
              0.4444444444444444,
              "#bd3786"
             ],
             [
              0.5555555555555556,
              "#d8576b"
             ],
             [
              0.6666666666666666,
              "#ed7953"
             ],
             [
              0.7777777777777778,
              "#fb9f3a"
             ],
             [
              0.8888888888888888,
              "#fdca26"
             ],
             [
              1,
              "#f0f921"
             ]
            ],
            "type": "surface"
           }
          ],
          "table": [
           {
            "cells": {
             "fill": {
              "color": "#EBF0F8"
             },
             "line": {
              "color": "white"
             }
            },
            "header": {
             "fill": {
              "color": "#C8D4E3"
             },
             "line": {
              "color": "white"
             }
            },
            "type": "table"
           }
          ]
         },
         "layout": {
          "annotationdefaults": {
           "arrowcolor": "#2a3f5f",
           "arrowhead": 0,
           "arrowwidth": 1
          },
          "autotypenumbers": "strict",
          "coloraxis": {
           "colorbar": {
            "outlinewidth": 0,
            "ticks": ""
           }
          },
          "colorscale": {
           "diverging": [
            [
             0,
             "#8e0152"
            ],
            [
             0.1,
             "#c51b7d"
            ],
            [
             0.2,
             "#de77ae"
            ],
            [
             0.3,
             "#f1b6da"
            ],
            [
             0.4,
             "#fde0ef"
            ],
            [
             0.5,
             "#f7f7f7"
            ],
            [
             0.6,
             "#e6f5d0"
            ],
            [
             0.7,
             "#b8e186"
            ],
            [
             0.8,
             "#7fbc41"
            ],
            [
             0.9,
             "#4d9221"
            ],
            [
             1,
             "#276419"
            ]
           ],
           "sequential": [
            [
             0,
             "#0d0887"
            ],
            [
             0.1111111111111111,
             "#46039f"
            ],
            [
             0.2222222222222222,
             "#7201a8"
            ],
            [
             0.3333333333333333,
             "#9c179e"
            ],
            [
             0.4444444444444444,
             "#bd3786"
            ],
            [
             0.5555555555555556,
             "#d8576b"
            ],
            [
             0.6666666666666666,
             "#ed7953"
            ],
            [
             0.7777777777777778,
             "#fb9f3a"
            ],
            [
             0.8888888888888888,
             "#fdca26"
            ],
            [
             1,
             "#f0f921"
            ]
           ],
           "sequentialminus": [
            [
             0,
             "#0d0887"
            ],
            [
             0.1111111111111111,
             "#46039f"
            ],
            [
             0.2222222222222222,
             "#7201a8"
            ],
            [
             0.3333333333333333,
             "#9c179e"
            ],
            [
             0.4444444444444444,
             "#bd3786"
            ],
            [
             0.5555555555555556,
             "#d8576b"
            ],
            [
             0.6666666666666666,
             "#ed7953"
            ],
            [
             0.7777777777777778,
             "#fb9f3a"
            ],
            [
             0.8888888888888888,
             "#fdca26"
            ],
            [
             1,
             "#f0f921"
            ]
           ]
          },
          "colorway": [
           "#636efa",
           "#EF553B",
           "#00cc96",
           "#ab63fa",
           "#FFA15A",
           "#19d3f3",
           "#FF6692",
           "#B6E880",
           "#FF97FF",
           "#FECB52"
          ],
          "font": {
           "color": "#2a3f5f"
          },
          "geo": {
           "bgcolor": "white",
           "lakecolor": "white",
           "landcolor": "#E5ECF6",
           "showlakes": true,
           "showland": true,
           "subunitcolor": "white"
          },
          "hoverlabel": {
           "align": "left"
          },
          "hovermode": "closest",
          "mapbox": {
           "style": "light"
          },
          "paper_bgcolor": "white",
          "plot_bgcolor": "#E5ECF6",
          "polar": {
           "angularaxis": {
            "gridcolor": "white",
            "linecolor": "white",
            "ticks": ""
           },
           "bgcolor": "#E5ECF6",
           "radialaxis": {
            "gridcolor": "white",
            "linecolor": "white",
            "ticks": ""
           }
          },
          "scene": {
           "xaxis": {
            "backgroundcolor": "#E5ECF6",
            "gridcolor": "white",
            "gridwidth": 2,
            "linecolor": "white",
            "showbackground": true,
            "ticks": "",
            "zerolinecolor": "white"
           },
           "yaxis": {
            "backgroundcolor": "#E5ECF6",
            "gridcolor": "white",
            "gridwidth": 2,
            "linecolor": "white",
            "showbackground": true,
            "ticks": "",
            "zerolinecolor": "white"
           },
           "zaxis": {
            "backgroundcolor": "#E5ECF6",
            "gridcolor": "white",
            "gridwidth": 2,
            "linecolor": "white",
            "showbackground": true,
            "ticks": "",
            "zerolinecolor": "white"
           }
          },
          "shapedefaults": {
           "line": {
            "color": "#2a3f5f"
           }
          },
          "ternary": {
           "aaxis": {
            "gridcolor": "white",
            "linecolor": "white",
            "ticks": ""
           },
           "baxis": {
            "gridcolor": "white",
            "linecolor": "white",
            "ticks": ""
           },
           "bgcolor": "#E5ECF6",
           "caxis": {
            "gridcolor": "white",
            "linecolor": "white",
            "ticks": ""
           }
          },
          "title": {
           "x": 0.05
          },
          "xaxis": {
           "automargin": true,
           "gridcolor": "white",
           "linecolor": "white",
           "ticks": "",
           "title": {
            "standoff": 15
           },
           "zerolinecolor": "white",
           "zerolinewidth": 2
          },
          "yaxis": {
           "automargin": true,
           "gridcolor": "white",
           "linecolor": "white",
           "ticks": "",
           "title": {
            "standoff": 15
           },
           "zerolinecolor": "white",
           "zerolinewidth": 2
          }
         }
        },
        "xaxis": {
         "anchor": "y",
         "domain": [
          0,
          1
         ],
         "title": {
          "text": "readGB"
         }
        },
        "yaxis": {
         "anchor": "x",
         "domain": [
          0,
          1
         ],
         "title": {
          "text": "Breadth"
         }
        }
       }
      },
      "text/html": [
       "<div>                            <div id=\"acb0efea-145c-4a1f-b278-63cda0cbc001\" class=\"plotly-graph-div\" style=\"height:525px; width:100%;\"></div>            <script type=\"text/javascript\">                require([\"plotly\"], function(Plotly) {                    window.PLOTLYENV=window.PLOTLYENV || {};                                    if (document.getElementById(\"acb0efea-145c-4a1f-b278-63cda0cbc001\")) {                    Plotly.newPlot(                        \"acb0efea-145c-4a1f-b278-63cda0cbc001\",                        [{\"hovertemplate\":\"Contig=NZ_CP020566.1.region001<br>readGB=%{x}<br>Breadth=%{y}<extra></extra>\",\"legendgroup\":\"NZ_CP020566.1.region001\",\"line\":{\"color\":\"#636efa\",\"dash\":\"solid\"},\"marker\":{\"symbol\":\"circle\"},\"mode\":\"lines\",\"name\":\"NZ_CP020566.1.region001\",\"orientation\":\"v\",\"showlegend\":true,\"x\":[0.001,0.002,0.01,0.02,0.1,0.2,1.0],\"xaxis\":\"x\",\"y\":[0.0112333686294369,0.1035403526541135,0.3928456332581372,0.697942083697804,0.9861424427972928,1.0,1.0],\"yaxis\":\"y\",\"type\":\"scatter\"},{\"hovertemplate\":\"Contig=NC_014328.1.region004<br>readGB=%{x}<br>Breadth=%{y}<extra></extra>\",\"legendgroup\":\"NC_014328.1.region004\",\"line\":{\"color\":\"#EF553B\",\"dash\":\"solid\"},\"marker\":{\"symbol\":\"circle\"},\"mode\":\"lines\",\"name\":\"NC_014328.1.region004\",\"orientation\":\"v\",\"showlegend\":true,\"x\":[0.001,0.002,0.01,0.02,0.1,0.2,1.0],\"xaxis\":\"x\",\"y\":[0.0373151205391469,0.0893753674973992,0.4125921570401194,0.5659233796191596,0.9861142521145236,0.9999547695508616,1.0],\"yaxis\":\"y\",\"type\":\"scatter\"},{\"hovertemplate\":\"Contig=NZ_CP053893.1.region001<br>readGB=%{x}<br>Breadth=%{y}<extra></extra>\",\"legendgroup\":\"NZ_CP053893.1.region001\",\"line\":{\"color\":\"#00cc96\",\"dash\":\"solid\"},\"marker\":{\"symbol\":\"circle\"},\"mode\":\"lines\",\"name\":\"NZ_CP053893.1.region001\",\"orientation\":\"v\",\"showlegend\":true,\"x\":[0.001,0.002,0.01,0.02,0.1,0.2,1.0],\"xaxis\":\"x\",\"y\":[0.0727702796716293,0.084504429293632,0.2883910764806827,0.56639302444228,0.987941190111776,1.0,1.0],\"yaxis\":\"y\",\"type\":\"scatter\"},{\"hovertemplate\":\"Contig=NZ_LT906470.1.region001<br>readGB=%{x}<br>Breadth=%{y}<extra></extra>\",\"legendgroup\":\"NZ_LT906470.1.region001\",\"line\":{\"color\":\"#ab63fa\",\"dash\":\"solid\"},\"marker\":{\"symbol\":\"circle\"},\"mode\":\"lines\",\"name\":\"NZ_LT906470.1.region001\",\"orientation\":\"v\",\"showlegend\":true,\"x\":[0.001,0.002,0.01,0.02,0.1,0.2,1.0],\"xaxis\":\"x\",\"y\":[0.0918998974670565,0.1002164584361827,0.2561804579804808,0.6382865605893745,0.9925188926442108,1.0,1.0],\"yaxis\":\"y\",\"type\":\"scatter\"},{\"hovertemplate\":\"Contig=NZ_CP053893.1.region004<br>readGB=%{x}<br>Breadth=%{y}<extra></extra>\",\"legendgroup\":\"NZ_CP053893.1.region004\",\"line\":{\"color\":\"#FFA15A\",\"dash\":\"solid\"},\"marker\":{\"symbol\":\"circle\"},\"mode\":\"lines\",\"name\":\"NZ_CP053893.1.region004\",\"orientation\":\"v\",\"showlegend\":true,\"x\":[0.001,0.002,0.01,0.02,0.1,0.2,1.0],\"xaxis\":\"x\",\"y\":[0.0853658536585365,0.0783243188080416,0.3478926421063373,0.5606184304520869,0.9876518012042044,1.0,1.0],\"yaxis\":\"y\",\"type\":\"scatter\"},{\"hovertemplate\":\"Contig=NZ_LT906445.1.region001<br>readGB=%{x}<br>Breadth=%{y}<extra></extra>\",\"legendgroup\":\"NZ_LT906445.1.region001\",\"line\":{\"color\":\"#19d3f3\",\"dash\":\"solid\"},\"marker\":{\"symbol\":\"circle\"},\"mode\":\"lines\",\"name\":\"NZ_LT906445.1.region001\",\"orientation\":\"v\",\"showlegend\":true,\"x\":[0.001,0.002,0.01,0.02,0.1,0.2,1.0],\"xaxis\":\"x\",\"y\":[0.0650552486187845,0.1232044198895027,0.3324585635359116,0.616390423572744,0.9945672191528544,0.9999079189686924,1.0],\"yaxis\":\"y\",\"type\":\"scatter\"},{\"hovertemplate\":\"Contig=NZ_CP053893.1.region002<br>readGB=%{x}<br>Breadth=%{y}<extra></extra>\",\"legendgroup\":\"NZ_CP053893.1.region002\",\"line\":{\"color\":\"#FF6692\",\"dash\":\"solid\"},\"marker\":{\"symbol\":\"circle\"},\"mode\":\"lines\",\"name\":\"NZ_CP053893.1.region002\",\"orientation\":\"v\",\"showlegend\":true,\"x\":[0.001,0.002,0.01,0.02,0.1,0.2,1.0],\"xaxis\":\"x\",\"y\":[0.1690325178697271,0.2891875566294171,0.6208094231350045,0.7143360515453538,0.995268297593879,0.9999496627403603,1.0],\"yaxis\":\"y\",\"type\":\"scatter\"},{\"hovertemplate\":\"Contig=NZ_CP053893.1.region005<br>readGB=%{x}<br>Breadth=%{y}<extra></extra>\",\"legendgroup\":\"NZ_CP053893.1.region005\",\"line\":{\"color\":\"#B6E880\",\"dash\":\"solid\"},\"marker\":{\"symbol\":\"circle\"},\"mode\":\"lines\",\"name\":\"NZ_CP053893.1.region005\",\"orientation\":\"v\",\"showlegend\":true,\"x\":[0.001,0.002,0.01,0.02,0.1,0.2,1.0],\"xaxis\":\"x\",\"y\":[0.0533918837068443,0.0976377952755905,0.3942459115687462,0.6034524530587523,0.9931405208964263,0.999939430648092,1.0],\"yaxis\":\"y\",\"type\":\"scatter\"},{\"hovertemplate\":\"Contig=NZ_CP053893.1.region003<br>readGB=%{x}<br>Breadth=%{y}<extra></extra>\",\"legendgroup\":\"NZ_CP053893.1.region003\",\"line\":{\"color\":\"#FF97FF\",\"dash\":\"solid\"},\"marker\":{\"symbol\":\"circle\"},\"mode\":\"lines\",\"name\":\"NZ_CP053893.1.region003\",\"orientation\":\"v\",\"showlegend\":true,\"x\":[0.001,0.002,0.01,0.02,0.1,0.2,1.0],\"xaxis\":\"x\",\"y\":[0.0236834363047955,0.096057664018829,0.4521918211238599,0.6206727468863391,0.9897028537805236,0.999558693733451,1.0],\"yaxis\":\"y\",\"type\":\"scatter\"},{\"hovertemplate\":\"Contig=NZ_CP053893.1.region006<br>readGB=%{x}<br>Breadth=%{y}<extra></extra>\",\"legendgroup\":\"NZ_CP053893.1.region006\",\"line\":{\"color\":\"#FECB52\",\"dash\":\"solid\"},\"marker\":{\"symbol\":\"circle\"},\"mode\":\"lines\",\"name\":\"NZ_CP053893.1.region006\",\"orientation\":\"v\",\"showlegend\":true,\"x\":[0.001,0.002,0.01,0.02,0.1,0.2,1.0],\"xaxis\":\"x\",\"y\":[0.0642581888246628,0.0969653179190751,0.5042870905587669,0.6122350674373795,0.9945086705202312,0.99990366088632,1.0],\"yaxis\":\"y\",\"type\":\"scatter\"},{\"hovertemplate\":\"Contig=NC_014328.1.region001<br>readGB=%{x}<br>Breadth=%{y}<extra></extra>\",\"legendgroup\":\"NC_014328.1.region001\",\"line\":{\"color\":\"#636efa\",\"dash\":\"solid\"},\"marker\":{\"symbol\":\"circle\"},\"mode\":\"lines\",\"name\":\"NC_014328.1.region001\",\"orientation\":\"v\",\"showlegend\":true,\"x\":[0.001,0.002,0.01,0.02,0.1,0.2,1.0],\"xaxis\":\"x\",\"y\":[0.0390039665050683,0.1513882767739092,0.3712538563243719,0.6492948435434112,0.98732921992067,1.0,1.0],\"yaxis\":\"y\",\"type\":\"scatter\"},{\"hovertemplate\":\"Contig=NC_014328.1.region005<br>readGB=%{x}<br>Breadth=%{y}<extra></extra>\",\"legendgroup\":\"NC_014328.1.region005\",\"line\":{\"color\":\"#EF553B\",\"dash\":\"solid\"},\"marker\":{\"symbol\":\"circle\"},\"mode\":\"lines\",\"name\":\"NC_014328.1.region005\",\"orientation\":\"v\",\"showlegend\":true,\"x\":[0.001,0.002,0.01,0.02,0.1,0.2,1.0],\"xaxis\":\"x\",\"y\":[0.0369135287851419,0.1250521050437682,0.4329118614237414,0.6209994905284609,0.994766337825946,0.9999536844055392,1.0],\"yaxis\":\"y\",\"type\":\"scatter\"},{\"hovertemplate\":\"Contig=NZ_LT906470.1.region002<br>readGB=%{x}<br>Breadth=%{y}<extra></extra>\",\"legendgroup\":\"NZ_LT906470.1.region002\",\"line\":{\"color\":\"#00cc96\",\"dash\":\"solid\"},\"marker\":{\"symbol\":\"circle\"},\"mode\":\"lines\",\"name\":\"NZ_LT906470.1.region002\",\"orientation\":\"v\",\"showlegend\":true,\"x\":[0.001,0.002,0.01,0.02,0.1,0.2,1.0],\"xaxis\":\"x\",\"y\":[0.036697247706422,0.0990887676667493,0.3622613439127201,0.6168484998760229,0.9880052070419044,0.9998450285147532,1.0],\"yaxis\":\"y\",\"type\":\"scatter\"},{\"hovertemplate\":\"Contig=NZ_LT906470.1.region003<br>readGB=%{x}<br>Breadth=%{y}<extra></extra>\",\"legendgroup\":\"NZ_LT906470.1.region003\",\"line\":{\"color\":\"#ab63fa\",\"dash\":\"solid\"},\"marker\":{\"symbol\":\"circle\"},\"mode\":\"lines\",\"name\":\"NZ_LT906470.1.region003\",\"orientation\":\"v\",\"showlegend\":true,\"x\":[0.001,0.002,0.01,0.02,0.1,0.2,1.0],\"xaxis\":\"x\",\"y\":[0.0587370838117106,0.0991044776119403,0.3036969001148105,0.607715269804822,0.995683122847302,0.9998163030998852,1.0],\"yaxis\":\"y\",\"type\":\"scatter\"},{\"hovertemplate\":\"Contig=NC_014328.1.region002<br>readGB=%{x}<br>Breadth=%{y}<extra></extra>\",\"legendgroup\":\"NC_014328.1.region002\",\"line\":{\"color\":\"#FFA15A\",\"dash\":\"solid\"},\"marker\":{\"symbol\":\"circle\"},\"mode\":\"lines\",\"name\":\"NC_014328.1.region002\",\"orientation\":\"v\",\"showlegend\":true,\"x\":[0.001,0.002,0.01,0.02,0.1,0.2,1.0],\"xaxis\":\"x\",\"y\":[0.0367102568142429,0.1002573394254503,0.3948322041909564,0.5357911874376345,0.9849272622236228,0.999947481749908,1.0],\"yaxis\":\"y\",\"type\":\"scatter\"},{\"hovertemplate\":\"Contig=NC_014328.1.region003<br>readGB=%{x}<br>Breadth=%{y}<extra></extra>\",\"legendgroup\":\"NC_014328.1.region003\",\"line\":{\"color\":\"#19d3f3\",\"dash\":\"solid\"},\"marker\":{\"symbol\":\"circle\"},\"mode\":\"lines\",\"name\":\"NC_014328.1.region003\",\"orientation\":\"v\",\"showlegend\":true,\"x\":[0.001,0.002,0.01,0.02,0.1,0.2,1.0],\"xaxis\":\"x\",\"y\":[0.0762336160370084,0.0930512721665381,0.27732266769468,0.643793369313801,0.9889649190439476,0.9999518118735544,1.0],\"yaxis\":\"y\",\"type\":\"scatter\"}],                        {\"template\":{\"data\":{\"histogram2dcontour\":[{\"type\":\"histogram2dcontour\",\"colorbar\":{\"outlinewidth\":0,\"ticks\":\"\"},\"colorscale\":[[0.0,\"#0d0887\"],[0.1111111111111111,\"#46039f\"],[0.2222222222222222,\"#7201a8\"],[0.3333333333333333,\"#9c179e\"],[0.4444444444444444,\"#bd3786\"],[0.5555555555555556,\"#d8576b\"],[0.6666666666666666,\"#ed7953\"],[0.7777777777777778,\"#fb9f3a\"],[0.8888888888888888,\"#fdca26\"],[1.0,\"#f0f921\"]]}],\"choropleth\":[{\"type\":\"choropleth\",\"colorbar\":{\"outlinewidth\":0,\"ticks\":\"\"}}],\"histogram2d\":[{\"type\":\"histogram2d\",\"colorbar\":{\"outlinewidth\":0,\"ticks\":\"\"},\"colorscale\":[[0.0,\"#0d0887\"],[0.1111111111111111,\"#46039f\"],[0.2222222222222222,\"#7201a8\"],[0.3333333333333333,\"#9c179e\"],[0.4444444444444444,\"#bd3786\"],[0.5555555555555556,\"#d8576b\"],[0.6666666666666666,\"#ed7953\"],[0.7777777777777778,\"#fb9f3a\"],[0.8888888888888888,\"#fdca26\"],[1.0,\"#f0f921\"]]}],\"heatmap\":[{\"type\":\"heatmap\",\"colorbar\":{\"outlinewidth\":0,\"ticks\":\"\"},\"colorscale\":[[0.0,\"#0d0887\"],[0.1111111111111111,\"#46039f\"],[0.2222222222222222,\"#7201a8\"],[0.3333333333333333,\"#9c179e\"],[0.4444444444444444,\"#bd3786\"],[0.5555555555555556,\"#d8576b\"],[0.6666666666666666,\"#ed7953\"],[0.7777777777777778,\"#fb9f3a\"],[0.8888888888888888,\"#fdca26\"],[1.0,\"#f0f921\"]]}],\"heatmapgl\":[{\"type\":\"heatmapgl\",\"colorbar\":{\"outlinewidth\":0,\"ticks\":\"\"},\"colorscale\":[[0.0,\"#0d0887\"],[0.1111111111111111,\"#46039f\"],[0.2222222222222222,\"#7201a8\"],[0.3333333333333333,\"#9c179e\"],[0.4444444444444444,\"#bd3786\"],[0.5555555555555556,\"#d8576b\"],[0.6666666666666666,\"#ed7953\"],[0.7777777777777778,\"#fb9f3a\"],[0.8888888888888888,\"#fdca26\"],[1.0,\"#f0f921\"]]}],\"contourcarpet\":[{\"type\":\"contourcarpet\",\"colorbar\":{\"outlinewidth\":0,\"ticks\":\"\"}}],\"contour\":[{\"type\":\"contour\",\"colorbar\":{\"outlinewidth\":0,\"ticks\":\"\"},\"colorscale\":[[0.0,\"#0d0887\"],[0.1111111111111111,\"#46039f\"],[0.2222222222222222,\"#7201a8\"],[0.3333333333333333,\"#9c179e\"],[0.4444444444444444,\"#bd3786\"],[0.5555555555555556,\"#d8576b\"],[0.6666666666666666,\"#ed7953\"],[0.7777777777777778,\"#fb9f3a\"],[0.8888888888888888,\"#fdca26\"],[1.0,\"#f0f921\"]]}],\"surface\":[{\"type\":\"surface\",\"colorbar\":{\"outlinewidth\":0,\"ticks\":\"\"},\"colorscale\":[[0.0,\"#0d0887\"],[0.1111111111111111,\"#46039f\"],[0.2222222222222222,\"#7201a8\"],[0.3333333333333333,\"#9c179e\"],[0.4444444444444444,\"#bd3786\"],[0.5555555555555556,\"#d8576b\"],[0.6666666666666666,\"#ed7953\"],[0.7777777777777778,\"#fb9f3a\"],[0.8888888888888888,\"#fdca26\"],[1.0,\"#f0f921\"]]}],\"mesh3d\":[{\"type\":\"mesh3d\",\"colorbar\":{\"outlinewidth\":0,\"ticks\":\"\"}}],\"scatter\":[{\"fillpattern\":{\"fillmode\":\"overlay\",\"size\":10,\"solidity\":0.2},\"type\":\"scatter\"}],\"parcoords\":[{\"type\":\"parcoords\",\"line\":{\"colorbar\":{\"outlinewidth\":0,\"ticks\":\"\"}}}],\"scatterpolargl\":[{\"type\":\"scatterpolargl\",\"marker\":{\"colorbar\":{\"outlinewidth\":0,\"ticks\":\"\"}}}],\"bar\":[{\"error_x\":{\"color\":\"#2a3f5f\"},\"error_y\":{\"color\":\"#2a3f5f\"},\"marker\":{\"line\":{\"color\":\"#E5ECF6\",\"width\":0.5},\"pattern\":{\"fillmode\":\"overlay\",\"size\":10,\"solidity\":0.2}},\"type\":\"bar\"}],\"scattergeo\":[{\"type\":\"scattergeo\",\"marker\":{\"colorbar\":{\"outlinewidth\":0,\"ticks\":\"\"}}}],\"scatterpolar\":[{\"type\":\"scatterpolar\",\"marker\":{\"colorbar\":{\"outlinewidth\":0,\"ticks\":\"\"}}}],\"histogram\":[{\"marker\":{\"pattern\":{\"fillmode\":\"overlay\",\"size\":10,\"solidity\":0.2}},\"type\":\"histogram\"}],\"scattergl\":[{\"type\":\"scattergl\",\"marker\":{\"colorbar\":{\"outlinewidth\":0,\"ticks\":\"\"}}}],\"scatter3d\":[{\"type\":\"scatter3d\",\"line\":{\"colorbar\":{\"outlinewidth\":0,\"ticks\":\"\"}},\"marker\":{\"colorbar\":{\"outlinewidth\":0,\"ticks\":\"\"}}}],\"scattermapbox\":[{\"type\":\"scattermapbox\",\"marker\":{\"colorbar\":{\"outlinewidth\":0,\"ticks\":\"\"}}}],\"scatterternary\":[{\"type\":\"scatterternary\",\"marker\":{\"colorbar\":{\"outlinewidth\":0,\"ticks\":\"\"}}}],\"scattercarpet\":[{\"type\":\"scattercarpet\",\"marker\":{\"colorbar\":{\"outlinewidth\":0,\"ticks\":\"\"}}}],\"carpet\":[{\"aaxis\":{\"endlinecolor\":\"#2a3f5f\",\"gridcolor\":\"white\",\"linecolor\":\"white\",\"minorgridcolor\":\"white\",\"startlinecolor\":\"#2a3f5f\"},\"baxis\":{\"endlinecolor\":\"#2a3f5f\",\"gridcolor\":\"white\",\"linecolor\":\"white\",\"minorgridcolor\":\"white\",\"startlinecolor\":\"#2a3f5f\"},\"type\":\"carpet\"}],\"table\":[{\"cells\":{\"fill\":{\"color\":\"#EBF0F8\"},\"line\":{\"color\":\"white\"}},\"header\":{\"fill\":{\"color\":\"#C8D4E3\"},\"line\":{\"color\":\"white\"}},\"type\":\"table\"}],\"barpolar\":[{\"marker\":{\"line\":{\"color\":\"#E5ECF6\",\"width\":0.5},\"pattern\":{\"fillmode\":\"overlay\",\"size\":10,\"solidity\":0.2}},\"type\":\"barpolar\"}],\"pie\":[{\"automargin\":true,\"type\":\"pie\"}]},\"layout\":{\"autotypenumbers\":\"strict\",\"colorway\":[\"#636efa\",\"#EF553B\",\"#00cc96\",\"#ab63fa\",\"#FFA15A\",\"#19d3f3\",\"#FF6692\",\"#B6E880\",\"#FF97FF\",\"#FECB52\"],\"font\":{\"color\":\"#2a3f5f\"},\"hovermode\":\"closest\",\"hoverlabel\":{\"align\":\"left\"},\"paper_bgcolor\":\"white\",\"plot_bgcolor\":\"#E5ECF6\",\"polar\":{\"bgcolor\":\"#E5ECF6\",\"angularaxis\":{\"gridcolor\":\"white\",\"linecolor\":\"white\",\"ticks\":\"\"},\"radialaxis\":{\"gridcolor\":\"white\",\"linecolor\":\"white\",\"ticks\":\"\"}},\"ternary\":{\"bgcolor\":\"#E5ECF6\",\"aaxis\":{\"gridcolor\":\"white\",\"linecolor\":\"white\",\"ticks\":\"\"},\"baxis\":{\"gridcolor\":\"white\",\"linecolor\":\"white\",\"ticks\":\"\"},\"caxis\":{\"gridcolor\":\"white\",\"linecolor\":\"white\",\"ticks\":\"\"}},\"coloraxis\":{\"colorbar\":{\"outlinewidth\":0,\"ticks\":\"\"}},\"colorscale\":{\"sequential\":[[0.0,\"#0d0887\"],[0.1111111111111111,\"#46039f\"],[0.2222222222222222,\"#7201a8\"],[0.3333333333333333,\"#9c179e\"],[0.4444444444444444,\"#bd3786\"],[0.5555555555555556,\"#d8576b\"],[0.6666666666666666,\"#ed7953\"],[0.7777777777777778,\"#fb9f3a\"],[0.8888888888888888,\"#fdca26\"],[1.0,\"#f0f921\"]],\"sequentialminus\":[[0.0,\"#0d0887\"],[0.1111111111111111,\"#46039f\"],[0.2222222222222222,\"#7201a8\"],[0.3333333333333333,\"#9c179e\"],[0.4444444444444444,\"#bd3786\"],[0.5555555555555556,\"#d8576b\"],[0.6666666666666666,\"#ed7953\"],[0.7777777777777778,\"#fb9f3a\"],[0.8888888888888888,\"#fdca26\"],[1.0,\"#f0f921\"]],\"diverging\":[[0,\"#8e0152\"],[0.1,\"#c51b7d\"],[0.2,\"#de77ae\"],[0.3,\"#f1b6da\"],[0.4,\"#fde0ef\"],[0.5,\"#f7f7f7\"],[0.6,\"#e6f5d0\"],[0.7,\"#b8e186\"],[0.8,\"#7fbc41\"],[0.9,\"#4d9221\"],[1,\"#276419\"]]},\"xaxis\":{\"gridcolor\":\"white\",\"linecolor\":\"white\",\"ticks\":\"\",\"title\":{\"standoff\":15},\"zerolinecolor\":\"white\",\"automargin\":true,\"zerolinewidth\":2},\"yaxis\":{\"gridcolor\":\"white\",\"linecolor\":\"white\",\"ticks\":\"\",\"title\":{\"standoff\":15},\"zerolinecolor\":\"white\",\"automargin\":true,\"zerolinewidth\":2},\"scene\":{\"xaxis\":{\"backgroundcolor\":\"#E5ECF6\",\"gridcolor\":\"white\",\"linecolor\":\"white\",\"showbackground\":true,\"ticks\":\"\",\"zerolinecolor\":\"white\",\"gridwidth\":2},\"yaxis\":{\"backgroundcolor\":\"#E5ECF6\",\"gridcolor\":\"white\",\"linecolor\":\"white\",\"showbackground\":true,\"ticks\":\"\",\"zerolinecolor\":\"white\",\"gridwidth\":2},\"zaxis\":{\"backgroundcolor\":\"#E5ECF6\",\"gridcolor\":\"white\",\"linecolor\":\"white\",\"showbackground\":true,\"ticks\":\"\",\"zerolinecolor\":\"white\",\"gridwidth\":2}},\"shapedefaults\":{\"line\":{\"color\":\"#2a3f5f\"}},\"annotationdefaults\":{\"arrowcolor\":\"#2a3f5f\",\"arrowhead\":0,\"arrowwidth\":1},\"geo\":{\"bgcolor\":\"white\",\"landcolor\":\"#E5ECF6\",\"subunitcolor\":\"white\",\"showland\":true,\"showlakes\":true,\"lakecolor\":\"white\"},\"title\":{\"x\":0.05},\"mapbox\":{\"style\":\"light\"}}},\"xaxis\":{\"anchor\":\"y\",\"domain\":[0.0,1.0],\"title\":{\"text\":\"readGB\"}},\"yaxis\":{\"anchor\":\"x\",\"domain\":[0.0,1.0],\"title\":{\"text\":\"Breadth\"}},\"legend\":{\"title\":{\"text\":\"Contig\"},\"tracegroupgap\":0},\"margin\":{\"t\":60}},                        {\"responsive\": true}                    ).then(function(){\n",
       "                            \n",
       "var gd = document.getElementById('acb0efea-145c-4a1f-b278-63cda0cbc001');\n",
       "var x = new MutationObserver(function (mutations, observer) {{\n",
       "        var display = window.getComputedStyle(gd).display;\n",
       "        if (!display || display === 'none') {{\n",
       "            console.log([gd, 'removed!']);\n",
       "            Plotly.purge(gd);\n",
       "            observer.disconnect();\n",
       "        }}\n",
       "}});\n",
       "\n",
       "// Listen for the removal of the full notebook cells\n",
       "var notebookContainer = gd.closest('#notebook-container');\n",
       "if (notebookContainer) {{\n",
       "    x.observe(notebookContainer, {childList: true});\n",
       "}}\n",
       "\n",
       "// Listen for the clearing of the current output cell\n",
       "var outputEl = gd.closest('.output');\n",
       "if (outputEl) {{\n",
       "    x.observe(outputEl, {childList: true});\n",
       "}}\n",
       "\n",
       "                        })                };                });            </script>        </div>"
      ]
     },
     "metadata": {},
     "output_type": "display_data"
    }
   ],
   "source": [
    "import plotly.express as px\n",
    "px.line(df_summary.sort_values(\"readGB\"), x=\"readGB\", y=\"Breadth\", color=\"Contig\")"
   ]
  },
  {
   "cell_type": "code",
   "execution_count": 67,
   "metadata": {},
   "outputs": [
    {
     "data": {
      "text/html": [
       "<div>\n",
       "<style scoped>\n",
       "    .dataframe tbody tr th:only-of-type {\n",
       "        vertical-align: middle;\n",
       "    }\n",
       "\n",
       "    .dataframe tbody tr th {\n",
       "        vertical-align: top;\n",
       "    }\n",
       "\n",
       "    .dataframe thead th {\n",
       "        text-align: right;\n",
       "    }\n",
       "</style>\n",
       "<table border=\"1\" class=\"dataframe\">\n",
       "  <thead>\n",
       "    <tr style=\"text-align: right;\">\n",
       "      <th></th>\n",
       "      <th>Contig</th>\n",
       "      <th>readGB</th>\n",
       "      <th>variable</th>\n",
       "      <th>value</th>\n",
       "    </tr>\n",
       "  </thead>\n",
       "  <tbody>\n",
       "    <tr>\n",
       "      <th>0</th>\n",
       "      <td>NC_014328.1.region004</td>\n",
       "      <td>0.01</td>\n",
       "      <td>Breadth</td>\n",
       "      <td>0.412592</td>\n",
       "    </tr>\n",
       "    <tr>\n",
       "      <th>1</th>\n",
       "      <td>NZ_CP053893.1.region001</td>\n",
       "      <td>0.01</td>\n",
       "      <td>Breadth</td>\n",
       "      <td>0.288391</td>\n",
       "    </tr>\n",
       "    <tr>\n",
       "      <th>2</th>\n",
       "      <td>NZ_LT906470.1.region001</td>\n",
       "      <td>0.01</td>\n",
       "      <td>Breadth</td>\n",
       "      <td>0.256180</td>\n",
       "    </tr>\n",
       "    <tr>\n",
       "      <th>3</th>\n",
       "      <td>NZ_CP053893.1.region004</td>\n",
       "      <td>0.01</td>\n",
       "      <td>Breadth</td>\n",
       "      <td>0.347893</td>\n",
       "    </tr>\n",
       "    <tr>\n",
       "      <th>4</th>\n",
       "      <td>NZ_CP053893.1.region003</td>\n",
       "      <td>0.01</td>\n",
       "      <td>Breadth</td>\n",
       "      <td>0.452192</td>\n",
       "    </tr>\n",
       "  </tbody>\n",
       "</table>\n",
       "</div>"
      ],
      "text/plain": [
       "                    Contig  readGB variable     value\n",
       "0    NC_014328.1.region004    0.01  Breadth  0.412592\n",
       "1  NZ_CP053893.1.region001    0.01  Breadth  0.288391\n",
       "2  NZ_LT906470.1.region001    0.01  Breadth  0.256180\n",
       "3  NZ_CP053893.1.region004    0.01  Breadth  0.347893\n",
       "4  NZ_CP053893.1.region003    0.01  Breadth  0.452192"
      ]
     },
     "execution_count": 67,
     "metadata": {},
     "output_type": "execute_result"
    }
   ],
   "source": [
    "df_long.head(5)"
   ]
  },
  {
   "cell_type": "code",
   "execution_count": 78,
   "metadata": {
    "scrolled": false
   },
   "outputs": [
    {
     "data": {
      "application/vnd.plotly.v1+json": {
       "config": {
        "plotlyServerURL": "https://plot.ly"
       },
       "data": [
        {
         "hovertemplate": "Contig=NZ_CP020566.1.region001<br>variable=Depth median<br>readGB=%{x}<br>value=%{y}<extra></extra>",
         "legendgroup": "NZ_CP020566.1.region001",
         "line": {
          "color": "#636efa",
          "dash": "solid"
         },
         "marker": {
          "symbol": "circle"
         },
         "mode": "lines",
         "name": "NZ_CP020566.1.region001",
         "orientation": "v",
         "showlegend": true,
         "type": "scatter",
         "x": [
          0.001,
          0.002,
          0.01,
          0.02,
          0.1,
          0.2,
          1
         ],
         "xaxis": "x6",
         "y": [
          1,
          1,
          1,
          1,
          5,
          10,
          49
         ],
         "yaxis": "y6"
        },
        {
         "hovertemplate": "Contig=NZ_CP020566.1.region001<br>variable=Depth avg<br>readGB=%{x}<br>value=%{y}<extra></extra>",
         "legendgroup": "NZ_CP020566.1.region001",
         "line": {
          "color": "#636efa",
          "dash": "solid"
         },
         "marker": {
          "symbol": "circle"
         },
         "mode": "lines",
         "name": "NZ_CP020566.1.region001",
         "orientation": "v",
         "showlegend": false,
         "type": "scatter",
         "x": [
          0.001,
          0.002,
          0.01,
          0.02,
          0.1,
          0.2,
          1
         ],
         "xaxis": "x5",
         "y": [
          1.0532786885245902,
          1.1831925300133392,
          1.3274346654166178,
          1.7313324538258574,
          4.893510737628385,
          10.149394595092309,
          49.099120666635976
         ],
         "yaxis": "y5"
        },
        {
         "hovertemplate": "Contig=NZ_CP020566.1.region001<br>variable=Breadth<br>readGB=%{x}<br>value=%{y}<extra></extra>",
         "legendgroup": "NZ_CP020566.1.region001",
         "line": {
          "color": "#636efa",
          "dash": "solid"
         },
         "marker": {
          "symbol": "circle"
         },
         "mode": "lines",
         "name": "NZ_CP020566.1.region001",
         "orientation": "v",
         "showlegend": false,
         "type": "scatter",
         "x": [
          0.001,
          0.002,
          0.01,
          0.02,
          0.1,
          0.2,
          1
         ],
         "xaxis": "x4",
         "y": [
          0.0112333686294369,
          0.1035403526541135,
          0.3928456332581372,
          0.697942083697804,
          0.9861424427972928,
          1,
          1
         ],
         "yaxis": "y4"
        },
        {
         "hovertemplate": "Contig=NZ_CP020566.1.region001<br>variable=SQErr_med<br>readGB=%{x}<br>value=%{y}<extra></extra>",
         "legendgroup": "NZ_CP020566.1.region001",
         "line": {
          "color": "#636efa",
          "dash": "solid"
         },
         "marker": {
          "symbol": "circle"
         },
         "mode": "lines",
         "name": "NZ_CP020566.1.region001",
         "orientation": "v",
         "showlegend": false,
         "type": "scatter",
         "x": [
          0.001,
          0.002,
          0.01,
          0.02,
          0.1,
          0.2,
          1
         ],
         "xaxis": "x3",
         "y": [
          0.8848927312328244,
          0.7768214382227828,
          0.16554622139928085,
          0.03469001851197844,
          0.8672504627994607,
          3.469001851197843,
          106.3503029256889
         ],
         "yaxis": "y3"
        },
        {
         "hovertemplate": "Contig=NZ_CP020566.1.region001<br>variable=expectedCount<br>readGB=%{x}<br>value=%{y}<extra></extra>",
         "legendgroup": "NZ_CP020566.1.region001",
         "line": {
          "color": "#636efa",
          "dash": "solid"
         },
         "marker": {
          "symbol": "circle"
         },
         "mode": "lines",
         "name": "NZ_CP020566.1.region001",
         "orientation": "v",
         "showlegend": false,
         "type": "scatter",
         "x": [
          0.001,
          0.002,
          0.01,
          0.02,
          0.1,
          0.2,
          1
         ],
         "xaxis": "x2",
         "y": [
          0.059312628322871375,
          0.11862525664574275,
          0.5931262832287137,
          1.1862525664574275,
          5.931262832287137,
          11.862525664574274,
          59.312628322871376
         ],
         "yaxis": "y2"
        },
        {
         "hovertemplate": "Contig=NZ_CP020566.1.region001<br>variable=SQErr_avg<br>readGB=%{x}<br>value=%{y}<extra></extra>",
         "legendgroup": "NZ_CP020566.1.region001",
         "line": {
          "color": "#636efa",
          "dash": "solid"
         },
         "marker": {
          "symbol": "circle"
         },
         "mode": "lines",
         "name": "NZ_CP020566.1.region001",
         "orientation": "v",
         "showlegend": false,
         "type": "scatter",
         "x": [
          0.001,
          0.002,
          0.01,
          0.02,
          0.1,
          0.2,
          1
         ],
         "xaxis": "x",
         "y": [
          0.987968528832927,
          1.1333034795253187,
          0.539208800151417,
          0.29711208361358027,
          1.0769294099686277,
          2.9348180612244237,
          104.31573864397913
         ],
         "yaxis": "y"
        },
        {
         "hovertemplate": "Contig=NC_014328.1.region005<br>variable=Depth median<br>readGB=%{x}<br>value=%{y}<extra></extra>",
         "legendgroup": "NC_014328.1.region005",
         "line": {
          "color": "#EF553B",
          "dash": "solid"
         },
         "marker": {
          "symbol": "circle"
         },
         "mode": "lines",
         "name": "NC_014328.1.region005",
         "orientation": "v",
         "showlegend": true,
         "type": "scatter",
         "x": [
          0.001,
          0.002,
          0.01,
          0.02,
          0.1,
          0.2,
          1
         ],
         "xaxis": "x6",
         "y": [
          1,
          1,
          1,
          1,
          5,
          10,
          50
         ],
         "yaxis": "y6"
        },
        {
         "hovertemplate": "Contig=NC_014328.1.region005<br>variable=Depth avg<br>readGB=%{x}<br>value=%{y}<extra></extra>",
         "legendgroup": "NC_014328.1.region005",
         "line": {
          "color": "#EF553B",
          "dash": "solid"
         },
         "marker": {
          "symbol": "circle"
         },
         "mode": "lines",
         "name": "NC_014328.1.region005",
         "orientation": "v",
         "showlegend": false,
         "type": "scatter",
         "x": [
          0.001,
          0.002,
          0.01,
          0.02,
          0.1,
          0.2,
          1
         ],
         "xaxis": "x5",
         "y": [
          1.015056461731493,
          1.1077777777777778,
          1.4127527548946186,
          1.930489260143198,
          5.610950740292393,
          11.027790643816582,
          56.12245843175397
         ],
         "yaxis": "y5"
        },
        {
         "hovertemplate": "Contig=NC_014328.1.region005<br>variable=Breadth<br>readGB=%{x}<br>value=%{y}<extra></extra>",
         "legendgroup": "NC_014328.1.region005",
         "line": {
          "color": "#EF553B",
          "dash": "solid"
         },
         "marker": {
          "symbol": "circle"
         },
         "mode": "lines",
         "name": "NC_014328.1.region005",
         "orientation": "v",
         "showlegend": false,
         "type": "scatter",
         "x": [
          0.001,
          0.002,
          0.01,
          0.02,
          0.1,
          0.2,
          1
         ],
         "xaxis": "x4",
         "y": [
          0.0369135287851419,
          0.1250521050437682,
          0.4329118614237414,
          0.6209994905284609,
          0.994766337825946,
          0.9999536844055392,
          1
         ],
         "yaxis": "y4"
        },
        {
         "hovertemplate": "Contig=NC_014328.1.region005<br>variable=SQErr_med<br>readGB=%{x}<br>value=%{y}<extra></extra>",
         "legendgroup": "NC_014328.1.region005",
         "line": {
          "color": "#EF553B",
          "dash": "solid"
         },
         "marker": {
          "symbol": "circle"
         },
         "mode": "lines",
         "name": "NC_014328.1.region005",
         "orientation": "v",
         "showlegend": false,
         "type": "scatter",
         "x": [
          0.001,
          0.002,
          0.01,
          0.02,
          0.1,
          0.2,
          1
         ],
         "xaxis": "x3",
         "y": [
          0.8848927312328244,
          0.7768214382227828,
          0.16554622139928085,
          0.03469001851197844,
          0.8672504627994607,
          3.469001851197843,
          86.72504627994614
         ],
         "yaxis": "y3"
        },
        {
         "hovertemplate": "Contig=NC_014328.1.region005<br>variable=expectedCount<br>readGB=%{x}<br>value=%{y}<extra></extra>",
         "legendgroup": "NC_014328.1.region005",
         "line": {
          "color": "#EF553B",
          "dash": "solid"
         },
         "marker": {
          "symbol": "circle"
         },
         "mode": "lines",
         "name": "NC_014328.1.region005",
         "orientation": "v",
         "showlegend": false,
         "type": "scatter",
         "x": [
          0.001,
          0.002,
          0.01,
          0.02,
          0.1,
          0.2,
          1
         ],
         "xaxis": "x2",
         "y": [
          0.059312628322871375,
          0.11862525664574275,
          0.5931262832287137,
          1.1862525664574275,
          5.931262832287137,
          11.862525664574274,
          59.312628322871376
         ],
         "yaxis": "y2"
        },
        {
         "hovertemplate": "Contig=NC_014328.1.region005<br>variable=SQErr_avg<br>readGB=%{x}<br>value=%{y}<extra></extra>",
         "legendgroup": "NC_014328.1.region005",
         "line": {
          "color": "#EF553B",
          "dash": "solid"
         },
         "marker": {
          "symbol": "circle"
         },
         "mode": "lines",
         "name": "NC_014328.1.region005",
         "orientation": "v",
         "showlegend": false,
         "type": "scatter",
         "x": [
          0.001,
          0.002,
          0.01,
          0.02,
          0.1,
          0.2,
          1
         ],
         "xaxis": "x",
         "y": [
          0.9134462750986072,
          0.978422710061861,
          0.6717875530555003,
          0.5538882562283274,
          0.10259983627804975,
          0.6967825548793456,
          10.177183934192046
         ],
         "yaxis": "y"
        },
        {
         "hovertemplate": "Contig=NZ_LT906470.1.region002<br>variable=Depth median<br>readGB=%{x}<br>value=%{y}<extra></extra>",
         "legendgroup": "NZ_LT906470.1.region002",
         "line": {
          "color": "#00cc96",
          "dash": "solid"
         },
         "marker": {
          "symbol": "circle"
         },
         "mode": "lines",
         "name": "NZ_LT906470.1.region002",
         "orientation": "v",
         "showlegend": true,
         "type": "scatter",
         "x": [
          0.001,
          0.002,
          0.01,
          0.02,
          0.1,
          0.2,
          1
         ],
         "xaxis": "x6",
         "y": [
          1,
          1,
          1,
          1,
          5,
          10,
          50
         ],
         "yaxis": "y6"
        },
        {
         "hovertemplate": "Contig=NZ_LT906470.1.region002<br>variable=Depth avg<br>readGB=%{x}<br>value=%{y}<extra></extra>",
         "legendgroup": "NZ_LT906470.1.region002",
         "line": {
          "color": "#00cc96",
          "dash": "solid"
         },
         "marker": {
          "symbol": "circle"
         },
         "mode": "lines",
         "name": "NZ_LT906470.1.region002",
         "orientation": "v",
         "showlegend": false,
         "type": "scatter",
         "x": [
          0.001,
          0.002,
          0.01,
          0.02,
          0.1,
          0.2,
          1
         ],
         "xaxis": "x5",
         "y": [
          1.066722972972973,
          1.1945573975602126,
          1.3128850102669405,
          1.7897196261682242,
          5.532170530476519,
          10.398896432003472,
          53.898369699975206
         ],
         "yaxis": "y5"
        },
        {
         "hovertemplate": "Contig=NZ_LT906470.1.region002<br>variable=Breadth<br>readGB=%{x}<br>value=%{y}<extra></extra>",
         "legendgroup": "NZ_LT906470.1.region002",
         "line": {
          "color": "#00cc96",
          "dash": "solid"
         },
         "marker": {
          "symbol": "circle"
         },
         "mode": "lines",
         "name": "NZ_LT906470.1.region002",
         "orientation": "v",
         "showlegend": false,
         "type": "scatter",
         "x": [
          0.001,
          0.002,
          0.01,
          0.02,
          0.1,
          0.2,
          1
         ],
         "xaxis": "x4",
         "y": [
          0.036697247706422,
          0.0990887676667493,
          0.3622613439127201,
          0.6168484998760229,
          0.9880052070419044,
          0.9998450285147532,
          1
         ],
         "yaxis": "y4"
        },
        {
         "hovertemplate": "Contig=NZ_LT906470.1.region002<br>variable=SQErr_med<br>readGB=%{x}<br>value=%{y}<extra></extra>",
         "legendgroup": "NZ_LT906470.1.region002",
         "line": {
          "color": "#00cc96",
          "dash": "solid"
         },
         "marker": {
          "symbol": "circle"
         },
         "mode": "lines",
         "name": "NZ_LT906470.1.region002",
         "orientation": "v",
         "showlegend": false,
         "type": "scatter",
         "x": [
          0.001,
          0.002,
          0.01,
          0.02,
          0.1,
          0.2,
          1
         ],
         "xaxis": "x3",
         "y": [
          0.8848927312328244,
          0.7768214382227828,
          0.16554622139928085,
          0.03469001851197844,
          0.8672504627994607,
          3.469001851197843,
          86.72504627994614
         ],
         "yaxis": "y3"
        },
        {
         "hovertemplate": "Contig=NZ_LT906470.1.region002<br>variable=expectedCount<br>readGB=%{x}<br>value=%{y}<extra></extra>",
         "legendgroup": "NZ_LT906470.1.region002",
         "line": {
          "color": "#00cc96",
          "dash": "solid"
         },
         "marker": {
          "symbol": "circle"
         },
         "mode": "lines",
         "name": "NZ_LT906470.1.region002",
         "orientation": "v",
         "showlegend": false,
         "type": "scatter",
         "x": [
          0.001,
          0.002,
          0.01,
          0.02,
          0.1,
          0.2,
          1
         ],
         "xaxis": "x2",
         "y": [
          0.059312628322871375,
          0.11862525664574275,
          0.5931262832287137,
          1.1862525664574275,
          5.931262832287137,
          11.862525664574274,
          59.312628322871376
         ],
         "yaxis": "y2"
        },
        {
         "hovertemplate": "Contig=NZ_LT906470.1.region002<br>variable=SQErr_avg<br>readGB=%{x}<br>value=%{y}<extra></extra>",
         "legendgroup": "NZ_LT906470.1.region002",
         "line": {
          "color": "#00cc96",
          "dash": "solid"
         },
         "marker": {
          "symbol": "circle"
         },
         "mode": "lines",
         "name": "NZ_LT906470.1.region002",
         "orientation": "v",
         "showlegend": false,
         "type": "scatter",
         "x": [
          0.001,
          0.002,
          0.01,
          0.02,
          0.1,
          0.2,
          1
         ],
         "xaxis": "x",
         "y": [
          1.0148756025080368,
          1.1576299718527945,
          0.5180526251476886,
          0.3641724921559943,
          0.15927466536449728,
          2.142210530435797,
          29.314196435605535
         ],
         "yaxis": "y"
        },
        {
         "hovertemplate": "Contig=NZ_LT906470.1.region003<br>variable=Depth median<br>readGB=%{x}<br>value=%{y}<extra></extra>",
         "legendgroup": "NZ_LT906470.1.region003",
         "line": {
          "color": "#ab63fa",
          "dash": "solid"
         },
         "marker": {
          "symbol": "circle"
         },
         "mode": "lines",
         "name": "NZ_LT906470.1.region003",
         "orientation": "v",
         "showlegend": true,
         "type": "scatter",
         "x": [
          0.001,
          0.002,
          0.01,
          0.02,
          0.1,
          0.2,
          1
         ],
         "xaxis": "x6",
         "y": [
          1,
          1,
          1,
          1,
          5,
          10,
          50
         ],
         "yaxis": "y6"
        },
        {
         "hovertemplate": "Contig=NZ_LT906470.1.region003<br>variable=Depth avg<br>readGB=%{x}<br>value=%{y}<extra></extra>",
         "legendgroup": "NZ_LT906470.1.region003",
         "line": {
          "color": "#ab63fa",
          "dash": "solid"
         },
         "marker": {
          "symbol": "circle"
         },
         "mode": "lines",
         "name": "NZ_LT906470.1.region003",
         "orientation": "v",
         "showlegend": false,
         "type": "scatter",
         "x": [
          0.001,
          0.002,
          0.01,
          0.02,
          0.1,
          0.2,
          1
         ],
         "xaxis": "x5",
         "y": [
          1.202501954652072,
          1.06209453197405,
          1.232269771661878,
          1.8059396962140104,
          5.424519164245192,
          9.80483211611777,
          50.20537313432836
         ],
         "yaxis": "y5"
        },
        {
         "hovertemplate": "Contig=NZ_LT906470.1.region003<br>variable=Breadth<br>readGB=%{x}<br>value=%{y}<extra></extra>",
         "legendgroup": "NZ_LT906470.1.region003",
         "line": {
          "color": "#ab63fa",
          "dash": "solid"
         },
         "marker": {
          "symbol": "circle"
         },
         "mode": "lines",
         "name": "NZ_LT906470.1.region003",
         "orientation": "v",
         "showlegend": false,
         "type": "scatter",
         "x": [
          0.001,
          0.002,
          0.01,
          0.02,
          0.1,
          0.2,
          1
         ],
         "xaxis": "x4",
         "y": [
          0.0587370838117106,
          0.0991044776119403,
          0.3036969001148105,
          0.607715269804822,
          0.995683122847302,
          0.9998163030998852,
          1
         ],
         "yaxis": "y4"
        },
        {
         "hovertemplate": "Contig=NZ_LT906470.1.region003<br>variable=SQErr_med<br>readGB=%{x}<br>value=%{y}<extra></extra>",
         "legendgroup": "NZ_LT906470.1.region003",
         "line": {
          "color": "#ab63fa",
          "dash": "solid"
         },
         "marker": {
          "symbol": "circle"
         },
         "mode": "lines",
         "name": "NZ_LT906470.1.region003",
         "orientation": "v",
         "showlegend": false,
         "type": "scatter",
         "x": [
          0.001,
          0.002,
          0.01,
          0.02,
          0.1,
          0.2,
          1
         ],
         "xaxis": "x3",
         "y": [
          0.8848927312328244,
          0.7768214382227828,
          0.16554622139928085,
          0.03469001851197844,
          0.8672504627994607,
          3.469001851197843,
          86.72504627994614
         ],
         "yaxis": "y3"
        },
        {
         "hovertemplate": "Contig=NZ_LT906470.1.region003<br>variable=expectedCount<br>readGB=%{x}<br>value=%{y}<extra></extra>",
         "legendgroup": "NZ_LT906470.1.region003",
         "line": {
          "color": "#ab63fa",
          "dash": "solid"
         },
         "marker": {
          "symbol": "circle"
         },
         "mode": "lines",
         "name": "NZ_LT906470.1.region003",
         "orientation": "v",
         "showlegend": false,
         "type": "scatter",
         "x": [
          0.001,
          0.002,
          0.01,
          0.02,
          0.1,
          0.2,
          1
         ],
         "xaxis": "x2",
         "y": [
          0.059312628322871375,
          0.11862525664574275,
          0.5931262832287137,
          1.1862525664574275,
          5.931262832287137,
          11.862525664574274,
          59.312628322871376
         ],
         "yaxis": "y2"
        },
        {
         "hovertemplate": "Contig=NZ_LT906470.1.region003<br>variable=SQErr_avg<br>readGB=%{x}<br>value=%{y}<extra></extra>",
         "legendgroup": "NZ_LT906470.1.region003",
         "line": {
          "color": "#ab63fa",
          "dash": "solid"
         },
         "marker": {
          "symbol": "circle"
         },
         "mode": "lines",
         "name": "NZ_LT906470.1.region003",
         "orientation": "v",
         "showlegend": false,
         "type": "scatter",
         "x": [
          0.001,
          0.002,
          0.01,
          0.02,
          0.1,
          0.2,
          1
         ],
         "xaxis": "x",
         "y": [
          1.3068818358330119,
          0.8901342734885213,
          0.4085043988065144,
          0.38401213878595203,
          0.25678914510060546,
          4.234102739359518,
          82.94209706924366
         ],
         "yaxis": "y"
        },
        {
         "hovertemplate": "Contig=NC_014328.1.region002<br>variable=Depth median<br>readGB=%{x}<br>value=%{y}<extra></extra>",
         "legendgroup": "NC_014328.1.region002",
         "line": {
          "color": "#FFA15A",
          "dash": "solid"
         },
         "marker": {
          "symbol": "circle"
         },
         "mode": "lines",
         "name": "NC_014328.1.region002",
         "orientation": "v",
         "showlegend": true,
         "type": "scatter",
         "x": [
          0.001,
          0.002,
          0.01,
          0.02,
          0.1,
          0.2,
          1
         ],
         "xaxis": "x6",
         "y": [
          1,
          1,
          1,
          1,
          5,
          9,
          49
         ],
         "yaxis": "y6"
        },
        {
         "hovertemplate": "Contig=NC_014328.1.region002<br>variable=Depth avg<br>readGB=%{x}<br>value=%{y}<extra></extra>",
         "legendgroup": "NC_014328.1.region002",
         "line": {
          "color": "#FFA15A",
          "dash": "solid"
         },
         "marker": {
          "symbol": "circle"
         },
         "mode": "lines",
         "name": "NC_014328.1.region002",
         "orientation": "v",
         "showlegend": false,
         "type": "scatter",
         "x": [
          0.001,
          0.002,
          0.01,
          0.02,
          0.1,
          0.2,
          1
         ],
         "xaxis": "x5",
         "y": [
          1.090128755364807,
          1.182818229439497,
          1.316440542697526,
          1.6515389139384435,
          5.148714940812627,
          9.442542016806724,
          49.17357281655375
         ],
         "yaxis": "y5"
        },
        {
         "hovertemplate": "Contig=NC_014328.1.region002<br>variable=Breadth<br>readGB=%{x}<br>value=%{y}<extra></extra>",
         "legendgroup": "NC_014328.1.region002",
         "line": {
          "color": "#FFA15A",
          "dash": "solid"
         },
         "marker": {
          "symbol": "circle"
         },
         "mode": "lines",
         "name": "NC_014328.1.region002",
         "orientation": "v",
         "showlegend": false,
         "type": "scatter",
         "x": [
          0.001,
          0.002,
          0.01,
          0.02,
          0.1,
          0.2,
          1
         ],
         "xaxis": "x4",
         "y": [
          0.0367102568142429,
          0.1002573394254503,
          0.3948322041909564,
          0.5357911874376345,
          0.9849272622236228,
          0.999947481749908,
          1
         ],
         "yaxis": "y4"
        },
        {
         "hovertemplate": "Contig=NC_014328.1.region002<br>variable=SQErr_med<br>readGB=%{x}<br>value=%{y}<extra></extra>",
         "legendgroup": "NC_014328.1.region002",
         "line": {
          "color": "#FFA15A",
          "dash": "solid"
         },
         "marker": {
          "symbol": "circle"
         },
         "mode": "lines",
         "name": "NC_014328.1.region002",
         "orientation": "v",
         "showlegend": false,
         "type": "scatter",
         "x": [
          0.001,
          0.002,
          0.01,
          0.02,
          0.1,
          0.2,
          1
         ],
         "xaxis": "x3",
         "y": [
          0.8848927312328244,
          0.7768214382227828,
          0.16554622139928085,
          0.03469001851197844,
          0.8672504627994607,
          8.194053180346392,
          106.3503029256889
         ],
         "yaxis": "y3"
        },
        {
         "hovertemplate": "Contig=NC_014328.1.region002<br>variable=expectedCount<br>readGB=%{x}<br>value=%{y}<extra></extra>",
         "legendgroup": "NC_014328.1.region002",
         "line": {
          "color": "#FFA15A",
          "dash": "solid"
         },
         "marker": {
          "symbol": "circle"
         },
         "mode": "lines",
         "name": "NC_014328.1.region002",
         "orientation": "v",
         "showlegend": false,
         "type": "scatter",
         "x": [
          0.001,
          0.002,
          0.01,
          0.02,
          0.1,
          0.2,
          1
         ],
         "xaxis": "x2",
         "y": [
          0.059312628322871375,
          0.11862525664574275,
          0.5931262832287137,
          1.1862525664574275,
          5.931262832287137,
          11.862525664574274,
          59.312628322871376
         ],
         "yaxis": "y2"
        },
        {
         "hovertemplate": "Contig=NC_014328.1.region002<br>variable=SQErr_avg<br>readGB=%{x}<br>value=%{y}<extra></extra>",
         "legendgroup": "NC_014328.1.region002",
         "line": {
          "color": "#FFA15A",
          "dash": "solid"
         },
         "marker": {
          "symbol": "circle"
         },
         "mode": "lines",
         "name": "NC_014328.1.region002",
         "orientation": "v",
         "showlegend": false,
         "type": "scatter",
         "x": [
          0.001,
          0.002,
          0.01,
          0.02,
          0.1,
          0.2,
          1
         ],
         "xaxis": "x",
         "y": [
          1.062581887769736,
          1.1325066833436082,
          0.5231835179509163,
          0.2164913851522248,
          0.612381202451202,
          5.856320855462338,
          102.80044656018976
         ],
         "yaxis": "y"
        },
        {
         "hovertemplate": "Contig=NZ_LT906445.1.region001<br>variable=Depth median<br>readGB=%{x}<br>value=%{y}<extra></extra>",
         "legendgroup": "NZ_LT906445.1.region001",
         "line": {
          "color": "#19d3f3",
          "dash": "solid"
         },
         "marker": {
          "symbol": "circle"
         },
         "mode": "lines",
         "name": "NZ_LT906445.1.region001",
         "orientation": "v",
         "showlegend": true,
         "type": "scatter",
         "x": [
          0.001,
          0.002,
          0.01,
          0.02,
          0.1,
          0.2,
          1
         ],
         "xaxis": "x6",
         "y": [
          1,
          1,
          1,
          1,
          5,
          10,
          49
         ],
         "yaxis": "y6"
        },
        {
         "hovertemplate": "Contig=NZ_LT906445.1.region001<br>variable=Depth avg<br>readGB=%{x}<br>value=%{y}<extra></extra>",
         "legendgroup": "NZ_LT906445.1.region001",
         "line": {
          "color": "#19d3f3",
          "dash": "solid"
         },
         "marker": {
          "symbol": "circle"
         },
         "mode": "lines",
         "name": "NZ_LT906445.1.region001",
         "orientation": "v",
         "showlegend": false,
         "type": "scatter",
         "x": [
          0.001,
          0.002,
          0.01,
          0.02,
          0.1,
          0.2,
          1
         ],
         "xaxis": "x5",
         "y": [
          1.078556263269639,
          1.0766068759342302,
          1.3607533582606288,
          1.6331789662384224,
          4.810063882973799,
          9.970116953678977,
          49.0366482504604
         ],
         "yaxis": "y5"
        },
        {
         "hovertemplate": "Contig=NZ_LT906445.1.region001<br>variable=Breadth<br>readGB=%{x}<br>value=%{y}<extra></extra>",
         "legendgroup": "NZ_LT906445.1.region001",
         "line": {
          "color": "#19d3f3",
          "dash": "solid"
         },
         "marker": {
          "symbol": "circle"
         },
         "mode": "lines",
         "name": "NZ_LT906445.1.region001",
         "orientation": "v",
         "showlegend": false,
         "type": "scatter",
         "x": [
          0.001,
          0.002,
          0.01,
          0.02,
          0.1,
          0.2,
          1
         ],
         "xaxis": "x4",
         "y": [
          0.0650552486187845,
          0.1232044198895027,
          0.3324585635359116,
          0.616390423572744,
          0.9945672191528544,
          0.9999079189686924,
          1
         ],
         "yaxis": "y4"
        },
        {
         "hovertemplate": "Contig=NZ_LT906445.1.region001<br>variable=SQErr_med<br>readGB=%{x}<br>value=%{y}<extra></extra>",
         "legendgroup": "NZ_LT906445.1.region001",
         "line": {
          "color": "#19d3f3",
          "dash": "solid"
         },
         "marker": {
          "symbol": "circle"
         },
         "mode": "lines",
         "name": "NZ_LT906445.1.region001",
         "orientation": "v",
         "showlegend": false,
         "type": "scatter",
         "x": [
          0.001,
          0.002,
          0.01,
          0.02,
          0.1,
          0.2,
          1
         ],
         "xaxis": "x3",
         "y": [
          0.8848927312328244,
          0.7768214382227828,
          0.16554622139928085,
          0.03469001851197844,
          0.8672504627994607,
          3.469001851197843,
          106.3503029256889
         ],
         "yaxis": "y3"
        },
        {
         "hovertemplate": "Contig=NZ_LT906445.1.region001<br>variable=expectedCount<br>readGB=%{x}<br>value=%{y}<extra></extra>",
         "legendgroup": "NZ_LT906445.1.region001",
         "line": {
          "color": "#19d3f3",
          "dash": "solid"
         },
         "marker": {
          "symbol": "circle"
         },
         "mode": "lines",
         "name": "NZ_LT906445.1.region001",
         "orientation": "v",
         "showlegend": false,
         "type": "scatter",
         "x": [
          0.001,
          0.002,
          0.01,
          0.02,
          0.1,
          0.2,
          1
         ],
         "xaxis": "x2",
         "y": [
          0.059312628322871375,
          0.11862525664574275,
          0.5931262832287137,
          1.1862525664574275,
          5.931262832287137,
          11.862525664574274,
          59.312628322871376
         ],
         "yaxis": "y2"
        },
        {
         "hovertemplate": "Contig=NZ_LT906445.1.region001<br>variable=SQErr_avg<br>readGB=%{x}<br>value=%{y}<extra></extra>",
         "legendgroup": "NZ_LT906445.1.region001",
         "line": {
          "color": "#19d3f3",
          "dash": "solid"
         },
         "marker": {
          "symbol": "circle"
         },
         "mode": "lines",
         "name": "NZ_LT906445.1.region001",
         "orientation": "v",
         "showlegend": false,
         "type": "scatter",
         "x": [
          0.001,
          0.002,
          0.01,
          0.02,
          0.1,
          0.2,
          1
         ],
         "xaxis": "x",
         "y": [
          1.0388575873794998,
          0.9177287828945926,
          0.5892513263220533,
          0.1997432068212017,
          1.2570870839413328,
          3.581210729072403,
          105.59576644858744
         ],
         "yaxis": "y"
        },
        {
         "hovertemplate": "Contig=NC_014328.1.region004<br>variable=Depth median<br>readGB=%{x}<br>value=%{y}<extra></extra>",
         "legendgroup": "NC_014328.1.region004",
         "line": {
          "color": "#FF6692",
          "dash": "solid"
         },
         "marker": {
          "symbol": "circle"
         },
         "mode": "lines",
         "name": "NC_014328.1.region004",
         "orientation": "v",
         "showlegend": true,
         "type": "scatter",
         "x": [
          0.001,
          0.002,
          0.01,
          0.02,
          0.1,
          0.2,
          1
         ],
         "xaxis": "x6",
         "y": [
          1,
          1,
          1,
          1,
          5,
          10,
          50
         ],
         "yaxis": "y6"
        },
        {
         "hovertemplate": "Contig=NC_014328.1.region004<br>variable=Depth avg<br>readGB=%{x}<br>value=%{y}<extra></extra>",
         "legendgroup": "NC_014328.1.region004",
         "line": {
          "color": "#FF6692",
          "dash": "solid"
         },
         "marker": {
          "symbol": "circle"
         },
         "mode": "lines",
         "name": "NC_014328.1.region004",
         "orientation": "v",
         "showlegend": false,
         "type": "scatter",
         "x": [
          0.001,
          0.002,
          0.01,
          0.02,
          0.1,
          0.2,
          1
         ],
         "xaxis": "x5",
         "y": [
          1.0121212121212122,
          1.105263157894737,
          1.2762552071914053,
          1.7946771099744243,
          5.398082744702321,
          10.831599421024064,
          53.6487403319915
         ],
         "yaxis": "y5"
        },
        {
         "hovertemplate": "Contig=NC_014328.1.region004<br>variable=Breadth<br>readGB=%{x}<br>value=%{y}<extra></extra>",
         "legendgroup": "NC_014328.1.region004",
         "line": {
          "color": "#FF6692",
          "dash": "solid"
         },
         "marker": {
          "symbol": "circle"
         },
         "mode": "lines",
         "name": "NC_014328.1.region004",
         "orientation": "v",
         "showlegend": false,
         "type": "scatter",
         "x": [
          0.001,
          0.002,
          0.01,
          0.02,
          0.1,
          0.2,
          1
         ],
         "xaxis": "x4",
         "y": [
          0.0373151205391469,
          0.0893753674973992,
          0.4125921570401194,
          0.5659233796191596,
          0.9861142521145236,
          0.9999547695508616,
          1
         ],
         "yaxis": "y4"
        },
        {
         "hovertemplate": "Contig=NC_014328.1.region004<br>variable=SQErr_med<br>readGB=%{x}<br>value=%{y}<extra></extra>",
         "legendgroup": "NC_014328.1.region004",
         "line": {
          "color": "#FF6692",
          "dash": "solid"
         },
         "marker": {
          "symbol": "circle"
         },
         "mode": "lines",
         "name": "NC_014328.1.region004",
         "orientation": "v",
         "showlegend": false,
         "type": "scatter",
         "x": [
          0.001,
          0.002,
          0.01,
          0.02,
          0.1,
          0.2,
          1
         ],
         "xaxis": "x3",
         "y": [
          0.8848927312328244,
          0.7768214382227828,
          0.16554622139928085,
          0.03469001851197844,
          0.8672504627994607,
          3.469001851197843,
          86.72504627994614
         ],
         "yaxis": "y3"
        },
        {
         "hovertemplate": "Contig=NC_014328.1.region004<br>variable=expectedCount<br>readGB=%{x}<br>value=%{y}<extra></extra>",
         "legendgroup": "NC_014328.1.region004",
         "line": {
          "color": "#FF6692",
          "dash": "solid"
         },
         "marker": {
          "symbol": "circle"
         },
         "mode": "lines",
         "name": "NC_014328.1.region004",
         "orientation": "v",
         "showlegend": false,
         "type": "scatter",
         "x": [
          0.001,
          0.002,
          0.01,
          0.02,
          0.1,
          0.2,
          1
         ],
         "xaxis": "x2",
         "y": [
          0.059312628322871375,
          0.11862525664574275,
          0.5931262832287137,
          1.1862525664574275,
          5.931262832287137,
          11.862525664574274,
          59.312628322871376
         ],
         "yaxis": "y2"
        },
        {
         "hovertemplate": "Contig=NC_014328.1.region004<br>variable=SQErr_avg<br>readGB=%{x}<br>value=%{y}<extra></extra>",
         "legendgroup": "NC_014328.1.region004",
         "line": {
          "color": "#FF6692",
          "dash": "solid"
         },
         "marker": {
          "symbol": "circle"
         },
         "mode": "lines",
         "name": "NC_014328.1.region004",
         "orientation": "v",
         "showlegend": false,
         "type": "scatter",
         "x": [
          0.001,
          0.002,
          0.01,
          0.02,
          0.1,
          0.2,
          1
         ],
         "xaxis": "x",
         "y": [
          0.9078441973597999,
          0.9734543481810201,
          0.4666651267544248,
          0.37018042515386596,
          0.2842810057969526,
          1.0628089196405475,
          32.079627173233305
         ],
         "yaxis": "y"
        },
        {
         "hovertemplate": "Contig=NZ_CP053893.1.region001<br>variable=Depth median<br>readGB=%{x}<br>value=%{y}<extra></extra>",
         "legendgroup": "NZ_CP053893.1.region001",
         "line": {
          "color": "#B6E880",
          "dash": "solid"
         },
         "marker": {
          "symbol": "circle"
         },
         "mode": "lines",
         "name": "NZ_CP053893.1.region001",
         "orientation": "v",
         "showlegend": true,
         "type": "scatter",
         "x": [
          0.001,
          0.002,
          0.01,
          0.02,
          0.1,
          0.2,
          1
         ],
         "xaxis": "x6",
         "y": [
          1,
          1,
          1,
          1,
          5,
          10,
          51
         ],
         "yaxis": "y6"
        },
        {
         "hovertemplate": "Contig=NZ_CP053893.1.region001<br>variable=Depth avg<br>readGB=%{x}<br>value=%{y}<extra></extra>",
         "legendgroup": "NZ_CP053893.1.region001",
         "line": {
          "color": "#B6E880",
          "dash": "solid"
         },
         "marker": {
          "symbol": "circle"
         },
         "mode": "lines",
         "name": "NZ_CP053893.1.region001",
         "orientation": "v",
         "showlegend": false,
         "type": "scatter",
         "x": [
          0.001,
          0.002,
          0.01,
          0.02,
          0.1,
          0.2,
          1
         ],
         "xaxis": "x5",
         "y": [
          1.0331421287444231,
          1.071350164654226,
          1.4117079446767449,
          1.7049623321323288,
          4.841885357494953,
          10.447892027271465,
          50.75933398265386
         ],
         "yaxis": "y5"
        },
        {
         "hovertemplate": "Contig=NZ_CP053893.1.region001<br>variable=Breadth<br>readGB=%{x}<br>value=%{y}<extra></extra>",
         "legendgroup": "NZ_CP053893.1.region001",
         "line": {
          "color": "#B6E880",
          "dash": "solid"
         },
         "marker": {
          "symbol": "circle"
         },
         "mode": "lines",
         "name": "NZ_CP053893.1.region001",
         "orientation": "v",
         "showlegend": false,
         "type": "scatter",
         "x": [
          0.001,
          0.002,
          0.01,
          0.02,
          0.1,
          0.2,
          1
         ],
         "xaxis": "x4",
         "y": [
          0.0727702796716293,
          0.084504429293632,
          0.2883910764806827,
          0.56639302444228,
          0.987941190111776,
          1,
          1
         ],
         "yaxis": "y4"
        },
        {
         "hovertemplate": "Contig=NZ_CP053893.1.region001<br>variable=SQErr_med<br>readGB=%{x}<br>value=%{y}<extra></extra>",
         "legendgroup": "NZ_CP053893.1.region001",
         "line": {
          "color": "#B6E880",
          "dash": "solid"
         },
         "marker": {
          "symbol": "circle"
         },
         "mode": "lines",
         "name": "NZ_CP053893.1.region001",
         "orientation": "v",
         "showlegend": false,
         "type": "scatter",
         "x": [
          0.001,
          0.002,
          0.01,
          0.02,
          0.1,
          0.2,
          1
         ],
         "xaxis": "x3",
         "y": [
          0.8848927312328244,
          0.7768214382227828,
          0.16554622139928085,
          0.03469001851197844,
          0.8672504627994607,
          3.469001851197843,
          69.09978963420339
         ],
         "yaxis": "y3"
        },
        {
         "hovertemplate": "Contig=NZ_CP053893.1.region001<br>variable=expectedCount<br>readGB=%{x}<br>value=%{y}<extra></extra>",
         "legendgroup": "NZ_CP053893.1.region001",
         "line": {
          "color": "#B6E880",
          "dash": "solid"
         },
         "marker": {
          "symbol": "circle"
         },
         "mode": "lines",
         "name": "NZ_CP053893.1.region001",
         "orientation": "v",
         "showlegend": false,
         "type": "scatter",
         "x": [
          0.001,
          0.002,
          0.01,
          0.02,
          0.1,
          0.2,
          1
         ],
         "xaxis": "x2",
         "y": [
          0.059312628322871375,
          0.11862525664574275,
          0.5931262832287137,
          1.1862525664574275,
          5.931262832287137,
          11.862525664574274,
          59.312628322871376
         ],
         "yaxis": "y2"
        },
        {
         "hovertemplate": "Contig=NZ_CP053893.1.region001<br>variable=SQErr_avg<br>readGB=%{x}<br>value=%{y}<extra></extra>",
         "legendgroup": "NZ_CP053893.1.region001",
         "line": {
          "color": "#B6E880",
          "dash": "solid"
         },
         "marker": {
          "symbol": "circle"
         },
         "mode": "lines",
         "name": "NZ_CP053893.1.region001",
         "orientation": "v",
         "showlegend": false,
         "type": "scatter",
         "x": [
          0.001,
          0.002,
          0.01,
          0.02,
          0.1,
          0.2,
          1
         ],
         "xaxis": "x",
         "y": [
          0.9483438958912892,
          0.907684750339773,
          0.6700759364590191,
          0.26905982100651105,
          1.1867432825845956,
          2.001188327788578,
          73.15884407039705
         ],
         "yaxis": "y"
        },
        {
         "hovertemplate": "Contig=NZ_LT906470.1.region001<br>variable=Depth median<br>readGB=%{x}<br>value=%{y}<extra></extra>",
         "legendgroup": "NZ_LT906470.1.region001",
         "line": {
          "color": "#FF97FF",
          "dash": "solid"
         },
         "marker": {
          "symbol": "circle"
         },
         "mode": "lines",
         "name": "NZ_LT906470.1.region001",
         "orientation": "v",
         "showlegend": true,
         "type": "scatter",
         "x": [
          0.001,
          0.002,
          0.01,
          0.02,
          0.1,
          0.2,
          1
         ],
         "xaxis": "x6",
         "y": [
          1,
          1,
          1,
          1,
          5,
          11,
          52
         ],
         "yaxis": "y6"
        },
        {
         "hovertemplate": "Contig=NZ_LT906470.1.region001<br>variable=Depth avg<br>readGB=%{x}<br>value=%{y}<extra></extra>",
         "legendgroup": "NZ_LT906470.1.region001",
         "line": {
          "color": "#FF97FF",
          "dash": "solid"
         },
         "marker": {
          "symbol": "circle"
         },
         "mode": "lines",
         "name": "NZ_LT906470.1.region001",
         "orientation": "v",
         "showlegend": false,
         "type": "scatter",
         "x": [
          0.001,
          0.002,
          0.01,
          0.02,
          0.1,
          0.2,
          1
         ],
         "xaxis": "x5",
         "y": [
          1.0991735537190082,
          1.0928381962864722,
          1.4321079158019567,
          1.768979057591623,
          5.640342822161004,
          11.231306725401588,
          53.40944822086355
         ],
         "yaxis": "y5"
        },
        {
         "hovertemplate": "Contig=NZ_LT906470.1.region001<br>variable=Breadth<br>readGB=%{x}<br>value=%{y}<extra></extra>",
         "legendgroup": "NZ_LT906470.1.region001",
         "line": {
          "color": "#FF97FF",
          "dash": "solid"
         },
         "marker": {
          "symbol": "circle"
         },
         "mode": "lines",
         "name": "NZ_LT906470.1.region001",
         "orientation": "v",
         "showlegend": false,
         "type": "scatter",
         "x": [
          0.001,
          0.002,
          0.01,
          0.02,
          0.1,
          0.2,
          1
         ],
         "xaxis": "x4",
         "y": [
          0.0918998974670565,
          0.1002164584361827,
          0.2561804579804808,
          0.6382865605893745,
          0.9925188926442108,
          1,
          1
         ],
         "yaxis": "y4"
        },
        {
         "hovertemplate": "Contig=NZ_LT906470.1.region001<br>variable=SQErr_med<br>readGB=%{x}<br>value=%{y}<extra></extra>",
         "legendgroup": "NZ_LT906470.1.region001",
         "line": {
          "color": "#FF97FF",
          "dash": "solid"
         },
         "marker": {
          "symbol": "circle"
         },
         "mode": "lines",
         "name": "NZ_LT906470.1.region001",
         "orientation": "v",
         "showlegend": false,
         "type": "scatter",
         "x": [
          0.001,
          0.002,
          0.01,
          0.02,
          0.1,
          0.2,
          1
         ],
         "xaxis": "x3",
         "y": [
          0.8848927312328244,
          0.7768214382227828,
          0.16554622139928085,
          0.03469001851197844,
          0.8672504627994607,
          0.7439505220492939,
          53.47453298846063
         ],
         "yaxis": "y3"
        },
        {
         "hovertemplate": "Contig=NZ_LT906470.1.region001<br>variable=expectedCount<br>readGB=%{x}<br>value=%{y}<extra></extra>",
         "legendgroup": "NZ_LT906470.1.region001",
         "line": {
          "color": "#FF97FF",
          "dash": "solid"
         },
         "marker": {
          "symbol": "circle"
         },
         "mode": "lines",
         "name": "NZ_LT906470.1.region001",
         "orientation": "v",
         "showlegend": false,
         "type": "scatter",
         "x": [
          0.001,
          0.002,
          0.01,
          0.02,
          0.1,
          0.2,
          1
         ],
         "xaxis": "x2",
         "y": [
          0.059312628322871375,
          0.11862525664574275,
          0.5931262832287137,
          1.1862525664574275,
          5.931262832287137,
          11.862525664574274,
          59.312628322871376
         ],
         "yaxis": "y2"
        },
        {
         "hovertemplate": "Contig=NZ_LT906470.1.region001<br>variable=SQErr_avg<br>readGB=%{x}<br>value=%{y}<extra></extra>",
         "legendgroup": "NZ_LT906470.1.region001",
         "line": {
          "color": "#FF97FF",
          "dash": "solid"
         },
         "marker": {
          "symbol": "circle"
         },
         "mode": "lines",
         "name": "NZ_LT906470.1.region001",
         "orientation": "v",
         "showlegend": false,
         "type": "scatter",
         "x": [
          0.001,
          0.002,
          0.01,
          0.02,
          0.1,
          0.2,
          1
         ],
         "xaxis": "x",
         "y": [
          1.0813107441657102,
          0.9490908517634314,
          0.7038901797952641,
          0.33957016346957175,
          0.08463445229178965,
          0.39843734917029205,
          34.847535316741094
         ],
         "yaxis": "y"
        },
        {
         "hovertemplate": "Contig=NC_014328.1.region001<br>variable=Depth median<br>readGB=%{x}<br>value=%{y}<extra></extra>",
         "legendgroup": "NC_014328.1.region001",
         "line": {
          "color": "#FECB52",
          "dash": "solid"
         },
         "marker": {
          "symbol": "circle"
         },
         "mode": "lines",
         "name": "NC_014328.1.region001",
         "orientation": "v",
         "showlegend": true,
         "type": "scatter",
         "x": [
          0.001,
          0.002,
          0.01,
          0.02,
          0.1,
          0.2,
          1
         ],
         "xaxis": "x6",
         "y": [
          1,
          1,
          1,
          2,
          5,
          9,
          50
         ],
         "yaxis": "y6"
        },
        {
         "hovertemplate": "Contig=NC_014328.1.region001<br>variable=Depth avg<br>readGB=%{x}<br>value=%{y}<extra></extra>",
         "legendgroup": "NC_014328.1.region001",
         "line": {
          "color": "#FECB52",
          "dash": "solid"
         },
         "marker": {
          "symbol": "circle"
         },
         "mode": "lines",
         "name": "NC_014328.1.region001",
         "orientation": "v",
         "showlegend": false,
         "type": "scatter",
         "x": [
          0.001,
          0.002,
          0.01,
          0.02,
          0.1,
          0.2,
          1
         ],
         "xaxis": "x5",
         "y": [
          1.0805084745762712,
          1.1022561863173217,
          1.31740614334471,
          1.856779229594434,
          5.199587099654057,
          9.625165271044512,
          49.9456809167034
         ],
         "yaxis": "y5"
        },
        {
         "hovertemplate": "Contig=NC_014328.1.region001<br>variable=Breadth<br>readGB=%{x}<br>value=%{y}<extra></extra>",
         "legendgroup": "NC_014328.1.region001",
         "line": {
          "color": "#FECB52",
          "dash": "solid"
         },
         "marker": {
          "symbol": "circle"
         },
         "mode": "lines",
         "name": "NC_014328.1.region001",
         "orientation": "v",
         "showlegend": false,
         "type": "scatter",
         "x": [
          0.001,
          0.002,
          0.01,
          0.02,
          0.1,
          0.2,
          1
         ],
         "xaxis": "x4",
         "y": [
          0.0390039665050683,
          0.1513882767739092,
          0.3712538563243719,
          0.6492948435434112,
          0.98732921992067,
          1,
          1
         ],
         "yaxis": "y4"
        },
        {
         "hovertemplate": "Contig=NC_014328.1.region001<br>variable=SQErr_med<br>readGB=%{x}<br>value=%{y}<extra></extra>",
         "legendgroup": "NC_014328.1.region001",
         "line": {
          "color": "#FECB52",
          "dash": "solid"
         },
         "marker": {
          "symbol": "circle"
         },
         "mode": "lines",
         "name": "NC_014328.1.region001",
         "orientation": "v",
         "showlegend": false,
         "type": "scatter",
         "x": [
          0.001,
          0.002,
          0.01,
          0.02,
          0.1,
          0.2,
          1
         ],
         "xaxis": "x3",
         "y": [
          0.8848927312328244,
          0.7768214382227828,
          0.16554622139928085,
          0.6621848855971234,
          0.8672504627994607,
          8.194053180346392,
          86.72504627994614
         ],
         "yaxis": "y3"
        },
        {
         "hovertemplate": "Contig=NC_014328.1.region001<br>variable=expectedCount<br>readGB=%{x}<br>value=%{y}<extra></extra>",
         "legendgroup": "NC_014328.1.region001",
         "line": {
          "color": "#FECB52",
          "dash": "solid"
         },
         "marker": {
          "symbol": "circle"
         },
         "mode": "lines",
         "name": "NC_014328.1.region001",
         "orientation": "v",
         "showlegend": false,
         "type": "scatter",
         "x": [
          0.001,
          0.002,
          0.01,
          0.02,
          0.1,
          0.2,
          1
         ],
         "xaxis": "x2",
         "y": [
          0.059312628322871375,
          0.11862525664574275,
          0.5931262832287137,
          1.1862525664574275,
          5.931262832287137,
          11.862525664574274,
          59.312628322871376
         ],
         "yaxis": "y2"
        },
        {
         "hovertemplate": "Contig=NC_014328.1.region001<br>variable=SQErr_avg<br>readGB=%{x}<br>value=%{y}<extra></extra>",
         "legendgroup": "NC_014328.1.region001",
         "line": {
          "color": "#FECB52",
          "dash": "solid"
         },
         "marker": {
          "symbol": "circle"
         },
         "mode": "lines",
         "name": "NC_014328.1.region001",
         "orientation": "v",
         "showlegend": false,
         "type": "scatter",
         "x": [
          0.001,
          0.002,
          0.01,
          0.02,
          0.1,
          0.2,
          1
         ],
         "xaxis": "x",
         "y": [
          1.0428409564051975,
          0.9675298058065747,
          0.5245813157696471,
          0.4496060059776487,
          0.5353493777241551,
          5.0057815305356534,
          87.73970370991692
         ],
         "yaxis": "y"
        },
        {
         "hovertemplate": "Contig=NZ_CP053893.1.region004<br>variable=Depth median<br>readGB=%{x}<br>value=%{y}<extra></extra>",
         "legendgroup": "NZ_CP053893.1.region004",
         "line": {
          "color": "#636efa",
          "dash": "solid"
         },
         "marker": {
          "symbol": "circle"
         },
         "mode": "lines",
         "name": "NZ_CP053893.1.region004",
         "orientation": "v",
         "showlegend": true,
         "type": "scatter",
         "x": [
          0.001,
          0.002,
          0.01,
          0.02,
          0.1,
          0.2,
          1
         ],
         "xaxis": "x6",
         "y": [
          1,
          1,
          1,
          1,
          5,
          10,
          52
         ],
         "yaxis": "y6"
        },
        {
         "hovertemplate": "Contig=NZ_CP053893.1.region004<br>variable=Depth avg<br>readGB=%{x}<br>value=%{y}<extra></extra>",
         "legendgroup": "NZ_CP053893.1.region004",
         "line": {
          "color": "#636efa",
          "dash": "solid"
         },
         "marker": {
          "symbol": "circle"
         },
         "mode": "lines",
         "name": "NZ_CP053893.1.region004",
         "orientation": "v",
         "showlegend": false,
         "type": "scatter",
         "x": [
          0.001,
          0.002,
          0.01,
          0.02,
          0.1,
          0.2,
          1
         ],
         "xaxis": "x5",
         "y": [
          1.0693365212193664,
          1.0618892508143325,
          1.3785567615136405,
          1.5359060708109584,
          5.878332300061996,
          11.574854576997652,
          56.32957444637208
         ],
         "yaxis": "y5"
        },
        {
         "hovertemplate": "Contig=NZ_CP053893.1.region004<br>variable=Breadth<br>readGB=%{x}<br>value=%{y}<extra></extra>",
         "legendgroup": "NZ_CP053893.1.region004",
         "line": {
          "color": "#636efa",
          "dash": "solid"
         },
         "marker": {
          "symbol": "circle"
         },
         "mode": "lines",
         "name": "NZ_CP053893.1.region004",
         "orientation": "v",
         "showlegend": false,
         "type": "scatter",
         "x": [
          0.001,
          0.002,
          0.01,
          0.02,
          0.1,
          0.2,
          1
         ],
         "xaxis": "x4",
         "y": [
          0.0853658536585365,
          0.0783243188080416,
          0.3478926421063373,
          0.5606184304520869,
          0.9876518012042044,
          1,
          1
         ],
         "yaxis": "y4"
        },
        {
         "hovertemplate": "Contig=NZ_CP053893.1.region004<br>variable=SQErr_med<br>readGB=%{x}<br>value=%{y}<extra></extra>",
         "legendgroup": "NZ_CP053893.1.region004",
         "line": {
          "color": "#636efa",
          "dash": "solid"
         },
         "marker": {
          "symbol": "circle"
         },
         "mode": "lines",
         "name": "NZ_CP053893.1.region004",
         "orientation": "v",
         "showlegend": false,
         "type": "scatter",
         "x": [
          0.001,
          0.002,
          0.01,
          0.02,
          0.1,
          0.2,
          1
         ],
         "xaxis": "x3",
         "y": [
          0.8848927312328244,
          0.7768214382227828,
          0.16554622139928085,
          0.03469001851197844,
          0.8672504627994607,
          3.469001851197843,
          53.47453298846063
         ],
         "yaxis": "y3"
        },
        {
         "hovertemplate": "Contig=NZ_CP053893.1.region004<br>variable=expectedCount<br>readGB=%{x}<br>value=%{y}<extra></extra>",
         "legendgroup": "NZ_CP053893.1.region004",
         "line": {
          "color": "#636efa",
          "dash": "solid"
         },
         "marker": {
          "symbol": "circle"
         },
         "mode": "lines",
         "name": "NZ_CP053893.1.region004",
         "orientation": "v",
         "showlegend": false,
         "type": "scatter",
         "x": [
          0.001,
          0.002,
          0.01,
          0.02,
          0.1,
          0.2,
          1
         ],
         "xaxis": "x2",
         "y": [
          0.059312628322871375,
          0.11862525664574275,
          0.5931262832287137,
          1.1862525664574275,
          5.931262832287137,
          11.862525664574274,
          59.312628322871376
         ],
         "yaxis": "y2"
        },
        {
         "hovertemplate": "Contig=NZ_CP053893.1.region004<br>variable=SQErr_avg<br>readGB=%{x}<br>value=%{y}<extra></extra>",
         "legendgroup": "NZ_CP053893.1.region004",
         "line": {
          "color": "#636efa",
          "dash": "solid"
         },
         "marker": {
          "symbol": "circle"
         },
         "mode": "lines",
         "name": "NZ_CP053893.1.region004",
         "orientation": "v",
         "showlegend": false,
         "type": "scatter",
         "x": [
          0.001,
          0.002,
          0.01,
          0.02,
          0.1,
          0.2,
          1
         ],
         "xaxis": "x",
         "y": [
          1.0201482642217905,
          0.8897469626948813,
          0.6169010362188888,
          0.12225757310670467,
          0.0028016412416367125,
          0.08275465462751702,
          8.89861043009749
         ],
         "yaxis": "y"
        },
        {
         "hovertemplate": "Contig=NZ_CP053893.1.region002<br>variable=Depth median<br>readGB=%{x}<br>value=%{y}<extra></extra>",
         "legendgroup": "NZ_CP053893.1.region002",
         "line": {
          "color": "#EF553B",
          "dash": "solid"
         },
         "marker": {
          "symbol": "circle"
         },
         "mode": "lines",
         "name": "NZ_CP053893.1.region002",
         "orientation": "v",
         "showlegend": true,
         "type": "scatter",
         "x": [
          0.001,
          0.002,
          0.01,
          0.02,
          0.1,
          0.2,
          1
         ],
         "xaxis": "x6",
         "y": [
          1,
          1,
          2,
          2,
          6,
          11,
          52
         ],
         "yaxis": "y6"
        },
        {
         "hovertemplate": "Contig=NZ_CP053893.1.region002<br>variable=Depth avg<br>readGB=%{x}<br>value=%{y}<extra></extra>",
         "legendgroup": "NZ_CP053893.1.region002",
         "line": {
          "color": "#EF553B",
          "dash": "solid"
         },
         "marker": {
          "symbol": "circle"
         },
         "mode": "lines",
         "name": "NZ_CP053893.1.region002",
         "orientation": "v",
         "showlegend": false,
         "type": "scatter",
         "x": [
          0.001,
          0.002,
          0.01,
          0.02,
          0.1,
          0.2,
          1
         ],
         "xaxis": "x5",
         "y": [
          1.2406194163192377,
          1.972497824194952,
          4.8083191437606425,
          7.651257839475724,
          28.202812057454988,
          56.118902592499374,
          281.6797040169133
         ],
         "yaxis": "y5"
        },
        {
         "hovertemplate": "Contig=NZ_CP053893.1.region002<br>variable=Breadth<br>readGB=%{x}<br>value=%{y}<extra></extra>",
         "legendgroup": "NZ_CP053893.1.region002",
         "line": {
          "color": "#EF553B",
          "dash": "solid"
         },
         "marker": {
          "symbol": "circle"
         },
         "mode": "lines",
         "name": "NZ_CP053893.1.region002",
         "orientation": "v",
         "showlegend": false,
         "type": "scatter",
         "x": [
          0.001,
          0.002,
          0.01,
          0.02,
          0.1,
          0.2,
          1
         ],
         "xaxis": "x4",
         "y": [
          0.1690325178697271,
          0.2891875566294171,
          0.6208094231350045,
          0.7143360515453538,
          0.995268297593879,
          0.9999496627403603,
          1
         ],
         "yaxis": "y4"
        },
        {
         "hovertemplate": "Contig=NZ_CP053893.1.region002<br>variable=SQErr_med<br>readGB=%{x}<br>value=%{y}<extra></extra>",
         "legendgroup": "NZ_CP053893.1.region002",
         "line": {
          "color": "#EF553B",
          "dash": "solid"
         },
         "marker": {
          "symbol": "circle"
         },
         "mode": "lines",
         "name": "NZ_CP053893.1.region002",
         "orientation": "v",
         "showlegend": false,
         "type": "scatter",
         "x": [
          0.001,
          0.002,
          0.01,
          0.02,
          0.1,
          0.2,
          1
         ],
         "xaxis": "x3",
         "y": [
          0.8848927312328244,
          0.7768214382227828,
          1.9792936549418536,
          0.6621848855971234,
          0.004724798225186223,
          0.7439505220492939,
          53.47453298846063
         ],
         "yaxis": "y3"
        },
        {
         "hovertemplate": "Contig=NZ_CP053893.1.region002<br>variable=expectedCount<br>readGB=%{x}<br>value=%{y}<extra></extra>",
         "legendgroup": "NZ_CP053893.1.region002",
         "line": {
          "color": "#EF553B",
          "dash": "solid"
         },
         "marker": {
          "symbol": "circle"
         },
         "mode": "lines",
         "name": "NZ_CP053893.1.region002",
         "orientation": "v",
         "showlegend": false,
         "type": "scatter",
         "x": [
          0.001,
          0.002,
          0.01,
          0.02,
          0.1,
          0.2,
          1
         ],
         "xaxis": "x2",
         "y": [
          0.059312628322871375,
          0.11862525664574275,
          0.5931262832287137,
          1.1862525664574275,
          5.931262832287137,
          11.862525664574274,
          59.312628322871376
         ],
         "yaxis": "y2"
        },
        {
         "hovertemplate": "Contig=NZ_CP053893.1.region002<br>variable=SQErr_avg<br>readGB=%{x}<br>value=%{y}<extra></extra>",
         "legendgroup": "NZ_CP053893.1.region002",
         "line": {
          "color": "#EF553B",
          "dash": "solid"
         },
         "marker": {
          "symbol": "circle"
         },
         "mode": "lines",
         "name": "NZ_CP053893.1.region002",
         "orientation": "v",
         "showlegend": false,
         "type": "scatter",
         "x": [
          0.001,
          0.002,
          0.01,
          0.02,
          0.1,
          0.2,
          1
         ],
         "xaxis": "x",
         "y": [
          1.395485727366292,
          3.436843496711498,
          17.76785085147934,
          41.79629318015438,
          496.0219048890748,
          1958.6268987865815,
          49447.11635271978
         ],
         "yaxis": "y"
        },
        {
         "hovertemplate": "Contig=NZ_CP053893.1.region005<br>variable=Depth median<br>readGB=%{x}<br>value=%{y}<extra></extra>",
         "legendgroup": "NZ_CP053893.1.region005",
         "line": {
          "color": "#00cc96",
          "dash": "solid"
         },
         "marker": {
          "symbol": "circle"
         },
         "mode": "lines",
         "name": "NZ_CP053893.1.region005",
         "orientation": "v",
         "showlegend": true,
         "type": "scatter",
         "x": [
          0.001,
          0.002,
          0.01,
          0.02,
          0.1,
          0.2,
          1
         ],
         "xaxis": "x6",
         "y": [
          1,
          1,
          1,
          1,
          5,
          10,
          49
         ],
         "yaxis": "y6"
        },
        {
         "hovertemplate": "Contig=NZ_CP053893.1.region005<br>variable=Depth avg<br>readGB=%{x}<br>value=%{y}<extra></extra>",
         "legendgroup": "NZ_CP053893.1.region005",
         "line": {
          "color": "#00cc96",
          "dash": "solid"
         },
         "marker": {
          "symbol": "circle"
         },
         "mode": "lines",
         "name": "NZ_CP053893.1.region005",
         "orientation": "v",
         "showlegend": false,
         "type": "scatter",
         "x": [
          0.001,
          0.002,
          0.01,
          0.02,
          0.1,
          0.2,
          1
         ],
         "xaxis": "x5",
         "y": [
          1.094157685762904,
          1.095223325062035,
          1.3663389153479797,
          1.6058917996587374,
          5.012715934560203,
          9.87608274274638,
          49.55696547546941
         ],
         "yaxis": "y5"
        },
        {
         "hovertemplate": "Contig=NZ_CP053893.1.region005<br>variable=Breadth<br>readGB=%{x}<br>value=%{y}<extra></extra>",
         "legendgroup": "NZ_CP053893.1.region005",
         "line": {
          "color": "#00cc96",
          "dash": "solid"
         },
         "marker": {
          "symbol": "circle"
         },
         "mode": "lines",
         "name": "NZ_CP053893.1.region005",
         "orientation": "v",
         "showlegend": false,
         "type": "scatter",
         "x": [
          0.001,
          0.002,
          0.01,
          0.02,
          0.1,
          0.2,
          1
         ],
         "xaxis": "x4",
         "y": [
          0.0533918837068443,
          0.0976377952755905,
          0.3942459115687462,
          0.6034524530587523,
          0.9931405208964263,
          0.999939430648092,
          1
         ],
         "yaxis": "y4"
        },
        {
         "hovertemplate": "Contig=NZ_CP053893.1.region005<br>variable=SQErr_med<br>readGB=%{x}<br>value=%{y}<extra></extra>",
         "legendgroup": "NZ_CP053893.1.region005",
         "line": {
          "color": "#00cc96",
          "dash": "solid"
         },
         "marker": {
          "symbol": "circle"
         },
         "mode": "lines",
         "name": "NZ_CP053893.1.region005",
         "orientation": "v",
         "showlegend": false,
         "type": "scatter",
         "x": [
          0.001,
          0.002,
          0.01,
          0.02,
          0.1,
          0.2,
          1
         ],
         "xaxis": "x3",
         "y": [
          0.8848927312328244,
          0.7768214382227828,
          0.16554622139928085,
          0.03469001851197844,
          0.8672504627994607,
          3.469001851197843,
          106.3503029256889
         ],
         "yaxis": "y3"
        },
        {
         "hovertemplate": "Contig=NZ_CP053893.1.region005<br>variable=expectedCount<br>readGB=%{x}<br>value=%{y}<extra></extra>",
         "legendgroup": "NZ_CP053893.1.region005",
         "line": {
          "color": "#00cc96",
          "dash": "solid"
         },
         "marker": {
          "symbol": "circle"
         },
         "mode": "lines",
         "name": "NZ_CP053893.1.region005",
         "orientation": "v",
         "showlegend": false,
         "type": "scatter",
         "x": [
          0.001,
          0.002,
          0.01,
          0.02,
          0.1,
          0.2,
          1
         ],
         "xaxis": "x2",
         "y": [
          0.059312628322871375,
          0.11862525664574275,
          0.5931262832287137,
          1.1862525664574275,
          5.931262832287137,
          11.862525664574274,
          59.312628322871376
         ],
         "yaxis": "y2"
        },
        {
         "hovertemplate": "Contig=NZ_CP053893.1.region005<br>variable=SQErr_avg<br>readGB=%{x}<br>value=%{y}<extra></extra>",
         "legendgroup": "NZ_CP053893.1.region005",
         "line": {
          "color": "#00cc96",
          "dash": "solid"
         },
         "marker": {
          "symbol": "circle"
         },
         "mode": "lines",
         "name": "NZ_CP053893.1.region005",
         "orientation": "v",
         "showlegend": false,
         "type": "scatter",
         "x": [
          0.001,
          0.002,
          0.01,
          0.02,
          0.1,
          0.2,
          1
         ],
         "xaxis": "x",
         "y": [
          1.0709042929080648,
          0.9537437872344329,
          0.5978577744688033,
          0.17609708604178337,
          0.8437284033237757,
          3.9459554816801417,
          95.172957592179
         ],
         "yaxis": "y"
        },
        {
         "hovertemplate": "Contig=NC_014328.1.region003<br>variable=Depth median<br>readGB=%{x}<br>value=%{y}<extra></extra>",
         "legendgroup": "NC_014328.1.region003",
         "line": {
          "color": "#ab63fa",
          "dash": "solid"
         },
         "marker": {
          "symbol": "circle"
         },
         "mode": "lines",
         "name": "NC_014328.1.region003",
         "orientation": "v",
         "showlegend": true,
         "type": "scatter",
         "x": [
          0.001,
          0.002,
          0.01,
          0.02,
          0.1,
          0.2,
          1
         ],
         "xaxis": "x6",
         "y": [
          1,
          1,
          1,
          1,
          5,
          10,
          50
         ],
         "yaxis": "y6"
        },
        {
         "hovertemplate": "Contig=NC_014328.1.region003<br>variable=Depth avg<br>readGB=%{x}<br>value=%{y}<extra></extra>",
         "legendgroup": "NC_014328.1.region003",
         "line": {
          "color": "#ab63fa",
          "dash": "solid"
         },
         "marker": {
          "symbol": "circle"
         },
         "mode": "lines",
         "name": "NC_014328.1.region003",
         "orientation": "v",
         "showlegend": false,
         "type": "scatter",
         "x": [
          0.001,
          0.002,
          0.01,
          0.02,
          0.1,
          0.2,
          1
         ],
         "xaxis": "x5",
         "y": [
          1.123261694058154,
          1.0631796996374936,
          1.3119026933101652,
          1.7614520958083832,
          5.198801344832627,
          9.835477808298394,
          51.43436777178104
         ],
         "yaxis": "y5"
        },
        {
         "hovertemplate": "Contig=NC_014328.1.region003<br>variable=Breadth<br>readGB=%{x}<br>value=%{y}<extra></extra>",
         "legendgroup": "NC_014328.1.region003",
         "line": {
          "color": "#ab63fa",
          "dash": "solid"
         },
         "marker": {
          "symbol": "circle"
         },
         "mode": "lines",
         "name": "NC_014328.1.region003",
         "orientation": "v",
         "showlegend": false,
         "type": "scatter",
         "x": [
          0.001,
          0.002,
          0.01,
          0.02,
          0.1,
          0.2,
          1
         ],
         "xaxis": "x4",
         "y": [
          0.0762336160370084,
          0.0930512721665381,
          0.27732266769468,
          0.643793369313801,
          0.9889649190439476,
          0.9999518118735544,
          1
         ],
         "yaxis": "y4"
        },
        {
         "hovertemplate": "Contig=NC_014328.1.region003<br>variable=SQErr_med<br>readGB=%{x}<br>value=%{y}<extra></extra>",
         "legendgroup": "NC_014328.1.region003",
         "line": {
          "color": "#ab63fa",
          "dash": "solid"
         },
         "marker": {
          "symbol": "circle"
         },
         "mode": "lines",
         "name": "NC_014328.1.region003",
         "orientation": "v",
         "showlegend": false,
         "type": "scatter",
         "x": [
          0.001,
          0.002,
          0.01,
          0.02,
          0.1,
          0.2,
          1
         ],
         "xaxis": "x3",
         "y": [
          0.8848927312328244,
          0.7768214382227828,
          0.16554622139928085,
          0.03469001851197844,
          0.8672504627994607,
          3.469001851197843,
          86.72504627994614
         ],
         "yaxis": "y3"
        },
        {
         "hovertemplate": "Contig=NC_014328.1.region003<br>variable=expectedCount<br>readGB=%{x}<br>value=%{y}<extra></extra>",
         "legendgroup": "NC_014328.1.region003",
         "line": {
          "color": "#ab63fa",
          "dash": "solid"
         },
         "marker": {
          "symbol": "circle"
         },
         "mode": "lines",
         "name": "NC_014328.1.region003",
         "orientation": "v",
         "showlegend": false,
         "type": "scatter",
         "x": [
          0.001,
          0.002,
          0.01,
          0.02,
          0.1,
          0.2,
          1
         ],
         "xaxis": "x2",
         "y": [
          0.059312628322871375,
          0.11862525664574275,
          0.5931262832287137,
          1.1862525664574275,
          5.931262832287137,
          11.862525664574274,
          59.312628322871376
         ],
         "yaxis": "y2"
        },
        {
         "hovertemplate": "Contig=NC_014328.1.region003<br>variable=SQErr_avg<br>readGB=%{x}<br>value=%{y}<extra></extra>",
         "legendgroup": "NC_014328.1.region003",
         "line": {
          "color": "#ab63fa",
          "dash": "solid"
         },
         "marker": {
          "symbol": "circle"
         },
         "mode": "lines",
         "name": "NC_014328.1.region003",
         "orientation": "v",
         "showlegend": false,
         "type": "scatter",
         "x": [
          0.001,
          0.002,
          0.01,
          0.02,
          0.1,
          0.2,
          1
         ],
         "xaxis": "x",
         "y": [
          1.1319876144789807,
          0.8921830957754567,
          0.5166395276895789,
          0.330854498565561,
          0.5364998306040738,
          4.1089230116326405,
          62.06698931086619
         ],
         "yaxis": "y"
        },
        {
         "hovertemplate": "Contig=NZ_CP053893.1.region006<br>variable=Depth median<br>readGB=%{x}<br>value=%{y}<extra></extra>",
         "legendgroup": "NZ_CP053893.1.region006",
         "line": {
          "color": "#FFA15A",
          "dash": "solid"
         },
         "marker": {
          "symbol": "circle"
         },
         "mode": "lines",
         "name": "NZ_CP053893.1.region006",
         "orientation": "v",
         "showlegend": true,
         "type": "scatter",
         "x": [
          0.001,
          0.002,
          0.01,
          0.02,
          0.1,
          0.2,
          1
         ],
         "xaxis": "x6",
         "y": [
          1,
          1,
          1,
          2,
          6,
          11,
          52
         ],
         "yaxis": "y6"
        },
        {
         "hovertemplate": "Contig=NZ_CP053893.1.region006<br>variable=Depth avg<br>readGB=%{x}<br>value=%{y}<extra></extra>",
         "legendgroup": "NZ_CP053893.1.region006",
         "line": {
          "color": "#FFA15A",
          "dash": "solid"
         },
         "marker": {
          "symbol": "circle"
         },
         "mode": "lines",
         "name": "NZ_CP053893.1.region006",
         "orientation": "v",
         "showlegend": false,
         "type": "scatter",
         "x": [
          0.001,
          0.002,
          0.01,
          0.02,
          0.1,
          0.2,
          1
         ],
         "xaxis": "x5",
         "y": [
          1.1259370314842578,
          1.0660705414803775,
          1.4993791193046135,
          2.03044846577498,
          6.531531531531532,
          11.83548511417285,
          62.04123314065511
         ],
         "yaxis": "y5"
        },
        {
         "hovertemplate": "Contig=NZ_CP053893.1.region006<br>variable=Breadth<br>readGB=%{x}<br>value=%{y}<extra></extra>",
         "legendgroup": "NZ_CP053893.1.region006",
         "line": {
          "color": "#FFA15A",
          "dash": "solid"
         },
         "marker": {
          "symbol": "circle"
         },
         "mode": "lines",
         "name": "NZ_CP053893.1.region006",
         "orientation": "v",
         "showlegend": false,
         "type": "scatter",
         "x": [
          0.001,
          0.002,
          0.01,
          0.02,
          0.1,
          0.2,
          1
         ],
         "xaxis": "x4",
         "y": [
          0.0642581888246628,
          0.0969653179190751,
          0.5042870905587669,
          0.6122350674373795,
          0.9945086705202312,
          0.99990366088632,
          1
         ],
         "yaxis": "y4"
        },
        {
         "hovertemplate": "Contig=NZ_CP053893.1.region006<br>variable=SQErr_med<br>readGB=%{x}<br>value=%{y}<extra></extra>",
         "legendgroup": "NZ_CP053893.1.region006",
         "line": {
          "color": "#FFA15A",
          "dash": "solid"
         },
         "marker": {
          "symbol": "circle"
         },
         "mode": "lines",
         "name": "NZ_CP053893.1.region006",
         "orientation": "v",
         "showlegend": false,
         "type": "scatter",
         "x": [
          0.001,
          0.002,
          0.01,
          0.02,
          0.1,
          0.2,
          1
         ],
         "xaxis": "x3",
         "y": [
          0.8848927312328244,
          0.7768214382227828,
          0.16554622139928085,
          0.6621848855971234,
          0.004724798225186223,
          0.7439505220492939,
          53.47453298846063
         ],
         "yaxis": "y3"
        },
        {
         "hovertemplate": "Contig=NZ_CP053893.1.region006<br>variable=expectedCount<br>readGB=%{x}<br>value=%{y}<extra></extra>",
         "legendgroup": "NZ_CP053893.1.region006",
         "line": {
          "color": "#FFA15A",
          "dash": "solid"
         },
         "marker": {
          "symbol": "circle"
         },
         "mode": "lines",
         "name": "NZ_CP053893.1.region006",
         "orientation": "v",
         "showlegend": false,
         "type": "scatter",
         "x": [
          0.001,
          0.002,
          0.01,
          0.02,
          0.1,
          0.2,
          1
         ],
         "xaxis": "x2",
         "y": [
          0.059312628322871375,
          0.11862525664574275,
          0.5931262832287137,
          1.1862525664574275,
          5.931262832287137,
          11.862525664574274,
          59.312628322871376
         ],
         "yaxis": "y2"
        },
        {
         "hovertemplate": "Contig=NZ_CP053893.1.region006<br>variable=SQErr_avg<br>readGB=%{x}<br>value=%{y}<extra></extra>",
         "legendgroup": "NZ_CP053893.1.region006",
         "line": {
          "color": "#FFA15A",
          "dash": "solid"
         },
         "marker": {
          "symbol": "circle"
         },
         "mode": "lines",
         "name": "NZ_CP053893.1.region006",
         "orientation": "v",
         "showlegend": false,
         "type": "scatter",
         "x": [
          0.001,
          0.002,
          0.01,
          0.02,
          0.1,
          0.2,
          1
         ],
         "xaxis": "x",
         "y": [
          1.137687617419384,
          0.8976525677553822,
          0.8212942028956117,
          0.7126667164245716,
          0.3603225112925575,
          0.0007311913660120208,
          7.445284251632598
         ],
         "yaxis": "y"
        },
        {
         "hovertemplate": "Contig=NZ_CP053893.1.region003<br>variable=Depth median<br>readGB=%{x}<br>value=%{y}<extra></extra>",
         "legendgroup": "NZ_CP053893.1.region003",
         "line": {
          "color": "#19d3f3",
          "dash": "solid"
         },
         "marker": {
          "symbol": "circle"
         },
         "mode": "lines",
         "name": "NZ_CP053893.1.region003",
         "orientation": "v",
         "showlegend": true,
         "type": "scatter",
         "x": [
          0.001,
          0.002,
          0.01,
          0.02,
          0.1,
          0.2,
          1
         ],
         "xaxis": "x6",
         "y": [
          1,
          1,
          1,
          2,
          5,
          10,
          50
         ],
         "yaxis": "y6"
        },
        {
         "hovertemplate": "Contig=NZ_CP053893.1.region003<br>variable=Depth avg<br>readGB=%{x}<br>value=%{y}<extra></extra>",
         "legendgroup": "NZ_CP053893.1.region003",
         "line": {
          "color": "#19d3f3",
          "dash": "solid"
         },
         "marker": {
          "symbol": "circle"
         },
         "mode": "lines",
         "name": "NZ_CP053893.1.region003",
         "orientation": "v",
         "showlegend": false,
         "type": "scatter",
         "x": [
          0.001,
          0.002,
          0.01,
          0.02,
          0.1,
          0.2,
          1
         ],
         "xaxis": "x5",
         "y": [
          1.0559006211180124,
          1.0806533945890762,
          1.413684667100412,
          1.8319639753515564,
          4.718638525564804,
          10.657983811626195,
          51.327302147690496
         ],
         "yaxis": "y5"
        },
        {
         "hovertemplate": "Contig=NZ_CP053893.1.region003<br>variable=Breadth<br>readGB=%{x}<br>value=%{y}<extra></extra>",
         "legendgroup": "NZ_CP053893.1.region003",
         "line": {
          "color": "#19d3f3",
          "dash": "solid"
         },
         "marker": {
          "symbol": "circle"
         },
         "mode": "lines",
         "name": "NZ_CP053893.1.region003",
         "orientation": "v",
         "showlegend": false,
         "type": "scatter",
         "x": [
          0.001,
          0.002,
          0.01,
          0.02,
          0.1,
          0.2,
          1
         ],
         "xaxis": "x4",
         "y": [
          0.0236834363047955,
          0.096057664018829,
          0.4521918211238599,
          0.6206727468863391,
          0.9897028537805236,
          0.999558693733451,
          1
         ],
         "yaxis": "y4"
        },
        {
         "hovertemplate": "Contig=NZ_CP053893.1.region003<br>variable=SQErr_med<br>readGB=%{x}<br>value=%{y}<extra></extra>",
         "legendgroup": "NZ_CP053893.1.region003",
         "line": {
          "color": "#19d3f3",
          "dash": "solid"
         },
         "marker": {
          "symbol": "circle"
         },
         "mode": "lines",
         "name": "NZ_CP053893.1.region003",
         "orientation": "v",
         "showlegend": false,
         "type": "scatter",
         "x": [
          0.001,
          0.002,
          0.01,
          0.02,
          0.1,
          0.2,
          1
         ],
         "xaxis": "x3",
         "y": [
          0.8848927312328244,
          0.7768214382227828,
          0.16554622139928085,
          0.6621848855971234,
          0.8672504627994607,
          3.469001851197843,
          86.72504627994614
         ],
         "yaxis": "y3"
        },
        {
         "hovertemplate": "Contig=NZ_CP053893.1.region003<br>variable=expectedCount<br>readGB=%{x}<br>value=%{y}<extra></extra>",
         "legendgroup": "NZ_CP053893.1.region003",
         "line": {
          "color": "#19d3f3",
          "dash": "solid"
         },
         "marker": {
          "symbol": "circle"
         },
         "mode": "lines",
         "name": "NZ_CP053893.1.region003",
         "orientation": "v",
         "showlegend": false,
         "type": "scatter",
         "x": [
          0.001,
          0.002,
          0.01,
          0.02,
          0.1,
          0.2,
          1
         ],
         "xaxis": "x2",
         "y": [
          0.059312628322871375,
          0.11862525664574275,
          0.5931262832287137,
          1.1862525664574275,
          5.931262832287137,
          11.862525664574274,
          59.312628322871376
         ],
         "yaxis": "y2"
        },
        {
         "hovertemplate": "Contig=NZ_CP053893.1.region003<br>variable=SQErr_avg<br>readGB=%{x}<br>value=%{y}<extra></extra>",
         "legendgroup": "NZ_CP053893.1.region003",
         "line": {
          "color": "#19d3f3",
          "dash": "solid"
         },
         "marker": {
          "symbol": "circle"
         },
         "mode": "lines",
         "name": "NZ_CP053893.1.region003",
         "orientation": "v",
         "showlegend": false,
         "type": "scatter",
         "x": [
          0.001,
          0.002,
          0.01,
          0.02,
          0.1,
          0.2,
          1
         ],
         "xaxis": "x",
         "y": [
          0.9931876273834482,
          0.9254981381947174,
          0.6733160613421333,
          0.41694322357604097,
          1.4704577092538205,
          1.450921075503592,
          63.76543412402891
         ],
         "yaxis": "y"
        }
       ],
       "layout": {
        "annotations": [
         {
          "font": {},
          "showarrow": false,
          "text": "variable=SQErr_avg",
          "textangle": 90,
          "x": 0.98,
          "xanchor": "left",
          "xref": "paper",
          "y": 0.07083333333333333,
          "yanchor": "middle",
          "yref": "paper"
         },
         {
          "font": {},
          "showarrow": false,
          "text": "variable=expectedCount",
          "textangle": 90,
          "x": 0.98,
          "xanchor": "left",
          "xref": "paper",
          "y": 0.2425,
          "yanchor": "middle",
          "yref": "paper"
         },
         {
          "font": {},
          "showarrow": false,
          "text": "variable=SQErr_med",
          "textangle": 90,
          "x": 0.98,
          "xanchor": "left",
          "xref": "paper",
          "y": 0.4141666666666667,
          "yanchor": "middle",
          "yref": "paper"
         },
         {
          "font": {},
          "showarrow": false,
          "text": "variable=Breadth",
          "textangle": 90,
          "x": 0.98,
          "xanchor": "left",
          "xref": "paper",
          "y": 0.5858333333333334,
          "yanchor": "middle",
          "yref": "paper"
         },
         {
          "font": {},
          "showarrow": false,
          "text": "variable=Depth avg",
          "textangle": 90,
          "x": 0.98,
          "xanchor": "left",
          "xref": "paper",
          "y": 0.7575000000000001,
          "yanchor": "middle",
          "yref": "paper"
         },
         {
          "font": {},
          "showarrow": false,
          "text": "variable=Depth median",
          "textangle": 90,
          "x": 0.98,
          "xanchor": "left",
          "xref": "paper",
          "y": 0.9291666666666667,
          "yanchor": "middle",
          "yref": "paper"
         }
        ],
        "height": 1800,
        "legend": {
         "title": {
          "text": "Contig"
         },
         "tracegroupgap": 0
        },
        "margin": {
         "t": 60
        },
        "template": {
         "data": {
          "bar": [
           {
            "error_x": {
             "color": "#2a3f5f"
            },
            "error_y": {
             "color": "#2a3f5f"
            },
            "marker": {
             "line": {
              "color": "#E5ECF6",
              "width": 0.5
             },
             "pattern": {
              "fillmode": "overlay",
              "size": 10,
              "solidity": 0.2
             }
            },
            "type": "bar"
           }
          ],
          "barpolar": [
           {
            "marker": {
             "line": {
              "color": "#E5ECF6",
              "width": 0.5
             },
             "pattern": {
              "fillmode": "overlay",
              "size": 10,
              "solidity": 0.2
             }
            },
            "type": "barpolar"
           }
          ],
          "carpet": [
           {
            "aaxis": {
             "endlinecolor": "#2a3f5f",
             "gridcolor": "white",
             "linecolor": "white",
             "minorgridcolor": "white",
             "startlinecolor": "#2a3f5f"
            },
            "baxis": {
             "endlinecolor": "#2a3f5f",
             "gridcolor": "white",
             "linecolor": "white",
             "minorgridcolor": "white",
             "startlinecolor": "#2a3f5f"
            },
            "type": "carpet"
           }
          ],
          "choropleth": [
           {
            "colorbar": {
             "outlinewidth": 0,
             "ticks": ""
            },
            "type": "choropleth"
           }
          ],
          "contour": [
           {
            "colorbar": {
             "outlinewidth": 0,
             "ticks": ""
            },
            "colorscale": [
             [
              0,
              "#0d0887"
             ],
             [
              0.1111111111111111,
              "#46039f"
             ],
             [
              0.2222222222222222,
              "#7201a8"
             ],
             [
              0.3333333333333333,
              "#9c179e"
             ],
             [
              0.4444444444444444,
              "#bd3786"
             ],
             [
              0.5555555555555556,
              "#d8576b"
             ],
             [
              0.6666666666666666,
              "#ed7953"
             ],
             [
              0.7777777777777778,
              "#fb9f3a"
             ],
             [
              0.8888888888888888,
              "#fdca26"
             ],
             [
              1,
              "#f0f921"
             ]
            ],
            "type": "contour"
           }
          ],
          "contourcarpet": [
           {
            "colorbar": {
             "outlinewidth": 0,
             "ticks": ""
            },
            "type": "contourcarpet"
           }
          ],
          "heatmap": [
           {
            "colorbar": {
             "outlinewidth": 0,
             "ticks": ""
            },
            "colorscale": [
             [
              0,
              "#0d0887"
             ],
             [
              0.1111111111111111,
              "#46039f"
             ],
             [
              0.2222222222222222,
              "#7201a8"
             ],
             [
              0.3333333333333333,
              "#9c179e"
             ],
             [
              0.4444444444444444,
              "#bd3786"
             ],
             [
              0.5555555555555556,
              "#d8576b"
             ],
             [
              0.6666666666666666,
              "#ed7953"
             ],
             [
              0.7777777777777778,
              "#fb9f3a"
             ],
             [
              0.8888888888888888,
              "#fdca26"
             ],
             [
              1,
              "#f0f921"
             ]
            ],
            "type": "heatmap"
           }
          ],
          "heatmapgl": [
           {
            "colorbar": {
             "outlinewidth": 0,
             "ticks": ""
            },
            "colorscale": [
             [
              0,
              "#0d0887"
             ],
             [
              0.1111111111111111,
              "#46039f"
             ],
             [
              0.2222222222222222,
              "#7201a8"
             ],
             [
              0.3333333333333333,
              "#9c179e"
             ],
             [
              0.4444444444444444,
              "#bd3786"
             ],
             [
              0.5555555555555556,
              "#d8576b"
             ],
             [
              0.6666666666666666,
              "#ed7953"
             ],
             [
              0.7777777777777778,
              "#fb9f3a"
             ],
             [
              0.8888888888888888,
              "#fdca26"
             ],
             [
              1,
              "#f0f921"
             ]
            ],
            "type": "heatmapgl"
           }
          ],
          "histogram": [
           {
            "marker": {
             "pattern": {
              "fillmode": "overlay",
              "size": 10,
              "solidity": 0.2
             }
            },
            "type": "histogram"
           }
          ],
          "histogram2d": [
           {
            "colorbar": {
             "outlinewidth": 0,
             "ticks": ""
            },
            "colorscale": [
             [
              0,
              "#0d0887"
             ],
             [
              0.1111111111111111,
              "#46039f"
             ],
             [
              0.2222222222222222,
              "#7201a8"
             ],
             [
              0.3333333333333333,
              "#9c179e"
             ],
             [
              0.4444444444444444,
              "#bd3786"
             ],
             [
              0.5555555555555556,
              "#d8576b"
             ],
             [
              0.6666666666666666,
              "#ed7953"
             ],
             [
              0.7777777777777778,
              "#fb9f3a"
             ],
             [
              0.8888888888888888,
              "#fdca26"
             ],
             [
              1,
              "#f0f921"
             ]
            ],
            "type": "histogram2d"
           }
          ],
          "histogram2dcontour": [
           {
            "colorbar": {
             "outlinewidth": 0,
             "ticks": ""
            },
            "colorscale": [
             [
              0,
              "#0d0887"
             ],
             [
              0.1111111111111111,
              "#46039f"
             ],
             [
              0.2222222222222222,
              "#7201a8"
             ],
             [
              0.3333333333333333,
              "#9c179e"
             ],
             [
              0.4444444444444444,
              "#bd3786"
             ],
             [
              0.5555555555555556,
              "#d8576b"
             ],
             [
              0.6666666666666666,
              "#ed7953"
             ],
             [
              0.7777777777777778,
              "#fb9f3a"
             ],
             [
              0.8888888888888888,
              "#fdca26"
             ],
             [
              1,
              "#f0f921"
             ]
            ],
            "type": "histogram2dcontour"
           }
          ],
          "mesh3d": [
           {
            "colorbar": {
             "outlinewidth": 0,
             "ticks": ""
            },
            "type": "mesh3d"
           }
          ],
          "parcoords": [
           {
            "line": {
             "colorbar": {
              "outlinewidth": 0,
              "ticks": ""
             }
            },
            "type": "parcoords"
           }
          ],
          "pie": [
           {
            "automargin": true,
            "type": "pie"
           }
          ],
          "scatter": [
           {
            "fillpattern": {
             "fillmode": "overlay",
             "size": 10,
             "solidity": 0.2
            },
            "type": "scatter"
           }
          ],
          "scatter3d": [
           {
            "line": {
             "colorbar": {
              "outlinewidth": 0,
              "ticks": ""
             }
            },
            "marker": {
             "colorbar": {
              "outlinewidth": 0,
              "ticks": ""
             }
            },
            "type": "scatter3d"
           }
          ],
          "scattercarpet": [
           {
            "marker": {
             "colorbar": {
              "outlinewidth": 0,
              "ticks": ""
             }
            },
            "type": "scattercarpet"
           }
          ],
          "scattergeo": [
           {
            "marker": {
             "colorbar": {
              "outlinewidth": 0,
              "ticks": ""
             }
            },
            "type": "scattergeo"
           }
          ],
          "scattergl": [
           {
            "marker": {
             "colorbar": {
              "outlinewidth": 0,
              "ticks": ""
             }
            },
            "type": "scattergl"
           }
          ],
          "scattermapbox": [
           {
            "marker": {
             "colorbar": {
              "outlinewidth": 0,
              "ticks": ""
             }
            },
            "type": "scattermapbox"
           }
          ],
          "scatterpolar": [
           {
            "marker": {
             "colorbar": {
              "outlinewidth": 0,
              "ticks": ""
             }
            },
            "type": "scatterpolar"
           }
          ],
          "scatterpolargl": [
           {
            "marker": {
             "colorbar": {
              "outlinewidth": 0,
              "ticks": ""
             }
            },
            "type": "scatterpolargl"
           }
          ],
          "scatterternary": [
           {
            "marker": {
             "colorbar": {
              "outlinewidth": 0,
              "ticks": ""
             }
            },
            "type": "scatterternary"
           }
          ],
          "surface": [
           {
            "colorbar": {
             "outlinewidth": 0,
             "ticks": ""
            },
            "colorscale": [
             [
              0,
              "#0d0887"
             ],
             [
              0.1111111111111111,
              "#46039f"
             ],
             [
              0.2222222222222222,
              "#7201a8"
             ],
             [
              0.3333333333333333,
              "#9c179e"
             ],
             [
              0.4444444444444444,
              "#bd3786"
             ],
             [
              0.5555555555555556,
              "#d8576b"
             ],
             [
              0.6666666666666666,
              "#ed7953"
             ],
             [
              0.7777777777777778,
              "#fb9f3a"
             ],
             [
              0.8888888888888888,
              "#fdca26"
             ],
             [
              1,
              "#f0f921"
             ]
            ],
            "type": "surface"
           }
          ],
          "table": [
           {
            "cells": {
             "fill": {
              "color": "#EBF0F8"
             },
             "line": {
              "color": "white"
             }
            },
            "header": {
             "fill": {
              "color": "#C8D4E3"
             },
             "line": {
              "color": "white"
             }
            },
            "type": "table"
           }
          ]
         },
         "layout": {
          "annotationdefaults": {
           "arrowcolor": "#2a3f5f",
           "arrowhead": 0,
           "arrowwidth": 1
          },
          "autotypenumbers": "strict",
          "coloraxis": {
           "colorbar": {
            "outlinewidth": 0,
            "ticks": ""
           }
          },
          "colorscale": {
           "diverging": [
            [
             0,
             "#8e0152"
            ],
            [
             0.1,
             "#c51b7d"
            ],
            [
             0.2,
             "#de77ae"
            ],
            [
             0.3,
             "#f1b6da"
            ],
            [
             0.4,
             "#fde0ef"
            ],
            [
             0.5,
             "#f7f7f7"
            ],
            [
             0.6,
             "#e6f5d0"
            ],
            [
             0.7,
             "#b8e186"
            ],
            [
             0.8,
             "#7fbc41"
            ],
            [
             0.9,
             "#4d9221"
            ],
            [
             1,
             "#276419"
            ]
           ],
           "sequential": [
            [
             0,
             "#0d0887"
            ],
            [
             0.1111111111111111,
             "#46039f"
            ],
            [
             0.2222222222222222,
             "#7201a8"
            ],
            [
             0.3333333333333333,
             "#9c179e"
            ],
            [
             0.4444444444444444,
             "#bd3786"
            ],
            [
             0.5555555555555556,
             "#d8576b"
            ],
            [
             0.6666666666666666,
             "#ed7953"
            ],
            [
             0.7777777777777778,
             "#fb9f3a"
            ],
            [
             0.8888888888888888,
             "#fdca26"
            ],
            [
             1,
             "#f0f921"
            ]
           ],
           "sequentialminus": [
            [
             0,
             "#0d0887"
            ],
            [
             0.1111111111111111,
             "#46039f"
            ],
            [
             0.2222222222222222,
             "#7201a8"
            ],
            [
             0.3333333333333333,
             "#9c179e"
            ],
            [
             0.4444444444444444,
             "#bd3786"
            ],
            [
             0.5555555555555556,
             "#d8576b"
            ],
            [
             0.6666666666666666,
             "#ed7953"
            ],
            [
             0.7777777777777778,
             "#fb9f3a"
            ],
            [
             0.8888888888888888,
             "#fdca26"
            ],
            [
             1,
             "#f0f921"
            ]
           ]
          },
          "colorway": [
           "#636efa",
           "#EF553B",
           "#00cc96",
           "#ab63fa",
           "#FFA15A",
           "#19d3f3",
           "#FF6692",
           "#B6E880",
           "#FF97FF",
           "#FECB52"
          ],
          "font": {
           "color": "#2a3f5f"
          },
          "geo": {
           "bgcolor": "white",
           "lakecolor": "white",
           "landcolor": "#E5ECF6",
           "showlakes": true,
           "showland": true,
           "subunitcolor": "white"
          },
          "hoverlabel": {
           "align": "left"
          },
          "hovermode": "closest",
          "mapbox": {
           "style": "light"
          },
          "paper_bgcolor": "white",
          "plot_bgcolor": "#E5ECF6",
          "polar": {
           "angularaxis": {
            "gridcolor": "white",
            "linecolor": "white",
            "ticks": ""
           },
           "bgcolor": "#E5ECF6",
           "radialaxis": {
            "gridcolor": "white",
            "linecolor": "white",
            "ticks": ""
           }
          },
          "scene": {
           "xaxis": {
            "backgroundcolor": "#E5ECF6",
            "gridcolor": "white",
            "gridwidth": 2,
            "linecolor": "white",
            "showbackground": true,
            "ticks": "",
            "zerolinecolor": "white"
           },
           "yaxis": {
            "backgroundcolor": "#E5ECF6",
            "gridcolor": "white",
            "gridwidth": 2,
            "linecolor": "white",
            "showbackground": true,
            "ticks": "",
            "zerolinecolor": "white"
           },
           "zaxis": {
            "backgroundcolor": "#E5ECF6",
            "gridcolor": "white",
            "gridwidth": 2,
            "linecolor": "white",
            "showbackground": true,
            "ticks": "",
            "zerolinecolor": "white"
           }
          },
          "shapedefaults": {
           "line": {
            "color": "#2a3f5f"
           }
          },
          "ternary": {
           "aaxis": {
            "gridcolor": "white",
            "linecolor": "white",
            "ticks": ""
           },
           "baxis": {
            "gridcolor": "white",
            "linecolor": "white",
            "ticks": ""
           },
           "bgcolor": "#E5ECF6",
           "caxis": {
            "gridcolor": "white",
            "linecolor": "white",
            "ticks": ""
           }
          },
          "title": {
           "x": 0.05
          },
          "xaxis": {
           "automargin": true,
           "gridcolor": "white",
           "linecolor": "white",
           "ticks": "",
           "title": {
            "standoff": 15
           },
           "zerolinecolor": "white",
           "zerolinewidth": 2
          },
          "yaxis": {
           "automargin": true,
           "gridcolor": "white",
           "linecolor": "white",
           "ticks": "",
           "title": {
            "standoff": 15
           },
           "zerolinecolor": "white",
           "zerolinewidth": 2
          }
         }
        },
        "xaxis": {
         "anchor": "y",
         "domain": [
          0,
          0.98
         ],
         "title": {
          "text": "readGB"
         }
        },
        "xaxis2": {
         "anchor": "y2",
         "domain": [
          0,
          0.98
         ],
         "matches": "x",
         "showticklabels": false
        },
        "xaxis3": {
         "anchor": "y3",
         "domain": [
          0,
          0.98
         ],
         "matches": "x",
         "showticklabels": false
        },
        "xaxis4": {
         "anchor": "y4",
         "domain": [
          0,
          0.98
         ],
         "matches": "x",
         "showticklabels": false
        },
        "xaxis5": {
         "anchor": "y5",
         "domain": [
          0,
          0.98
         ],
         "matches": "x",
         "showticklabels": false
        },
        "xaxis6": {
         "anchor": "y6",
         "domain": [
          0,
          0.98
         ],
         "matches": "x",
         "showticklabels": false
        },
        "yaxis": {
         "anchor": "x",
         "domain": [
          0,
          0.14166666666666666
         ],
         "title": {
          "text": "value"
         }
        },
        "yaxis2": {
         "anchor": "x2",
         "domain": [
          0.17166666666666666,
          0.31333333333333335
         ],
         "title": {
          "text": "value"
         }
        },
        "yaxis3": {
         "anchor": "x3",
         "domain": [
          0.3433333333333333,
          0.485
         ],
         "title": {
          "text": "value"
         }
        },
        "yaxis4": {
         "anchor": "x4",
         "domain": [
          0.515,
          0.6566666666666667
         ],
         "title": {
          "text": "value"
         }
        },
        "yaxis5": {
         "anchor": "x5",
         "domain": [
          0.6866666666666666,
          0.8283333333333334
         ],
         "title": {
          "text": "value"
         }
        },
        "yaxis6": {
         "anchor": "x6",
         "domain": [
          0.8583333333333333,
          1
         ],
         "title": {
          "text": "value"
         }
        }
       }
      },
      "text/html": [
       "<div>                            <div id=\"cfb35e86-2d6f-413b-82fb-8b044bec4f7f\" class=\"plotly-graph-div\" style=\"height:1800px; width:100%;\"></div>            <script type=\"text/javascript\">                require([\"plotly\"], function(Plotly) {                    window.PLOTLYENV=window.PLOTLYENV || {};                                    if (document.getElementById(\"cfb35e86-2d6f-413b-82fb-8b044bec4f7f\")) {                    Plotly.newPlot(                        \"cfb35e86-2d6f-413b-82fb-8b044bec4f7f\",                        [{\"hovertemplate\":\"Contig=NZ_CP020566.1.region001<br>variable=Depth median<br>readGB=%{x}<br>value=%{y}<extra></extra>\",\"legendgroup\":\"NZ_CP020566.1.region001\",\"line\":{\"color\":\"#636efa\",\"dash\":\"solid\"},\"marker\":{\"symbol\":\"circle\"},\"mode\":\"lines\",\"name\":\"NZ_CP020566.1.region001\",\"orientation\":\"v\",\"showlegend\":true,\"x\":[0.001,0.002,0.01,0.02,0.1,0.2,1.0],\"xaxis\":\"x6\",\"y\":[1.0,1.0,1.0,1.0,5.0,10.0,49.0],\"yaxis\":\"y6\",\"type\":\"scatter\"},{\"hovertemplate\":\"Contig=NZ_CP020566.1.region001<br>variable=Depth avg<br>readGB=%{x}<br>value=%{y}<extra></extra>\",\"legendgroup\":\"NZ_CP020566.1.region001\",\"line\":{\"color\":\"#636efa\",\"dash\":\"solid\"},\"marker\":{\"symbol\":\"circle\"},\"mode\":\"lines\",\"name\":\"NZ_CP020566.1.region001\",\"orientation\":\"v\",\"showlegend\":false,\"x\":[0.001,0.002,0.01,0.02,0.1,0.2,1.0],\"xaxis\":\"x5\",\"y\":[1.0532786885245902,1.1831925300133392,1.3274346654166178,1.7313324538258574,4.893510737628385,10.149394595092309,49.099120666635976],\"yaxis\":\"y5\",\"type\":\"scatter\"},{\"hovertemplate\":\"Contig=NZ_CP020566.1.region001<br>variable=Breadth<br>readGB=%{x}<br>value=%{y}<extra></extra>\",\"legendgroup\":\"NZ_CP020566.1.region001\",\"line\":{\"color\":\"#636efa\",\"dash\":\"solid\"},\"marker\":{\"symbol\":\"circle\"},\"mode\":\"lines\",\"name\":\"NZ_CP020566.1.region001\",\"orientation\":\"v\",\"showlegend\":false,\"x\":[0.001,0.002,0.01,0.02,0.1,0.2,1.0],\"xaxis\":\"x4\",\"y\":[0.0112333686294369,0.1035403526541135,0.3928456332581372,0.697942083697804,0.9861424427972928,1.0,1.0],\"yaxis\":\"y4\",\"type\":\"scatter\"},{\"hovertemplate\":\"Contig=NZ_CP020566.1.region001<br>variable=SQErr_med<br>readGB=%{x}<br>value=%{y}<extra></extra>\",\"legendgroup\":\"NZ_CP020566.1.region001\",\"line\":{\"color\":\"#636efa\",\"dash\":\"solid\"},\"marker\":{\"symbol\":\"circle\"},\"mode\":\"lines\",\"name\":\"NZ_CP020566.1.region001\",\"orientation\":\"v\",\"showlegend\":false,\"x\":[0.001,0.002,0.01,0.02,0.1,0.2,1.0],\"xaxis\":\"x3\",\"y\":[0.8848927312328244,0.7768214382227828,0.16554622139928085,0.03469001851197844,0.8672504627994607,3.469001851197843,106.3503029256889],\"yaxis\":\"y3\",\"type\":\"scatter\"},{\"hovertemplate\":\"Contig=NZ_CP020566.1.region001<br>variable=expectedCount<br>readGB=%{x}<br>value=%{y}<extra></extra>\",\"legendgroup\":\"NZ_CP020566.1.region001\",\"line\":{\"color\":\"#636efa\",\"dash\":\"solid\"},\"marker\":{\"symbol\":\"circle\"},\"mode\":\"lines\",\"name\":\"NZ_CP020566.1.region001\",\"orientation\":\"v\",\"showlegend\":false,\"x\":[0.001,0.002,0.01,0.02,0.1,0.2,1.0],\"xaxis\":\"x2\",\"y\":[0.059312628322871375,0.11862525664574275,0.5931262832287137,1.1862525664574275,5.931262832287137,11.862525664574274,59.312628322871376],\"yaxis\":\"y2\",\"type\":\"scatter\"},{\"hovertemplate\":\"Contig=NZ_CP020566.1.region001<br>variable=SQErr_avg<br>readGB=%{x}<br>value=%{y}<extra></extra>\",\"legendgroup\":\"NZ_CP020566.1.region001\",\"line\":{\"color\":\"#636efa\",\"dash\":\"solid\"},\"marker\":{\"symbol\":\"circle\"},\"mode\":\"lines\",\"name\":\"NZ_CP020566.1.region001\",\"orientation\":\"v\",\"showlegend\":false,\"x\":[0.001,0.002,0.01,0.02,0.1,0.2,1.0],\"xaxis\":\"x\",\"y\":[0.987968528832927,1.1333034795253187,0.539208800151417,0.29711208361358027,1.0769294099686277,2.9348180612244237,104.31573864397913],\"yaxis\":\"y\",\"type\":\"scatter\"},{\"hovertemplate\":\"Contig=NC_014328.1.region005<br>variable=Depth median<br>readGB=%{x}<br>value=%{y}<extra></extra>\",\"legendgroup\":\"NC_014328.1.region005\",\"line\":{\"color\":\"#EF553B\",\"dash\":\"solid\"},\"marker\":{\"symbol\":\"circle\"},\"mode\":\"lines\",\"name\":\"NC_014328.1.region005\",\"orientation\":\"v\",\"showlegend\":true,\"x\":[0.001,0.002,0.01,0.02,0.1,0.2,1.0],\"xaxis\":\"x6\",\"y\":[1.0,1.0,1.0,1.0,5.0,10.0,50.0],\"yaxis\":\"y6\",\"type\":\"scatter\"},{\"hovertemplate\":\"Contig=NC_014328.1.region005<br>variable=Depth avg<br>readGB=%{x}<br>value=%{y}<extra></extra>\",\"legendgroup\":\"NC_014328.1.region005\",\"line\":{\"color\":\"#EF553B\",\"dash\":\"solid\"},\"marker\":{\"symbol\":\"circle\"},\"mode\":\"lines\",\"name\":\"NC_014328.1.region005\",\"orientation\":\"v\",\"showlegend\":false,\"x\":[0.001,0.002,0.01,0.02,0.1,0.2,1.0],\"xaxis\":\"x5\",\"y\":[1.015056461731493,1.1077777777777778,1.4127527548946186,1.930489260143198,5.610950740292393,11.027790643816582,56.12245843175397],\"yaxis\":\"y5\",\"type\":\"scatter\"},{\"hovertemplate\":\"Contig=NC_014328.1.region005<br>variable=Breadth<br>readGB=%{x}<br>value=%{y}<extra></extra>\",\"legendgroup\":\"NC_014328.1.region005\",\"line\":{\"color\":\"#EF553B\",\"dash\":\"solid\"},\"marker\":{\"symbol\":\"circle\"},\"mode\":\"lines\",\"name\":\"NC_014328.1.region005\",\"orientation\":\"v\",\"showlegend\":false,\"x\":[0.001,0.002,0.01,0.02,0.1,0.2,1.0],\"xaxis\":\"x4\",\"y\":[0.0369135287851419,0.1250521050437682,0.4329118614237414,0.6209994905284609,0.994766337825946,0.9999536844055392,1.0],\"yaxis\":\"y4\",\"type\":\"scatter\"},{\"hovertemplate\":\"Contig=NC_014328.1.region005<br>variable=SQErr_med<br>readGB=%{x}<br>value=%{y}<extra></extra>\",\"legendgroup\":\"NC_014328.1.region005\",\"line\":{\"color\":\"#EF553B\",\"dash\":\"solid\"},\"marker\":{\"symbol\":\"circle\"},\"mode\":\"lines\",\"name\":\"NC_014328.1.region005\",\"orientation\":\"v\",\"showlegend\":false,\"x\":[0.001,0.002,0.01,0.02,0.1,0.2,1.0],\"xaxis\":\"x3\",\"y\":[0.8848927312328244,0.7768214382227828,0.16554622139928085,0.03469001851197844,0.8672504627994607,3.469001851197843,86.72504627994614],\"yaxis\":\"y3\",\"type\":\"scatter\"},{\"hovertemplate\":\"Contig=NC_014328.1.region005<br>variable=expectedCount<br>readGB=%{x}<br>value=%{y}<extra></extra>\",\"legendgroup\":\"NC_014328.1.region005\",\"line\":{\"color\":\"#EF553B\",\"dash\":\"solid\"},\"marker\":{\"symbol\":\"circle\"},\"mode\":\"lines\",\"name\":\"NC_014328.1.region005\",\"orientation\":\"v\",\"showlegend\":false,\"x\":[0.001,0.002,0.01,0.02,0.1,0.2,1.0],\"xaxis\":\"x2\",\"y\":[0.059312628322871375,0.11862525664574275,0.5931262832287137,1.1862525664574275,5.931262832287137,11.862525664574274,59.312628322871376],\"yaxis\":\"y2\",\"type\":\"scatter\"},{\"hovertemplate\":\"Contig=NC_014328.1.region005<br>variable=SQErr_avg<br>readGB=%{x}<br>value=%{y}<extra></extra>\",\"legendgroup\":\"NC_014328.1.region005\",\"line\":{\"color\":\"#EF553B\",\"dash\":\"solid\"},\"marker\":{\"symbol\":\"circle\"},\"mode\":\"lines\",\"name\":\"NC_014328.1.region005\",\"orientation\":\"v\",\"showlegend\":false,\"x\":[0.001,0.002,0.01,0.02,0.1,0.2,1.0],\"xaxis\":\"x\",\"y\":[0.9134462750986072,0.978422710061861,0.6717875530555003,0.5538882562283274,0.10259983627804975,0.6967825548793456,10.177183934192046],\"yaxis\":\"y\",\"type\":\"scatter\"},{\"hovertemplate\":\"Contig=NZ_LT906470.1.region002<br>variable=Depth median<br>readGB=%{x}<br>value=%{y}<extra></extra>\",\"legendgroup\":\"NZ_LT906470.1.region002\",\"line\":{\"color\":\"#00cc96\",\"dash\":\"solid\"},\"marker\":{\"symbol\":\"circle\"},\"mode\":\"lines\",\"name\":\"NZ_LT906470.1.region002\",\"orientation\":\"v\",\"showlegend\":true,\"x\":[0.001,0.002,0.01,0.02,0.1,0.2,1.0],\"xaxis\":\"x6\",\"y\":[1.0,1.0,1.0,1.0,5.0,10.0,50.0],\"yaxis\":\"y6\",\"type\":\"scatter\"},{\"hovertemplate\":\"Contig=NZ_LT906470.1.region002<br>variable=Depth avg<br>readGB=%{x}<br>value=%{y}<extra></extra>\",\"legendgroup\":\"NZ_LT906470.1.region002\",\"line\":{\"color\":\"#00cc96\",\"dash\":\"solid\"},\"marker\":{\"symbol\":\"circle\"},\"mode\":\"lines\",\"name\":\"NZ_LT906470.1.region002\",\"orientation\":\"v\",\"showlegend\":false,\"x\":[0.001,0.002,0.01,0.02,0.1,0.2,1.0],\"xaxis\":\"x5\",\"y\":[1.066722972972973,1.1945573975602126,1.3128850102669405,1.7897196261682242,5.532170530476519,10.398896432003472,53.898369699975206],\"yaxis\":\"y5\",\"type\":\"scatter\"},{\"hovertemplate\":\"Contig=NZ_LT906470.1.region002<br>variable=Breadth<br>readGB=%{x}<br>value=%{y}<extra></extra>\",\"legendgroup\":\"NZ_LT906470.1.region002\",\"line\":{\"color\":\"#00cc96\",\"dash\":\"solid\"},\"marker\":{\"symbol\":\"circle\"},\"mode\":\"lines\",\"name\":\"NZ_LT906470.1.region002\",\"orientation\":\"v\",\"showlegend\":false,\"x\":[0.001,0.002,0.01,0.02,0.1,0.2,1.0],\"xaxis\":\"x4\",\"y\":[0.036697247706422,0.0990887676667493,0.3622613439127201,0.6168484998760229,0.9880052070419044,0.9998450285147532,1.0],\"yaxis\":\"y4\",\"type\":\"scatter\"},{\"hovertemplate\":\"Contig=NZ_LT906470.1.region002<br>variable=SQErr_med<br>readGB=%{x}<br>value=%{y}<extra></extra>\",\"legendgroup\":\"NZ_LT906470.1.region002\",\"line\":{\"color\":\"#00cc96\",\"dash\":\"solid\"},\"marker\":{\"symbol\":\"circle\"},\"mode\":\"lines\",\"name\":\"NZ_LT906470.1.region002\",\"orientation\":\"v\",\"showlegend\":false,\"x\":[0.001,0.002,0.01,0.02,0.1,0.2,1.0],\"xaxis\":\"x3\",\"y\":[0.8848927312328244,0.7768214382227828,0.16554622139928085,0.03469001851197844,0.8672504627994607,3.469001851197843,86.72504627994614],\"yaxis\":\"y3\",\"type\":\"scatter\"},{\"hovertemplate\":\"Contig=NZ_LT906470.1.region002<br>variable=expectedCount<br>readGB=%{x}<br>value=%{y}<extra></extra>\",\"legendgroup\":\"NZ_LT906470.1.region002\",\"line\":{\"color\":\"#00cc96\",\"dash\":\"solid\"},\"marker\":{\"symbol\":\"circle\"},\"mode\":\"lines\",\"name\":\"NZ_LT906470.1.region002\",\"orientation\":\"v\",\"showlegend\":false,\"x\":[0.001,0.002,0.01,0.02,0.1,0.2,1.0],\"xaxis\":\"x2\",\"y\":[0.059312628322871375,0.11862525664574275,0.5931262832287137,1.1862525664574275,5.931262832287137,11.862525664574274,59.312628322871376],\"yaxis\":\"y2\",\"type\":\"scatter\"},{\"hovertemplate\":\"Contig=NZ_LT906470.1.region002<br>variable=SQErr_avg<br>readGB=%{x}<br>value=%{y}<extra></extra>\",\"legendgroup\":\"NZ_LT906470.1.region002\",\"line\":{\"color\":\"#00cc96\",\"dash\":\"solid\"},\"marker\":{\"symbol\":\"circle\"},\"mode\":\"lines\",\"name\":\"NZ_LT906470.1.region002\",\"orientation\":\"v\",\"showlegend\":false,\"x\":[0.001,0.002,0.01,0.02,0.1,0.2,1.0],\"xaxis\":\"x\",\"y\":[1.0148756025080368,1.1576299718527945,0.5180526251476886,0.3641724921559943,0.15927466536449728,2.142210530435797,29.314196435605535],\"yaxis\":\"y\",\"type\":\"scatter\"},{\"hovertemplate\":\"Contig=NZ_LT906470.1.region003<br>variable=Depth median<br>readGB=%{x}<br>value=%{y}<extra></extra>\",\"legendgroup\":\"NZ_LT906470.1.region003\",\"line\":{\"color\":\"#ab63fa\",\"dash\":\"solid\"},\"marker\":{\"symbol\":\"circle\"},\"mode\":\"lines\",\"name\":\"NZ_LT906470.1.region003\",\"orientation\":\"v\",\"showlegend\":true,\"x\":[0.001,0.002,0.01,0.02,0.1,0.2,1.0],\"xaxis\":\"x6\",\"y\":[1.0,1.0,1.0,1.0,5.0,10.0,50.0],\"yaxis\":\"y6\",\"type\":\"scatter\"},{\"hovertemplate\":\"Contig=NZ_LT906470.1.region003<br>variable=Depth avg<br>readGB=%{x}<br>value=%{y}<extra></extra>\",\"legendgroup\":\"NZ_LT906470.1.region003\",\"line\":{\"color\":\"#ab63fa\",\"dash\":\"solid\"},\"marker\":{\"symbol\":\"circle\"},\"mode\":\"lines\",\"name\":\"NZ_LT906470.1.region003\",\"orientation\":\"v\",\"showlegend\":false,\"x\":[0.001,0.002,0.01,0.02,0.1,0.2,1.0],\"xaxis\":\"x5\",\"y\":[1.202501954652072,1.06209453197405,1.232269771661878,1.8059396962140104,5.424519164245192,9.80483211611777,50.20537313432836],\"yaxis\":\"y5\",\"type\":\"scatter\"},{\"hovertemplate\":\"Contig=NZ_LT906470.1.region003<br>variable=Breadth<br>readGB=%{x}<br>value=%{y}<extra></extra>\",\"legendgroup\":\"NZ_LT906470.1.region003\",\"line\":{\"color\":\"#ab63fa\",\"dash\":\"solid\"},\"marker\":{\"symbol\":\"circle\"},\"mode\":\"lines\",\"name\":\"NZ_LT906470.1.region003\",\"orientation\":\"v\",\"showlegend\":false,\"x\":[0.001,0.002,0.01,0.02,0.1,0.2,1.0],\"xaxis\":\"x4\",\"y\":[0.0587370838117106,0.0991044776119403,0.3036969001148105,0.607715269804822,0.995683122847302,0.9998163030998852,1.0],\"yaxis\":\"y4\",\"type\":\"scatter\"},{\"hovertemplate\":\"Contig=NZ_LT906470.1.region003<br>variable=SQErr_med<br>readGB=%{x}<br>value=%{y}<extra></extra>\",\"legendgroup\":\"NZ_LT906470.1.region003\",\"line\":{\"color\":\"#ab63fa\",\"dash\":\"solid\"},\"marker\":{\"symbol\":\"circle\"},\"mode\":\"lines\",\"name\":\"NZ_LT906470.1.region003\",\"orientation\":\"v\",\"showlegend\":false,\"x\":[0.001,0.002,0.01,0.02,0.1,0.2,1.0],\"xaxis\":\"x3\",\"y\":[0.8848927312328244,0.7768214382227828,0.16554622139928085,0.03469001851197844,0.8672504627994607,3.469001851197843,86.72504627994614],\"yaxis\":\"y3\",\"type\":\"scatter\"},{\"hovertemplate\":\"Contig=NZ_LT906470.1.region003<br>variable=expectedCount<br>readGB=%{x}<br>value=%{y}<extra></extra>\",\"legendgroup\":\"NZ_LT906470.1.region003\",\"line\":{\"color\":\"#ab63fa\",\"dash\":\"solid\"},\"marker\":{\"symbol\":\"circle\"},\"mode\":\"lines\",\"name\":\"NZ_LT906470.1.region003\",\"orientation\":\"v\",\"showlegend\":false,\"x\":[0.001,0.002,0.01,0.02,0.1,0.2,1.0],\"xaxis\":\"x2\",\"y\":[0.059312628322871375,0.11862525664574275,0.5931262832287137,1.1862525664574275,5.931262832287137,11.862525664574274,59.312628322871376],\"yaxis\":\"y2\",\"type\":\"scatter\"},{\"hovertemplate\":\"Contig=NZ_LT906470.1.region003<br>variable=SQErr_avg<br>readGB=%{x}<br>value=%{y}<extra></extra>\",\"legendgroup\":\"NZ_LT906470.1.region003\",\"line\":{\"color\":\"#ab63fa\",\"dash\":\"solid\"},\"marker\":{\"symbol\":\"circle\"},\"mode\":\"lines\",\"name\":\"NZ_LT906470.1.region003\",\"orientation\":\"v\",\"showlegend\":false,\"x\":[0.001,0.002,0.01,0.02,0.1,0.2,1.0],\"xaxis\":\"x\",\"y\":[1.3068818358330119,0.8901342734885213,0.4085043988065144,0.38401213878595203,0.25678914510060546,4.234102739359518,82.94209706924366],\"yaxis\":\"y\",\"type\":\"scatter\"},{\"hovertemplate\":\"Contig=NC_014328.1.region002<br>variable=Depth median<br>readGB=%{x}<br>value=%{y}<extra></extra>\",\"legendgroup\":\"NC_014328.1.region002\",\"line\":{\"color\":\"#FFA15A\",\"dash\":\"solid\"},\"marker\":{\"symbol\":\"circle\"},\"mode\":\"lines\",\"name\":\"NC_014328.1.region002\",\"orientation\":\"v\",\"showlegend\":true,\"x\":[0.001,0.002,0.01,0.02,0.1,0.2,1.0],\"xaxis\":\"x6\",\"y\":[1.0,1.0,1.0,1.0,5.0,9.0,49.0],\"yaxis\":\"y6\",\"type\":\"scatter\"},{\"hovertemplate\":\"Contig=NC_014328.1.region002<br>variable=Depth avg<br>readGB=%{x}<br>value=%{y}<extra></extra>\",\"legendgroup\":\"NC_014328.1.region002\",\"line\":{\"color\":\"#FFA15A\",\"dash\":\"solid\"},\"marker\":{\"symbol\":\"circle\"},\"mode\":\"lines\",\"name\":\"NC_014328.1.region002\",\"orientation\":\"v\",\"showlegend\":false,\"x\":[0.001,0.002,0.01,0.02,0.1,0.2,1.0],\"xaxis\":\"x5\",\"y\":[1.090128755364807,1.182818229439497,1.316440542697526,1.6515389139384435,5.148714940812627,9.442542016806724,49.17357281655375],\"yaxis\":\"y5\",\"type\":\"scatter\"},{\"hovertemplate\":\"Contig=NC_014328.1.region002<br>variable=Breadth<br>readGB=%{x}<br>value=%{y}<extra></extra>\",\"legendgroup\":\"NC_014328.1.region002\",\"line\":{\"color\":\"#FFA15A\",\"dash\":\"solid\"},\"marker\":{\"symbol\":\"circle\"},\"mode\":\"lines\",\"name\":\"NC_014328.1.region002\",\"orientation\":\"v\",\"showlegend\":false,\"x\":[0.001,0.002,0.01,0.02,0.1,0.2,1.0],\"xaxis\":\"x4\",\"y\":[0.0367102568142429,0.1002573394254503,0.3948322041909564,0.5357911874376345,0.9849272622236228,0.999947481749908,1.0],\"yaxis\":\"y4\",\"type\":\"scatter\"},{\"hovertemplate\":\"Contig=NC_014328.1.region002<br>variable=SQErr_med<br>readGB=%{x}<br>value=%{y}<extra></extra>\",\"legendgroup\":\"NC_014328.1.region002\",\"line\":{\"color\":\"#FFA15A\",\"dash\":\"solid\"},\"marker\":{\"symbol\":\"circle\"},\"mode\":\"lines\",\"name\":\"NC_014328.1.region002\",\"orientation\":\"v\",\"showlegend\":false,\"x\":[0.001,0.002,0.01,0.02,0.1,0.2,1.0],\"xaxis\":\"x3\",\"y\":[0.8848927312328244,0.7768214382227828,0.16554622139928085,0.03469001851197844,0.8672504627994607,8.194053180346392,106.3503029256889],\"yaxis\":\"y3\",\"type\":\"scatter\"},{\"hovertemplate\":\"Contig=NC_014328.1.region002<br>variable=expectedCount<br>readGB=%{x}<br>value=%{y}<extra></extra>\",\"legendgroup\":\"NC_014328.1.region002\",\"line\":{\"color\":\"#FFA15A\",\"dash\":\"solid\"},\"marker\":{\"symbol\":\"circle\"},\"mode\":\"lines\",\"name\":\"NC_014328.1.region002\",\"orientation\":\"v\",\"showlegend\":false,\"x\":[0.001,0.002,0.01,0.02,0.1,0.2,1.0],\"xaxis\":\"x2\",\"y\":[0.059312628322871375,0.11862525664574275,0.5931262832287137,1.1862525664574275,5.931262832287137,11.862525664574274,59.312628322871376],\"yaxis\":\"y2\",\"type\":\"scatter\"},{\"hovertemplate\":\"Contig=NC_014328.1.region002<br>variable=SQErr_avg<br>readGB=%{x}<br>value=%{y}<extra></extra>\",\"legendgroup\":\"NC_014328.1.region002\",\"line\":{\"color\":\"#FFA15A\",\"dash\":\"solid\"},\"marker\":{\"symbol\":\"circle\"},\"mode\":\"lines\",\"name\":\"NC_014328.1.region002\",\"orientation\":\"v\",\"showlegend\":false,\"x\":[0.001,0.002,0.01,0.02,0.1,0.2,1.0],\"xaxis\":\"x\",\"y\":[1.062581887769736,1.1325066833436082,0.5231835179509163,0.2164913851522248,0.612381202451202,5.856320855462338,102.80044656018976],\"yaxis\":\"y\",\"type\":\"scatter\"},{\"hovertemplate\":\"Contig=NZ_LT906445.1.region001<br>variable=Depth median<br>readGB=%{x}<br>value=%{y}<extra></extra>\",\"legendgroup\":\"NZ_LT906445.1.region001\",\"line\":{\"color\":\"#19d3f3\",\"dash\":\"solid\"},\"marker\":{\"symbol\":\"circle\"},\"mode\":\"lines\",\"name\":\"NZ_LT906445.1.region001\",\"orientation\":\"v\",\"showlegend\":true,\"x\":[0.001,0.002,0.01,0.02,0.1,0.2,1.0],\"xaxis\":\"x6\",\"y\":[1.0,1.0,1.0,1.0,5.0,10.0,49.0],\"yaxis\":\"y6\",\"type\":\"scatter\"},{\"hovertemplate\":\"Contig=NZ_LT906445.1.region001<br>variable=Depth avg<br>readGB=%{x}<br>value=%{y}<extra></extra>\",\"legendgroup\":\"NZ_LT906445.1.region001\",\"line\":{\"color\":\"#19d3f3\",\"dash\":\"solid\"},\"marker\":{\"symbol\":\"circle\"},\"mode\":\"lines\",\"name\":\"NZ_LT906445.1.region001\",\"orientation\":\"v\",\"showlegend\":false,\"x\":[0.001,0.002,0.01,0.02,0.1,0.2,1.0],\"xaxis\":\"x5\",\"y\":[1.078556263269639,1.0766068759342302,1.3607533582606288,1.6331789662384224,4.810063882973799,9.970116953678977,49.0366482504604],\"yaxis\":\"y5\",\"type\":\"scatter\"},{\"hovertemplate\":\"Contig=NZ_LT906445.1.region001<br>variable=Breadth<br>readGB=%{x}<br>value=%{y}<extra></extra>\",\"legendgroup\":\"NZ_LT906445.1.region001\",\"line\":{\"color\":\"#19d3f3\",\"dash\":\"solid\"},\"marker\":{\"symbol\":\"circle\"},\"mode\":\"lines\",\"name\":\"NZ_LT906445.1.region001\",\"orientation\":\"v\",\"showlegend\":false,\"x\":[0.001,0.002,0.01,0.02,0.1,0.2,1.0],\"xaxis\":\"x4\",\"y\":[0.0650552486187845,0.1232044198895027,0.3324585635359116,0.616390423572744,0.9945672191528544,0.9999079189686924,1.0],\"yaxis\":\"y4\",\"type\":\"scatter\"},{\"hovertemplate\":\"Contig=NZ_LT906445.1.region001<br>variable=SQErr_med<br>readGB=%{x}<br>value=%{y}<extra></extra>\",\"legendgroup\":\"NZ_LT906445.1.region001\",\"line\":{\"color\":\"#19d3f3\",\"dash\":\"solid\"},\"marker\":{\"symbol\":\"circle\"},\"mode\":\"lines\",\"name\":\"NZ_LT906445.1.region001\",\"orientation\":\"v\",\"showlegend\":false,\"x\":[0.001,0.002,0.01,0.02,0.1,0.2,1.0],\"xaxis\":\"x3\",\"y\":[0.8848927312328244,0.7768214382227828,0.16554622139928085,0.03469001851197844,0.8672504627994607,3.469001851197843,106.3503029256889],\"yaxis\":\"y3\",\"type\":\"scatter\"},{\"hovertemplate\":\"Contig=NZ_LT906445.1.region001<br>variable=expectedCount<br>readGB=%{x}<br>value=%{y}<extra></extra>\",\"legendgroup\":\"NZ_LT906445.1.region001\",\"line\":{\"color\":\"#19d3f3\",\"dash\":\"solid\"},\"marker\":{\"symbol\":\"circle\"},\"mode\":\"lines\",\"name\":\"NZ_LT906445.1.region001\",\"orientation\":\"v\",\"showlegend\":false,\"x\":[0.001,0.002,0.01,0.02,0.1,0.2,1.0],\"xaxis\":\"x2\",\"y\":[0.059312628322871375,0.11862525664574275,0.5931262832287137,1.1862525664574275,5.931262832287137,11.862525664574274,59.312628322871376],\"yaxis\":\"y2\",\"type\":\"scatter\"},{\"hovertemplate\":\"Contig=NZ_LT906445.1.region001<br>variable=SQErr_avg<br>readGB=%{x}<br>value=%{y}<extra></extra>\",\"legendgroup\":\"NZ_LT906445.1.region001\",\"line\":{\"color\":\"#19d3f3\",\"dash\":\"solid\"},\"marker\":{\"symbol\":\"circle\"},\"mode\":\"lines\",\"name\":\"NZ_LT906445.1.region001\",\"orientation\":\"v\",\"showlegend\":false,\"x\":[0.001,0.002,0.01,0.02,0.1,0.2,1.0],\"xaxis\":\"x\",\"y\":[1.0388575873794998,0.9177287828945926,0.5892513263220533,0.1997432068212017,1.2570870839413328,3.581210729072403,105.59576644858744],\"yaxis\":\"y\",\"type\":\"scatter\"},{\"hovertemplate\":\"Contig=NC_014328.1.region004<br>variable=Depth median<br>readGB=%{x}<br>value=%{y}<extra></extra>\",\"legendgroup\":\"NC_014328.1.region004\",\"line\":{\"color\":\"#FF6692\",\"dash\":\"solid\"},\"marker\":{\"symbol\":\"circle\"},\"mode\":\"lines\",\"name\":\"NC_014328.1.region004\",\"orientation\":\"v\",\"showlegend\":true,\"x\":[0.001,0.002,0.01,0.02,0.1,0.2,1.0],\"xaxis\":\"x6\",\"y\":[1.0,1.0,1.0,1.0,5.0,10.0,50.0],\"yaxis\":\"y6\",\"type\":\"scatter\"},{\"hovertemplate\":\"Contig=NC_014328.1.region004<br>variable=Depth avg<br>readGB=%{x}<br>value=%{y}<extra></extra>\",\"legendgroup\":\"NC_014328.1.region004\",\"line\":{\"color\":\"#FF6692\",\"dash\":\"solid\"},\"marker\":{\"symbol\":\"circle\"},\"mode\":\"lines\",\"name\":\"NC_014328.1.region004\",\"orientation\":\"v\",\"showlegend\":false,\"x\":[0.001,0.002,0.01,0.02,0.1,0.2,1.0],\"xaxis\":\"x5\",\"y\":[1.0121212121212122,1.105263157894737,1.2762552071914053,1.7946771099744243,5.398082744702321,10.831599421024064,53.6487403319915],\"yaxis\":\"y5\",\"type\":\"scatter\"},{\"hovertemplate\":\"Contig=NC_014328.1.region004<br>variable=Breadth<br>readGB=%{x}<br>value=%{y}<extra></extra>\",\"legendgroup\":\"NC_014328.1.region004\",\"line\":{\"color\":\"#FF6692\",\"dash\":\"solid\"},\"marker\":{\"symbol\":\"circle\"},\"mode\":\"lines\",\"name\":\"NC_014328.1.region004\",\"orientation\":\"v\",\"showlegend\":false,\"x\":[0.001,0.002,0.01,0.02,0.1,0.2,1.0],\"xaxis\":\"x4\",\"y\":[0.0373151205391469,0.0893753674973992,0.4125921570401194,0.5659233796191596,0.9861142521145236,0.9999547695508616,1.0],\"yaxis\":\"y4\",\"type\":\"scatter\"},{\"hovertemplate\":\"Contig=NC_014328.1.region004<br>variable=SQErr_med<br>readGB=%{x}<br>value=%{y}<extra></extra>\",\"legendgroup\":\"NC_014328.1.region004\",\"line\":{\"color\":\"#FF6692\",\"dash\":\"solid\"},\"marker\":{\"symbol\":\"circle\"},\"mode\":\"lines\",\"name\":\"NC_014328.1.region004\",\"orientation\":\"v\",\"showlegend\":false,\"x\":[0.001,0.002,0.01,0.02,0.1,0.2,1.0],\"xaxis\":\"x3\",\"y\":[0.8848927312328244,0.7768214382227828,0.16554622139928085,0.03469001851197844,0.8672504627994607,3.469001851197843,86.72504627994614],\"yaxis\":\"y3\",\"type\":\"scatter\"},{\"hovertemplate\":\"Contig=NC_014328.1.region004<br>variable=expectedCount<br>readGB=%{x}<br>value=%{y}<extra></extra>\",\"legendgroup\":\"NC_014328.1.region004\",\"line\":{\"color\":\"#FF6692\",\"dash\":\"solid\"},\"marker\":{\"symbol\":\"circle\"},\"mode\":\"lines\",\"name\":\"NC_014328.1.region004\",\"orientation\":\"v\",\"showlegend\":false,\"x\":[0.001,0.002,0.01,0.02,0.1,0.2,1.0],\"xaxis\":\"x2\",\"y\":[0.059312628322871375,0.11862525664574275,0.5931262832287137,1.1862525664574275,5.931262832287137,11.862525664574274,59.312628322871376],\"yaxis\":\"y2\",\"type\":\"scatter\"},{\"hovertemplate\":\"Contig=NC_014328.1.region004<br>variable=SQErr_avg<br>readGB=%{x}<br>value=%{y}<extra></extra>\",\"legendgroup\":\"NC_014328.1.region004\",\"line\":{\"color\":\"#FF6692\",\"dash\":\"solid\"},\"marker\":{\"symbol\":\"circle\"},\"mode\":\"lines\",\"name\":\"NC_014328.1.region004\",\"orientation\":\"v\",\"showlegend\":false,\"x\":[0.001,0.002,0.01,0.02,0.1,0.2,1.0],\"xaxis\":\"x\",\"y\":[0.9078441973597999,0.9734543481810201,0.4666651267544248,0.37018042515386596,0.2842810057969526,1.0628089196405475,32.079627173233305],\"yaxis\":\"y\",\"type\":\"scatter\"},{\"hovertemplate\":\"Contig=NZ_CP053893.1.region001<br>variable=Depth median<br>readGB=%{x}<br>value=%{y}<extra></extra>\",\"legendgroup\":\"NZ_CP053893.1.region001\",\"line\":{\"color\":\"#B6E880\",\"dash\":\"solid\"},\"marker\":{\"symbol\":\"circle\"},\"mode\":\"lines\",\"name\":\"NZ_CP053893.1.region001\",\"orientation\":\"v\",\"showlegend\":true,\"x\":[0.001,0.002,0.01,0.02,0.1,0.2,1.0],\"xaxis\":\"x6\",\"y\":[1.0,1.0,1.0,1.0,5.0,10.0,51.0],\"yaxis\":\"y6\",\"type\":\"scatter\"},{\"hovertemplate\":\"Contig=NZ_CP053893.1.region001<br>variable=Depth avg<br>readGB=%{x}<br>value=%{y}<extra></extra>\",\"legendgroup\":\"NZ_CP053893.1.region001\",\"line\":{\"color\":\"#B6E880\",\"dash\":\"solid\"},\"marker\":{\"symbol\":\"circle\"},\"mode\":\"lines\",\"name\":\"NZ_CP053893.1.region001\",\"orientation\":\"v\",\"showlegend\":false,\"x\":[0.001,0.002,0.01,0.02,0.1,0.2,1.0],\"xaxis\":\"x5\",\"y\":[1.0331421287444231,1.071350164654226,1.4117079446767449,1.7049623321323288,4.841885357494953,10.447892027271465,50.75933398265386],\"yaxis\":\"y5\",\"type\":\"scatter\"},{\"hovertemplate\":\"Contig=NZ_CP053893.1.region001<br>variable=Breadth<br>readGB=%{x}<br>value=%{y}<extra></extra>\",\"legendgroup\":\"NZ_CP053893.1.region001\",\"line\":{\"color\":\"#B6E880\",\"dash\":\"solid\"},\"marker\":{\"symbol\":\"circle\"},\"mode\":\"lines\",\"name\":\"NZ_CP053893.1.region001\",\"orientation\":\"v\",\"showlegend\":false,\"x\":[0.001,0.002,0.01,0.02,0.1,0.2,1.0],\"xaxis\":\"x4\",\"y\":[0.0727702796716293,0.084504429293632,0.2883910764806827,0.56639302444228,0.987941190111776,1.0,1.0],\"yaxis\":\"y4\",\"type\":\"scatter\"},{\"hovertemplate\":\"Contig=NZ_CP053893.1.region001<br>variable=SQErr_med<br>readGB=%{x}<br>value=%{y}<extra></extra>\",\"legendgroup\":\"NZ_CP053893.1.region001\",\"line\":{\"color\":\"#B6E880\",\"dash\":\"solid\"},\"marker\":{\"symbol\":\"circle\"},\"mode\":\"lines\",\"name\":\"NZ_CP053893.1.region001\",\"orientation\":\"v\",\"showlegend\":false,\"x\":[0.001,0.002,0.01,0.02,0.1,0.2,1.0],\"xaxis\":\"x3\",\"y\":[0.8848927312328244,0.7768214382227828,0.16554622139928085,0.03469001851197844,0.8672504627994607,3.469001851197843,69.09978963420339],\"yaxis\":\"y3\",\"type\":\"scatter\"},{\"hovertemplate\":\"Contig=NZ_CP053893.1.region001<br>variable=expectedCount<br>readGB=%{x}<br>value=%{y}<extra></extra>\",\"legendgroup\":\"NZ_CP053893.1.region001\",\"line\":{\"color\":\"#B6E880\",\"dash\":\"solid\"},\"marker\":{\"symbol\":\"circle\"},\"mode\":\"lines\",\"name\":\"NZ_CP053893.1.region001\",\"orientation\":\"v\",\"showlegend\":false,\"x\":[0.001,0.002,0.01,0.02,0.1,0.2,1.0],\"xaxis\":\"x2\",\"y\":[0.059312628322871375,0.11862525664574275,0.5931262832287137,1.1862525664574275,5.931262832287137,11.862525664574274,59.312628322871376],\"yaxis\":\"y2\",\"type\":\"scatter\"},{\"hovertemplate\":\"Contig=NZ_CP053893.1.region001<br>variable=SQErr_avg<br>readGB=%{x}<br>value=%{y}<extra></extra>\",\"legendgroup\":\"NZ_CP053893.1.region001\",\"line\":{\"color\":\"#B6E880\",\"dash\":\"solid\"},\"marker\":{\"symbol\":\"circle\"},\"mode\":\"lines\",\"name\":\"NZ_CP053893.1.region001\",\"orientation\":\"v\",\"showlegend\":false,\"x\":[0.001,0.002,0.01,0.02,0.1,0.2,1.0],\"xaxis\":\"x\",\"y\":[0.9483438958912892,0.907684750339773,0.6700759364590191,0.26905982100651105,1.1867432825845956,2.001188327788578,73.15884407039705],\"yaxis\":\"y\",\"type\":\"scatter\"},{\"hovertemplate\":\"Contig=NZ_LT906470.1.region001<br>variable=Depth median<br>readGB=%{x}<br>value=%{y}<extra></extra>\",\"legendgroup\":\"NZ_LT906470.1.region001\",\"line\":{\"color\":\"#FF97FF\",\"dash\":\"solid\"},\"marker\":{\"symbol\":\"circle\"},\"mode\":\"lines\",\"name\":\"NZ_LT906470.1.region001\",\"orientation\":\"v\",\"showlegend\":true,\"x\":[0.001,0.002,0.01,0.02,0.1,0.2,1.0],\"xaxis\":\"x6\",\"y\":[1.0,1.0,1.0,1.0,5.0,11.0,52.0],\"yaxis\":\"y6\",\"type\":\"scatter\"},{\"hovertemplate\":\"Contig=NZ_LT906470.1.region001<br>variable=Depth avg<br>readGB=%{x}<br>value=%{y}<extra></extra>\",\"legendgroup\":\"NZ_LT906470.1.region001\",\"line\":{\"color\":\"#FF97FF\",\"dash\":\"solid\"},\"marker\":{\"symbol\":\"circle\"},\"mode\":\"lines\",\"name\":\"NZ_LT906470.1.region001\",\"orientation\":\"v\",\"showlegend\":false,\"x\":[0.001,0.002,0.01,0.02,0.1,0.2,1.0],\"xaxis\":\"x5\",\"y\":[1.0991735537190082,1.0928381962864722,1.4321079158019567,1.768979057591623,5.640342822161004,11.231306725401588,53.40944822086355],\"yaxis\":\"y5\",\"type\":\"scatter\"},{\"hovertemplate\":\"Contig=NZ_LT906470.1.region001<br>variable=Breadth<br>readGB=%{x}<br>value=%{y}<extra></extra>\",\"legendgroup\":\"NZ_LT906470.1.region001\",\"line\":{\"color\":\"#FF97FF\",\"dash\":\"solid\"},\"marker\":{\"symbol\":\"circle\"},\"mode\":\"lines\",\"name\":\"NZ_LT906470.1.region001\",\"orientation\":\"v\",\"showlegend\":false,\"x\":[0.001,0.002,0.01,0.02,0.1,0.2,1.0],\"xaxis\":\"x4\",\"y\":[0.0918998974670565,0.1002164584361827,0.2561804579804808,0.6382865605893745,0.9925188926442108,1.0,1.0],\"yaxis\":\"y4\",\"type\":\"scatter\"},{\"hovertemplate\":\"Contig=NZ_LT906470.1.region001<br>variable=SQErr_med<br>readGB=%{x}<br>value=%{y}<extra></extra>\",\"legendgroup\":\"NZ_LT906470.1.region001\",\"line\":{\"color\":\"#FF97FF\",\"dash\":\"solid\"},\"marker\":{\"symbol\":\"circle\"},\"mode\":\"lines\",\"name\":\"NZ_LT906470.1.region001\",\"orientation\":\"v\",\"showlegend\":false,\"x\":[0.001,0.002,0.01,0.02,0.1,0.2,1.0],\"xaxis\":\"x3\",\"y\":[0.8848927312328244,0.7768214382227828,0.16554622139928085,0.03469001851197844,0.8672504627994607,0.7439505220492939,53.47453298846063],\"yaxis\":\"y3\",\"type\":\"scatter\"},{\"hovertemplate\":\"Contig=NZ_LT906470.1.region001<br>variable=expectedCount<br>readGB=%{x}<br>value=%{y}<extra></extra>\",\"legendgroup\":\"NZ_LT906470.1.region001\",\"line\":{\"color\":\"#FF97FF\",\"dash\":\"solid\"},\"marker\":{\"symbol\":\"circle\"},\"mode\":\"lines\",\"name\":\"NZ_LT906470.1.region001\",\"orientation\":\"v\",\"showlegend\":false,\"x\":[0.001,0.002,0.01,0.02,0.1,0.2,1.0],\"xaxis\":\"x2\",\"y\":[0.059312628322871375,0.11862525664574275,0.5931262832287137,1.1862525664574275,5.931262832287137,11.862525664574274,59.312628322871376],\"yaxis\":\"y2\",\"type\":\"scatter\"},{\"hovertemplate\":\"Contig=NZ_LT906470.1.region001<br>variable=SQErr_avg<br>readGB=%{x}<br>value=%{y}<extra></extra>\",\"legendgroup\":\"NZ_LT906470.1.region001\",\"line\":{\"color\":\"#FF97FF\",\"dash\":\"solid\"},\"marker\":{\"symbol\":\"circle\"},\"mode\":\"lines\",\"name\":\"NZ_LT906470.1.region001\",\"orientation\":\"v\",\"showlegend\":false,\"x\":[0.001,0.002,0.01,0.02,0.1,0.2,1.0],\"xaxis\":\"x\",\"y\":[1.0813107441657102,0.9490908517634314,0.7038901797952641,0.33957016346957175,0.08463445229178965,0.39843734917029205,34.847535316741094],\"yaxis\":\"y\",\"type\":\"scatter\"},{\"hovertemplate\":\"Contig=NC_014328.1.region001<br>variable=Depth median<br>readGB=%{x}<br>value=%{y}<extra></extra>\",\"legendgroup\":\"NC_014328.1.region001\",\"line\":{\"color\":\"#FECB52\",\"dash\":\"solid\"},\"marker\":{\"symbol\":\"circle\"},\"mode\":\"lines\",\"name\":\"NC_014328.1.region001\",\"orientation\":\"v\",\"showlegend\":true,\"x\":[0.001,0.002,0.01,0.02,0.1,0.2,1.0],\"xaxis\":\"x6\",\"y\":[1.0,1.0,1.0,2.0,5.0,9.0,50.0],\"yaxis\":\"y6\",\"type\":\"scatter\"},{\"hovertemplate\":\"Contig=NC_014328.1.region001<br>variable=Depth avg<br>readGB=%{x}<br>value=%{y}<extra></extra>\",\"legendgroup\":\"NC_014328.1.region001\",\"line\":{\"color\":\"#FECB52\",\"dash\":\"solid\"},\"marker\":{\"symbol\":\"circle\"},\"mode\":\"lines\",\"name\":\"NC_014328.1.region001\",\"orientation\":\"v\",\"showlegend\":false,\"x\":[0.001,0.002,0.01,0.02,0.1,0.2,1.0],\"xaxis\":\"x5\",\"y\":[1.0805084745762712,1.1022561863173217,1.31740614334471,1.856779229594434,5.199587099654057,9.625165271044512,49.9456809167034],\"yaxis\":\"y5\",\"type\":\"scatter\"},{\"hovertemplate\":\"Contig=NC_014328.1.region001<br>variable=Breadth<br>readGB=%{x}<br>value=%{y}<extra></extra>\",\"legendgroup\":\"NC_014328.1.region001\",\"line\":{\"color\":\"#FECB52\",\"dash\":\"solid\"},\"marker\":{\"symbol\":\"circle\"},\"mode\":\"lines\",\"name\":\"NC_014328.1.region001\",\"orientation\":\"v\",\"showlegend\":false,\"x\":[0.001,0.002,0.01,0.02,0.1,0.2,1.0],\"xaxis\":\"x4\",\"y\":[0.0390039665050683,0.1513882767739092,0.3712538563243719,0.6492948435434112,0.98732921992067,1.0,1.0],\"yaxis\":\"y4\",\"type\":\"scatter\"},{\"hovertemplate\":\"Contig=NC_014328.1.region001<br>variable=SQErr_med<br>readGB=%{x}<br>value=%{y}<extra></extra>\",\"legendgroup\":\"NC_014328.1.region001\",\"line\":{\"color\":\"#FECB52\",\"dash\":\"solid\"},\"marker\":{\"symbol\":\"circle\"},\"mode\":\"lines\",\"name\":\"NC_014328.1.region001\",\"orientation\":\"v\",\"showlegend\":false,\"x\":[0.001,0.002,0.01,0.02,0.1,0.2,1.0],\"xaxis\":\"x3\",\"y\":[0.8848927312328244,0.7768214382227828,0.16554622139928085,0.6621848855971234,0.8672504627994607,8.194053180346392,86.72504627994614],\"yaxis\":\"y3\",\"type\":\"scatter\"},{\"hovertemplate\":\"Contig=NC_014328.1.region001<br>variable=expectedCount<br>readGB=%{x}<br>value=%{y}<extra></extra>\",\"legendgroup\":\"NC_014328.1.region001\",\"line\":{\"color\":\"#FECB52\",\"dash\":\"solid\"},\"marker\":{\"symbol\":\"circle\"},\"mode\":\"lines\",\"name\":\"NC_014328.1.region001\",\"orientation\":\"v\",\"showlegend\":false,\"x\":[0.001,0.002,0.01,0.02,0.1,0.2,1.0],\"xaxis\":\"x2\",\"y\":[0.059312628322871375,0.11862525664574275,0.5931262832287137,1.1862525664574275,5.931262832287137,11.862525664574274,59.312628322871376],\"yaxis\":\"y2\",\"type\":\"scatter\"},{\"hovertemplate\":\"Contig=NC_014328.1.region001<br>variable=SQErr_avg<br>readGB=%{x}<br>value=%{y}<extra></extra>\",\"legendgroup\":\"NC_014328.1.region001\",\"line\":{\"color\":\"#FECB52\",\"dash\":\"solid\"},\"marker\":{\"symbol\":\"circle\"},\"mode\":\"lines\",\"name\":\"NC_014328.1.region001\",\"orientation\":\"v\",\"showlegend\":false,\"x\":[0.001,0.002,0.01,0.02,0.1,0.2,1.0],\"xaxis\":\"x\",\"y\":[1.0428409564051975,0.9675298058065747,0.5245813157696471,0.4496060059776487,0.5353493777241551,5.0057815305356534,87.73970370991692],\"yaxis\":\"y\",\"type\":\"scatter\"},{\"hovertemplate\":\"Contig=NZ_CP053893.1.region004<br>variable=Depth median<br>readGB=%{x}<br>value=%{y}<extra></extra>\",\"legendgroup\":\"NZ_CP053893.1.region004\",\"line\":{\"color\":\"#636efa\",\"dash\":\"solid\"},\"marker\":{\"symbol\":\"circle\"},\"mode\":\"lines\",\"name\":\"NZ_CP053893.1.region004\",\"orientation\":\"v\",\"showlegend\":true,\"x\":[0.001,0.002,0.01,0.02,0.1,0.2,1.0],\"xaxis\":\"x6\",\"y\":[1.0,1.0,1.0,1.0,5.0,10.0,52.0],\"yaxis\":\"y6\",\"type\":\"scatter\"},{\"hovertemplate\":\"Contig=NZ_CP053893.1.region004<br>variable=Depth avg<br>readGB=%{x}<br>value=%{y}<extra></extra>\",\"legendgroup\":\"NZ_CP053893.1.region004\",\"line\":{\"color\":\"#636efa\",\"dash\":\"solid\"},\"marker\":{\"symbol\":\"circle\"},\"mode\":\"lines\",\"name\":\"NZ_CP053893.1.region004\",\"orientation\":\"v\",\"showlegend\":false,\"x\":[0.001,0.002,0.01,0.02,0.1,0.2,1.0],\"xaxis\":\"x5\",\"y\":[1.0693365212193664,1.0618892508143325,1.3785567615136405,1.5359060708109584,5.878332300061996,11.574854576997652,56.32957444637208],\"yaxis\":\"y5\",\"type\":\"scatter\"},{\"hovertemplate\":\"Contig=NZ_CP053893.1.region004<br>variable=Breadth<br>readGB=%{x}<br>value=%{y}<extra></extra>\",\"legendgroup\":\"NZ_CP053893.1.region004\",\"line\":{\"color\":\"#636efa\",\"dash\":\"solid\"},\"marker\":{\"symbol\":\"circle\"},\"mode\":\"lines\",\"name\":\"NZ_CP053893.1.region004\",\"orientation\":\"v\",\"showlegend\":false,\"x\":[0.001,0.002,0.01,0.02,0.1,0.2,1.0],\"xaxis\":\"x4\",\"y\":[0.0853658536585365,0.0783243188080416,0.3478926421063373,0.5606184304520869,0.9876518012042044,1.0,1.0],\"yaxis\":\"y4\",\"type\":\"scatter\"},{\"hovertemplate\":\"Contig=NZ_CP053893.1.region004<br>variable=SQErr_med<br>readGB=%{x}<br>value=%{y}<extra></extra>\",\"legendgroup\":\"NZ_CP053893.1.region004\",\"line\":{\"color\":\"#636efa\",\"dash\":\"solid\"},\"marker\":{\"symbol\":\"circle\"},\"mode\":\"lines\",\"name\":\"NZ_CP053893.1.region004\",\"orientation\":\"v\",\"showlegend\":false,\"x\":[0.001,0.002,0.01,0.02,0.1,0.2,1.0],\"xaxis\":\"x3\",\"y\":[0.8848927312328244,0.7768214382227828,0.16554622139928085,0.03469001851197844,0.8672504627994607,3.469001851197843,53.47453298846063],\"yaxis\":\"y3\",\"type\":\"scatter\"},{\"hovertemplate\":\"Contig=NZ_CP053893.1.region004<br>variable=expectedCount<br>readGB=%{x}<br>value=%{y}<extra></extra>\",\"legendgroup\":\"NZ_CP053893.1.region004\",\"line\":{\"color\":\"#636efa\",\"dash\":\"solid\"},\"marker\":{\"symbol\":\"circle\"},\"mode\":\"lines\",\"name\":\"NZ_CP053893.1.region004\",\"orientation\":\"v\",\"showlegend\":false,\"x\":[0.001,0.002,0.01,0.02,0.1,0.2,1.0],\"xaxis\":\"x2\",\"y\":[0.059312628322871375,0.11862525664574275,0.5931262832287137,1.1862525664574275,5.931262832287137,11.862525664574274,59.312628322871376],\"yaxis\":\"y2\",\"type\":\"scatter\"},{\"hovertemplate\":\"Contig=NZ_CP053893.1.region004<br>variable=SQErr_avg<br>readGB=%{x}<br>value=%{y}<extra></extra>\",\"legendgroup\":\"NZ_CP053893.1.region004\",\"line\":{\"color\":\"#636efa\",\"dash\":\"solid\"},\"marker\":{\"symbol\":\"circle\"},\"mode\":\"lines\",\"name\":\"NZ_CP053893.1.region004\",\"orientation\":\"v\",\"showlegend\":false,\"x\":[0.001,0.002,0.01,0.02,0.1,0.2,1.0],\"xaxis\":\"x\",\"y\":[1.0201482642217905,0.8897469626948813,0.6169010362188888,0.12225757310670467,0.0028016412416367125,0.08275465462751702,8.89861043009749],\"yaxis\":\"y\",\"type\":\"scatter\"},{\"hovertemplate\":\"Contig=NZ_CP053893.1.region002<br>variable=Depth median<br>readGB=%{x}<br>value=%{y}<extra></extra>\",\"legendgroup\":\"NZ_CP053893.1.region002\",\"line\":{\"color\":\"#EF553B\",\"dash\":\"solid\"},\"marker\":{\"symbol\":\"circle\"},\"mode\":\"lines\",\"name\":\"NZ_CP053893.1.region002\",\"orientation\":\"v\",\"showlegend\":true,\"x\":[0.001,0.002,0.01,0.02,0.1,0.2,1.0],\"xaxis\":\"x6\",\"y\":[1.0,1.0,2.0,2.0,6.0,11.0,52.0],\"yaxis\":\"y6\",\"type\":\"scatter\"},{\"hovertemplate\":\"Contig=NZ_CP053893.1.region002<br>variable=Depth avg<br>readGB=%{x}<br>value=%{y}<extra></extra>\",\"legendgroup\":\"NZ_CP053893.1.region002\",\"line\":{\"color\":\"#EF553B\",\"dash\":\"solid\"},\"marker\":{\"symbol\":\"circle\"},\"mode\":\"lines\",\"name\":\"NZ_CP053893.1.region002\",\"orientation\":\"v\",\"showlegend\":false,\"x\":[0.001,0.002,0.01,0.02,0.1,0.2,1.0],\"xaxis\":\"x5\",\"y\":[1.2406194163192377,1.972497824194952,4.8083191437606425,7.651257839475724,28.202812057454988,56.118902592499374,281.6797040169133],\"yaxis\":\"y5\",\"type\":\"scatter\"},{\"hovertemplate\":\"Contig=NZ_CP053893.1.region002<br>variable=Breadth<br>readGB=%{x}<br>value=%{y}<extra></extra>\",\"legendgroup\":\"NZ_CP053893.1.region002\",\"line\":{\"color\":\"#EF553B\",\"dash\":\"solid\"},\"marker\":{\"symbol\":\"circle\"},\"mode\":\"lines\",\"name\":\"NZ_CP053893.1.region002\",\"orientation\":\"v\",\"showlegend\":false,\"x\":[0.001,0.002,0.01,0.02,0.1,0.2,1.0],\"xaxis\":\"x4\",\"y\":[0.1690325178697271,0.2891875566294171,0.6208094231350045,0.7143360515453538,0.995268297593879,0.9999496627403603,1.0],\"yaxis\":\"y4\",\"type\":\"scatter\"},{\"hovertemplate\":\"Contig=NZ_CP053893.1.region002<br>variable=SQErr_med<br>readGB=%{x}<br>value=%{y}<extra></extra>\",\"legendgroup\":\"NZ_CP053893.1.region002\",\"line\":{\"color\":\"#EF553B\",\"dash\":\"solid\"},\"marker\":{\"symbol\":\"circle\"},\"mode\":\"lines\",\"name\":\"NZ_CP053893.1.region002\",\"orientation\":\"v\",\"showlegend\":false,\"x\":[0.001,0.002,0.01,0.02,0.1,0.2,1.0],\"xaxis\":\"x3\",\"y\":[0.8848927312328244,0.7768214382227828,1.9792936549418536,0.6621848855971234,0.004724798225186223,0.7439505220492939,53.47453298846063],\"yaxis\":\"y3\",\"type\":\"scatter\"},{\"hovertemplate\":\"Contig=NZ_CP053893.1.region002<br>variable=expectedCount<br>readGB=%{x}<br>value=%{y}<extra></extra>\",\"legendgroup\":\"NZ_CP053893.1.region002\",\"line\":{\"color\":\"#EF553B\",\"dash\":\"solid\"},\"marker\":{\"symbol\":\"circle\"},\"mode\":\"lines\",\"name\":\"NZ_CP053893.1.region002\",\"orientation\":\"v\",\"showlegend\":false,\"x\":[0.001,0.002,0.01,0.02,0.1,0.2,1.0],\"xaxis\":\"x2\",\"y\":[0.059312628322871375,0.11862525664574275,0.5931262832287137,1.1862525664574275,5.931262832287137,11.862525664574274,59.312628322871376],\"yaxis\":\"y2\",\"type\":\"scatter\"},{\"hovertemplate\":\"Contig=NZ_CP053893.1.region002<br>variable=SQErr_avg<br>readGB=%{x}<br>value=%{y}<extra></extra>\",\"legendgroup\":\"NZ_CP053893.1.region002\",\"line\":{\"color\":\"#EF553B\",\"dash\":\"solid\"},\"marker\":{\"symbol\":\"circle\"},\"mode\":\"lines\",\"name\":\"NZ_CP053893.1.region002\",\"orientation\":\"v\",\"showlegend\":false,\"x\":[0.001,0.002,0.01,0.02,0.1,0.2,1.0],\"xaxis\":\"x\",\"y\":[1.395485727366292,3.436843496711498,17.76785085147934,41.79629318015438,496.0219048890748,1958.6268987865815,49447.11635271978],\"yaxis\":\"y\",\"type\":\"scatter\"},{\"hovertemplate\":\"Contig=NZ_CP053893.1.region005<br>variable=Depth median<br>readGB=%{x}<br>value=%{y}<extra></extra>\",\"legendgroup\":\"NZ_CP053893.1.region005\",\"line\":{\"color\":\"#00cc96\",\"dash\":\"solid\"},\"marker\":{\"symbol\":\"circle\"},\"mode\":\"lines\",\"name\":\"NZ_CP053893.1.region005\",\"orientation\":\"v\",\"showlegend\":true,\"x\":[0.001,0.002,0.01,0.02,0.1,0.2,1.0],\"xaxis\":\"x6\",\"y\":[1.0,1.0,1.0,1.0,5.0,10.0,49.0],\"yaxis\":\"y6\",\"type\":\"scatter\"},{\"hovertemplate\":\"Contig=NZ_CP053893.1.region005<br>variable=Depth avg<br>readGB=%{x}<br>value=%{y}<extra></extra>\",\"legendgroup\":\"NZ_CP053893.1.region005\",\"line\":{\"color\":\"#00cc96\",\"dash\":\"solid\"},\"marker\":{\"symbol\":\"circle\"},\"mode\":\"lines\",\"name\":\"NZ_CP053893.1.region005\",\"orientation\":\"v\",\"showlegend\":false,\"x\":[0.001,0.002,0.01,0.02,0.1,0.2,1.0],\"xaxis\":\"x5\",\"y\":[1.094157685762904,1.095223325062035,1.3663389153479797,1.6058917996587374,5.012715934560203,9.87608274274638,49.55696547546941],\"yaxis\":\"y5\",\"type\":\"scatter\"},{\"hovertemplate\":\"Contig=NZ_CP053893.1.region005<br>variable=Breadth<br>readGB=%{x}<br>value=%{y}<extra></extra>\",\"legendgroup\":\"NZ_CP053893.1.region005\",\"line\":{\"color\":\"#00cc96\",\"dash\":\"solid\"},\"marker\":{\"symbol\":\"circle\"},\"mode\":\"lines\",\"name\":\"NZ_CP053893.1.region005\",\"orientation\":\"v\",\"showlegend\":false,\"x\":[0.001,0.002,0.01,0.02,0.1,0.2,1.0],\"xaxis\":\"x4\",\"y\":[0.0533918837068443,0.0976377952755905,0.3942459115687462,0.6034524530587523,0.9931405208964263,0.999939430648092,1.0],\"yaxis\":\"y4\",\"type\":\"scatter\"},{\"hovertemplate\":\"Contig=NZ_CP053893.1.region005<br>variable=SQErr_med<br>readGB=%{x}<br>value=%{y}<extra></extra>\",\"legendgroup\":\"NZ_CP053893.1.region005\",\"line\":{\"color\":\"#00cc96\",\"dash\":\"solid\"},\"marker\":{\"symbol\":\"circle\"},\"mode\":\"lines\",\"name\":\"NZ_CP053893.1.region005\",\"orientation\":\"v\",\"showlegend\":false,\"x\":[0.001,0.002,0.01,0.02,0.1,0.2,1.0],\"xaxis\":\"x3\",\"y\":[0.8848927312328244,0.7768214382227828,0.16554622139928085,0.03469001851197844,0.8672504627994607,3.469001851197843,106.3503029256889],\"yaxis\":\"y3\",\"type\":\"scatter\"},{\"hovertemplate\":\"Contig=NZ_CP053893.1.region005<br>variable=expectedCount<br>readGB=%{x}<br>value=%{y}<extra></extra>\",\"legendgroup\":\"NZ_CP053893.1.region005\",\"line\":{\"color\":\"#00cc96\",\"dash\":\"solid\"},\"marker\":{\"symbol\":\"circle\"},\"mode\":\"lines\",\"name\":\"NZ_CP053893.1.region005\",\"orientation\":\"v\",\"showlegend\":false,\"x\":[0.001,0.002,0.01,0.02,0.1,0.2,1.0],\"xaxis\":\"x2\",\"y\":[0.059312628322871375,0.11862525664574275,0.5931262832287137,1.1862525664574275,5.931262832287137,11.862525664574274,59.312628322871376],\"yaxis\":\"y2\",\"type\":\"scatter\"},{\"hovertemplate\":\"Contig=NZ_CP053893.1.region005<br>variable=SQErr_avg<br>readGB=%{x}<br>value=%{y}<extra></extra>\",\"legendgroup\":\"NZ_CP053893.1.region005\",\"line\":{\"color\":\"#00cc96\",\"dash\":\"solid\"},\"marker\":{\"symbol\":\"circle\"},\"mode\":\"lines\",\"name\":\"NZ_CP053893.1.region005\",\"orientation\":\"v\",\"showlegend\":false,\"x\":[0.001,0.002,0.01,0.02,0.1,0.2,1.0],\"xaxis\":\"x\",\"y\":[1.0709042929080648,0.9537437872344329,0.5978577744688033,0.17609708604178337,0.8437284033237757,3.9459554816801417,95.172957592179],\"yaxis\":\"y\",\"type\":\"scatter\"},{\"hovertemplate\":\"Contig=NC_014328.1.region003<br>variable=Depth median<br>readGB=%{x}<br>value=%{y}<extra></extra>\",\"legendgroup\":\"NC_014328.1.region003\",\"line\":{\"color\":\"#ab63fa\",\"dash\":\"solid\"},\"marker\":{\"symbol\":\"circle\"},\"mode\":\"lines\",\"name\":\"NC_014328.1.region003\",\"orientation\":\"v\",\"showlegend\":true,\"x\":[0.001,0.002,0.01,0.02,0.1,0.2,1.0],\"xaxis\":\"x6\",\"y\":[1.0,1.0,1.0,1.0,5.0,10.0,50.0],\"yaxis\":\"y6\",\"type\":\"scatter\"},{\"hovertemplate\":\"Contig=NC_014328.1.region003<br>variable=Depth avg<br>readGB=%{x}<br>value=%{y}<extra></extra>\",\"legendgroup\":\"NC_014328.1.region003\",\"line\":{\"color\":\"#ab63fa\",\"dash\":\"solid\"},\"marker\":{\"symbol\":\"circle\"},\"mode\":\"lines\",\"name\":\"NC_014328.1.region003\",\"orientation\":\"v\",\"showlegend\":false,\"x\":[0.001,0.002,0.01,0.02,0.1,0.2,1.0],\"xaxis\":\"x5\",\"y\":[1.123261694058154,1.0631796996374936,1.3119026933101652,1.7614520958083832,5.198801344832627,9.835477808298394,51.43436777178104],\"yaxis\":\"y5\",\"type\":\"scatter\"},{\"hovertemplate\":\"Contig=NC_014328.1.region003<br>variable=Breadth<br>readGB=%{x}<br>value=%{y}<extra></extra>\",\"legendgroup\":\"NC_014328.1.region003\",\"line\":{\"color\":\"#ab63fa\",\"dash\":\"solid\"},\"marker\":{\"symbol\":\"circle\"},\"mode\":\"lines\",\"name\":\"NC_014328.1.region003\",\"orientation\":\"v\",\"showlegend\":false,\"x\":[0.001,0.002,0.01,0.02,0.1,0.2,1.0],\"xaxis\":\"x4\",\"y\":[0.0762336160370084,0.0930512721665381,0.27732266769468,0.643793369313801,0.9889649190439476,0.9999518118735544,1.0],\"yaxis\":\"y4\",\"type\":\"scatter\"},{\"hovertemplate\":\"Contig=NC_014328.1.region003<br>variable=SQErr_med<br>readGB=%{x}<br>value=%{y}<extra></extra>\",\"legendgroup\":\"NC_014328.1.region003\",\"line\":{\"color\":\"#ab63fa\",\"dash\":\"solid\"},\"marker\":{\"symbol\":\"circle\"},\"mode\":\"lines\",\"name\":\"NC_014328.1.region003\",\"orientation\":\"v\",\"showlegend\":false,\"x\":[0.001,0.002,0.01,0.02,0.1,0.2,1.0],\"xaxis\":\"x3\",\"y\":[0.8848927312328244,0.7768214382227828,0.16554622139928085,0.03469001851197844,0.8672504627994607,3.469001851197843,86.72504627994614],\"yaxis\":\"y3\",\"type\":\"scatter\"},{\"hovertemplate\":\"Contig=NC_014328.1.region003<br>variable=expectedCount<br>readGB=%{x}<br>value=%{y}<extra></extra>\",\"legendgroup\":\"NC_014328.1.region003\",\"line\":{\"color\":\"#ab63fa\",\"dash\":\"solid\"},\"marker\":{\"symbol\":\"circle\"},\"mode\":\"lines\",\"name\":\"NC_014328.1.region003\",\"orientation\":\"v\",\"showlegend\":false,\"x\":[0.001,0.002,0.01,0.02,0.1,0.2,1.0],\"xaxis\":\"x2\",\"y\":[0.059312628322871375,0.11862525664574275,0.5931262832287137,1.1862525664574275,5.931262832287137,11.862525664574274,59.312628322871376],\"yaxis\":\"y2\",\"type\":\"scatter\"},{\"hovertemplate\":\"Contig=NC_014328.1.region003<br>variable=SQErr_avg<br>readGB=%{x}<br>value=%{y}<extra></extra>\",\"legendgroup\":\"NC_014328.1.region003\",\"line\":{\"color\":\"#ab63fa\",\"dash\":\"solid\"},\"marker\":{\"symbol\":\"circle\"},\"mode\":\"lines\",\"name\":\"NC_014328.1.region003\",\"orientation\":\"v\",\"showlegend\":false,\"x\":[0.001,0.002,0.01,0.02,0.1,0.2,1.0],\"xaxis\":\"x\",\"y\":[1.1319876144789807,0.8921830957754567,0.5166395276895789,0.330854498565561,0.5364998306040738,4.1089230116326405,62.06698931086619],\"yaxis\":\"y\",\"type\":\"scatter\"},{\"hovertemplate\":\"Contig=NZ_CP053893.1.region006<br>variable=Depth median<br>readGB=%{x}<br>value=%{y}<extra></extra>\",\"legendgroup\":\"NZ_CP053893.1.region006\",\"line\":{\"color\":\"#FFA15A\",\"dash\":\"solid\"},\"marker\":{\"symbol\":\"circle\"},\"mode\":\"lines\",\"name\":\"NZ_CP053893.1.region006\",\"orientation\":\"v\",\"showlegend\":true,\"x\":[0.001,0.002,0.01,0.02,0.1,0.2,1.0],\"xaxis\":\"x6\",\"y\":[1.0,1.0,1.0,2.0,6.0,11.0,52.0],\"yaxis\":\"y6\",\"type\":\"scatter\"},{\"hovertemplate\":\"Contig=NZ_CP053893.1.region006<br>variable=Depth avg<br>readGB=%{x}<br>value=%{y}<extra></extra>\",\"legendgroup\":\"NZ_CP053893.1.region006\",\"line\":{\"color\":\"#FFA15A\",\"dash\":\"solid\"},\"marker\":{\"symbol\":\"circle\"},\"mode\":\"lines\",\"name\":\"NZ_CP053893.1.region006\",\"orientation\":\"v\",\"showlegend\":false,\"x\":[0.001,0.002,0.01,0.02,0.1,0.2,1.0],\"xaxis\":\"x5\",\"y\":[1.1259370314842578,1.0660705414803775,1.4993791193046135,2.03044846577498,6.531531531531532,11.83548511417285,62.04123314065511],\"yaxis\":\"y5\",\"type\":\"scatter\"},{\"hovertemplate\":\"Contig=NZ_CP053893.1.region006<br>variable=Breadth<br>readGB=%{x}<br>value=%{y}<extra></extra>\",\"legendgroup\":\"NZ_CP053893.1.region006\",\"line\":{\"color\":\"#FFA15A\",\"dash\":\"solid\"},\"marker\":{\"symbol\":\"circle\"},\"mode\":\"lines\",\"name\":\"NZ_CP053893.1.region006\",\"orientation\":\"v\",\"showlegend\":false,\"x\":[0.001,0.002,0.01,0.02,0.1,0.2,1.0],\"xaxis\":\"x4\",\"y\":[0.0642581888246628,0.0969653179190751,0.5042870905587669,0.6122350674373795,0.9945086705202312,0.99990366088632,1.0],\"yaxis\":\"y4\",\"type\":\"scatter\"},{\"hovertemplate\":\"Contig=NZ_CP053893.1.region006<br>variable=SQErr_med<br>readGB=%{x}<br>value=%{y}<extra></extra>\",\"legendgroup\":\"NZ_CP053893.1.region006\",\"line\":{\"color\":\"#FFA15A\",\"dash\":\"solid\"},\"marker\":{\"symbol\":\"circle\"},\"mode\":\"lines\",\"name\":\"NZ_CP053893.1.region006\",\"orientation\":\"v\",\"showlegend\":false,\"x\":[0.001,0.002,0.01,0.02,0.1,0.2,1.0],\"xaxis\":\"x3\",\"y\":[0.8848927312328244,0.7768214382227828,0.16554622139928085,0.6621848855971234,0.004724798225186223,0.7439505220492939,53.47453298846063],\"yaxis\":\"y3\",\"type\":\"scatter\"},{\"hovertemplate\":\"Contig=NZ_CP053893.1.region006<br>variable=expectedCount<br>readGB=%{x}<br>value=%{y}<extra></extra>\",\"legendgroup\":\"NZ_CP053893.1.region006\",\"line\":{\"color\":\"#FFA15A\",\"dash\":\"solid\"},\"marker\":{\"symbol\":\"circle\"},\"mode\":\"lines\",\"name\":\"NZ_CP053893.1.region006\",\"orientation\":\"v\",\"showlegend\":false,\"x\":[0.001,0.002,0.01,0.02,0.1,0.2,1.0],\"xaxis\":\"x2\",\"y\":[0.059312628322871375,0.11862525664574275,0.5931262832287137,1.1862525664574275,5.931262832287137,11.862525664574274,59.312628322871376],\"yaxis\":\"y2\",\"type\":\"scatter\"},{\"hovertemplate\":\"Contig=NZ_CP053893.1.region006<br>variable=SQErr_avg<br>readGB=%{x}<br>value=%{y}<extra></extra>\",\"legendgroup\":\"NZ_CP053893.1.region006\",\"line\":{\"color\":\"#FFA15A\",\"dash\":\"solid\"},\"marker\":{\"symbol\":\"circle\"},\"mode\":\"lines\",\"name\":\"NZ_CP053893.1.region006\",\"orientation\":\"v\",\"showlegend\":false,\"x\":[0.001,0.002,0.01,0.02,0.1,0.2,1.0],\"xaxis\":\"x\",\"y\":[1.137687617419384,0.8976525677553822,0.8212942028956117,0.7126667164245716,0.3603225112925575,0.0007311913660120208,7.445284251632598],\"yaxis\":\"y\",\"type\":\"scatter\"},{\"hovertemplate\":\"Contig=NZ_CP053893.1.region003<br>variable=Depth median<br>readGB=%{x}<br>value=%{y}<extra></extra>\",\"legendgroup\":\"NZ_CP053893.1.region003\",\"line\":{\"color\":\"#19d3f3\",\"dash\":\"solid\"},\"marker\":{\"symbol\":\"circle\"},\"mode\":\"lines\",\"name\":\"NZ_CP053893.1.region003\",\"orientation\":\"v\",\"showlegend\":true,\"x\":[0.001,0.002,0.01,0.02,0.1,0.2,1.0],\"xaxis\":\"x6\",\"y\":[1.0,1.0,1.0,2.0,5.0,10.0,50.0],\"yaxis\":\"y6\",\"type\":\"scatter\"},{\"hovertemplate\":\"Contig=NZ_CP053893.1.region003<br>variable=Depth avg<br>readGB=%{x}<br>value=%{y}<extra></extra>\",\"legendgroup\":\"NZ_CP053893.1.region003\",\"line\":{\"color\":\"#19d3f3\",\"dash\":\"solid\"},\"marker\":{\"symbol\":\"circle\"},\"mode\":\"lines\",\"name\":\"NZ_CP053893.1.region003\",\"orientation\":\"v\",\"showlegend\":false,\"x\":[0.001,0.002,0.01,0.02,0.1,0.2,1.0],\"xaxis\":\"x5\",\"y\":[1.0559006211180124,1.0806533945890762,1.413684667100412,1.8319639753515564,4.718638525564804,10.657983811626195,51.327302147690496],\"yaxis\":\"y5\",\"type\":\"scatter\"},{\"hovertemplate\":\"Contig=NZ_CP053893.1.region003<br>variable=Breadth<br>readGB=%{x}<br>value=%{y}<extra></extra>\",\"legendgroup\":\"NZ_CP053893.1.region003\",\"line\":{\"color\":\"#19d3f3\",\"dash\":\"solid\"},\"marker\":{\"symbol\":\"circle\"},\"mode\":\"lines\",\"name\":\"NZ_CP053893.1.region003\",\"orientation\":\"v\",\"showlegend\":false,\"x\":[0.001,0.002,0.01,0.02,0.1,0.2,1.0],\"xaxis\":\"x4\",\"y\":[0.0236834363047955,0.096057664018829,0.4521918211238599,0.6206727468863391,0.9897028537805236,0.999558693733451,1.0],\"yaxis\":\"y4\",\"type\":\"scatter\"},{\"hovertemplate\":\"Contig=NZ_CP053893.1.region003<br>variable=SQErr_med<br>readGB=%{x}<br>value=%{y}<extra></extra>\",\"legendgroup\":\"NZ_CP053893.1.region003\",\"line\":{\"color\":\"#19d3f3\",\"dash\":\"solid\"},\"marker\":{\"symbol\":\"circle\"},\"mode\":\"lines\",\"name\":\"NZ_CP053893.1.region003\",\"orientation\":\"v\",\"showlegend\":false,\"x\":[0.001,0.002,0.01,0.02,0.1,0.2,1.0],\"xaxis\":\"x3\",\"y\":[0.8848927312328244,0.7768214382227828,0.16554622139928085,0.6621848855971234,0.8672504627994607,3.469001851197843,86.72504627994614],\"yaxis\":\"y3\",\"type\":\"scatter\"},{\"hovertemplate\":\"Contig=NZ_CP053893.1.region003<br>variable=expectedCount<br>readGB=%{x}<br>value=%{y}<extra></extra>\",\"legendgroup\":\"NZ_CP053893.1.region003\",\"line\":{\"color\":\"#19d3f3\",\"dash\":\"solid\"},\"marker\":{\"symbol\":\"circle\"},\"mode\":\"lines\",\"name\":\"NZ_CP053893.1.region003\",\"orientation\":\"v\",\"showlegend\":false,\"x\":[0.001,0.002,0.01,0.02,0.1,0.2,1.0],\"xaxis\":\"x2\",\"y\":[0.059312628322871375,0.11862525664574275,0.5931262832287137,1.1862525664574275,5.931262832287137,11.862525664574274,59.312628322871376],\"yaxis\":\"y2\",\"type\":\"scatter\"},{\"hovertemplate\":\"Contig=NZ_CP053893.1.region003<br>variable=SQErr_avg<br>readGB=%{x}<br>value=%{y}<extra></extra>\",\"legendgroup\":\"NZ_CP053893.1.region003\",\"line\":{\"color\":\"#19d3f3\",\"dash\":\"solid\"},\"marker\":{\"symbol\":\"circle\"},\"mode\":\"lines\",\"name\":\"NZ_CP053893.1.region003\",\"orientation\":\"v\",\"showlegend\":false,\"x\":[0.001,0.002,0.01,0.02,0.1,0.2,1.0],\"xaxis\":\"x\",\"y\":[0.9931876273834482,0.9254981381947174,0.6733160613421333,0.41694322357604097,1.4704577092538205,1.450921075503592,63.76543412402891],\"yaxis\":\"y\",\"type\":\"scatter\"}],                        {\"template\":{\"data\":{\"histogram2dcontour\":[{\"type\":\"histogram2dcontour\",\"colorbar\":{\"outlinewidth\":0,\"ticks\":\"\"},\"colorscale\":[[0.0,\"#0d0887\"],[0.1111111111111111,\"#46039f\"],[0.2222222222222222,\"#7201a8\"],[0.3333333333333333,\"#9c179e\"],[0.4444444444444444,\"#bd3786\"],[0.5555555555555556,\"#d8576b\"],[0.6666666666666666,\"#ed7953\"],[0.7777777777777778,\"#fb9f3a\"],[0.8888888888888888,\"#fdca26\"],[1.0,\"#f0f921\"]]}],\"choropleth\":[{\"type\":\"choropleth\",\"colorbar\":{\"outlinewidth\":0,\"ticks\":\"\"}}],\"histogram2d\":[{\"type\":\"histogram2d\",\"colorbar\":{\"outlinewidth\":0,\"ticks\":\"\"},\"colorscale\":[[0.0,\"#0d0887\"],[0.1111111111111111,\"#46039f\"],[0.2222222222222222,\"#7201a8\"],[0.3333333333333333,\"#9c179e\"],[0.4444444444444444,\"#bd3786\"],[0.5555555555555556,\"#d8576b\"],[0.6666666666666666,\"#ed7953\"],[0.7777777777777778,\"#fb9f3a\"],[0.8888888888888888,\"#fdca26\"],[1.0,\"#f0f921\"]]}],\"heatmap\":[{\"type\":\"heatmap\",\"colorbar\":{\"outlinewidth\":0,\"ticks\":\"\"},\"colorscale\":[[0.0,\"#0d0887\"],[0.1111111111111111,\"#46039f\"],[0.2222222222222222,\"#7201a8\"],[0.3333333333333333,\"#9c179e\"],[0.4444444444444444,\"#bd3786\"],[0.5555555555555556,\"#d8576b\"],[0.6666666666666666,\"#ed7953\"],[0.7777777777777778,\"#fb9f3a\"],[0.8888888888888888,\"#fdca26\"],[1.0,\"#f0f921\"]]}],\"heatmapgl\":[{\"type\":\"heatmapgl\",\"colorbar\":{\"outlinewidth\":0,\"ticks\":\"\"},\"colorscale\":[[0.0,\"#0d0887\"],[0.1111111111111111,\"#46039f\"],[0.2222222222222222,\"#7201a8\"],[0.3333333333333333,\"#9c179e\"],[0.4444444444444444,\"#bd3786\"],[0.5555555555555556,\"#d8576b\"],[0.6666666666666666,\"#ed7953\"],[0.7777777777777778,\"#fb9f3a\"],[0.8888888888888888,\"#fdca26\"],[1.0,\"#f0f921\"]]}],\"contourcarpet\":[{\"type\":\"contourcarpet\",\"colorbar\":{\"outlinewidth\":0,\"ticks\":\"\"}}],\"contour\":[{\"type\":\"contour\",\"colorbar\":{\"outlinewidth\":0,\"ticks\":\"\"},\"colorscale\":[[0.0,\"#0d0887\"],[0.1111111111111111,\"#46039f\"],[0.2222222222222222,\"#7201a8\"],[0.3333333333333333,\"#9c179e\"],[0.4444444444444444,\"#bd3786\"],[0.5555555555555556,\"#d8576b\"],[0.6666666666666666,\"#ed7953\"],[0.7777777777777778,\"#fb9f3a\"],[0.8888888888888888,\"#fdca26\"],[1.0,\"#f0f921\"]]}],\"surface\":[{\"type\":\"surface\",\"colorbar\":{\"outlinewidth\":0,\"ticks\":\"\"},\"colorscale\":[[0.0,\"#0d0887\"],[0.1111111111111111,\"#46039f\"],[0.2222222222222222,\"#7201a8\"],[0.3333333333333333,\"#9c179e\"],[0.4444444444444444,\"#bd3786\"],[0.5555555555555556,\"#d8576b\"],[0.6666666666666666,\"#ed7953\"],[0.7777777777777778,\"#fb9f3a\"],[0.8888888888888888,\"#fdca26\"],[1.0,\"#f0f921\"]]}],\"mesh3d\":[{\"type\":\"mesh3d\",\"colorbar\":{\"outlinewidth\":0,\"ticks\":\"\"}}],\"scatter\":[{\"fillpattern\":{\"fillmode\":\"overlay\",\"size\":10,\"solidity\":0.2},\"type\":\"scatter\"}],\"parcoords\":[{\"type\":\"parcoords\",\"line\":{\"colorbar\":{\"outlinewidth\":0,\"ticks\":\"\"}}}],\"scatterpolargl\":[{\"type\":\"scatterpolargl\",\"marker\":{\"colorbar\":{\"outlinewidth\":0,\"ticks\":\"\"}}}],\"bar\":[{\"error_x\":{\"color\":\"#2a3f5f\"},\"error_y\":{\"color\":\"#2a3f5f\"},\"marker\":{\"line\":{\"color\":\"#E5ECF6\",\"width\":0.5},\"pattern\":{\"fillmode\":\"overlay\",\"size\":10,\"solidity\":0.2}},\"type\":\"bar\"}],\"scattergeo\":[{\"type\":\"scattergeo\",\"marker\":{\"colorbar\":{\"outlinewidth\":0,\"ticks\":\"\"}}}],\"scatterpolar\":[{\"type\":\"scatterpolar\",\"marker\":{\"colorbar\":{\"outlinewidth\":0,\"ticks\":\"\"}}}],\"histogram\":[{\"marker\":{\"pattern\":{\"fillmode\":\"overlay\",\"size\":10,\"solidity\":0.2}},\"type\":\"histogram\"}],\"scattergl\":[{\"type\":\"scattergl\",\"marker\":{\"colorbar\":{\"outlinewidth\":0,\"ticks\":\"\"}}}],\"scatter3d\":[{\"type\":\"scatter3d\",\"line\":{\"colorbar\":{\"outlinewidth\":0,\"ticks\":\"\"}},\"marker\":{\"colorbar\":{\"outlinewidth\":0,\"ticks\":\"\"}}}],\"scattermapbox\":[{\"type\":\"scattermapbox\",\"marker\":{\"colorbar\":{\"outlinewidth\":0,\"ticks\":\"\"}}}],\"scatterternary\":[{\"type\":\"scatterternary\",\"marker\":{\"colorbar\":{\"outlinewidth\":0,\"ticks\":\"\"}}}],\"scattercarpet\":[{\"type\":\"scattercarpet\",\"marker\":{\"colorbar\":{\"outlinewidth\":0,\"ticks\":\"\"}}}],\"carpet\":[{\"aaxis\":{\"endlinecolor\":\"#2a3f5f\",\"gridcolor\":\"white\",\"linecolor\":\"white\",\"minorgridcolor\":\"white\",\"startlinecolor\":\"#2a3f5f\"},\"baxis\":{\"endlinecolor\":\"#2a3f5f\",\"gridcolor\":\"white\",\"linecolor\":\"white\",\"minorgridcolor\":\"white\",\"startlinecolor\":\"#2a3f5f\"},\"type\":\"carpet\"}],\"table\":[{\"cells\":{\"fill\":{\"color\":\"#EBF0F8\"},\"line\":{\"color\":\"white\"}},\"header\":{\"fill\":{\"color\":\"#C8D4E3\"},\"line\":{\"color\":\"white\"}},\"type\":\"table\"}],\"barpolar\":[{\"marker\":{\"line\":{\"color\":\"#E5ECF6\",\"width\":0.5},\"pattern\":{\"fillmode\":\"overlay\",\"size\":10,\"solidity\":0.2}},\"type\":\"barpolar\"}],\"pie\":[{\"automargin\":true,\"type\":\"pie\"}]},\"layout\":{\"autotypenumbers\":\"strict\",\"colorway\":[\"#636efa\",\"#EF553B\",\"#00cc96\",\"#ab63fa\",\"#FFA15A\",\"#19d3f3\",\"#FF6692\",\"#B6E880\",\"#FF97FF\",\"#FECB52\"],\"font\":{\"color\":\"#2a3f5f\"},\"hovermode\":\"closest\",\"hoverlabel\":{\"align\":\"left\"},\"paper_bgcolor\":\"white\",\"plot_bgcolor\":\"#E5ECF6\",\"polar\":{\"bgcolor\":\"#E5ECF6\",\"angularaxis\":{\"gridcolor\":\"white\",\"linecolor\":\"white\",\"ticks\":\"\"},\"radialaxis\":{\"gridcolor\":\"white\",\"linecolor\":\"white\",\"ticks\":\"\"}},\"ternary\":{\"bgcolor\":\"#E5ECF6\",\"aaxis\":{\"gridcolor\":\"white\",\"linecolor\":\"white\",\"ticks\":\"\"},\"baxis\":{\"gridcolor\":\"white\",\"linecolor\":\"white\",\"ticks\":\"\"},\"caxis\":{\"gridcolor\":\"white\",\"linecolor\":\"white\",\"ticks\":\"\"}},\"coloraxis\":{\"colorbar\":{\"outlinewidth\":0,\"ticks\":\"\"}},\"colorscale\":{\"sequential\":[[0.0,\"#0d0887\"],[0.1111111111111111,\"#46039f\"],[0.2222222222222222,\"#7201a8\"],[0.3333333333333333,\"#9c179e\"],[0.4444444444444444,\"#bd3786\"],[0.5555555555555556,\"#d8576b\"],[0.6666666666666666,\"#ed7953\"],[0.7777777777777778,\"#fb9f3a\"],[0.8888888888888888,\"#fdca26\"],[1.0,\"#f0f921\"]],\"sequentialminus\":[[0.0,\"#0d0887\"],[0.1111111111111111,\"#46039f\"],[0.2222222222222222,\"#7201a8\"],[0.3333333333333333,\"#9c179e\"],[0.4444444444444444,\"#bd3786\"],[0.5555555555555556,\"#d8576b\"],[0.6666666666666666,\"#ed7953\"],[0.7777777777777778,\"#fb9f3a\"],[0.8888888888888888,\"#fdca26\"],[1.0,\"#f0f921\"]],\"diverging\":[[0,\"#8e0152\"],[0.1,\"#c51b7d\"],[0.2,\"#de77ae\"],[0.3,\"#f1b6da\"],[0.4,\"#fde0ef\"],[0.5,\"#f7f7f7\"],[0.6,\"#e6f5d0\"],[0.7,\"#b8e186\"],[0.8,\"#7fbc41\"],[0.9,\"#4d9221\"],[1,\"#276419\"]]},\"xaxis\":{\"gridcolor\":\"white\",\"linecolor\":\"white\",\"ticks\":\"\",\"title\":{\"standoff\":15},\"zerolinecolor\":\"white\",\"automargin\":true,\"zerolinewidth\":2},\"yaxis\":{\"gridcolor\":\"white\",\"linecolor\":\"white\",\"ticks\":\"\",\"title\":{\"standoff\":15},\"zerolinecolor\":\"white\",\"automargin\":true,\"zerolinewidth\":2},\"scene\":{\"xaxis\":{\"backgroundcolor\":\"#E5ECF6\",\"gridcolor\":\"white\",\"linecolor\":\"white\",\"showbackground\":true,\"ticks\":\"\",\"zerolinecolor\":\"white\",\"gridwidth\":2},\"yaxis\":{\"backgroundcolor\":\"#E5ECF6\",\"gridcolor\":\"white\",\"linecolor\":\"white\",\"showbackground\":true,\"ticks\":\"\",\"zerolinecolor\":\"white\",\"gridwidth\":2},\"zaxis\":{\"backgroundcolor\":\"#E5ECF6\",\"gridcolor\":\"white\",\"linecolor\":\"white\",\"showbackground\":true,\"ticks\":\"\",\"zerolinecolor\":\"white\",\"gridwidth\":2}},\"shapedefaults\":{\"line\":{\"color\":\"#2a3f5f\"}},\"annotationdefaults\":{\"arrowcolor\":\"#2a3f5f\",\"arrowhead\":0,\"arrowwidth\":1},\"geo\":{\"bgcolor\":\"white\",\"landcolor\":\"#E5ECF6\",\"subunitcolor\":\"white\",\"showland\":true,\"showlakes\":true,\"lakecolor\":\"white\"},\"title\":{\"x\":0.05},\"mapbox\":{\"style\":\"light\"}}},\"xaxis\":{\"anchor\":\"y\",\"domain\":[0.0,0.98],\"title\":{\"text\":\"readGB\"}},\"yaxis\":{\"anchor\":\"x\",\"domain\":[0.0,0.14166666666666666],\"title\":{\"text\":\"value\"}},\"xaxis2\":{\"anchor\":\"y2\",\"domain\":[0.0,0.98],\"matches\":\"x\",\"showticklabels\":false},\"yaxis2\":{\"anchor\":\"x2\",\"domain\":[0.17166666666666666,0.31333333333333335],\"title\":{\"text\":\"value\"}},\"xaxis3\":{\"anchor\":\"y3\",\"domain\":[0.0,0.98],\"matches\":\"x\",\"showticklabels\":false},\"yaxis3\":{\"anchor\":\"x3\",\"domain\":[0.3433333333333333,0.485],\"title\":{\"text\":\"value\"}},\"xaxis4\":{\"anchor\":\"y4\",\"domain\":[0.0,0.98],\"matches\":\"x\",\"showticklabels\":false},\"yaxis4\":{\"anchor\":\"x4\",\"domain\":[0.515,0.6566666666666667],\"title\":{\"text\":\"value\"}},\"xaxis5\":{\"anchor\":\"y5\",\"domain\":[0.0,0.98],\"matches\":\"x\",\"showticklabels\":false},\"yaxis5\":{\"anchor\":\"x5\",\"domain\":[0.6866666666666666,0.8283333333333334],\"title\":{\"text\":\"value\"}},\"xaxis6\":{\"anchor\":\"y6\",\"domain\":[0.0,0.98],\"matches\":\"x\",\"showticklabels\":false},\"yaxis6\":{\"anchor\":\"x6\",\"domain\":[0.8583333333333333,1.0],\"title\":{\"text\":\"value\"}},\"annotations\":[{\"font\":{},\"showarrow\":false,\"text\":\"variable=SQErr_avg\",\"textangle\":90,\"x\":0.98,\"xanchor\":\"left\",\"xref\":\"paper\",\"y\":0.07083333333333333,\"yanchor\":\"middle\",\"yref\":\"paper\"},{\"font\":{},\"showarrow\":false,\"text\":\"variable=expectedCount\",\"textangle\":90,\"x\":0.98,\"xanchor\":\"left\",\"xref\":\"paper\",\"y\":0.2425,\"yanchor\":\"middle\",\"yref\":\"paper\"},{\"font\":{},\"showarrow\":false,\"text\":\"variable=SQErr_med\",\"textangle\":90,\"x\":0.98,\"xanchor\":\"left\",\"xref\":\"paper\",\"y\":0.4141666666666667,\"yanchor\":\"middle\",\"yref\":\"paper\"},{\"font\":{},\"showarrow\":false,\"text\":\"variable=Breadth\",\"textangle\":90,\"x\":0.98,\"xanchor\":\"left\",\"xref\":\"paper\",\"y\":0.5858333333333334,\"yanchor\":\"middle\",\"yref\":\"paper\"},{\"font\":{},\"showarrow\":false,\"text\":\"variable=Depth avg\",\"textangle\":90,\"x\":0.98,\"xanchor\":\"left\",\"xref\":\"paper\",\"y\":0.7575000000000001,\"yanchor\":\"middle\",\"yref\":\"paper\"},{\"font\":{},\"showarrow\":false,\"text\":\"variable=Depth median\",\"textangle\":90,\"x\":0.98,\"xanchor\":\"left\",\"xref\":\"paper\",\"y\":0.9291666666666667,\"yanchor\":\"middle\",\"yref\":\"paper\"}],\"legend\":{\"title\":{\"text\":\"Contig\"},\"tracegroupgap\":0},\"margin\":{\"t\":60},\"height\":1800},                        {\"responsive\": true}                    ).then(function(){\n",
       "                            \n",
       "var gd = document.getElementById('cfb35e86-2d6f-413b-82fb-8b044bec4f7f');\n",
       "var x = new MutationObserver(function (mutations, observer) {{\n",
       "        var display = window.getComputedStyle(gd).display;\n",
       "        if (!display || display === 'none') {{\n",
       "            console.log([gd, 'removed!']);\n",
       "            Plotly.purge(gd);\n",
       "            observer.disconnect();\n",
       "        }}\n",
       "}});\n",
       "\n",
       "// Listen for the removal of the full notebook cells\n",
       "var notebookContainer = gd.closest('#notebook-container');\n",
       "if (notebookContainer) {{\n",
       "    x.observe(notebookContainer, {childList: true});\n",
       "}}\n",
       "\n",
       "// Listen for the clearing of the current output cell\n",
       "var outputEl = gd.closest('.output');\n",
       "if (outputEl) {{\n",
       "    x.observe(outputEl, {childList: true});\n",
       "}}\n",
       "\n",
       "                        })                };                });            </script>        </div>"
      ]
     },
     "metadata": {},
     "output_type": "display_data"
    }
   ],
   "source": [
    "fig = px.line(df_long.sort_values(\"readGB\"),\n",
    "        x=\"readGB\",\n",
    "        y=\"value\",\n",
    "        facet_row=\"variable\",\n",
    "        color=\"Contig\"\n",
    "       )\n",
    "fig.update_layout(height=1800)\n",
    "fig.update_yaxes(matches=None)"
   ]
  },
  {
   "cell_type": "code",
   "execution_count": 13,
   "metadata": {},
   "outputs": [
    {
     "data": {
      "text/plain": [
       "280"
      ]
     },
     "execution_count": 13,
     "metadata": {},
     "output_type": "execute_result"
    }
   ],
   "source": [
    "import plotly"
   ]
  },
  {
   "cell_type": "code",
   "execution_count": null,
   "metadata": {},
   "outputs": [],
   "source": []
  },
  {
   "cell_type": "code",
   "execution_count": null,
   "metadata": {},
   "outputs": [],
   "source": []
  },
  {
   "cell_type": "code",
   "execution_count": null,
   "metadata": {},
   "outputs": [],
   "source": []
  },
  {
   "cell_type": "code",
   "execution_count": 2,
   "metadata": {},
   "outputs": [
    {
     "data": {
      "text/plain": [
       "Namespace(gbk='out.gbk', fa=None)"
      ]
     },
     "execution_count": 2,
     "metadata": {},
     "output_type": "execute_result"
    }
   ],
   "source": [
    "import argparse\n",
    "parser = argparse.ArgumentParser()\n",
    "parser.add_argument(\"--gbk\", required=True, help=\"input .gbk file\")\n",
    "parser.add_argument(\"--fa\", help=\"output .file\")\n",
    "args = parser.parse_args([\"--gbk\", \"out.gbk\"])\n",
    "args"
   ]
  },
  {
   "cell_type": "code",
   "execution_count": 2,
   "metadata": {},
   "outputs": [],
   "source": [
    "ncbi_id_file = \"../config/ids_simulation_genomes.txt\""
   ]
  },
  {
   "cell_type": "code",
   "execution_count": 15,
   "metadata": {},
   "outputs": [
    {
     "name": "stderr",
     "output_type": "stream",
     "text": [
      "Found 5 ids in file\n"
     ]
    }
   ],
   "source": [
    "import os, sys\n",
    "\n",
    "ncbi_ids = [entry.strip() for line in open(ncbi_id_file, \"r\").readlines() for entry in line.split()]\n",
    "print(f\"Found {len(ncbi_ids)} ids in file\", file=sys.stderr)\n",
    "\n",
    "expected_output = [f\"../data/simulated_data/input_genomes/{x.replace('.', '_')}.fa\" for x in ncbi_ids+[\"combined\"]]"
   ]
  },
  {
   "cell_type": "code",
   "execution_count": 13,
   "metadata": {},
   "outputs": [
    {
     "data": {
      "text/plain": [
       "['../data/simulated_data/input_genomes/NZ_LT906445_1.fa',\n",
       " '../data/simulated_data/input_genomes/NZ_CP053893_1.fa',\n",
       " '../data/simulated_data/input_genomes/NC_014328_1.fa',\n",
       " '../data/simulated_data/input_genomes/NZ_CP020566_1.fa',\n",
       " '../data/simulated_data/input_genomes/NZ_LT906470_1.fa',\n",
       " '../data/simulated_data/input_genomes/combined_fasta.fa']"
      ]
     },
     "execution_count": 13,
     "metadata": {},
     "output_type": "execute_result"
    }
   ],
   "source": [
    "expected_output"
   ]
  },
  {
   "cell_type": "code",
   "execution_count": 14,
   "metadata": {},
   "outputs": [
    {
     "data": {
      "text/plain": [
       "[True, True, True, True, True, False]"
      ]
     },
     "execution_count": 14,
     "metadata": {},
     "output_type": "execute_result"
    }
   ],
   "source": [
    "[os.path.isfile(x) for x in expected_output]"
   ]
  },
  {
   "cell_type": "code",
   "execution_count": 3,
   "metadata": {},
   "outputs": [
    {
     "data": {
      "text/plain": [
       "'0_03'"
      ]
     },
     "execution_count": 3,
     "metadata": {},
     "output_type": "execute_result"
    }
   ],
   "source": [
    "str(number).replace(\".\",\"_\")"
   ]
  },
  {
   "cell_type": "code",
   "execution_count": 16,
   "metadata": {},
   "outputs": [
    {
     "data": {
      "text/plain": [
       "{'directory': 'home',\n",
       " 'modules': 'tools antismash/6.1.1',\n",
       " 'runtime': 1,\n",
       " 'cores': 30,\n",
       " 'ram': 100,\n",
       " 'group': 'dtu_00009',\n",
       " 'jobname': 'somefile.py',\n",
       " 'output': 'home/logs/somefile_stdout',\n",
       " 'error': 'home/logs/somefile_stderr'}"
      ]
     },
     "execution_count": 16,
     "metadata": {},
     "output_type": "execute_result"
    }
   ],
   "source": [
    "gen_qsub_args(working_dir=\"home\", runtime=1)"
   ]
  },
  {
   "cell_type": "code",
   "execution_count": 1,
   "metadata": {},
   "outputs": [],
   "source": [
    "import re"
   ]
  },
  {
   "cell_type": "code",
   "execution_count": 23,
   "metadata": {},
   "outputs": [],
   "source": [
    "import os\n",
    "import glob\n",
    "import sys\n",
    "\n",
    "\n",
    "def output_exists(reads_gb: int) -> bool:\n",
    "    \"\"\"Checks if the output from the run already exists.\n",
    "    Can be used as a check to see if the job ran succesfully,\n",
    "    or if the job doesn't need to run.\n",
    "    \"\"\"\n",
    "    reads_dir = f\"../data/simulated_data/camisim/{gen_prefix(reads_gb)}/*_sample_0/reads/*\"\n",
    "    file_names = [x.rsplit(\"/\",1)[1] for x in glob.glob(reads_dir)]\n",
    "    n_output_fasta_files = len(re.findall(\"(Genome[1-5][1,2])\", \"\".join(file_names)))\n",
    "    print(f\"Found ({n_output_fasta_files}/10) outputfiles\", file=sys.stderr)\n",
    "    return n_output_fasta_files == 10 #TODO: probably shouldn't be hardcoded.\n",
    "def gen_prefix(reads_gb:int) -> str:\n",
    "    return str(reads_gb).replace(\".\",\"_\")+\"GB\""
   ]
  },
  {
   "cell_type": "code",
   "execution_count": 24,
   "metadata": {},
   "outputs": [
    {
     "name": "stderr",
     "output_type": "stream",
     "text": [
      "Found (10/10) outputfiles\n"
     ]
    },
    {
     "data": {
      "text/plain": [
       "True"
      ]
     },
     "execution_count": 24,
     "metadata": {},
     "output_type": "execute_result"
    }
   ],
   "source": [
    "output_exists(0.1)"
   ]
  },
  {
   "cell_type": "code",
   "execution_count": 27,
   "metadata": {},
   "outputs": [],
   "source": [
    "assemblies = f\"../data/simulated_data/camisim/*GB/*_sample_0/contigs/gsa.fasta.gz\""
   ]
  },
  {
   "cell_type": "code",
   "execution_count": 29,
   "metadata": {},
   "outputs": [],
   "source": [
    "camisim_dataset_GB_range = [1, 0.1, 0.01, 0.001, 0.0001, 0.00001]"
   ]
  },
  {
   "cell_type": "code",
   "execution_count": 31,
   "metadata": {},
   "outputs": [
    {
     "name": "stdout",
     "output_type": "stream",
     "text": [
      "1 False\n",
      "0.1 False\n",
      "0.01 False\n",
      "0.001 False\n",
      "0.0001 False\n",
      "1e-05 False\n"
     ]
    }
   ],
   "source": [
    "for gb in camisim_dataset_GB_range:\n",
    "    antismash_html = f\"../data/simulated_data/antismash/{gen_prefix(gb)}/index.html\"\n",
    "    print(gb, os.path.isfile(antismash_html))"
   ]
  },
  {
   "cell_type": "code",
   "execution_count": 30,
   "metadata": {},
   "outputs": [
    {
     "name": "stdout",
     "output_type": "stream",
     "text": [
      "1 []\n",
      "0.1 ['../data/simulated_data/camisim/0_1GB/2022.09.07_14.33.06_sample_0/contigs/gsa.fasta.gz']\n",
      "0.01 []\n",
      "0.001 []\n",
      "0.0001 []\n",
      "1e-05 []\n"
     ]
    }
   ],
   "source": [
    "for gb in camisim_dataset_GB_range:\n",
    "    f = glob.glob(f\"../data/simulated_data/camisim/{gen_prefix(gb)}/*_sample_0/contigs/gsa.fasta.gz\")\n",
    "    print(gb, f)"
   ]
  },
  {
   "cell_type": "code",
   "execution_count": null,
   "metadata": {},
   "outputs": [],
   "source": []
  }
 ],
 "metadata": {
  "kernelspec": {
   "display_name": "Python 3 (ipykernel)",
   "language": "python",
   "name": "python3"
  },
  "language_info": {
   "codemirror_mode": {
    "name": "ipython",
    "version": 3
   },
   "file_extension": ".py",
   "mimetype": "text/x-python",
   "name": "python",
   "nbconvert_exporter": "python",
   "pygments_lexer": "ipython3",
   "version": "3.10.4"
  }
 },
 "nbformat": 4,
 "nbformat_minor": 2
}
