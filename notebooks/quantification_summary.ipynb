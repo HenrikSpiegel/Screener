{
 "cells": [
  {
   "cell_type": "code",
   "execution_count": 1,
   "metadata": {},
   "outputs": [],
   "source": [
    "import glob\n",
    "import pandas as pd\n",
    "import os, sys\n",
    "from typing import List, Callable\n",
    "import numpy as np\n",
    "\n",
    "if not \"../\" in sys.path:\n",
    "    sys.path.insert(0,\"../\")\n",
    "from scripts.qsub_base import Base"
   ]
  },
  {
   "cell_type": "code",
   "execution_count": 2,
   "metadata": {},
   "outputs": [],
   "source": [
    "\n",
    "def gather_reference_quantification(\n",
    "        quantification_dir: str=\"data/simulated_data/quantification/\", \n",
    "        expected_labels: List[str]=None):\n",
    "    \n",
    "    summary_files = glob.glob(os.path.join(quantification_dir, \"*/cmseq_summation.tsv\"))\n",
    "    summary_labels = [x.rsplit(\"/\",2)[1] for x in summary_files]\n",
    "    \n",
    "    if expected_labels:\n",
    "        if not set(expected_labels) == set(summary_labels):\n",
    "            err_msg = f\"\\\n",
    "expected summary files != found summary files.\\n\\\n",
    "Expected labels({len(expected_labels)}):{expected_labels}\\n\\\n",
    "Found labels({len(summary_labels)}):{summary_labels}\\n\\\n",
    "Missing expected: {set(expected_labels).difference(set(summary_labels))}\"\n",
    "            raise ValueError(err_msg)\n",
    "    \n",
    "    dataframes = []\n",
    "    for file, label in zip(summary_files, summary_labels):\n",
    "        readsGB = float(label[:-2].replace(\"_\", \".\"))\n",
    "        df = pd.read_csv(file, sep=\"\\t\")\n",
    "        df[\"readsGB\"] = readsGB\n",
    "        dataframes.append(df)        \n",
    "    print(f\"Gathered summary from ({len(summary_labels)}): {summary_labels}\", file=sys.stderr)\n",
    "    return pd.concat(dataframes)"
   ]
  },
  {
   "cell_type": "code",
   "execution_count": 7,
   "metadata": {},
   "outputs": [],
   "source": [
    "def expected_count_eq_ratio(readsGB:List[int], input_genomes_fasta: str = \"data/simulated_data/input_genomes/combined.fa\"):\n",
    "    total_length = 0\n",
    "    for line in open(input_genomes_fasta, \"rb\"):\n",
    "        if line[0] == 62: #bit for '>'\n",
    "            #print(total_length)\n",
    "            #print(line)\n",
    "            continue\n",
    "        total_length += len(line.strip())\n",
    "    print(f\"Combined genome size ({total_length})bp\", file=sys.stderr)\n",
    "    expected_counts = [(x*10**9)/total_length for x in readsGB]\n",
    "    return expected_counts"
   ]
  },
  {
   "cell_type": "code",
   "execution_count": 121,
   "metadata": {},
   "outputs": [],
   "source": [
    "\n",
    "def calculate_error_metrics(df: pd.DataFrame) -> pd.DataFrame:\n",
    "    df_out = df.copy()\n",
    "    \n",
    "    fp_inputcombined = \"../data/simulated_data/input_genomes/combined.fa\"\n",
    "    df_out[\"expected_value\"] = expected_count_eq_ratio(df[\"readsGB\"], fp_inputcombined)\n",
    "    df_out[\"expected_value_int\"] = df_out[\"expected_value\"].round(0)\n",
    "    \n",
    "    df_out[\"err\"] = df_out[\"Depth median\"] - df_out[\"expected_value\"]\n",
    "    df_out[\"AE\"] = np.abs(df_out[\"err\"])\n",
    "    df_out[\"RAE\"] = df_out[\"AE\"]/df_out[\"expected_value\"]\n",
    "    \n",
    "    #standardised residuals:\n",
    "    df_out[\"std_res\"] = df_out[\"err\"] / np.std(df_out[\"err\"], ddof=2)\n",
    "    #df_out[\"RAE_int\"] = np.abs(df_out[\"expected_value_int\"].values-df_out[\"Depth median\"])/df_out[\"expected_value_int\"]\n",
    "    \n",
    "    return df_out\n",
    "    #df_out[\"abs_err\"] = \n",
    "\n",
    "#df_summary = calculate_error_metrics(df_ref_quant)"
   ]
  },
  {
   "cell_type": "code",
   "execution_count": 122,
   "metadata": {},
   "outputs": [
    {
     "name": "stderr",
     "output_type": "stream",
     "text": [
      "Gathered summary from (28): ['0_5GB', '0_9GB', '0_01GB', '0_07GB', '0_02GB', '0_09GB', '0_007GB', '0_006GB', '0_6GB', '0_08GB', '0_04GB', '0_05GB', '1_0GB', '0_03GB', '0_004GB', '0_002GB', '0_009GB', '0_7GB', '0_8GB', '0_2GB', '0_1GB', '0_001GB', '0_3GB', '0_005GB', '0_008GB', '0_06GB', '0_003GB', '0_4GB']\n",
      "Combined genome size (16859816)bp\n"
     ]
    }
   ],
   "source": [
    "# Run analysis:\n",
    "# Which runs are we expecting to see:\n",
    "gbs_to_run = np.round([x*10**-y for x in range(1,10) for y in (1,2,3)] + [1], 3) #Note rounding should equal max powering\n",
    "gbs_to_run.sort()\n",
    "expected_labels = [Base.gen_prefix(gb) for gb in gbs_to_run]\n",
    "expected_labels\n",
    "\n",
    "df_ref_quant = gather_reference_quantification(\"../data/simulated_data/quantification/\", expected_labels)\n",
    "df_summary = calculate_error_metrics(df_ref_quant)\n"
   ]
  },
  {
   "cell_type": "code",
   "execution_count": 54,
   "metadata": {},
   "outputs": [
    {
     "data": {
      "text/html": [
       "<div>\n",
       "<style scoped>\n",
       "    .dataframe tbody tr th:only-of-type {\n",
       "        vertical-align: middle;\n",
       "    }\n",
       "\n",
       "    .dataframe tbody tr th {\n",
       "        vertical-align: top;\n",
       "    }\n",
       "\n",
       "    .dataframe thead th {\n",
       "        text-align: right;\n",
       "    }\n",
       "</style>\n",
       "<table border=\"1\" class=\"dataframe\">\n",
       "  <thead>\n",
       "    <tr style=\"text-align: right;\">\n",
       "      <th></th>\n",
       "      <th>readsGB</th>\n",
       "      <th>Metric</th>\n",
       "      <th>value</th>\n",
       "    </tr>\n",
       "  </thead>\n",
       "  <tbody>\n",
       "    <tr>\n",
       "      <th>0</th>\n",
       "      <td>0.001</td>\n",
       "      <td>AE</td>\n",
       "      <td>0.940687</td>\n",
       "    </tr>\n",
       "    <tr>\n",
       "      <th>1</th>\n",
       "      <td>0.002</td>\n",
       "      <td>AE</td>\n",
       "      <td>0.943875</td>\n",
       "    </tr>\n",
       "  </tbody>\n",
       "</table>\n",
       "</div>"
      ],
      "text/plain": [
       "   readsGB Metric     value\n",
       "0    0.001     AE  0.940687\n",
       "1    0.002     AE  0.943875"
      ]
     },
     "execution_count": 54,
     "metadata": {},
     "output_type": "execute_result"
    }
   ],
   "source": [
    "# Plot the errors:\n",
    "df_avg = df_summary\\\n",
    "    .groupby(\"readsGB\")[[\"AE\",\"RAE\"]].mean().reset_index()\\\n",
    "    .melt(id_vars=\"readsGB\",value_vars=[\"AE\",\"RAE\"], var_name=\"Metric\")\n",
    "df_avg.head(2)"
   ]
  },
  {
   "cell_type": "code",
   "execution_count": 115,
   "metadata": {},
   "outputs": [
    {
     "data": {
      "application/vnd.plotly.v1+json": {
       "config": {
        "plotlyServerURL": "https://plot.ly"
       },
       "data": [
        {
         "hovertemplate": "Metric=AE<br>Sample size (Gb)=%{x}<br>Error=%{y}<extra></extra>",
         "legendgroup": "AE",
         "line": {
          "color": "#636efa",
          "dash": "solid"
         },
         "marker": {
          "symbol": "circle"
         },
         "mode": "markers+lines",
         "name": "AE",
         "orientation": "v",
         "showlegend": true,
         "type": "scatter",
         "x": [
          0.001,
          0.002,
          0.003,
          0.004,
          0.005,
          0.006,
          0.007,
          0.008,
          0.009,
          0.01,
          0.02,
          0.03,
          0.04,
          0.05,
          0.06,
          0.07,
          0.08,
          0.09,
          0.1,
          0.2,
          0.3,
          0.4,
          0.5,
          0.6,
          0.7,
          0.8,
          0.9,
          1
         ],
         "xaxis": "x",
         "y": [
          0.9406873716771287,
          0.9438747433542573,
          0.8845621150313858,
          0.8877494867085145,
          0.8284368583856432,
          0.8316242300627718,
          0.7723116017399003,
          0.587998973417029,
          0.5911863450941576,
          0.46937371677128625,
          0.4215631416143569,
          0.2555435065246263,
          0.40437884968614124,
          0.2089803649102696,
          0.544068274529212,
          0.6953984847758722,
          0.7143839826009962,
          0.920869480426121,
          0.9484471242153529,
          1.9593942484307059,
          2.7312884968614135,
          3.850051329148549,
          4.531314161435688,
          5.400076993722827,
          6.206339826009966,
          7.262602658297098,
          7.881365490584237,
          8.812628322871376
         ],
         "yaxis": "y"
        },
        {
         "hovertemplate": "Metric=RAE<br>Sample size (Gb)=%{x}<br>Error=%{y}<extra></extra>",
         "legendgroup": "RAE",
         "line": {
          "color": "#636efa",
          "dash": "dot"
         },
         "marker": {
          "symbol": "circle"
         },
         "mode": "markers+lines",
         "name": "RAE",
         "orientation": "v",
         "showlegend": true,
         "type": "scatter",
         "x": [
          0.001,
          0.002,
          0.003,
          0.004,
          0.005,
          0.006,
          0.007,
          0.008,
          0.009,
          0.01,
          0.02,
          0.03,
          0.04,
          0.05,
          0.06,
          0.07,
          0.08,
          0.09,
          0.1,
          0.2,
          0.3,
          0.4,
          0.5,
          0.6,
          0.7,
          0.8,
          0.9,
          1
         ],
         "xaxis": "x",
         "y": [
          15.859816000000002,
          7.95677725,
          4.971184833333333,
          3.7418232500000004,
          2.7934586,
          2.3368385833333334,
          1.860147357142857,
          1.2391943125,
          1.1074769999999998,
          0.7913554500000001,
          0.35537385,
          0.1436138833333333,
          0.17044382499999997,
          0.07046741000000005,
          0.15288151666666666,
          0.16748986428571436,
          0.15055478124999996,
          0.1725076666666667,
          0.15990643999999996,
          0.16517513249999996,
          0.15349673833333335,
          0.16227789249999994,
          0.152794246,
          0.1517405075,
          0.14948249642857148,
          0.15305768062499994,
          0.1476426355555555,
          0.14857929199999997
         ],
         "yaxis": "y"
        }
       ],
       "layout": {
        "legend": {
         "title": {
          "text": "Metric"
         },
         "tracegroupgap": 0
        },
        "template": {
         "data": {
          "bar": [
           {
            "error_x": {
             "color": "#2a3f5f"
            },
            "error_y": {
             "color": "#2a3f5f"
            },
            "marker": {
             "line": {
              "color": "#E5ECF6",
              "width": 0.5
             },
             "pattern": {
              "fillmode": "overlay",
              "size": 10,
              "solidity": 0.2
             }
            },
            "type": "bar"
           }
          ],
          "barpolar": [
           {
            "marker": {
             "line": {
              "color": "#E5ECF6",
              "width": 0.5
             },
             "pattern": {
              "fillmode": "overlay",
              "size": 10,
              "solidity": 0.2
             }
            },
            "type": "barpolar"
           }
          ],
          "carpet": [
           {
            "aaxis": {
             "endlinecolor": "#2a3f5f",
             "gridcolor": "white",
             "linecolor": "white",
             "minorgridcolor": "white",
             "startlinecolor": "#2a3f5f"
            },
            "baxis": {
             "endlinecolor": "#2a3f5f",
             "gridcolor": "white",
             "linecolor": "white",
             "minorgridcolor": "white",
             "startlinecolor": "#2a3f5f"
            },
            "type": "carpet"
           }
          ],
          "choropleth": [
           {
            "colorbar": {
             "outlinewidth": 0,
             "ticks": ""
            },
            "type": "choropleth"
           }
          ],
          "contour": [
           {
            "colorbar": {
             "outlinewidth": 0,
             "ticks": ""
            },
            "colorscale": [
             [
              0,
              "#0d0887"
             ],
             [
              0.1111111111111111,
              "#46039f"
             ],
             [
              0.2222222222222222,
              "#7201a8"
             ],
             [
              0.3333333333333333,
              "#9c179e"
             ],
             [
              0.4444444444444444,
              "#bd3786"
             ],
             [
              0.5555555555555556,
              "#d8576b"
             ],
             [
              0.6666666666666666,
              "#ed7953"
             ],
             [
              0.7777777777777778,
              "#fb9f3a"
             ],
             [
              0.8888888888888888,
              "#fdca26"
             ],
             [
              1,
              "#f0f921"
             ]
            ],
            "type": "contour"
           }
          ],
          "contourcarpet": [
           {
            "colorbar": {
             "outlinewidth": 0,
             "ticks": ""
            },
            "type": "contourcarpet"
           }
          ],
          "heatmap": [
           {
            "colorbar": {
             "outlinewidth": 0,
             "ticks": ""
            },
            "colorscale": [
             [
              0,
              "#0d0887"
             ],
             [
              0.1111111111111111,
              "#46039f"
             ],
             [
              0.2222222222222222,
              "#7201a8"
             ],
             [
              0.3333333333333333,
              "#9c179e"
             ],
             [
              0.4444444444444444,
              "#bd3786"
             ],
             [
              0.5555555555555556,
              "#d8576b"
             ],
             [
              0.6666666666666666,
              "#ed7953"
             ],
             [
              0.7777777777777778,
              "#fb9f3a"
             ],
             [
              0.8888888888888888,
              "#fdca26"
             ],
             [
              1,
              "#f0f921"
             ]
            ],
            "type": "heatmap"
           }
          ],
          "heatmapgl": [
           {
            "colorbar": {
             "outlinewidth": 0,
             "ticks": ""
            },
            "colorscale": [
             [
              0,
              "#0d0887"
             ],
             [
              0.1111111111111111,
              "#46039f"
             ],
             [
              0.2222222222222222,
              "#7201a8"
             ],
             [
              0.3333333333333333,
              "#9c179e"
             ],
             [
              0.4444444444444444,
              "#bd3786"
             ],
             [
              0.5555555555555556,
              "#d8576b"
             ],
             [
              0.6666666666666666,
              "#ed7953"
             ],
             [
              0.7777777777777778,
              "#fb9f3a"
             ],
             [
              0.8888888888888888,
              "#fdca26"
             ],
             [
              1,
              "#f0f921"
             ]
            ],
            "type": "heatmapgl"
           }
          ],
          "histogram": [
           {
            "marker": {
             "pattern": {
              "fillmode": "overlay",
              "size": 10,
              "solidity": 0.2
             }
            },
            "type": "histogram"
           }
          ],
          "histogram2d": [
           {
            "colorbar": {
             "outlinewidth": 0,
             "ticks": ""
            },
            "colorscale": [
             [
              0,
              "#0d0887"
             ],
             [
              0.1111111111111111,
              "#46039f"
             ],
             [
              0.2222222222222222,
              "#7201a8"
             ],
             [
              0.3333333333333333,
              "#9c179e"
             ],
             [
              0.4444444444444444,
              "#bd3786"
             ],
             [
              0.5555555555555556,
              "#d8576b"
             ],
             [
              0.6666666666666666,
              "#ed7953"
             ],
             [
              0.7777777777777778,
              "#fb9f3a"
             ],
             [
              0.8888888888888888,
              "#fdca26"
             ],
             [
              1,
              "#f0f921"
             ]
            ],
            "type": "histogram2d"
           }
          ],
          "histogram2dcontour": [
           {
            "colorbar": {
             "outlinewidth": 0,
             "ticks": ""
            },
            "colorscale": [
             [
              0,
              "#0d0887"
             ],
             [
              0.1111111111111111,
              "#46039f"
             ],
             [
              0.2222222222222222,
              "#7201a8"
             ],
             [
              0.3333333333333333,
              "#9c179e"
             ],
             [
              0.4444444444444444,
              "#bd3786"
             ],
             [
              0.5555555555555556,
              "#d8576b"
             ],
             [
              0.6666666666666666,
              "#ed7953"
             ],
             [
              0.7777777777777778,
              "#fb9f3a"
             ],
             [
              0.8888888888888888,
              "#fdca26"
             ],
             [
              1,
              "#f0f921"
             ]
            ],
            "type": "histogram2dcontour"
           }
          ],
          "mesh3d": [
           {
            "colorbar": {
             "outlinewidth": 0,
             "ticks": ""
            },
            "type": "mesh3d"
           }
          ],
          "parcoords": [
           {
            "line": {
             "colorbar": {
              "outlinewidth": 0,
              "ticks": ""
             }
            },
            "type": "parcoords"
           }
          ],
          "pie": [
           {
            "automargin": true,
            "type": "pie"
           }
          ],
          "scatter": [
           {
            "fillpattern": {
             "fillmode": "overlay",
             "size": 10,
             "solidity": 0.2
            },
            "type": "scatter"
           }
          ],
          "scatter3d": [
           {
            "line": {
             "colorbar": {
              "outlinewidth": 0,
              "ticks": ""
             }
            },
            "marker": {
             "colorbar": {
              "outlinewidth": 0,
              "ticks": ""
             }
            },
            "type": "scatter3d"
           }
          ],
          "scattercarpet": [
           {
            "marker": {
             "colorbar": {
              "outlinewidth": 0,
              "ticks": ""
             }
            },
            "type": "scattercarpet"
           }
          ],
          "scattergeo": [
           {
            "marker": {
             "colorbar": {
              "outlinewidth": 0,
              "ticks": ""
             }
            },
            "type": "scattergeo"
           }
          ],
          "scattergl": [
           {
            "marker": {
             "colorbar": {
              "outlinewidth": 0,
              "ticks": ""
             }
            },
            "type": "scattergl"
           }
          ],
          "scattermapbox": [
           {
            "marker": {
             "colorbar": {
              "outlinewidth": 0,
              "ticks": ""
             }
            },
            "type": "scattermapbox"
           }
          ],
          "scatterpolar": [
           {
            "marker": {
             "colorbar": {
              "outlinewidth": 0,
              "ticks": ""
             }
            },
            "type": "scatterpolar"
           }
          ],
          "scatterpolargl": [
           {
            "marker": {
             "colorbar": {
              "outlinewidth": 0,
              "ticks": ""
             }
            },
            "type": "scatterpolargl"
           }
          ],
          "scatterternary": [
           {
            "marker": {
             "colorbar": {
              "outlinewidth": 0,
              "ticks": ""
             }
            },
            "type": "scatterternary"
           }
          ],
          "surface": [
           {
            "colorbar": {
             "outlinewidth": 0,
             "ticks": ""
            },
            "colorscale": [
             [
              0,
              "#0d0887"
             ],
             [
              0.1111111111111111,
              "#46039f"
             ],
             [
              0.2222222222222222,
              "#7201a8"
             ],
             [
              0.3333333333333333,
              "#9c179e"
             ],
             [
              0.4444444444444444,
              "#bd3786"
             ],
             [
              0.5555555555555556,
              "#d8576b"
             ],
             [
              0.6666666666666666,
              "#ed7953"
             ],
             [
              0.7777777777777778,
              "#fb9f3a"
             ],
             [
              0.8888888888888888,
              "#fdca26"
             ],
             [
              1,
              "#f0f921"
             ]
            ],
            "type": "surface"
           }
          ],
          "table": [
           {
            "cells": {
             "fill": {
              "color": "#EBF0F8"
             },
             "line": {
              "color": "white"
             }
            },
            "header": {
             "fill": {
              "color": "#C8D4E3"
             },
             "line": {
              "color": "white"
             }
            },
            "type": "table"
           }
          ]
         },
         "layout": {
          "annotationdefaults": {
           "arrowcolor": "#2a3f5f",
           "arrowhead": 0,
           "arrowwidth": 1
          },
          "autotypenumbers": "strict",
          "coloraxis": {
           "colorbar": {
            "outlinewidth": 0,
            "ticks": ""
           }
          },
          "colorscale": {
           "diverging": [
            [
             0,
             "#8e0152"
            ],
            [
             0.1,
             "#c51b7d"
            ],
            [
             0.2,
             "#de77ae"
            ],
            [
             0.3,
             "#f1b6da"
            ],
            [
             0.4,
             "#fde0ef"
            ],
            [
             0.5,
             "#f7f7f7"
            ],
            [
             0.6,
             "#e6f5d0"
            ],
            [
             0.7,
             "#b8e186"
            ],
            [
             0.8,
             "#7fbc41"
            ],
            [
             0.9,
             "#4d9221"
            ],
            [
             1,
             "#276419"
            ]
           ],
           "sequential": [
            [
             0,
             "#0d0887"
            ],
            [
             0.1111111111111111,
             "#46039f"
            ],
            [
             0.2222222222222222,
             "#7201a8"
            ],
            [
             0.3333333333333333,
             "#9c179e"
            ],
            [
             0.4444444444444444,
             "#bd3786"
            ],
            [
             0.5555555555555556,
             "#d8576b"
            ],
            [
             0.6666666666666666,
             "#ed7953"
            ],
            [
             0.7777777777777778,
             "#fb9f3a"
            ],
            [
             0.8888888888888888,
             "#fdca26"
            ],
            [
             1,
             "#f0f921"
            ]
           ],
           "sequentialminus": [
            [
             0,
             "#0d0887"
            ],
            [
             0.1111111111111111,
             "#46039f"
            ],
            [
             0.2222222222222222,
             "#7201a8"
            ],
            [
             0.3333333333333333,
             "#9c179e"
            ],
            [
             0.4444444444444444,
             "#bd3786"
            ],
            [
             0.5555555555555556,
             "#d8576b"
            ],
            [
             0.6666666666666666,
             "#ed7953"
            ],
            [
             0.7777777777777778,
             "#fb9f3a"
            ],
            [
             0.8888888888888888,
             "#fdca26"
            ],
            [
             1,
             "#f0f921"
            ]
           ]
          },
          "colorway": [
           "#636efa",
           "#EF553B",
           "#00cc96",
           "#ab63fa",
           "#FFA15A",
           "#19d3f3",
           "#FF6692",
           "#B6E880",
           "#FF97FF",
           "#FECB52"
          ],
          "font": {
           "color": "#2a3f5f"
          },
          "geo": {
           "bgcolor": "white",
           "lakecolor": "white",
           "landcolor": "#E5ECF6",
           "showlakes": true,
           "showland": true,
           "subunitcolor": "white"
          },
          "hoverlabel": {
           "align": "left"
          },
          "hovermode": "closest",
          "mapbox": {
           "style": "light"
          },
          "paper_bgcolor": "white",
          "plot_bgcolor": "#E5ECF6",
          "polar": {
           "angularaxis": {
            "gridcolor": "white",
            "linecolor": "white",
            "ticks": ""
           },
           "bgcolor": "#E5ECF6",
           "radialaxis": {
            "gridcolor": "white",
            "linecolor": "white",
            "ticks": ""
           }
          },
          "scene": {
           "xaxis": {
            "backgroundcolor": "#E5ECF6",
            "gridcolor": "white",
            "gridwidth": 2,
            "linecolor": "white",
            "showbackground": true,
            "ticks": "",
            "zerolinecolor": "white"
           },
           "yaxis": {
            "backgroundcolor": "#E5ECF6",
            "gridcolor": "white",
            "gridwidth": 2,
            "linecolor": "white",
            "showbackground": true,
            "ticks": "",
            "zerolinecolor": "white"
           },
           "zaxis": {
            "backgroundcolor": "#E5ECF6",
            "gridcolor": "white",
            "gridwidth": 2,
            "linecolor": "white",
            "showbackground": true,
            "ticks": "",
            "zerolinecolor": "white"
           }
          },
          "shapedefaults": {
           "line": {
            "color": "#2a3f5f"
           }
          },
          "ternary": {
           "aaxis": {
            "gridcolor": "white",
            "linecolor": "white",
            "ticks": ""
           },
           "baxis": {
            "gridcolor": "white",
            "linecolor": "white",
            "ticks": ""
           },
           "bgcolor": "#E5ECF6",
           "caxis": {
            "gridcolor": "white",
            "linecolor": "white",
            "ticks": ""
           }
          },
          "title": {
           "x": 0.05
          },
          "xaxis": {
           "automargin": true,
           "gridcolor": "white",
           "linecolor": "white",
           "ticks": "",
           "title": {
            "standoff": 15
           },
           "zerolinecolor": "white",
           "zerolinewidth": 2
          },
          "yaxis": {
           "automargin": true,
           "gridcolor": "white",
           "linecolor": "white",
           "ticks": "",
           "title": {
            "standoff": 15
           },
           "zerolinecolor": "white",
           "zerolinewidth": 2
          }
         }
        },
        "title": {
         "text": "Average quantification errors<br><sup>Quantification By mapping<sup>"
        },
        "xaxis": {
         "anchor": "y",
         "domain": [
          0,
          1
         ],
         "range": [
          0,
          0.35
         ],
         "title": {
          "text": "Sample size (Gb)"
         }
        },
        "yaxis": {
         "anchor": "x",
         "domain": [
          0,
          1
         ],
         "range": [
          0,
          4
         ],
         "title": {
          "text": "Error"
         }
        }
       }
      },
      "text/html": [
       "<div>                            <div id=\"602e5abd-8447-4e41-be7f-d310ce6bbd06\" class=\"plotly-graph-div\" style=\"height:525px; width:100%;\"></div>            <script type=\"text/javascript\">                require([\"plotly\"], function(Plotly) {                    window.PLOTLYENV=window.PLOTLYENV || {};                                    if (document.getElementById(\"602e5abd-8447-4e41-be7f-d310ce6bbd06\")) {                    Plotly.newPlot(                        \"602e5abd-8447-4e41-be7f-d310ce6bbd06\",                        [{\"hovertemplate\":\"Metric=AE<br>Sample size (Gb)=%{x}<br>Error=%{y}<extra></extra>\",\"legendgroup\":\"AE\",\"line\":{\"color\":\"#636efa\",\"dash\":\"solid\"},\"marker\":{\"symbol\":\"circle\"},\"mode\":\"markers+lines\",\"name\":\"AE\",\"orientation\":\"v\",\"showlegend\":true,\"x\":[0.001,0.002,0.003,0.004,0.005,0.006,0.007,0.008,0.009,0.01,0.02,0.03,0.04,0.05,0.06,0.07,0.08,0.09,0.1,0.2,0.3,0.4,0.5,0.6,0.7,0.8,0.9,1.0],\"xaxis\":\"x\",\"y\":[0.9406873716771287,0.9438747433542573,0.8845621150313858,0.8877494867085145,0.8284368583856432,0.8316242300627718,0.7723116017399003,0.587998973417029,0.5911863450941576,0.46937371677128625,0.4215631416143569,0.2555435065246263,0.40437884968614124,0.2089803649102696,0.544068274529212,0.6953984847758722,0.7143839826009962,0.920869480426121,0.9484471242153529,1.9593942484307059,2.7312884968614135,3.850051329148549,4.531314161435688,5.400076993722827,6.206339826009966,7.262602658297098,7.881365490584237,8.812628322871376],\"yaxis\":\"y\",\"type\":\"scatter\"},{\"hovertemplate\":\"Metric=RAE<br>Sample size (Gb)=%{x}<br>Error=%{y}<extra></extra>\",\"legendgroup\":\"RAE\",\"line\":{\"color\":\"#636efa\",\"dash\":\"dot\"},\"marker\":{\"symbol\":\"circle\"},\"mode\":\"markers+lines\",\"name\":\"RAE\",\"orientation\":\"v\",\"showlegend\":true,\"x\":[0.001,0.002,0.003,0.004,0.005,0.006,0.007,0.008,0.009,0.01,0.02,0.03,0.04,0.05,0.06,0.07,0.08,0.09,0.1,0.2,0.3,0.4,0.5,0.6,0.7,0.8,0.9,1.0],\"xaxis\":\"x\",\"y\":[15.859816000000002,7.95677725,4.971184833333333,3.7418232500000004,2.7934586,2.3368385833333334,1.860147357142857,1.2391943125,1.1074769999999998,0.7913554500000001,0.35537385,0.1436138833333333,0.17044382499999997,0.07046741000000005,0.15288151666666666,0.16748986428571436,0.15055478124999996,0.1725076666666667,0.15990643999999996,0.16517513249999996,0.15349673833333335,0.16227789249999994,0.152794246,0.1517405075,0.14948249642857148,0.15305768062499994,0.1476426355555555,0.14857929199999997],\"yaxis\":\"y\",\"type\":\"scatter\"}],                        {\"template\":{\"data\":{\"histogram2dcontour\":[{\"type\":\"histogram2dcontour\",\"colorbar\":{\"outlinewidth\":0,\"ticks\":\"\"},\"colorscale\":[[0.0,\"#0d0887\"],[0.1111111111111111,\"#46039f\"],[0.2222222222222222,\"#7201a8\"],[0.3333333333333333,\"#9c179e\"],[0.4444444444444444,\"#bd3786\"],[0.5555555555555556,\"#d8576b\"],[0.6666666666666666,\"#ed7953\"],[0.7777777777777778,\"#fb9f3a\"],[0.8888888888888888,\"#fdca26\"],[1.0,\"#f0f921\"]]}],\"choropleth\":[{\"type\":\"choropleth\",\"colorbar\":{\"outlinewidth\":0,\"ticks\":\"\"}}],\"histogram2d\":[{\"type\":\"histogram2d\",\"colorbar\":{\"outlinewidth\":0,\"ticks\":\"\"},\"colorscale\":[[0.0,\"#0d0887\"],[0.1111111111111111,\"#46039f\"],[0.2222222222222222,\"#7201a8\"],[0.3333333333333333,\"#9c179e\"],[0.4444444444444444,\"#bd3786\"],[0.5555555555555556,\"#d8576b\"],[0.6666666666666666,\"#ed7953\"],[0.7777777777777778,\"#fb9f3a\"],[0.8888888888888888,\"#fdca26\"],[1.0,\"#f0f921\"]]}],\"heatmap\":[{\"type\":\"heatmap\",\"colorbar\":{\"outlinewidth\":0,\"ticks\":\"\"},\"colorscale\":[[0.0,\"#0d0887\"],[0.1111111111111111,\"#46039f\"],[0.2222222222222222,\"#7201a8\"],[0.3333333333333333,\"#9c179e\"],[0.4444444444444444,\"#bd3786\"],[0.5555555555555556,\"#d8576b\"],[0.6666666666666666,\"#ed7953\"],[0.7777777777777778,\"#fb9f3a\"],[0.8888888888888888,\"#fdca26\"],[1.0,\"#f0f921\"]]}],\"heatmapgl\":[{\"type\":\"heatmapgl\",\"colorbar\":{\"outlinewidth\":0,\"ticks\":\"\"},\"colorscale\":[[0.0,\"#0d0887\"],[0.1111111111111111,\"#46039f\"],[0.2222222222222222,\"#7201a8\"],[0.3333333333333333,\"#9c179e\"],[0.4444444444444444,\"#bd3786\"],[0.5555555555555556,\"#d8576b\"],[0.6666666666666666,\"#ed7953\"],[0.7777777777777778,\"#fb9f3a\"],[0.8888888888888888,\"#fdca26\"],[1.0,\"#f0f921\"]]}],\"contourcarpet\":[{\"type\":\"contourcarpet\",\"colorbar\":{\"outlinewidth\":0,\"ticks\":\"\"}}],\"contour\":[{\"type\":\"contour\",\"colorbar\":{\"outlinewidth\":0,\"ticks\":\"\"},\"colorscale\":[[0.0,\"#0d0887\"],[0.1111111111111111,\"#46039f\"],[0.2222222222222222,\"#7201a8\"],[0.3333333333333333,\"#9c179e\"],[0.4444444444444444,\"#bd3786\"],[0.5555555555555556,\"#d8576b\"],[0.6666666666666666,\"#ed7953\"],[0.7777777777777778,\"#fb9f3a\"],[0.8888888888888888,\"#fdca26\"],[1.0,\"#f0f921\"]]}],\"surface\":[{\"type\":\"surface\",\"colorbar\":{\"outlinewidth\":0,\"ticks\":\"\"},\"colorscale\":[[0.0,\"#0d0887\"],[0.1111111111111111,\"#46039f\"],[0.2222222222222222,\"#7201a8\"],[0.3333333333333333,\"#9c179e\"],[0.4444444444444444,\"#bd3786\"],[0.5555555555555556,\"#d8576b\"],[0.6666666666666666,\"#ed7953\"],[0.7777777777777778,\"#fb9f3a\"],[0.8888888888888888,\"#fdca26\"],[1.0,\"#f0f921\"]]}],\"mesh3d\":[{\"type\":\"mesh3d\",\"colorbar\":{\"outlinewidth\":0,\"ticks\":\"\"}}],\"scatter\":[{\"fillpattern\":{\"fillmode\":\"overlay\",\"size\":10,\"solidity\":0.2},\"type\":\"scatter\"}],\"parcoords\":[{\"type\":\"parcoords\",\"line\":{\"colorbar\":{\"outlinewidth\":0,\"ticks\":\"\"}}}],\"scatterpolargl\":[{\"type\":\"scatterpolargl\",\"marker\":{\"colorbar\":{\"outlinewidth\":0,\"ticks\":\"\"}}}],\"bar\":[{\"error_x\":{\"color\":\"#2a3f5f\"},\"error_y\":{\"color\":\"#2a3f5f\"},\"marker\":{\"line\":{\"color\":\"#E5ECF6\",\"width\":0.5},\"pattern\":{\"fillmode\":\"overlay\",\"size\":10,\"solidity\":0.2}},\"type\":\"bar\"}],\"scattergeo\":[{\"type\":\"scattergeo\",\"marker\":{\"colorbar\":{\"outlinewidth\":0,\"ticks\":\"\"}}}],\"scatterpolar\":[{\"type\":\"scatterpolar\",\"marker\":{\"colorbar\":{\"outlinewidth\":0,\"ticks\":\"\"}}}],\"histogram\":[{\"marker\":{\"pattern\":{\"fillmode\":\"overlay\",\"size\":10,\"solidity\":0.2}},\"type\":\"histogram\"}],\"scattergl\":[{\"type\":\"scattergl\",\"marker\":{\"colorbar\":{\"outlinewidth\":0,\"ticks\":\"\"}}}],\"scatter3d\":[{\"type\":\"scatter3d\",\"line\":{\"colorbar\":{\"outlinewidth\":0,\"ticks\":\"\"}},\"marker\":{\"colorbar\":{\"outlinewidth\":0,\"ticks\":\"\"}}}],\"scattermapbox\":[{\"type\":\"scattermapbox\",\"marker\":{\"colorbar\":{\"outlinewidth\":0,\"ticks\":\"\"}}}],\"scatterternary\":[{\"type\":\"scatterternary\",\"marker\":{\"colorbar\":{\"outlinewidth\":0,\"ticks\":\"\"}}}],\"scattercarpet\":[{\"type\":\"scattercarpet\",\"marker\":{\"colorbar\":{\"outlinewidth\":0,\"ticks\":\"\"}}}],\"carpet\":[{\"aaxis\":{\"endlinecolor\":\"#2a3f5f\",\"gridcolor\":\"white\",\"linecolor\":\"white\",\"minorgridcolor\":\"white\",\"startlinecolor\":\"#2a3f5f\"},\"baxis\":{\"endlinecolor\":\"#2a3f5f\",\"gridcolor\":\"white\",\"linecolor\":\"white\",\"minorgridcolor\":\"white\",\"startlinecolor\":\"#2a3f5f\"},\"type\":\"carpet\"}],\"table\":[{\"cells\":{\"fill\":{\"color\":\"#EBF0F8\"},\"line\":{\"color\":\"white\"}},\"header\":{\"fill\":{\"color\":\"#C8D4E3\"},\"line\":{\"color\":\"white\"}},\"type\":\"table\"}],\"barpolar\":[{\"marker\":{\"line\":{\"color\":\"#E5ECF6\",\"width\":0.5},\"pattern\":{\"fillmode\":\"overlay\",\"size\":10,\"solidity\":0.2}},\"type\":\"barpolar\"}],\"pie\":[{\"automargin\":true,\"type\":\"pie\"}]},\"layout\":{\"autotypenumbers\":\"strict\",\"colorway\":[\"#636efa\",\"#EF553B\",\"#00cc96\",\"#ab63fa\",\"#FFA15A\",\"#19d3f3\",\"#FF6692\",\"#B6E880\",\"#FF97FF\",\"#FECB52\"],\"font\":{\"color\":\"#2a3f5f\"},\"hovermode\":\"closest\",\"hoverlabel\":{\"align\":\"left\"},\"paper_bgcolor\":\"white\",\"plot_bgcolor\":\"#E5ECF6\",\"polar\":{\"bgcolor\":\"#E5ECF6\",\"angularaxis\":{\"gridcolor\":\"white\",\"linecolor\":\"white\",\"ticks\":\"\"},\"radialaxis\":{\"gridcolor\":\"white\",\"linecolor\":\"white\",\"ticks\":\"\"}},\"ternary\":{\"bgcolor\":\"#E5ECF6\",\"aaxis\":{\"gridcolor\":\"white\",\"linecolor\":\"white\",\"ticks\":\"\"},\"baxis\":{\"gridcolor\":\"white\",\"linecolor\":\"white\",\"ticks\":\"\"},\"caxis\":{\"gridcolor\":\"white\",\"linecolor\":\"white\",\"ticks\":\"\"}},\"coloraxis\":{\"colorbar\":{\"outlinewidth\":0,\"ticks\":\"\"}},\"colorscale\":{\"sequential\":[[0.0,\"#0d0887\"],[0.1111111111111111,\"#46039f\"],[0.2222222222222222,\"#7201a8\"],[0.3333333333333333,\"#9c179e\"],[0.4444444444444444,\"#bd3786\"],[0.5555555555555556,\"#d8576b\"],[0.6666666666666666,\"#ed7953\"],[0.7777777777777778,\"#fb9f3a\"],[0.8888888888888888,\"#fdca26\"],[1.0,\"#f0f921\"]],\"sequentialminus\":[[0.0,\"#0d0887\"],[0.1111111111111111,\"#46039f\"],[0.2222222222222222,\"#7201a8\"],[0.3333333333333333,\"#9c179e\"],[0.4444444444444444,\"#bd3786\"],[0.5555555555555556,\"#d8576b\"],[0.6666666666666666,\"#ed7953\"],[0.7777777777777778,\"#fb9f3a\"],[0.8888888888888888,\"#fdca26\"],[1.0,\"#f0f921\"]],\"diverging\":[[0,\"#8e0152\"],[0.1,\"#c51b7d\"],[0.2,\"#de77ae\"],[0.3,\"#f1b6da\"],[0.4,\"#fde0ef\"],[0.5,\"#f7f7f7\"],[0.6,\"#e6f5d0\"],[0.7,\"#b8e186\"],[0.8,\"#7fbc41\"],[0.9,\"#4d9221\"],[1,\"#276419\"]]},\"xaxis\":{\"gridcolor\":\"white\",\"linecolor\":\"white\",\"ticks\":\"\",\"title\":{\"standoff\":15},\"zerolinecolor\":\"white\",\"automargin\":true,\"zerolinewidth\":2},\"yaxis\":{\"gridcolor\":\"white\",\"linecolor\":\"white\",\"ticks\":\"\",\"title\":{\"standoff\":15},\"zerolinecolor\":\"white\",\"automargin\":true,\"zerolinewidth\":2},\"scene\":{\"xaxis\":{\"backgroundcolor\":\"#E5ECF6\",\"gridcolor\":\"white\",\"linecolor\":\"white\",\"showbackground\":true,\"ticks\":\"\",\"zerolinecolor\":\"white\",\"gridwidth\":2},\"yaxis\":{\"backgroundcolor\":\"#E5ECF6\",\"gridcolor\":\"white\",\"linecolor\":\"white\",\"showbackground\":true,\"ticks\":\"\",\"zerolinecolor\":\"white\",\"gridwidth\":2},\"zaxis\":{\"backgroundcolor\":\"#E5ECF6\",\"gridcolor\":\"white\",\"linecolor\":\"white\",\"showbackground\":true,\"ticks\":\"\",\"zerolinecolor\":\"white\",\"gridwidth\":2}},\"shapedefaults\":{\"line\":{\"color\":\"#2a3f5f\"}},\"annotationdefaults\":{\"arrowcolor\":\"#2a3f5f\",\"arrowhead\":0,\"arrowwidth\":1},\"geo\":{\"bgcolor\":\"white\",\"landcolor\":\"#E5ECF6\",\"subunitcolor\":\"white\",\"showland\":true,\"showlakes\":true,\"lakecolor\":\"white\"},\"title\":{\"x\":0.05},\"mapbox\":{\"style\":\"light\"}}},\"xaxis\":{\"anchor\":\"y\",\"domain\":[0.0,1.0],\"title\":{\"text\":\"Sample size (Gb)\"},\"range\":[0,0.35]},\"yaxis\":{\"anchor\":\"x\",\"domain\":[0.0,1.0],\"title\":{\"text\":\"Error\"},\"range\":[0,4]},\"legend\":{\"title\":{\"text\":\"Metric\"},\"tracegroupgap\":0},\"title\":{\"text\":\"Average quantification errors<br><sup>Quantification By mapping<sup>\"}},                        {\"responsive\": true}                    ).then(function(){\n",
       "                            \n",
       "var gd = document.getElementById('602e5abd-8447-4e41-be7f-d310ce6bbd06');\n",
       "var x = new MutationObserver(function (mutations, observer) {{\n",
       "        var display = window.getComputedStyle(gd).display;\n",
       "        if (!display || display === 'none') {{\n",
       "            console.log([gd, 'removed!']);\n",
       "            Plotly.purge(gd);\n",
       "            observer.disconnect();\n",
       "        }}\n",
       "}});\n",
       "\n",
       "// Listen for the removal of the full notebook cells\n",
       "var notebookContainer = gd.closest('#notebook-container');\n",
       "if (notebookContainer) {{\n",
       "    x.observe(notebookContainer, {childList: true});\n",
       "}}\n",
       "\n",
       "// Listen for the clearing of the current output cell\n",
       "var outputEl = gd.closest('.output');\n",
       "if (outputEl) {{\n",
       "    x.observe(outputEl, {childList: true});\n",
       "}}\n",
       "\n",
       "                        })                };                });            </script>        </div>"
      ]
     },
     "metadata": {},
     "output_type": "display_data"
    }
   ],
   "source": [
    "fig = px.line(df_avg, x=\"readsGB\",y=\"value\",line_dash=\"Metric\",\n",
    "              labels={\"value\": \"Error\", \"readsGB\": \"Sample size (Gb)\"},\n",
    "              markers=True,\n",
    "             title=\"Average quantification errors<br><sup>Quantification By mapping<sup>\")\n",
    "fig.update_layout(xaxis_range=[0,0.35], yaxis_range=[0,4])"
   ]
  },
  {
   "cell_type": "code",
   "execution_count": 72,
   "metadata": {},
   "outputs": [
    {
     "data": {
      "application/vnd.plotly.v1+json": {
       "config": {
        "plotlyServerURL": "https://plot.ly"
       },
       "data": [
        {
         "hovertemplate": "BGC=NZ_LT906470.1.region003<br>Sample size (Gb)=%{x}<br>RAE=%{y}<extra></extra>",
         "legendgroup": "NZ_LT906470.1.region003",
         "line": {
          "color": "#636efa",
          "dash": "solid"
         },
         "marker": {
          "symbol": "circle"
         },
         "mode": "markers+lines",
         "name": "NZ_LT906470.1.region003",
         "orientation": "v",
         "showlegend": true,
         "type": "scatter",
         "x": [
          0.001,
          0.002,
          0.003,
          0.004,
          0.005,
          0.006,
          0.007,
          0.008,
          0.009,
          0.01,
          0.02,
          0.03,
          0.04,
          0.05,
          0.06,
          0.07,
          0.08,
          0.09,
          0.1,
          0.2,
          0.3,
          0.4,
          0.5,
          0.6,
          0.7,
          0.8,
          0.9,
          1
         ],
         "xaxis": "x",
         "y": [
          15.859816000000002,
          7.429908,
          4.619938666666666,
          3.214954,
          2.3719632,
          1.8099693333333333,
          1.4085451428571427,
          1.107477,
          0.8733128888888888,
          0.6859816000000001,
          0.15700919999999996,
          0.1239877333333333,
          0.15700919999999996,
          0.01158896000000007,
          0.15700920000000002,
          0.03658194285714295,
          0.15700919999999996,
          0.2506748444444445,
          0.15700919999999993,
          0.24130827999999996,
          0.15700920000000002,
          0.19915873999999995,
          0.190728832,
          0.18510889333333336,
          0.15700920000000004,
          0.17808396999999995,
          0.17574232888888885,
          0.1570092
         ],
         "yaxis": "y"
        },
        {
         "hovertemplate": "BGC=NZ_CP020566.1.region001<br>Sample size (Gb)=%{x}<br>RAE=%{y}<extra></extra>",
         "legendgroup": "NZ_CP020566.1.region001",
         "line": {
          "color": "#EF553B",
          "dash": "solid"
         },
         "marker": {
          "symbol": "circle"
         },
         "mode": "markers+lines",
         "name": "NZ_CP020566.1.region001",
         "orientation": "v",
         "showlegend": true,
         "type": "scatter",
         "x": [
          0.001,
          0.002,
          0.003,
          0.004,
          0.005,
          0.006,
          0.007,
          0.008,
          0.009,
          0.01,
          0.02,
          0.03,
          0.04,
          0.05,
          0.06,
          0.07,
          0.08,
          0.09,
          0.1,
          0.2,
          0.3,
          0.4,
          0.5,
          0.6,
          0.7,
          0.8,
          0.9,
          1
         ],
         "xaxis": "x",
         "y": [
          15.859816000000002,
          7.429908,
          4.619938666666666,
          3.214954,
          2.3719632,
          1.8099693333333333,
          1.4085451428571427,
          1.107477,
          0.8733128888888888,
          0.6859816000000001,
          0.15700919999999996,
          0.1239877333333333,
          0.15700919999999996,
          0.01158896000000007,
          0.15700920000000002,
          0.03658194285714295,
          0.15700919999999996,
          0.2506748444444445,
          0.32560735999999996,
          0.24130827999999996,
          0.15700920000000002,
          0.11485965999999993,
          0.190728832,
          0.15700920000000002,
          0.1088382971428572,
          0.17808396999999995,
          0.1382760711111111,
          0.173869016
         ],
         "yaxis": "y"
        },
        {
         "hovertemplate": "BGC=NZ_LT906445.1.region001<br>Sample size (Gb)=%{x}<br>RAE=%{y}<extra></extra>",
         "legendgroup": "NZ_LT906445.1.region001",
         "line": {
          "color": "#00cc96",
          "dash": "solid"
         },
         "marker": {
          "symbol": "circle"
         },
         "mode": "markers+lines",
         "name": "NZ_LT906445.1.region001",
         "orientation": "v",
         "showlegend": true,
         "type": "scatter",
         "x": [
          0.001,
          0.002,
          0.003,
          0.004,
          0.005,
          0.006,
          0.007,
          0.008,
          0.009,
          0.01,
          0.02,
          0.03,
          0.04,
          0.05,
          0.06,
          0.07,
          0.08,
          0.09,
          0.1,
          0.2,
          0.3,
          0.4,
          0.5,
          0.6,
          0.7,
          0.8,
          0.9,
          1
         ],
         "xaxis": "x",
         "y": [
          15.859816000000002,
          7.429908,
          4.619938666666666,
          3.214954,
          2.3719632,
          1.8099693333333333,
          1.4085451428571427,
          1.107477,
          0.8733128888888888,
          0.6859816000000001,
          0.6859816000000001,
          0.1239877333333333,
          0.15700919999999996,
          0.32560735999999996,
          0.15700920000000002,
          0.2774364571428572,
          0.15700919999999996,
          0.2506748444444445,
          0.15700919999999993,
          0.24130827999999996,
          0.15700920000000002,
          0.19915873999999995,
          0.190728832,
          0.18510889333333336,
          0.18109465142857148,
          0.15700919999999993,
          0.15700919999999996,
          0.1570092
         ],
         "yaxis": "y"
        },
        {
         "hovertemplate": "BGC=NC_014328.1.region004<br>Sample size (Gb)=%{x}<br>RAE=%{y}<extra></extra>",
         "legendgroup": "NC_014328.1.region004",
         "line": {
          "color": "#ab63fa",
          "dash": "solid"
         },
         "marker": {
          "symbol": "circle"
         },
         "mode": "markers+lines",
         "name": "NC_014328.1.region004",
         "orientation": "v",
         "showlegend": true,
         "type": "scatter",
         "x": [
          0.001,
          0.002,
          0.003,
          0.004,
          0.005,
          0.006,
          0.007,
          0.008,
          0.009,
          0.01,
          0.02,
          0.03,
          0.04,
          0.05,
          0.06,
          0.07,
          0.08,
          0.09,
          0.1,
          0.2,
          0.3,
          0.4,
          0.5,
          0.6,
          0.7,
          0.8,
          0.9,
          1
         ],
         "xaxis": "x",
         "y": [
          15.859816000000002,
          7.429908,
          4.619938666666666,
          3.214954,
          2.3719632,
          1.8099693333333333,
          1.4085451428571427,
          1.107477,
          0.8733128888888888,
          0.6859816000000001,
          0.15700919999999996,
          0.1239877333333333,
          0.15700919999999996,
          0.01158896000000007,
          0.15700920000000002,
          0.2774364571428572,
          0.15700919999999996,
          0.06334355555555558,
          0.15700919999999993,
          0.15700919999999993,
          0.2132085866666667,
          0.11485965999999993,
          0.190728832,
          0.15700920000000002,
          0.15700920000000004,
          0.17808396999999995,
          0.15700919999999996,
          0.1570092
         ],
         "yaxis": "y"
        },
        {
         "hovertemplate": "BGC=NZ_CP053893.1.region001<br>Sample size (Gb)=%{x}<br>RAE=%{y}<extra></extra>",
         "legendgroup": "NZ_CP053893.1.region001",
         "line": {
          "color": "#FFA15A",
          "dash": "solid"
         },
         "marker": {
          "symbol": "circle"
         },
         "mode": "markers+lines",
         "name": "NZ_CP053893.1.region001",
         "orientation": "v",
         "showlegend": true,
         "type": "scatter",
         "x": [
          0.001,
          0.002,
          0.003,
          0.004,
          0.005,
          0.006,
          0.007,
          0.008,
          0.009,
          0.01,
          0.02,
          0.03,
          0.04,
          0.05,
          0.06,
          0.07,
          0.08,
          0.09,
          0.1,
          0.2,
          0.3,
          0.4,
          0.5,
          0.6,
          0.7,
          0.8,
          0.9,
          1
         ],
         "xaxis": "x",
         "y": [
          15.859816000000002,
          7.429908,
          4.619938666666666,
          3.214954,
          2.3719632,
          1.8099693333333333,
          1.4085451428571427,
          1.107477,
          0.8733128888888888,
          0.6859816000000001,
          0.6859816000000001,
          0.1239877333333333,
          0.15700919999999996,
          0.01158896000000007,
          0.15700920000000002,
          0.2774364571428572,
          0.15700919999999996,
          0.2506748444444445,
          0.15700919999999993,
          0.15700919999999993,
          0.2132085866666667,
          0.19915873999999995,
          0.1570092,
          0.15700920000000002,
          0.15700920000000004,
          0.17808396999999995,
          0.15700919999999996,
          0.140149384
         ],
         "yaxis": "y"
        },
        {
         "hovertemplate": "BGC=NZ_LT906470.1.region001<br>Sample size (Gb)=%{x}<br>RAE=%{y}<extra></extra>",
         "legendgroup": "NZ_LT906470.1.region001",
         "line": {
          "color": "#19d3f3",
          "dash": "solid"
         },
         "marker": {
          "symbol": "circle"
         },
         "mode": "markers+lines",
         "name": "NZ_LT906470.1.region001",
         "orientation": "v",
         "showlegend": true,
         "type": "scatter",
         "x": [
          0.001,
          0.002,
          0.003,
          0.004,
          0.005,
          0.006,
          0.007,
          0.008,
          0.009,
          0.01,
          0.02,
          0.03,
          0.04,
          0.05,
          0.06,
          0.07,
          0.08,
          0.09,
          0.1,
          0.2,
          0.3,
          0.4,
          0.5,
          0.6,
          0.7,
          0.8,
          0.9,
          1
         ],
         "xaxis": "x",
         "y": [
          15.859816000000002,
          7.429908,
          4.619938666666666,
          3.214954,
          2.3719632,
          1.8099693333333333,
          1.4085451428571427,
          1.107477,
          0.8733128888888888,
          0.6859816000000001,
          0.15700919999999996,
          0.1239877333333333,
          0.15700919999999996,
          0.01158896000000007,
          0.15700920000000002,
          0.03658194285714295,
          0.15700919999999996,
          0.2506748444444445,
          0.15700919999999993,
          0.15700919999999993,
          0.15700920000000002,
          0.15700919999999993,
          0.12328956799999999,
          0.10080981333333336,
          0.13292374857142863,
          0.17808396999999995,
          0.1382760711111111,
          0.1570092
         ],
         "yaxis": "y"
        },
        {
         "hovertemplate": "BGC=NZ_CP053893.1.region004<br>Sample size (Gb)=%{x}<br>RAE=%{y}<extra></extra>",
         "legendgroup": "NZ_CP053893.1.region004",
         "line": {
          "color": "#FF6692",
          "dash": "solid"
         },
         "marker": {
          "symbol": "circle"
         },
         "mode": "markers+lines",
         "name": "NZ_CP053893.1.region004",
         "orientation": "v",
         "showlegend": true,
         "type": "scatter",
         "x": [
          0.001,
          0.002,
          0.003,
          0.004,
          0.005,
          0.006,
          0.007,
          0.008,
          0.009,
          0.01,
          0.02,
          0.03,
          0.04,
          0.05,
          0.06,
          0.07,
          0.08,
          0.09,
          0.1,
          0.2,
          0.3,
          0.4,
          0.5,
          0.6,
          0.7,
          0.8,
          0.9,
          1
         ],
         "xaxis": "x",
         "y": [
          15.859816000000002,
          7.429908,
          4.619938666666666,
          3.214954,
          2.3719632,
          1.8099693333333333,
          1.4085451428571427,
          1.107477,
          0.8733128888888888,
          0.6859816000000001,
          0.15700919999999996,
          0.1239877333333333,
          0.15700919999999996,
          0.01158896000000007,
          0.15700920000000002,
          0.03658194285714295,
          0.15700919999999996,
          0.06334355555555558,
          0.15700919999999993,
          0.15700919999999993,
          0.15700920000000002,
          0.15700919999999993,
          0.1570092,
          0.18510889333333336,
          0.18109465142857148,
          0.11485965999999993,
          0.1382760711111111,
          0.140149384
         ],
         "yaxis": "y"
        },
        {
         "hovertemplate": "BGC=NZ_LT906470.1.region002<br>Sample size (Gb)=%{x}<br>RAE=%{y}<extra></extra>",
         "legendgroup": "NZ_LT906470.1.region002",
         "line": {
          "color": "#B6E880",
          "dash": "solid"
         },
         "marker": {
          "symbol": "circle"
         },
         "mode": "markers+lines",
         "name": "NZ_LT906470.1.region002",
         "orientation": "v",
         "showlegend": true,
         "type": "scatter",
         "x": [
          0.001,
          0.002,
          0.003,
          0.004,
          0.005,
          0.006,
          0.007,
          0.008,
          0.009,
          0.01,
          0.02,
          0.03,
          0.04,
          0.05,
          0.06,
          0.07,
          0.08,
          0.09,
          0.1,
          0.2,
          0.3,
          0.4,
          0.5,
          0.6,
          0.7,
          0.8,
          0.9,
          1
         ],
         "xaxis": "x",
         "y": [
          15.859816000000002,
          7.429908,
          4.619938666666666,
          3.214954,
          2.3719632,
          1.8099693333333333,
          1.4085451428571427,
          1.107477,
          0.8733128888888888,
          0.6859816000000001,
          0.6859816000000001,
          0.1239877333333333,
          0.15700919999999996,
          0.01158896000000007,
          0.15700920000000002,
          0.2774364571428572,
          0.15700919999999996,
          0.06334355555555558,
          0.15700919999999993,
          0.15700919999999993,
          0.2132085866666667,
          0.19915873999999995,
          0.12328956799999999,
          0.1289095066666667,
          0.15700920000000004,
          0.15700919999999993,
          0.11954294222222218,
          0.140149384
         ],
         "yaxis": "y"
        },
        {
         "hovertemplate": "BGC=NZ_CP053893.1.region002<br>Sample size (Gb)=%{x}<br>RAE=%{y}<extra></extra>",
         "legendgroup": "NZ_CP053893.1.region002",
         "line": {
          "color": "#FF97FF",
          "dash": "solid"
         },
         "marker": {
          "symbol": "circle"
         },
         "mode": "markers+lines",
         "name": "NZ_CP053893.1.region002",
         "orientation": "v",
         "showlegend": true,
         "type": "scatter",
         "x": [
          0.001,
          0.002,
          0.003,
          0.004,
          0.005,
          0.006,
          0.007,
          0.008,
          0.009,
          0.01,
          0.02,
          0.03,
          0.04,
          0.05,
          0.06,
          0.07,
          0.08,
          0.09,
          0.1,
          0.2,
          0.3,
          0.4,
          0.5,
          0.6,
          0.7,
          0.8,
          0.9,
          1
         ],
         "xaxis": "x",
         "y": [
          15.859816000000002,
          15.859816000000002,
          10.239877333333334,
          11.644862000000002,
          9.1158896,
          10.239877333333334,
          8.63418057142857,
          3.214954,
          4.619938666666666,
          2.3719632,
          0.6859816000000001,
          0.1239877333333333,
          0.26448620000000006,
          0.01158896000000007,
          0.1239877333333333,
          0.2042725714285713,
          0.053738500000000036,
          0.1239877333333333,
          0.01158896000000007,
          0.01158896000000007,
          0.10080981333333336,
          0.11485965999999993,
          0.08956993599999999,
          0.07271012000000003,
          0.1088382971428572,
          0.09378488999999994,
          0.1008098133333333,
          0.08956993599999999
         ],
         "yaxis": "y"
        },
        {
         "hovertemplate": "BGC=NZ_CP053893.1.region005<br>Sample size (Gb)=%{x}<br>RAE=%{y}<extra></extra>",
         "legendgroup": "NZ_CP053893.1.region005",
         "line": {
          "color": "#FECB52",
          "dash": "solid"
         },
         "marker": {
          "symbol": "circle"
         },
         "mode": "markers+lines",
         "name": "NZ_CP053893.1.region005",
         "orientation": "v",
         "showlegend": true,
         "type": "scatter",
         "x": [
          0.001,
          0.002,
          0.003,
          0.004,
          0.005,
          0.006,
          0.007,
          0.008,
          0.009,
          0.01,
          0.02,
          0.03,
          0.04,
          0.05,
          0.06,
          0.07,
          0.08,
          0.09,
          0.1,
          0.2,
          0.3,
          0.4,
          0.5,
          0.6,
          0.7,
          0.8,
          0.9,
          1
         ],
         "xaxis": "x",
         "y": [
          15.859816000000002,
          7.429908,
          4.619938666666666,
          3.214954,
          2.3719632,
          1.8099693333333333,
          1.4085451428571427,
          1.107477,
          0.8733128888888888,
          0.6859816000000001,
          0.15700919999999996,
          0.1239877333333333,
          0.15700919999999996,
          0.01158896000000007,
          0.15700920000000002,
          0.2774364571428572,
          0.15700919999999996,
          0.2506748444444445,
          0.15700919999999993,
          0.15700919999999993,
          0.2132085866666667,
          0.15700919999999993,
          0.190728832,
          0.18510889333333336,
          0.15700920000000004,
          0.15700919999999993,
          0.15700919999999996,
          0.173869016
         ],
         "yaxis": "y"
        },
        {
         "hovertemplate": "BGC=NC_014328.1.region003<br>Sample size (Gb)=%{x}<br>RAE=%{y}<extra></extra>",
         "legendgroup": "NC_014328.1.region003",
         "line": {
          "color": "#636efa",
          "dash": "solid"
         },
         "marker": {
          "symbol": "circle"
         },
         "mode": "markers+lines",
         "name": "NC_014328.1.region003",
         "orientation": "v",
         "showlegend": true,
         "type": "scatter",
         "x": [
          0.001,
          0.002,
          0.003,
          0.004,
          0.005,
          0.006,
          0.007,
          0.008,
          0.009,
          0.01,
          0.02,
          0.03,
          0.04,
          0.05,
          0.06,
          0.07,
          0.08,
          0.09,
          0.1,
          0.2,
          0.3,
          0.4,
          0.5,
          0.6,
          0.7,
          0.8,
          0.9,
          1
         ],
         "xaxis": "x",
         "y": [
          15.859816000000002,
          7.429908,
          4.619938666666666,
          3.214954,
          2.3719632,
          1.8099693333333333,
          1.4085451428571427,
          1.107477,
          0.8733128888888888,
          0.6859816000000001,
          0.15700919999999996,
          0.1239877333333333,
          0.15700919999999996,
          0.01158896000000007,
          0.15700920000000002,
          0.03658194285714295,
          0.15700919999999996,
          0.06334355555555558,
          0.15700919999999993,
          0.15700919999999993,
          0.15700920000000002,
          0.15700919999999993,
          0.12328956799999999,
          0.18510889333333336,
          0.15700920000000004,
          0.15700919999999993,
          0.15700919999999996,
          0.12328956799999999
         ],
         "yaxis": "y"
        },
        {
         "hovertemplate": "BGC=NZ_CP053893.1.region006<br>Sample size (Gb)=%{x}<br>RAE=%{y}<extra></extra>",
         "legendgroup": "NZ_CP053893.1.region006",
         "line": {
          "color": "#EF553B",
          "dash": "solid"
         },
         "marker": {
          "symbol": "circle"
         },
         "mode": "markers+lines",
         "name": "NZ_CP053893.1.region006",
         "orientation": "v",
         "showlegend": true,
         "type": "scatter",
         "x": [
          0.001,
          0.002,
          0.003,
          0.004,
          0.005,
          0.006,
          0.007,
          0.008,
          0.009,
          0.01,
          0.02,
          0.03,
          0.04,
          0.05,
          0.06,
          0.07,
          0.08,
          0.09,
          0.1,
          0.2,
          0.3,
          0.4,
          0.5,
          0.6,
          0.7,
          0.8,
          0.9,
          1
         ],
         "xaxis": "x",
         "y": [
          15.859816000000002,
          7.429908,
          4.619938666666666,
          3.214954,
          2.3719632,
          1.8099693333333333,
          1.4085451428571427,
          1.107477,
          0.8733128888888888,
          0.6859816000000001,
          0.6859816000000001,
          0.1239877333333333,
          0.26448620000000006,
          0.01158896000000007,
          0.1239877333333333,
          0.03658194285714295,
          0.15700919999999996,
          0.06334355555555558,
          0.01158896000000007,
          0.01158896000000007,
          0.044610426666666696,
          0.11485965999999993,
          0.08956993599999999,
          0.10080981333333336,
          0.08475284571428576,
          0.09378488999999994,
          0.1382760711111111,
          0.08956993599999999
         ],
         "yaxis": "y"
        },
        {
         "hovertemplate": "BGC=NC_014328.1.region001<br>Sample size (Gb)=%{x}<br>RAE=%{y}<extra></extra>",
         "legendgroup": "NC_014328.1.region001",
         "line": {
          "color": "#00cc96",
          "dash": "solid"
         },
         "marker": {
          "symbol": "circle"
         },
         "mode": "markers+lines",
         "name": "NC_014328.1.region001",
         "orientation": "v",
         "showlegend": true,
         "type": "scatter",
         "x": [
          0.001,
          0.002,
          0.003,
          0.004,
          0.005,
          0.006,
          0.007,
          0.008,
          0.009,
          0.01,
          0.02,
          0.03,
          0.04,
          0.05,
          0.06,
          0.07,
          0.08,
          0.09,
          0.1,
          0.2,
          0.3,
          0.4,
          0.5,
          0.6,
          0.7,
          0.8,
          0.9,
          1
         ],
         "xaxis": "x",
         "y": [
          15.859816000000002,
          7.429908,
          4.619938666666666,
          3.214954,
          2.3719632,
          1.8099693333333333,
          1.4085451428571427,
          1.107477,
          0.8733128888888888,
          0.6859816000000001,
          0.15700919999999996,
          0.1239877333333333,
          0.15700919999999996,
          0.01158896000000007,
          0.15700920000000002,
          0.03658194285714295,
          0.15700919999999996,
          0.2506748444444445,
          0.32560735999999996,
          0.24130827999999996,
          0.15700920000000002,
          0.15700919999999993,
          0.1570092,
          0.15700920000000002,
          0.15700920000000004,
          0.13593442999999994,
          0.15700919999999996,
          0.1570092
         ],
         "yaxis": "y"
        },
        {
         "hovertemplate": "BGC=NC_014328.1.region005<br>Sample size (Gb)=%{x}<br>RAE=%{y}<extra></extra>",
         "legendgroup": "NC_014328.1.region005",
         "line": {
          "color": "#ab63fa",
          "dash": "solid"
         },
         "marker": {
          "symbol": "circle"
         },
         "mode": "markers+lines",
         "name": "NC_014328.1.region005",
         "orientation": "v",
         "showlegend": true,
         "type": "scatter",
         "x": [
          0.001,
          0.002,
          0.003,
          0.004,
          0.005,
          0.006,
          0.007,
          0.008,
          0.009,
          0.01,
          0.02,
          0.03,
          0.04,
          0.05,
          0.06,
          0.07,
          0.08,
          0.09,
          0.1,
          0.2,
          0.3,
          0.4,
          0.5,
          0.6,
          0.7,
          0.8,
          0.9,
          1
         ],
         "xaxis": "x",
         "y": [
          15.859816000000002,
          7.429908,
          4.619938666666666,
          3.214954,
          2.3719632,
          1.8099693333333333,
          1.4085451428571427,
          1.107477,
          0.8733128888888888,
          0.6859816000000001,
          0.6859816000000001,
          0.1239877333333333,
          0.15700919999999996,
          0.32560735999999996,
          0.15700920000000002,
          0.2774364571428572,
          0.15700919999999996,
          0.06334355555555558,
          0.15700919999999993,
          0.15700919999999993,
          0.15700920000000002,
          0.15700919999999993,
          0.1570092,
          0.15700920000000002,
          0.15700920000000004,
          0.17808396999999995,
          0.15700919999999996,
          0.1570092
         ],
         "yaxis": "y"
        },
        {
         "hovertemplate": "BGC=NZ_CP053893.1.region003<br>Sample size (Gb)=%{x}<br>RAE=%{y}<extra></extra>",
         "legendgroup": "NZ_CP053893.1.region003",
         "line": {
          "color": "#FFA15A",
          "dash": "solid"
         },
         "marker": {
          "symbol": "circle"
         },
         "mode": "markers+lines",
         "name": "NZ_CP053893.1.region003",
         "orientation": "v",
         "showlegend": true,
         "type": "scatter",
         "x": [
          0.001,
          0.002,
          0.003,
          0.004,
          0.005,
          0.006,
          0.007,
          0.008,
          0.009,
          0.01,
          0.02,
          0.03,
          0.04,
          0.05,
          0.06,
          0.07,
          0.08,
          0.09,
          0.1,
          0.2,
          0.3,
          0.4,
          0.5,
          0.6,
          0.7,
          0.8,
          0.9,
          1
         ],
         "xaxis": "x",
         "y": [
          15.859816000000002,
          7.429908,
          4.619938666666666,
          3.214954,
          2.3719632,
          1.8099693333333333,
          1.4085451428571427,
          1.107477,
          0.8733128888888888,
          0.6859816000000001,
          0.15700919999999996,
          0.1239877333333333,
          0.15700919999999996,
          0.01158896000000007,
          0.15700920000000002,
          0.2774364571428572,
          0.15700919999999996,
          0.2506748444444445,
          0.15700919999999993,
          0.15700919999999993,
          0.10080981333333336,
          0.19915873999999995,
          0.1570092,
          0.15700920000000002,
          0.18109465142857148,
          0.17808396999999995,
          0.1382760711111111,
          0.173869016
         ],
         "yaxis": "y"
        },
        {
         "hovertemplate": "BGC=NC_014328.1.region002<br>Sample size (Gb)=%{x}<br>RAE=%{y}<extra></extra>",
         "legendgroup": "NC_014328.1.region002",
         "line": {
          "color": "#19d3f3",
          "dash": "solid"
         },
         "marker": {
          "symbol": "circle"
         },
         "mode": "markers+lines",
         "name": "NC_014328.1.region002",
         "orientation": "v",
         "showlegend": true,
         "type": "scatter",
         "x": [
          0.002,
          0.003,
          0.004,
          0.005,
          0.006,
          0.007,
          0.008,
          0.009,
          0.01,
          0.02,
          0.03,
          0.04,
          0.05,
          0.06,
          0.07,
          0.08,
          0.09,
          0.1,
          0.2,
          0.3,
          0.4,
          0.5,
          0.6,
          0.7,
          0.8,
          0.9,
          1
         ],
         "xaxis": "x",
         "y": [
          7.429908,
          4.619938666666666,
          3.214954,
          2.3719632,
          1.8099693333333333,
          1.4085451428571427,
          1.107477,
          0.8733128888888888,
          0.6859816000000001,
          0.15700919999999996,
          0.4380061333333333,
          0.15700919999999996,
          0.32560735999999996,
          0.15700920000000002,
          0.2774364571428572,
          0.15700919999999996,
          0.2506748444444445,
          0.15700919999999993,
          0.24130827999999996,
          0.10080981333333336,
          0.19915873999999995,
          0.1570092,
          0.15700920000000002,
          0.15700920000000004,
          0.13593442999999994,
          0.17574232888888885,
          0.190728832
         ],
         "yaxis": "y"
        }
       ],
       "layout": {
        "legend": {
         "title": {
          "text": "BGC"
         },
         "tracegroupgap": 0
        },
        "template": {
         "data": {
          "bar": [
           {
            "error_x": {
             "color": "#2a3f5f"
            },
            "error_y": {
             "color": "#2a3f5f"
            },
            "marker": {
             "line": {
              "color": "#E5ECF6",
              "width": 0.5
             },
             "pattern": {
              "fillmode": "overlay",
              "size": 10,
              "solidity": 0.2
             }
            },
            "type": "bar"
           }
          ],
          "barpolar": [
           {
            "marker": {
             "line": {
              "color": "#E5ECF6",
              "width": 0.5
             },
             "pattern": {
              "fillmode": "overlay",
              "size": 10,
              "solidity": 0.2
             }
            },
            "type": "barpolar"
           }
          ],
          "carpet": [
           {
            "aaxis": {
             "endlinecolor": "#2a3f5f",
             "gridcolor": "white",
             "linecolor": "white",
             "minorgridcolor": "white",
             "startlinecolor": "#2a3f5f"
            },
            "baxis": {
             "endlinecolor": "#2a3f5f",
             "gridcolor": "white",
             "linecolor": "white",
             "minorgridcolor": "white",
             "startlinecolor": "#2a3f5f"
            },
            "type": "carpet"
           }
          ],
          "choropleth": [
           {
            "colorbar": {
             "outlinewidth": 0,
             "ticks": ""
            },
            "type": "choropleth"
           }
          ],
          "contour": [
           {
            "colorbar": {
             "outlinewidth": 0,
             "ticks": ""
            },
            "colorscale": [
             [
              0,
              "#0d0887"
             ],
             [
              0.1111111111111111,
              "#46039f"
             ],
             [
              0.2222222222222222,
              "#7201a8"
             ],
             [
              0.3333333333333333,
              "#9c179e"
             ],
             [
              0.4444444444444444,
              "#bd3786"
             ],
             [
              0.5555555555555556,
              "#d8576b"
             ],
             [
              0.6666666666666666,
              "#ed7953"
             ],
             [
              0.7777777777777778,
              "#fb9f3a"
             ],
             [
              0.8888888888888888,
              "#fdca26"
             ],
             [
              1,
              "#f0f921"
             ]
            ],
            "type": "contour"
           }
          ],
          "contourcarpet": [
           {
            "colorbar": {
             "outlinewidth": 0,
             "ticks": ""
            },
            "type": "contourcarpet"
           }
          ],
          "heatmap": [
           {
            "colorbar": {
             "outlinewidth": 0,
             "ticks": ""
            },
            "colorscale": [
             [
              0,
              "#0d0887"
             ],
             [
              0.1111111111111111,
              "#46039f"
             ],
             [
              0.2222222222222222,
              "#7201a8"
             ],
             [
              0.3333333333333333,
              "#9c179e"
             ],
             [
              0.4444444444444444,
              "#bd3786"
             ],
             [
              0.5555555555555556,
              "#d8576b"
             ],
             [
              0.6666666666666666,
              "#ed7953"
             ],
             [
              0.7777777777777778,
              "#fb9f3a"
             ],
             [
              0.8888888888888888,
              "#fdca26"
             ],
             [
              1,
              "#f0f921"
             ]
            ],
            "type": "heatmap"
           }
          ],
          "heatmapgl": [
           {
            "colorbar": {
             "outlinewidth": 0,
             "ticks": ""
            },
            "colorscale": [
             [
              0,
              "#0d0887"
             ],
             [
              0.1111111111111111,
              "#46039f"
             ],
             [
              0.2222222222222222,
              "#7201a8"
             ],
             [
              0.3333333333333333,
              "#9c179e"
             ],
             [
              0.4444444444444444,
              "#bd3786"
             ],
             [
              0.5555555555555556,
              "#d8576b"
             ],
             [
              0.6666666666666666,
              "#ed7953"
             ],
             [
              0.7777777777777778,
              "#fb9f3a"
             ],
             [
              0.8888888888888888,
              "#fdca26"
             ],
             [
              1,
              "#f0f921"
             ]
            ],
            "type": "heatmapgl"
           }
          ],
          "histogram": [
           {
            "marker": {
             "pattern": {
              "fillmode": "overlay",
              "size": 10,
              "solidity": 0.2
             }
            },
            "type": "histogram"
           }
          ],
          "histogram2d": [
           {
            "colorbar": {
             "outlinewidth": 0,
             "ticks": ""
            },
            "colorscale": [
             [
              0,
              "#0d0887"
             ],
             [
              0.1111111111111111,
              "#46039f"
             ],
             [
              0.2222222222222222,
              "#7201a8"
             ],
             [
              0.3333333333333333,
              "#9c179e"
             ],
             [
              0.4444444444444444,
              "#bd3786"
             ],
             [
              0.5555555555555556,
              "#d8576b"
             ],
             [
              0.6666666666666666,
              "#ed7953"
             ],
             [
              0.7777777777777778,
              "#fb9f3a"
             ],
             [
              0.8888888888888888,
              "#fdca26"
             ],
             [
              1,
              "#f0f921"
             ]
            ],
            "type": "histogram2d"
           }
          ],
          "histogram2dcontour": [
           {
            "colorbar": {
             "outlinewidth": 0,
             "ticks": ""
            },
            "colorscale": [
             [
              0,
              "#0d0887"
             ],
             [
              0.1111111111111111,
              "#46039f"
             ],
             [
              0.2222222222222222,
              "#7201a8"
             ],
             [
              0.3333333333333333,
              "#9c179e"
             ],
             [
              0.4444444444444444,
              "#bd3786"
             ],
             [
              0.5555555555555556,
              "#d8576b"
             ],
             [
              0.6666666666666666,
              "#ed7953"
             ],
             [
              0.7777777777777778,
              "#fb9f3a"
             ],
             [
              0.8888888888888888,
              "#fdca26"
             ],
             [
              1,
              "#f0f921"
             ]
            ],
            "type": "histogram2dcontour"
           }
          ],
          "mesh3d": [
           {
            "colorbar": {
             "outlinewidth": 0,
             "ticks": ""
            },
            "type": "mesh3d"
           }
          ],
          "parcoords": [
           {
            "line": {
             "colorbar": {
              "outlinewidth": 0,
              "ticks": ""
             }
            },
            "type": "parcoords"
           }
          ],
          "pie": [
           {
            "automargin": true,
            "type": "pie"
           }
          ],
          "scatter": [
           {
            "fillpattern": {
             "fillmode": "overlay",
             "size": 10,
             "solidity": 0.2
            },
            "type": "scatter"
           }
          ],
          "scatter3d": [
           {
            "line": {
             "colorbar": {
              "outlinewidth": 0,
              "ticks": ""
             }
            },
            "marker": {
             "colorbar": {
              "outlinewidth": 0,
              "ticks": ""
             }
            },
            "type": "scatter3d"
           }
          ],
          "scattercarpet": [
           {
            "marker": {
             "colorbar": {
              "outlinewidth": 0,
              "ticks": ""
             }
            },
            "type": "scattercarpet"
           }
          ],
          "scattergeo": [
           {
            "marker": {
             "colorbar": {
              "outlinewidth": 0,
              "ticks": ""
             }
            },
            "type": "scattergeo"
           }
          ],
          "scattergl": [
           {
            "marker": {
             "colorbar": {
              "outlinewidth": 0,
              "ticks": ""
             }
            },
            "type": "scattergl"
           }
          ],
          "scattermapbox": [
           {
            "marker": {
             "colorbar": {
              "outlinewidth": 0,
              "ticks": ""
             }
            },
            "type": "scattermapbox"
           }
          ],
          "scatterpolar": [
           {
            "marker": {
             "colorbar": {
              "outlinewidth": 0,
              "ticks": ""
             }
            },
            "type": "scatterpolar"
           }
          ],
          "scatterpolargl": [
           {
            "marker": {
             "colorbar": {
              "outlinewidth": 0,
              "ticks": ""
             }
            },
            "type": "scatterpolargl"
           }
          ],
          "scatterternary": [
           {
            "marker": {
             "colorbar": {
              "outlinewidth": 0,
              "ticks": ""
             }
            },
            "type": "scatterternary"
           }
          ],
          "surface": [
           {
            "colorbar": {
             "outlinewidth": 0,
             "ticks": ""
            },
            "colorscale": [
             [
              0,
              "#0d0887"
             ],
             [
              0.1111111111111111,
              "#46039f"
             ],
             [
              0.2222222222222222,
              "#7201a8"
             ],
             [
              0.3333333333333333,
              "#9c179e"
             ],
             [
              0.4444444444444444,
              "#bd3786"
             ],
             [
              0.5555555555555556,
              "#d8576b"
             ],
             [
              0.6666666666666666,
              "#ed7953"
             ],
             [
              0.7777777777777778,
              "#fb9f3a"
             ],
             [
              0.8888888888888888,
              "#fdca26"
             ],
             [
              1,
              "#f0f921"
             ]
            ],
            "type": "surface"
           }
          ],
          "table": [
           {
            "cells": {
             "fill": {
              "color": "#EBF0F8"
             },
             "line": {
              "color": "white"
             }
            },
            "header": {
             "fill": {
              "color": "#C8D4E3"
             },
             "line": {
              "color": "white"
             }
            },
            "type": "table"
           }
          ]
         },
         "layout": {
          "annotationdefaults": {
           "arrowcolor": "#2a3f5f",
           "arrowhead": 0,
           "arrowwidth": 1
          },
          "autotypenumbers": "strict",
          "coloraxis": {
           "colorbar": {
            "outlinewidth": 0,
            "ticks": ""
           }
          },
          "colorscale": {
           "diverging": [
            [
             0,
             "#8e0152"
            ],
            [
             0.1,
             "#c51b7d"
            ],
            [
             0.2,
             "#de77ae"
            ],
            [
             0.3,
             "#f1b6da"
            ],
            [
             0.4,
             "#fde0ef"
            ],
            [
             0.5,
             "#f7f7f7"
            ],
            [
             0.6,
             "#e6f5d0"
            ],
            [
             0.7,
             "#b8e186"
            ],
            [
             0.8,
             "#7fbc41"
            ],
            [
             0.9,
             "#4d9221"
            ],
            [
             1,
             "#276419"
            ]
           ],
           "sequential": [
            [
             0,
             "#0d0887"
            ],
            [
             0.1111111111111111,
             "#46039f"
            ],
            [
             0.2222222222222222,
             "#7201a8"
            ],
            [
             0.3333333333333333,
             "#9c179e"
            ],
            [
             0.4444444444444444,
             "#bd3786"
            ],
            [
             0.5555555555555556,
             "#d8576b"
            ],
            [
             0.6666666666666666,
             "#ed7953"
            ],
            [
             0.7777777777777778,
             "#fb9f3a"
            ],
            [
             0.8888888888888888,
             "#fdca26"
            ],
            [
             1,
             "#f0f921"
            ]
           ],
           "sequentialminus": [
            [
             0,
             "#0d0887"
            ],
            [
             0.1111111111111111,
             "#46039f"
            ],
            [
             0.2222222222222222,
             "#7201a8"
            ],
            [
             0.3333333333333333,
             "#9c179e"
            ],
            [
             0.4444444444444444,
             "#bd3786"
            ],
            [
             0.5555555555555556,
             "#d8576b"
            ],
            [
             0.6666666666666666,
             "#ed7953"
            ],
            [
             0.7777777777777778,
             "#fb9f3a"
            ],
            [
             0.8888888888888888,
             "#fdca26"
            ],
            [
             1,
             "#f0f921"
            ]
           ]
          },
          "colorway": [
           "#636efa",
           "#EF553B",
           "#00cc96",
           "#ab63fa",
           "#FFA15A",
           "#19d3f3",
           "#FF6692",
           "#B6E880",
           "#FF97FF",
           "#FECB52"
          ],
          "font": {
           "color": "#2a3f5f"
          },
          "geo": {
           "bgcolor": "white",
           "lakecolor": "white",
           "landcolor": "#E5ECF6",
           "showlakes": true,
           "showland": true,
           "subunitcolor": "white"
          },
          "hoverlabel": {
           "align": "left"
          },
          "hovermode": "closest",
          "mapbox": {
           "style": "light"
          },
          "paper_bgcolor": "white",
          "plot_bgcolor": "#E5ECF6",
          "polar": {
           "angularaxis": {
            "gridcolor": "white",
            "linecolor": "white",
            "ticks": ""
           },
           "bgcolor": "#E5ECF6",
           "radialaxis": {
            "gridcolor": "white",
            "linecolor": "white",
            "ticks": ""
           }
          },
          "scene": {
           "xaxis": {
            "backgroundcolor": "#E5ECF6",
            "gridcolor": "white",
            "gridwidth": 2,
            "linecolor": "white",
            "showbackground": true,
            "ticks": "",
            "zerolinecolor": "white"
           },
           "yaxis": {
            "backgroundcolor": "#E5ECF6",
            "gridcolor": "white",
            "gridwidth": 2,
            "linecolor": "white",
            "showbackground": true,
            "ticks": "",
            "zerolinecolor": "white"
           },
           "zaxis": {
            "backgroundcolor": "#E5ECF6",
            "gridcolor": "white",
            "gridwidth": 2,
            "linecolor": "white",
            "showbackground": true,
            "ticks": "",
            "zerolinecolor": "white"
           }
          },
          "shapedefaults": {
           "line": {
            "color": "#2a3f5f"
           }
          },
          "ternary": {
           "aaxis": {
            "gridcolor": "white",
            "linecolor": "white",
            "ticks": ""
           },
           "baxis": {
            "gridcolor": "white",
            "linecolor": "white",
            "ticks": ""
           },
           "bgcolor": "#E5ECF6",
           "caxis": {
            "gridcolor": "white",
            "linecolor": "white",
            "ticks": ""
           }
          },
          "title": {
           "x": 0.05
          },
          "xaxis": {
           "automargin": true,
           "gridcolor": "white",
           "linecolor": "white",
           "ticks": "",
           "title": {
            "standoff": 15
           },
           "zerolinecolor": "white",
           "zerolinewidth": 2
          },
          "yaxis": {
           "automargin": true,
           "gridcolor": "white",
           "linecolor": "white",
           "ticks": "",
           "title": {
            "standoff": 15
           },
           "zerolinecolor": "white",
           "zerolinewidth": 2
          }
         }
        },
        "title": {
         "text": "Per BGC quantification errors<br><sup>Quantification By mapping<sup>"
        },
        "xaxis": {
         "anchor": "y",
         "domain": [
          0,
          1
         ],
         "range": [
          0,
          0.3
         ],
         "title": {
          "text": "Sample size (Gb)"
         }
        },
        "yaxis": {
         "anchor": "x",
         "domain": [
          0,
          1
         ],
         "range": [
          0,
          4
         ],
         "title": {
          "text": "RAE"
         }
        }
       }
      },
      "text/html": [
       "<div>                            <div id=\"1344478a-60fc-4656-b764-2d0fd3953abd\" class=\"plotly-graph-div\" style=\"height:525px; width:100%;\"></div>            <script type=\"text/javascript\">                require([\"plotly\"], function(Plotly) {                    window.PLOTLYENV=window.PLOTLYENV || {};                                    if (document.getElementById(\"1344478a-60fc-4656-b764-2d0fd3953abd\")) {                    Plotly.newPlot(                        \"1344478a-60fc-4656-b764-2d0fd3953abd\",                        [{\"hovertemplate\":\"BGC=NZ_LT906470.1.region003<br>Sample size (Gb)=%{x}<br>RAE=%{y}<extra></extra>\",\"legendgroup\":\"NZ_LT906470.1.region003\",\"line\":{\"color\":\"#636efa\",\"dash\":\"solid\"},\"marker\":{\"symbol\":\"circle\"},\"mode\":\"markers+lines\",\"name\":\"NZ_LT906470.1.region003\",\"orientation\":\"v\",\"showlegend\":true,\"x\":[0.001,0.002,0.003,0.004,0.005,0.006,0.007,0.008,0.009,0.01,0.02,0.03,0.04,0.05,0.06,0.07,0.08,0.09,0.1,0.2,0.3,0.4,0.5,0.6,0.7,0.8,0.9,1.0],\"xaxis\":\"x\",\"y\":[15.859816000000002,7.429908,4.619938666666666,3.214954,2.3719632,1.8099693333333333,1.4085451428571427,1.107477,0.8733128888888888,0.6859816000000001,0.15700919999999996,0.1239877333333333,0.15700919999999996,0.01158896000000007,0.15700920000000002,0.03658194285714295,0.15700919999999996,0.2506748444444445,0.15700919999999993,0.24130827999999996,0.15700920000000002,0.19915873999999995,0.190728832,0.18510889333333336,0.15700920000000004,0.17808396999999995,0.17574232888888885,0.1570092],\"yaxis\":\"y\",\"type\":\"scatter\"},{\"hovertemplate\":\"BGC=NZ_CP020566.1.region001<br>Sample size (Gb)=%{x}<br>RAE=%{y}<extra></extra>\",\"legendgroup\":\"NZ_CP020566.1.region001\",\"line\":{\"color\":\"#EF553B\",\"dash\":\"solid\"},\"marker\":{\"symbol\":\"circle\"},\"mode\":\"markers+lines\",\"name\":\"NZ_CP020566.1.region001\",\"orientation\":\"v\",\"showlegend\":true,\"x\":[0.001,0.002,0.003,0.004,0.005,0.006,0.007,0.008,0.009,0.01,0.02,0.03,0.04,0.05,0.06,0.07,0.08,0.09,0.1,0.2,0.3,0.4,0.5,0.6,0.7,0.8,0.9,1.0],\"xaxis\":\"x\",\"y\":[15.859816000000002,7.429908,4.619938666666666,3.214954,2.3719632,1.8099693333333333,1.4085451428571427,1.107477,0.8733128888888888,0.6859816000000001,0.15700919999999996,0.1239877333333333,0.15700919999999996,0.01158896000000007,0.15700920000000002,0.03658194285714295,0.15700919999999996,0.2506748444444445,0.32560735999999996,0.24130827999999996,0.15700920000000002,0.11485965999999993,0.190728832,0.15700920000000002,0.1088382971428572,0.17808396999999995,0.1382760711111111,0.173869016],\"yaxis\":\"y\",\"type\":\"scatter\"},{\"hovertemplate\":\"BGC=NZ_LT906445.1.region001<br>Sample size (Gb)=%{x}<br>RAE=%{y}<extra></extra>\",\"legendgroup\":\"NZ_LT906445.1.region001\",\"line\":{\"color\":\"#00cc96\",\"dash\":\"solid\"},\"marker\":{\"symbol\":\"circle\"},\"mode\":\"markers+lines\",\"name\":\"NZ_LT906445.1.region001\",\"orientation\":\"v\",\"showlegend\":true,\"x\":[0.001,0.002,0.003,0.004,0.005,0.006,0.007,0.008,0.009,0.01,0.02,0.03,0.04,0.05,0.06,0.07,0.08,0.09,0.1,0.2,0.3,0.4,0.5,0.6,0.7,0.8,0.9,1.0],\"xaxis\":\"x\",\"y\":[15.859816000000002,7.429908,4.619938666666666,3.214954,2.3719632,1.8099693333333333,1.4085451428571427,1.107477,0.8733128888888888,0.6859816000000001,0.6859816000000001,0.1239877333333333,0.15700919999999996,0.32560735999999996,0.15700920000000002,0.2774364571428572,0.15700919999999996,0.2506748444444445,0.15700919999999993,0.24130827999999996,0.15700920000000002,0.19915873999999995,0.190728832,0.18510889333333336,0.18109465142857148,0.15700919999999993,0.15700919999999996,0.1570092],\"yaxis\":\"y\",\"type\":\"scatter\"},{\"hovertemplate\":\"BGC=NC_014328.1.region004<br>Sample size (Gb)=%{x}<br>RAE=%{y}<extra></extra>\",\"legendgroup\":\"NC_014328.1.region004\",\"line\":{\"color\":\"#ab63fa\",\"dash\":\"solid\"},\"marker\":{\"symbol\":\"circle\"},\"mode\":\"markers+lines\",\"name\":\"NC_014328.1.region004\",\"orientation\":\"v\",\"showlegend\":true,\"x\":[0.001,0.002,0.003,0.004,0.005,0.006,0.007,0.008,0.009,0.01,0.02,0.03,0.04,0.05,0.06,0.07,0.08,0.09,0.1,0.2,0.3,0.4,0.5,0.6,0.7,0.8,0.9,1.0],\"xaxis\":\"x\",\"y\":[15.859816000000002,7.429908,4.619938666666666,3.214954,2.3719632,1.8099693333333333,1.4085451428571427,1.107477,0.8733128888888888,0.6859816000000001,0.15700919999999996,0.1239877333333333,0.15700919999999996,0.01158896000000007,0.15700920000000002,0.2774364571428572,0.15700919999999996,0.06334355555555558,0.15700919999999993,0.15700919999999993,0.2132085866666667,0.11485965999999993,0.190728832,0.15700920000000002,0.15700920000000004,0.17808396999999995,0.15700919999999996,0.1570092],\"yaxis\":\"y\",\"type\":\"scatter\"},{\"hovertemplate\":\"BGC=NZ_CP053893.1.region001<br>Sample size (Gb)=%{x}<br>RAE=%{y}<extra></extra>\",\"legendgroup\":\"NZ_CP053893.1.region001\",\"line\":{\"color\":\"#FFA15A\",\"dash\":\"solid\"},\"marker\":{\"symbol\":\"circle\"},\"mode\":\"markers+lines\",\"name\":\"NZ_CP053893.1.region001\",\"orientation\":\"v\",\"showlegend\":true,\"x\":[0.001,0.002,0.003,0.004,0.005,0.006,0.007,0.008,0.009,0.01,0.02,0.03,0.04,0.05,0.06,0.07,0.08,0.09,0.1,0.2,0.3,0.4,0.5,0.6,0.7,0.8,0.9,1.0],\"xaxis\":\"x\",\"y\":[15.859816000000002,7.429908,4.619938666666666,3.214954,2.3719632,1.8099693333333333,1.4085451428571427,1.107477,0.8733128888888888,0.6859816000000001,0.6859816000000001,0.1239877333333333,0.15700919999999996,0.01158896000000007,0.15700920000000002,0.2774364571428572,0.15700919999999996,0.2506748444444445,0.15700919999999993,0.15700919999999993,0.2132085866666667,0.19915873999999995,0.1570092,0.15700920000000002,0.15700920000000004,0.17808396999999995,0.15700919999999996,0.140149384],\"yaxis\":\"y\",\"type\":\"scatter\"},{\"hovertemplate\":\"BGC=NZ_LT906470.1.region001<br>Sample size (Gb)=%{x}<br>RAE=%{y}<extra></extra>\",\"legendgroup\":\"NZ_LT906470.1.region001\",\"line\":{\"color\":\"#19d3f3\",\"dash\":\"solid\"},\"marker\":{\"symbol\":\"circle\"},\"mode\":\"markers+lines\",\"name\":\"NZ_LT906470.1.region001\",\"orientation\":\"v\",\"showlegend\":true,\"x\":[0.001,0.002,0.003,0.004,0.005,0.006,0.007,0.008,0.009,0.01,0.02,0.03,0.04,0.05,0.06,0.07,0.08,0.09,0.1,0.2,0.3,0.4,0.5,0.6,0.7,0.8,0.9,1.0],\"xaxis\":\"x\",\"y\":[15.859816000000002,7.429908,4.619938666666666,3.214954,2.3719632,1.8099693333333333,1.4085451428571427,1.107477,0.8733128888888888,0.6859816000000001,0.15700919999999996,0.1239877333333333,0.15700919999999996,0.01158896000000007,0.15700920000000002,0.03658194285714295,0.15700919999999996,0.2506748444444445,0.15700919999999993,0.15700919999999993,0.15700920000000002,0.15700919999999993,0.12328956799999999,0.10080981333333336,0.13292374857142863,0.17808396999999995,0.1382760711111111,0.1570092],\"yaxis\":\"y\",\"type\":\"scatter\"},{\"hovertemplate\":\"BGC=NZ_CP053893.1.region004<br>Sample size (Gb)=%{x}<br>RAE=%{y}<extra></extra>\",\"legendgroup\":\"NZ_CP053893.1.region004\",\"line\":{\"color\":\"#FF6692\",\"dash\":\"solid\"},\"marker\":{\"symbol\":\"circle\"},\"mode\":\"markers+lines\",\"name\":\"NZ_CP053893.1.region004\",\"orientation\":\"v\",\"showlegend\":true,\"x\":[0.001,0.002,0.003,0.004,0.005,0.006,0.007,0.008,0.009,0.01,0.02,0.03,0.04,0.05,0.06,0.07,0.08,0.09,0.1,0.2,0.3,0.4,0.5,0.6,0.7,0.8,0.9,1.0],\"xaxis\":\"x\",\"y\":[15.859816000000002,7.429908,4.619938666666666,3.214954,2.3719632,1.8099693333333333,1.4085451428571427,1.107477,0.8733128888888888,0.6859816000000001,0.15700919999999996,0.1239877333333333,0.15700919999999996,0.01158896000000007,0.15700920000000002,0.03658194285714295,0.15700919999999996,0.06334355555555558,0.15700919999999993,0.15700919999999993,0.15700920000000002,0.15700919999999993,0.1570092,0.18510889333333336,0.18109465142857148,0.11485965999999993,0.1382760711111111,0.140149384],\"yaxis\":\"y\",\"type\":\"scatter\"},{\"hovertemplate\":\"BGC=NZ_LT906470.1.region002<br>Sample size (Gb)=%{x}<br>RAE=%{y}<extra></extra>\",\"legendgroup\":\"NZ_LT906470.1.region002\",\"line\":{\"color\":\"#B6E880\",\"dash\":\"solid\"},\"marker\":{\"symbol\":\"circle\"},\"mode\":\"markers+lines\",\"name\":\"NZ_LT906470.1.region002\",\"orientation\":\"v\",\"showlegend\":true,\"x\":[0.001,0.002,0.003,0.004,0.005,0.006,0.007,0.008,0.009,0.01,0.02,0.03,0.04,0.05,0.06,0.07,0.08,0.09,0.1,0.2,0.3,0.4,0.5,0.6,0.7,0.8,0.9,1.0],\"xaxis\":\"x\",\"y\":[15.859816000000002,7.429908,4.619938666666666,3.214954,2.3719632,1.8099693333333333,1.4085451428571427,1.107477,0.8733128888888888,0.6859816000000001,0.6859816000000001,0.1239877333333333,0.15700919999999996,0.01158896000000007,0.15700920000000002,0.2774364571428572,0.15700919999999996,0.06334355555555558,0.15700919999999993,0.15700919999999993,0.2132085866666667,0.19915873999999995,0.12328956799999999,0.1289095066666667,0.15700920000000004,0.15700919999999993,0.11954294222222218,0.140149384],\"yaxis\":\"y\",\"type\":\"scatter\"},{\"hovertemplate\":\"BGC=NZ_CP053893.1.region002<br>Sample size (Gb)=%{x}<br>RAE=%{y}<extra></extra>\",\"legendgroup\":\"NZ_CP053893.1.region002\",\"line\":{\"color\":\"#FF97FF\",\"dash\":\"solid\"},\"marker\":{\"symbol\":\"circle\"},\"mode\":\"markers+lines\",\"name\":\"NZ_CP053893.1.region002\",\"orientation\":\"v\",\"showlegend\":true,\"x\":[0.001,0.002,0.003,0.004,0.005,0.006,0.007,0.008,0.009,0.01,0.02,0.03,0.04,0.05,0.06,0.07,0.08,0.09,0.1,0.2,0.3,0.4,0.5,0.6,0.7,0.8,0.9,1.0],\"xaxis\":\"x\",\"y\":[15.859816000000002,15.859816000000002,10.239877333333334,11.644862000000002,9.1158896,10.239877333333334,8.63418057142857,3.214954,4.619938666666666,2.3719632,0.6859816000000001,0.1239877333333333,0.26448620000000006,0.01158896000000007,0.1239877333333333,0.2042725714285713,0.053738500000000036,0.1239877333333333,0.01158896000000007,0.01158896000000007,0.10080981333333336,0.11485965999999993,0.08956993599999999,0.07271012000000003,0.1088382971428572,0.09378488999999994,0.1008098133333333,0.08956993599999999],\"yaxis\":\"y\",\"type\":\"scatter\"},{\"hovertemplate\":\"BGC=NZ_CP053893.1.region005<br>Sample size (Gb)=%{x}<br>RAE=%{y}<extra></extra>\",\"legendgroup\":\"NZ_CP053893.1.region005\",\"line\":{\"color\":\"#FECB52\",\"dash\":\"solid\"},\"marker\":{\"symbol\":\"circle\"},\"mode\":\"markers+lines\",\"name\":\"NZ_CP053893.1.region005\",\"orientation\":\"v\",\"showlegend\":true,\"x\":[0.001,0.002,0.003,0.004,0.005,0.006,0.007,0.008,0.009,0.01,0.02,0.03,0.04,0.05,0.06,0.07,0.08,0.09,0.1,0.2,0.3,0.4,0.5,0.6,0.7,0.8,0.9,1.0],\"xaxis\":\"x\",\"y\":[15.859816000000002,7.429908,4.619938666666666,3.214954,2.3719632,1.8099693333333333,1.4085451428571427,1.107477,0.8733128888888888,0.6859816000000001,0.15700919999999996,0.1239877333333333,0.15700919999999996,0.01158896000000007,0.15700920000000002,0.2774364571428572,0.15700919999999996,0.2506748444444445,0.15700919999999993,0.15700919999999993,0.2132085866666667,0.15700919999999993,0.190728832,0.18510889333333336,0.15700920000000004,0.15700919999999993,0.15700919999999996,0.173869016],\"yaxis\":\"y\",\"type\":\"scatter\"},{\"hovertemplate\":\"BGC=NC_014328.1.region003<br>Sample size (Gb)=%{x}<br>RAE=%{y}<extra></extra>\",\"legendgroup\":\"NC_014328.1.region003\",\"line\":{\"color\":\"#636efa\",\"dash\":\"solid\"},\"marker\":{\"symbol\":\"circle\"},\"mode\":\"markers+lines\",\"name\":\"NC_014328.1.region003\",\"orientation\":\"v\",\"showlegend\":true,\"x\":[0.001,0.002,0.003,0.004,0.005,0.006,0.007,0.008,0.009,0.01,0.02,0.03,0.04,0.05,0.06,0.07,0.08,0.09,0.1,0.2,0.3,0.4,0.5,0.6,0.7,0.8,0.9,1.0],\"xaxis\":\"x\",\"y\":[15.859816000000002,7.429908,4.619938666666666,3.214954,2.3719632,1.8099693333333333,1.4085451428571427,1.107477,0.8733128888888888,0.6859816000000001,0.15700919999999996,0.1239877333333333,0.15700919999999996,0.01158896000000007,0.15700920000000002,0.03658194285714295,0.15700919999999996,0.06334355555555558,0.15700919999999993,0.15700919999999993,0.15700920000000002,0.15700919999999993,0.12328956799999999,0.18510889333333336,0.15700920000000004,0.15700919999999993,0.15700919999999996,0.12328956799999999],\"yaxis\":\"y\",\"type\":\"scatter\"},{\"hovertemplate\":\"BGC=NZ_CP053893.1.region006<br>Sample size (Gb)=%{x}<br>RAE=%{y}<extra></extra>\",\"legendgroup\":\"NZ_CP053893.1.region006\",\"line\":{\"color\":\"#EF553B\",\"dash\":\"solid\"},\"marker\":{\"symbol\":\"circle\"},\"mode\":\"markers+lines\",\"name\":\"NZ_CP053893.1.region006\",\"orientation\":\"v\",\"showlegend\":true,\"x\":[0.001,0.002,0.003,0.004,0.005,0.006,0.007,0.008,0.009,0.01,0.02,0.03,0.04,0.05,0.06,0.07,0.08,0.09,0.1,0.2,0.3,0.4,0.5,0.6,0.7,0.8,0.9,1.0],\"xaxis\":\"x\",\"y\":[15.859816000000002,7.429908,4.619938666666666,3.214954,2.3719632,1.8099693333333333,1.4085451428571427,1.107477,0.8733128888888888,0.6859816000000001,0.6859816000000001,0.1239877333333333,0.26448620000000006,0.01158896000000007,0.1239877333333333,0.03658194285714295,0.15700919999999996,0.06334355555555558,0.01158896000000007,0.01158896000000007,0.044610426666666696,0.11485965999999993,0.08956993599999999,0.10080981333333336,0.08475284571428576,0.09378488999999994,0.1382760711111111,0.08956993599999999],\"yaxis\":\"y\",\"type\":\"scatter\"},{\"hovertemplate\":\"BGC=NC_014328.1.region001<br>Sample size (Gb)=%{x}<br>RAE=%{y}<extra></extra>\",\"legendgroup\":\"NC_014328.1.region001\",\"line\":{\"color\":\"#00cc96\",\"dash\":\"solid\"},\"marker\":{\"symbol\":\"circle\"},\"mode\":\"markers+lines\",\"name\":\"NC_014328.1.region001\",\"orientation\":\"v\",\"showlegend\":true,\"x\":[0.001,0.002,0.003,0.004,0.005,0.006,0.007,0.008,0.009,0.01,0.02,0.03,0.04,0.05,0.06,0.07,0.08,0.09,0.1,0.2,0.3,0.4,0.5,0.6,0.7,0.8,0.9,1.0],\"xaxis\":\"x\",\"y\":[15.859816000000002,7.429908,4.619938666666666,3.214954,2.3719632,1.8099693333333333,1.4085451428571427,1.107477,0.8733128888888888,0.6859816000000001,0.15700919999999996,0.1239877333333333,0.15700919999999996,0.01158896000000007,0.15700920000000002,0.03658194285714295,0.15700919999999996,0.2506748444444445,0.32560735999999996,0.24130827999999996,0.15700920000000002,0.15700919999999993,0.1570092,0.15700920000000002,0.15700920000000004,0.13593442999999994,0.15700919999999996,0.1570092],\"yaxis\":\"y\",\"type\":\"scatter\"},{\"hovertemplate\":\"BGC=NC_014328.1.region005<br>Sample size (Gb)=%{x}<br>RAE=%{y}<extra></extra>\",\"legendgroup\":\"NC_014328.1.region005\",\"line\":{\"color\":\"#ab63fa\",\"dash\":\"solid\"},\"marker\":{\"symbol\":\"circle\"},\"mode\":\"markers+lines\",\"name\":\"NC_014328.1.region005\",\"orientation\":\"v\",\"showlegend\":true,\"x\":[0.001,0.002,0.003,0.004,0.005,0.006,0.007,0.008,0.009,0.01,0.02,0.03,0.04,0.05,0.06,0.07,0.08,0.09,0.1,0.2,0.3,0.4,0.5,0.6,0.7,0.8,0.9,1.0],\"xaxis\":\"x\",\"y\":[15.859816000000002,7.429908,4.619938666666666,3.214954,2.3719632,1.8099693333333333,1.4085451428571427,1.107477,0.8733128888888888,0.6859816000000001,0.6859816000000001,0.1239877333333333,0.15700919999999996,0.32560735999999996,0.15700920000000002,0.2774364571428572,0.15700919999999996,0.06334355555555558,0.15700919999999993,0.15700919999999993,0.15700920000000002,0.15700919999999993,0.1570092,0.15700920000000002,0.15700920000000004,0.17808396999999995,0.15700919999999996,0.1570092],\"yaxis\":\"y\",\"type\":\"scatter\"},{\"hovertemplate\":\"BGC=NZ_CP053893.1.region003<br>Sample size (Gb)=%{x}<br>RAE=%{y}<extra></extra>\",\"legendgroup\":\"NZ_CP053893.1.region003\",\"line\":{\"color\":\"#FFA15A\",\"dash\":\"solid\"},\"marker\":{\"symbol\":\"circle\"},\"mode\":\"markers+lines\",\"name\":\"NZ_CP053893.1.region003\",\"orientation\":\"v\",\"showlegend\":true,\"x\":[0.001,0.002,0.003,0.004,0.005,0.006,0.007,0.008,0.009,0.01,0.02,0.03,0.04,0.05,0.06,0.07,0.08,0.09,0.1,0.2,0.3,0.4,0.5,0.6,0.7,0.8,0.9,1.0],\"xaxis\":\"x\",\"y\":[15.859816000000002,7.429908,4.619938666666666,3.214954,2.3719632,1.8099693333333333,1.4085451428571427,1.107477,0.8733128888888888,0.6859816000000001,0.15700919999999996,0.1239877333333333,0.15700919999999996,0.01158896000000007,0.15700920000000002,0.2774364571428572,0.15700919999999996,0.2506748444444445,0.15700919999999993,0.15700919999999993,0.10080981333333336,0.19915873999999995,0.1570092,0.15700920000000002,0.18109465142857148,0.17808396999999995,0.1382760711111111,0.173869016],\"yaxis\":\"y\",\"type\":\"scatter\"},{\"hovertemplate\":\"BGC=NC_014328.1.region002<br>Sample size (Gb)=%{x}<br>RAE=%{y}<extra></extra>\",\"legendgroup\":\"NC_014328.1.region002\",\"line\":{\"color\":\"#19d3f3\",\"dash\":\"solid\"},\"marker\":{\"symbol\":\"circle\"},\"mode\":\"markers+lines\",\"name\":\"NC_014328.1.region002\",\"orientation\":\"v\",\"showlegend\":true,\"x\":[0.002,0.003,0.004,0.005,0.006,0.007,0.008,0.009,0.01,0.02,0.03,0.04,0.05,0.06,0.07,0.08,0.09,0.1,0.2,0.3,0.4,0.5,0.6,0.7,0.8,0.9,1.0],\"xaxis\":\"x\",\"y\":[7.429908,4.619938666666666,3.214954,2.3719632,1.8099693333333333,1.4085451428571427,1.107477,0.8733128888888888,0.6859816000000001,0.15700919999999996,0.4380061333333333,0.15700919999999996,0.32560735999999996,0.15700920000000002,0.2774364571428572,0.15700919999999996,0.2506748444444445,0.15700919999999993,0.24130827999999996,0.10080981333333336,0.19915873999999995,0.1570092,0.15700920000000002,0.15700920000000004,0.13593442999999994,0.17574232888888885,0.190728832],\"yaxis\":\"y\",\"type\":\"scatter\"}],                        {\"template\":{\"data\":{\"histogram2dcontour\":[{\"type\":\"histogram2dcontour\",\"colorbar\":{\"outlinewidth\":0,\"ticks\":\"\"},\"colorscale\":[[0.0,\"#0d0887\"],[0.1111111111111111,\"#46039f\"],[0.2222222222222222,\"#7201a8\"],[0.3333333333333333,\"#9c179e\"],[0.4444444444444444,\"#bd3786\"],[0.5555555555555556,\"#d8576b\"],[0.6666666666666666,\"#ed7953\"],[0.7777777777777778,\"#fb9f3a\"],[0.8888888888888888,\"#fdca26\"],[1.0,\"#f0f921\"]]}],\"choropleth\":[{\"type\":\"choropleth\",\"colorbar\":{\"outlinewidth\":0,\"ticks\":\"\"}}],\"histogram2d\":[{\"type\":\"histogram2d\",\"colorbar\":{\"outlinewidth\":0,\"ticks\":\"\"},\"colorscale\":[[0.0,\"#0d0887\"],[0.1111111111111111,\"#46039f\"],[0.2222222222222222,\"#7201a8\"],[0.3333333333333333,\"#9c179e\"],[0.4444444444444444,\"#bd3786\"],[0.5555555555555556,\"#d8576b\"],[0.6666666666666666,\"#ed7953\"],[0.7777777777777778,\"#fb9f3a\"],[0.8888888888888888,\"#fdca26\"],[1.0,\"#f0f921\"]]}],\"heatmap\":[{\"type\":\"heatmap\",\"colorbar\":{\"outlinewidth\":0,\"ticks\":\"\"},\"colorscale\":[[0.0,\"#0d0887\"],[0.1111111111111111,\"#46039f\"],[0.2222222222222222,\"#7201a8\"],[0.3333333333333333,\"#9c179e\"],[0.4444444444444444,\"#bd3786\"],[0.5555555555555556,\"#d8576b\"],[0.6666666666666666,\"#ed7953\"],[0.7777777777777778,\"#fb9f3a\"],[0.8888888888888888,\"#fdca26\"],[1.0,\"#f0f921\"]]}],\"heatmapgl\":[{\"type\":\"heatmapgl\",\"colorbar\":{\"outlinewidth\":0,\"ticks\":\"\"},\"colorscale\":[[0.0,\"#0d0887\"],[0.1111111111111111,\"#46039f\"],[0.2222222222222222,\"#7201a8\"],[0.3333333333333333,\"#9c179e\"],[0.4444444444444444,\"#bd3786\"],[0.5555555555555556,\"#d8576b\"],[0.6666666666666666,\"#ed7953\"],[0.7777777777777778,\"#fb9f3a\"],[0.8888888888888888,\"#fdca26\"],[1.0,\"#f0f921\"]]}],\"contourcarpet\":[{\"type\":\"contourcarpet\",\"colorbar\":{\"outlinewidth\":0,\"ticks\":\"\"}}],\"contour\":[{\"type\":\"contour\",\"colorbar\":{\"outlinewidth\":0,\"ticks\":\"\"},\"colorscale\":[[0.0,\"#0d0887\"],[0.1111111111111111,\"#46039f\"],[0.2222222222222222,\"#7201a8\"],[0.3333333333333333,\"#9c179e\"],[0.4444444444444444,\"#bd3786\"],[0.5555555555555556,\"#d8576b\"],[0.6666666666666666,\"#ed7953\"],[0.7777777777777778,\"#fb9f3a\"],[0.8888888888888888,\"#fdca26\"],[1.0,\"#f0f921\"]]}],\"surface\":[{\"type\":\"surface\",\"colorbar\":{\"outlinewidth\":0,\"ticks\":\"\"},\"colorscale\":[[0.0,\"#0d0887\"],[0.1111111111111111,\"#46039f\"],[0.2222222222222222,\"#7201a8\"],[0.3333333333333333,\"#9c179e\"],[0.4444444444444444,\"#bd3786\"],[0.5555555555555556,\"#d8576b\"],[0.6666666666666666,\"#ed7953\"],[0.7777777777777778,\"#fb9f3a\"],[0.8888888888888888,\"#fdca26\"],[1.0,\"#f0f921\"]]}],\"mesh3d\":[{\"type\":\"mesh3d\",\"colorbar\":{\"outlinewidth\":0,\"ticks\":\"\"}}],\"scatter\":[{\"fillpattern\":{\"fillmode\":\"overlay\",\"size\":10,\"solidity\":0.2},\"type\":\"scatter\"}],\"parcoords\":[{\"type\":\"parcoords\",\"line\":{\"colorbar\":{\"outlinewidth\":0,\"ticks\":\"\"}}}],\"scatterpolargl\":[{\"type\":\"scatterpolargl\",\"marker\":{\"colorbar\":{\"outlinewidth\":0,\"ticks\":\"\"}}}],\"bar\":[{\"error_x\":{\"color\":\"#2a3f5f\"},\"error_y\":{\"color\":\"#2a3f5f\"},\"marker\":{\"line\":{\"color\":\"#E5ECF6\",\"width\":0.5},\"pattern\":{\"fillmode\":\"overlay\",\"size\":10,\"solidity\":0.2}},\"type\":\"bar\"}],\"scattergeo\":[{\"type\":\"scattergeo\",\"marker\":{\"colorbar\":{\"outlinewidth\":0,\"ticks\":\"\"}}}],\"scatterpolar\":[{\"type\":\"scatterpolar\",\"marker\":{\"colorbar\":{\"outlinewidth\":0,\"ticks\":\"\"}}}],\"histogram\":[{\"marker\":{\"pattern\":{\"fillmode\":\"overlay\",\"size\":10,\"solidity\":0.2}},\"type\":\"histogram\"}],\"scattergl\":[{\"type\":\"scattergl\",\"marker\":{\"colorbar\":{\"outlinewidth\":0,\"ticks\":\"\"}}}],\"scatter3d\":[{\"type\":\"scatter3d\",\"line\":{\"colorbar\":{\"outlinewidth\":0,\"ticks\":\"\"}},\"marker\":{\"colorbar\":{\"outlinewidth\":0,\"ticks\":\"\"}}}],\"scattermapbox\":[{\"type\":\"scattermapbox\",\"marker\":{\"colorbar\":{\"outlinewidth\":0,\"ticks\":\"\"}}}],\"scatterternary\":[{\"type\":\"scatterternary\",\"marker\":{\"colorbar\":{\"outlinewidth\":0,\"ticks\":\"\"}}}],\"scattercarpet\":[{\"type\":\"scattercarpet\",\"marker\":{\"colorbar\":{\"outlinewidth\":0,\"ticks\":\"\"}}}],\"carpet\":[{\"aaxis\":{\"endlinecolor\":\"#2a3f5f\",\"gridcolor\":\"white\",\"linecolor\":\"white\",\"minorgridcolor\":\"white\",\"startlinecolor\":\"#2a3f5f\"},\"baxis\":{\"endlinecolor\":\"#2a3f5f\",\"gridcolor\":\"white\",\"linecolor\":\"white\",\"minorgridcolor\":\"white\",\"startlinecolor\":\"#2a3f5f\"},\"type\":\"carpet\"}],\"table\":[{\"cells\":{\"fill\":{\"color\":\"#EBF0F8\"},\"line\":{\"color\":\"white\"}},\"header\":{\"fill\":{\"color\":\"#C8D4E3\"},\"line\":{\"color\":\"white\"}},\"type\":\"table\"}],\"barpolar\":[{\"marker\":{\"line\":{\"color\":\"#E5ECF6\",\"width\":0.5},\"pattern\":{\"fillmode\":\"overlay\",\"size\":10,\"solidity\":0.2}},\"type\":\"barpolar\"}],\"pie\":[{\"automargin\":true,\"type\":\"pie\"}]},\"layout\":{\"autotypenumbers\":\"strict\",\"colorway\":[\"#636efa\",\"#EF553B\",\"#00cc96\",\"#ab63fa\",\"#FFA15A\",\"#19d3f3\",\"#FF6692\",\"#B6E880\",\"#FF97FF\",\"#FECB52\"],\"font\":{\"color\":\"#2a3f5f\"},\"hovermode\":\"closest\",\"hoverlabel\":{\"align\":\"left\"},\"paper_bgcolor\":\"white\",\"plot_bgcolor\":\"#E5ECF6\",\"polar\":{\"bgcolor\":\"#E5ECF6\",\"angularaxis\":{\"gridcolor\":\"white\",\"linecolor\":\"white\",\"ticks\":\"\"},\"radialaxis\":{\"gridcolor\":\"white\",\"linecolor\":\"white\",\"ticks\":\"\"}},\"ternary\":{\"bgcolor\":\"#E5ECF6\",\"aaxis\":{\"gridcolor\":\"white\",\"linecolor\":\"white\",\"ticks\":\"\"},\"baxis\":{\"gridcolor\":\"white\",\"linecolor\":\"white\",\"ticks\":\"\"},\"caxis\":{\"gridcolor\":\"white\",\"linecolor\":\"white\",\"ticks\":\"\"}},\"coloraxis\":{\"colorbar\":{\"outlinewidth\":0,\"ticks\":\"\"}},\"colorscale\":{\"sequential\":[[0.0,\"#0d0887\"],[0.1111111111111111,\"#46039f\"],[0.2222222222222222,\"#7201a8\"],[0.3333333333333333,\"#9c179e\"],[0.4444444444444444,\"#bd3786\"],[0.5555555555555556,\"#d8576b\"],[0.6666666666666666,\"#ed7953\"],[0.7777777777777778,\"#fb9f3a\"],[0.8888888888888888,\"#fdca26\"],[1.0,\"#f0f921\"]],\"sequentialminus\":[[0.0,\"#0d0887\"],[0.1111111111111111,\"#46039f\"],[0.2222222222222222,\"#7201a8\"],[0.3333333333333333,\"#9c179e\"],[0.4444444444444444,\"#bd3786\"],[0.5555555555555556,\"#d8576b\"],[0.6666666666666666,\"#ed7953\"],[0.7777777777777778,\"#fb9f3a\"],[0.8888888888888888,\"#fdca26\"],[1.0,\"#f0f921\"]],\"diverging\":[[0,\"#8e0152\"],[0.1,\"#c51b7d\"],[0.2,\"#de77ae\"],[0.3,\"#f1b6da\"],[0.4,\"#fde0ef\"],[0.5,\"#f7f7f7\"],[0.6,\"#e6f5d0\"],[0.7,\"#b8e186\"],[0.8,\"#7fbc41\"],[0.9,\"#4d9221\"],[1,\"#276419\"]]},\"xaxis\":{\"gridcolor\":\"white\",\"linecolor\":\"white\",\"ticks\":\"\",\"title\":{\"standoff\":15},\"zerolinecolor\":\"white\",\"automargin\":true,\"zerolinewidth\":2},\"yaxis\":{\"gridcolor\":\"white\",\"linecolor\":\"white\",\"ticks\":\"\",\"title\":{\"standoff\":15},\"zerolinecolor\":\"white\",\"automargin\":true,\"zerolinewidth\":2},\"scene\":{\"xaxis\":{\"backgroundcolor\":\"#E5ECF6\",\"gridcolor\":\"white\",\"linecolor\":\"white\",\"showbackground\":true,\"ticks\":\"\",\"zerolinecolor\":\"white\",\"gridwidth\":2},\"yaxis\":{\"backgroundcolor\":\"#E5ECF6\",\"gridcolor\":\"white\",\"linecolor\":\"white\",\"showbackground\":true,\"ticks\":\"\",\"zerolinecolor\":\"white\",\"gridwidth\":2},\"zaxis\":{\"backgroundcolor\":\"#E5ECF6\",\"gridcolor\":\"white\",\"linecolor\":\"white\",\"showbackground\":true,\"ticks\":\"\",\"zerolinecolor\":\"white\",\"gridwidth\":2}},\"shapedefaults\":{\"line\":{\"color\":\"#2a3f5f\"}},\"annotationdefaults\":{\"arrowcolor\":\"#2a3f5f\",\"arrowhead\":0,\"arrowwidth\":1},\"geo\":{\"bgcolor\":\"white\",\"landcolor\":\"#E5ECF6\",\"subunitcolor\":\"white\",\"showland\":true,\"showlakes\":true,\"lakecolor\":\"white\"},\"title\":{\"x\":0.05},\"mapbox\":{\"style\":\"light\"}}},\"xaxis\":{\"anchor\":\"y\",\"domain\":[0.0,1.0],\"title\":{\"text\":\"Sample size (Gb)\"},\"range\":[0,0.3]},\"yaxis\":{\"anchor\":\"x\",\"domain\":[0.0,1.0],\"title\":{\"text\":\"RAE\"},\"range\":[0,4]},\"legend\":{\"title\":{\"text\":\"BGC\"},\"tracegroupgap\":0},\"title\":{\"text\":\"Per BGC quantification errors<br><sup>Quantification By mapping<sup>\"}},                        {\"responsive\": true}                    ).then(function(){\n",
       "                            \n",
       "var gd = document.getElementById('1344478a-60fc-4656-b764-2d0fd3953abd');\n",
       "var x = new MutationObserver(function (mutations, observer) {{\n",
       "        var display = window.getComputedStyle(gd).display;\n",
       "        if (!display || display === 'none') {{\n",
       "            console.log([gd, 'removed!']);\n",
       "            Plotly.purge(gd);\n",
       "            observer.disconnect();\n",
       "        }}\n",
       "}});\n",
       "\n",
       "// Listen for the removal of the full notebook cells\n",
       "var notebookContainer = gd.closest('#notebook-container');\n",
       "if (notebookContainer) {{\n",
       "    x.observe(notebookContainer, {childList: true});\n",
       "}}\n",
       "\n",
       "// Listen for the clearing of the current output cell\n",
       "var outputEl = gd.closest('.output');\n",
       "if (outputEl) {{\n",
       "    x.observe(outputEl, {childList: true});\n",
       "}}\n",
       "\n",
       "                        })                };                });            </script>        </div>"
      ]
     },
     "metadata": {},
     "output_type": "display_data"
    }
   ],
   "source": [
    "fig = px.line(df_summary.sort_values(\"readsGB\"), x=\"readsGB\",y=\"RAE\", color=\"Contig\",\n",
    "        labels={\"value\": \"Error\", \"readsGB\": \"Sample size (Gb)\",\"Contig\":\"BGC\"},\n",
    "              markers=True,\n",
    "             title=\"Per BGC quantification errors<br><sup>Quantification By mapping<sup>\")\n",
    "fig.update_layout(xaxis_range=[0,0.35], yaxis_range=[0,4])"
   ]
  },
  {
   "cell_type": "code",
   "execution_count": 73,
   "metadata": {},
   "outputs": [
    {
     "data": {
      "text/html": [
       "<div>\n",
       "<style scoped>\n",
       "    .dataframe tbody tr th:only-of-type {\n",
       "        vertical-align: middle;\n",
       "    }\n",
       "\n",
       "    .dataframe tbody tr th {\n",
       "        vertical-align: top;\n",
       "    }\n",
       "\n",
       "    .dataframe thead th {\n",
       "        text-align: right;\n",
       "    }\n",
       "</style>\n",
       "<table border=\"1\" class=\"dataframe\">\n",
       "  <thead>\n",
       "    <tr style=\"text-align: right;\">\n",
       "      <th></th>\n",
       "      <th>Contig</th>\n",
       "      <th>Breadth</th>\n",
       "      <th>Depth avg</th>\n",
       "      <th>Depth median</th>\n",
       "      <th>readsGB</th>\n",
       "      <th>expected_value</th>\n",
       "      <th>expected_value_int</th>\n",
       "      <th>AE</th>\n",
       "      <th>RAE</th>\n",
       "    </tr>\n",
       "  </thead>\n",
       "  <tbody>\n",
       "    <tr>\n",
       "      <th>0</th>\n",
       "      <td>NC_014328.1.region004</td>\n",
       "      <td>1.0</td>\n",
       "      <td>25.510923</td>\n",
       "      <td>24.0</td>\n",
       "      <td>0.5</td>\n",
       "      <td>29.656314</td>\n",
       "      <td>30.0</td>\n",
       "      <td>5.656314</td>\n",
       "      <td>0.190729</td>\n",
       "    </tr>\n",
       "  </tbody>\n",
       "</table>\n",
       "</div>"
      ],
      "text/plain": [
       "                  Contig  Breadth  Depth avg  Depth median  readsGB  \\\n",
       "0  NC_014328.1.region004      1.0  25.510923          24.0      0.5   \n",
       "\n",
       "   expected_value  expected_value_int        AE       RAE  \n",
       "0       29.656314                30.0  5.656314  0.190729  "
      ]
     },
     "execution_count": 73,
     "metadata": {},
     "output_type": "execute_result"
    }
   ],
   "source": [
    "df_summary.head(1)"
   ]
  },
  {
   "cell_type": "code",
   "execution_count": 104,
   "metadata": {},
   "outputs": [],
   "source": [
    "import plotly.graph_objects as go"
   ]
  },
  {
   "cell_type": "code",
   "execution_count": 104,
   "metadata": {},
   "outputs": [],
   "source": []
  },
  {
   "cell_type": "code",
   "execution_count": 124,
   "metadata": {},
   "outputs": [
    {
     "data": {
      "application/vnd.plotly.v1+json": {
       "config": {
        "plotlyServerURL": "https://plot.ly"
       },
       "data": [
        {
         "hovertemplate": "Sample size (Gb)=%{x}<br>std_res=%{y}<extra></extra>",
         "legendgroup": "",
         "marker": {
          "color": "#636efa",
          "symbol": "circle"
         },
         "mode": "markers",
         "name": "",
         "orientation": "v",
         "showlegend": false,
         "type": "scatter",
         "x": [
          0.5,
          0.5,
          0.5,
          0.5,
          0.5,
          0.5,
          0.5,
          0.5,
          0.5,
          0.5,
          0.5,
          0.5,
          0.5,
          0.5,
          0.5,
          0.5,
          0.9,
          0.9,
          0.9,
          0.9,
          0.9,
          0.9,
          0.9,
          0.9,
          0.9,
          0.9,
          0.9,
          0.9,
          0.9,
          0.9,
          0.9,
          0.9,
          0.01,
          0.01,
          0.01,
          0.01,
          0.01,
          0.01,
          0.01,
          0.01,
          0.01,
          0.01,
          0.01,
          0.01,
          0.01,
          0.01,
          0.01,
          0.01,
          0.07,
          0.07,
          0.07,
          0.07,
          0.07,
          0.07,
          0.07,
          0.07,
          0.07,
          0.07,
          0.07,
          0.07,
          0.07,
          0.07,
          0.07,
          0.07,
          0.02,
          0.02,
          0.02,
          0.02,
          0.02,
          0.02,
          0.02,
          0.02,
          0.02,
          0.02,
          0.02,
          0.02,
          0.02,
          0.02,
          0.02,
          0.02,
          0.09,
          0.09,
          0.09,
          0.09,
          0.09,
          0.09,
          0.09,
          0.09,
          0.09,
          0.09,
          0.09,
          0.09,
          0.09,
          0.09,
          0.09,
          0.09,
          0.007,
          0.007,
          0.007,
          0.007,
          0.007,
          0.007,
          0.007,
          0.007,
          0.007,
          0.007,
          0.007,
          0.007,
          0.007,
          0.007,
          0.007,
          0.007,
          0.006,
          0.006,
          0.006,
          0.006,
          0.006,
          0.006,
          0.006,
          0.006,
          0.006,
          0.006,
          0.006,
          0.006,
          0.006,
          0.006,
          0.006,
          0.006,
          0.6,
          0.6,
          0.6,
          0.6,
          0.6,
          0.6,
          0.6,
          0.6,
          0.6,
          0.6,
          0.6,
          0.6,
          0.6,
          0.6,
          0.6,
          0.6,
          0.08,
          0.08,
          0.08,
          0.08,
          0.08,
          0.08,
          0.08,
          0.08,
          0.08,
          0.08,
          0.08,
          0.08,
          0.08,
          0.08,
          0.08,
          0.08,
          0.04,
          0.04,
          0.04,
          0.04,
          0.04,
          0.04,
          0.04,
          0.04,
          0.04,
          0.04,
          0.04,
          0.04,
          0.04,
          0.04,
          0.04,
          0.04,
          0.05,
          0.05,
          0.05,
          0.05,
          0.05,
          0.05,
          0.05,
          0.05,
          0.05,
          0.05,
          0.05,
          0.05,
          0.05,
          0.05,
          0.05,
          0.05,
          1,
          1,
          1,
          1,
          1,
          1,
          1,
          1,
          1,
          1,
          1,
          1,
          1,
          1,
          1,
          1,
          0.03,
          0.03,
          0.03,
          0.03,
          0.03,
          0.03,
          0.03,
          0.03,
          0.03,
          0.03,
          0.03,
          0.03,
          0.03,
          0.03,
          0.03,
          0.03,
          0.004,
          0.004,
          0.004,
          0.004,
          0.004,
          0.004,
          0.004,
          0.004,
          0.004,
          0.004,
          0.004,
          0.004,
          0.004,
          0.004,
          0.004,
          0.004,
          0.002,
          0.002,
          0.002,
          0.002,
          0.002,
          0.002,
          0.002,
          0.002,
          0.002,
          0.002,
          0.002,
          0.002,
          0.002,
          0.002,
          0.002,
          0.002,
          0.009,
          0.009,
          0.009,
          0.009,
          0.009,
          0.009,
          0.009,
          0.009,
          0.009,
          0.009,
          0.009,
          0.009,
          0.009,
          0.009,
          0.009,
          0.009,
          0.7,
          0.7,
          0.7,
          0.7,
          0.7,
          0.7,
          0.7,
          0.7,
          0.7,
          0.7,
          0.7,
          0.7,
          0.7,
          0.7,
          0.7,
          0.7,
          0.8,
          0.8,
          0.8,
          0.8,
          0.8,
          0.8,
          0.8,
          0.8,
          0.8,
          0.8,
          0.8,
          0.8,
          0.8,
          0.8,
          0.8,
          0.8,
          0.2,
          0.2,
          0.2,
          0.2,
          0.2,
          0.2,
          0.2,
          0.2,
          0.2,
          0.2,
          0.2,
          0.2,
          0.2,
          0.2,
          0.2,
          0.2,
          0.1,
          0.1,
          0.1,
          0.1,
          0.1,
          0.1,
          0.1,
          0.1,
          0.1,
          0.1,
          0.1,
          0.1,
          0.1,
          0.1,
          0.1,
          0.1,
          0.001,
          0.001,
          0.001,
          0.001,
          0.001,
          0.001,
          0.001,
          0.001,
          0.001,
          0.001,
          0.001,
          0.001,
          0.001,
          0.001,
          0.001,
          0.3,
          0.3,
          0.3,
          0.3,
          0.3,
          0.3,
          0.3,
          0.3,
          0.3,
          0.3,
          0.3,
          0.3,
          0.3,
          0.3,
          0.3,
          0.3,
          0.005,
          0.005,
          0.005,
          0.005,
          0.005,
          0.005,
          0.005,
          0.005,
          0.005,
          0.005,
          0.005,
          0.005,
          0.005,
          0.005,
          0.005,
          0.005,
          0.008,
          0.008,
          0.008,
          0.008,
          0.008,
          0.008,
          0.008,
          0.008,
          0.008,
          0.008,
          0.008,
          0.008,
          0.008,
          0.008,
          0.008,
          0.008,
          0.06,
          0.06,
          0.06,
          0.06,
          0.06,
          0.06,
          0.06,
          0.06,
          0.06,
          0.06,
          0.06,
          0.06,
          0.06,
          0.06,
          0.06,
          0.06,
          0.003,
          0.003,
          0.003,
          0.003,
          0.003,
          0.003,
          0.003,
          0.003,
          0.003,
          0.003,
          0.003,
          0.003,
          0.003,
          0.003,
          0.003,
          0.003,
          0.4,
          0.4,
          0.4,
          0.4,
          0.4,
          0.4,
          0.4,
          0.4,
          0.4,
          0.4,
          0.4,
          0.4,
          0.4,
          0.4,
          0.4,
          0.4
         ],
         "xaxis": "x",
         "y": [
          -1.8505504443587364,
          -1.523385016211968,
          -1.1962195880651993,
          -1.523385016211968,
          -1.523385016211968,
          -0.869054159918431,
          -1.8505504443587364,
          -1.1962195880651993,
          -0.869054159918431,
          -1.523385016211968,
          -1.523385016211968,
          -1.1962195880651993,
          -1.8505504443587364,
          -1.523385016211968,
          -1.8505504443587364,
          -1.8505504443587364,
          -2.7420930291815417,
          -2.7420930291815417,
          -2.414927601034773,
          -2.414927601034773,
          -2.414927601034773,
          -1.7605967447412365,
          -2.7420930291815417,
          -2.7420930291815417,
          -2.414927601034773,
          -2.7420930291815417,
          -2.7420930291815417,
          -2.087762172888005,
          -3.0692584573283104,
          -3.0692584573283104,
          -2.7420930291815417,
          -2.414927601034773,
          0.13311501374914486,
          0.13311501374914486,
          0.13311501374914486,
          0.13311501374914486,
          0.13311501374914486,
          0.46028044189591333,
          0.13311501374914486,
          0.13311501374914486,
          0.13311501374914486,
          0.13311501374914486,
          0.13311501374914486,
          0.13311501374914486,
          0.13311501374914486,
          0.13311501374914486,
          0.13311501374914486,
          0.13311501374914486,
          -0.3768566163430599,
          -0.3768566163430599,
          -0.04969118819629144,
          -0.04969118819629144,
          -0.3768566163430599,
          0.277474239950477,
          -0.3768566163430599,
          -0.04969118819629144,
          -0.04969118819629144,
          -0.04969118819629144,
          -0.3768566163430599,
          -0.3768566163430599,
          -0.04969118819629144,
          -0.3768566163430599,
          -0.3768566163430599,
          -0.04969118819629144,
          -0.06093540064847871,
          0.2662300274982897,
          -0.06093540064847871,
          -0.06093540064847871,
          -0.06093540064847871,
          0.2662300274982897,
          -0.06093540064847871,
          -0.06093540064847871,
          0.2662300274982897,
          -0.06093540064847871,
          0.2662300274982897,
          0.2662300274982897,
          -0.06093540064847871,
          -0.06093540064847871,
          0.2662300274982897,
          -0.06093540064847871,
          -0.11062658884477007,
          -0.4377920169915385,
          -0.4377920169915385,
          -0.11062658884477007,
          -0.4377920169915385,
          0.21653883930199835,
          -0.4377920169915385,
          -0.11062658884477007,
          -0.11062658884477007,
          -0.4377920169915385,
          -0.11062658884477007,
          -0.11062658884477007,
          -0.4377920169915385,
          -0.4377920169915385,
          -0.4377920169915385,
          -0.4377920169915385,
          0.1913301380684319,
          0.1913301380684319,
          0.1913301380684319,
          0.1913301380684319,
          0.1913301380684319,
          1.1728264225087373,
          0.1913301380684319,
          0.1913301380684319,
          0.1913301380684319,
          0.1913301380684319,
          0.1913301380684319,
          0.1913301380684319,
          0.1913301380684319,
          0.1913301380684319,
          0.1913301380684319,
          0.1913301380684319,
          0.2107351795081943,
          0.2107351795081943,
          0.2107351795081943,
          0.2107351795081943,
          0.2107351795081943,
          1.1922314639484994,
          0.2107351795081943,
          0.2107351795081943,
          0.2107351795081943,
          0.2107351795081943,
          0.2107351795081943,
          0.2107351795081943,
          0.2107351795081943,
          0.2107351795081943,
          0.2107351795081943,
          0.2107351795081943,
          -1.828062019454362,
          -1.828062019454362,
          -1.1737311631608252,
          -2.1552274476011304,
          -1.828062019454362,
          -0.8465657350140566,
          -2.1552274476011304,
          -2.1552274476011304,
          -1.1737311631608252,
          -1.828062019454362,
          -1.828062019454362,
          -1.5008965913075936,
          -2.1552274476011304,
          -1.828062019454362,
          -2.1552274476011304,
          -1.828062019454362,
          -0.24374160259391484,
          -0.24374160259391484,
          -0.24374160259391484,
          -0.24374160259391484,
          -0.24374160259391484,
          0.0834238255528536,
          -0.24374160259391484,
          -0.24374160259391484,
          -0.24374160259391484,
          -0.24374160259391484,
          -0.24374160259391484,
          -0.24374160259391484,
          -0.24374160259391484,
          -0.24374160259391484,
          -0.24374160259391484,
          -0.24374160259391484,
          -0.12187080129695742,
          -0.12187080129695742,
          -0.12187080129695742,
          -0.12187080129695742,
          -0.12187080129695742,
          0.205294626849811,
          -0.12187080129695742,
          -0.12187080129695742,
          0.205294626849811,
          -0.12187080129695742,
          -0.12187080129695742,
          -0.12187080129695742,
          -0.12187080129695742,
          -0.12187080129695742,
          -0.12187080129695742,
          -0.12187080129695742,
          0.011244212452187485,
          0.011244212452187485,
          0.011244212452187485,
          0.011244212452187485,
          0.011244212452187485,
          0.011244212452187485,
          0.011244212452187485,
          0.011244212452187485,
          0.011244212452187485,
          0.011244212452187485,
          -0.3159212156945809,
          0.011244212452187485,
          0.011244212452187485,
          -0.3159212156945809,
          -0.3159212156945809,
          0.011244212452187485,
          -3.046770032423936,
          -2.7196046042771673,
          -3.046770032423936,
          -2.7196046042771673,
          -3.373935460570704,
          -1.738108319836862,
          -3.373935460570704,
          -2.3924391761303987,
          -1.738108319836862,
          -3.046770032423936,
          -3.046770032423936,
          -2.7196046042771673,
          -3.046770032423936,
          -3.701100888717473,
          -3.046770032423936,
          -3.373935460570704,
          0.07217961310066612,
          0.07217961310066612,
          0.07217961310066612,
          0.07217961310066612,
          0.07217961310066612,
          0.07217961310066612,
          0.07217961310066612,
          0.07217961310066612,
          0.07217961310066612,
          0.07217961310066612,
          0.07217961310066612,
          0.07217961310066612,
          0.07217961310066612,
          -0.2549858150461023,
          0.07217961310066612,
          0.07217961310066612,
          0.249545262387719,
          0.249545262387719,
          0.249545262387719,
          0.249545262387719,
          0.249545262387719,
          0.903876118681256,
          0.249545262387719,
          0.249545262387719,
          0.249545262387719,
          0.249545262387719,
          0.249545262387719,
          0.249545262387719,
          0.249545262387719,
          0.249545262387719,
          0.249545262387719,
          0.249545262387719,
          0.2883553452672437,
          0.2883553452672437,
          0.2883553452672437,
          0.2883553452672437,
          0.2883553452672437,
          0.6155207734140122,
          0.2883553452672437,
          0.2883553452672437,
          0.2883553452672437,
          0.2883553452672437,
          0.2883553452672437,
          0.2883553452672437,
          0.2883553452672437,
          0.2883553452672437,
          0.2883553452672437,
          0.2883553452672437,
          0.1525200551889072,
          0.1525200551889072,
          0.1525200551889072,
          0.1525200551889072,
          0.1525200551889072,
          0.8068509114824441,
          0.1525200551889072,
          0.1525200551889072,
          0.1525200551889072,
          0.1525200551889072,
          0.1525200551889072,
          0.1525200551889072,
          0.1525200551889072,
          0.1525200551889072,
          0.1525200551889072,
          0.1525200551889072,
          -2.132739022696756,
          -2.132739022696756,
          -1.8055735945499876,
          -2.4599044508435246,
          -2.4599044508435246,
          -1.4784081664032191,
          -2.132739022696756,
          -2.132739022696756,
          -1.1512427382564507,
          -2.132739022696756,
          -2.132739022696756,
          -2.132739022696756,
          -2.132739022696756,
          -2.132739022696756,
          -2.4599044508435246,
          -1.4784081664032191,
          -2.764581454085916,
          -2.764581454085916,
          -2.764581454085916,
          -1.783085169645611,
          -2.764581454085916,
          -1.4559197414988423,
          -2.4374160259391475,
          -2.4374160259391475,
          -1.4559197414988423,
          -2.1102505977923793,
          -2.764581454085916,
          -2.4374160259391475,
          -2.764581454085916,
          -2.1102505977923793,
          -2.4374160259391475,
          -2.764581454085916,
          -0.6093540064847869,
          -0.6093540064847869,
          -0.6093540064847869,
          -0.6093540064847869,
          -0.6093540064847869,
          0.04497684980874994,
          -0.6093540064847869,
          -0.6093540064847869,
          0.04497684980874994,
          -0.9365194346315554,
          -0.6093540064847869,
          -0.6093540064847869,
          -0.9365194346315554,
          -0.9365194346315554,
          -0.9365194346315554,
          -0.9365194346315554,
          -0.30467700324239344,
          -0.30467700324239344,
          -0.30467700324239344,
          -0.30467700324239344,
          -0.30467700324239344,
          0.02248842490437497,
          -0.30467700324239344,
          -0.30467700324239344,
          0.02248842490437497,
          -0.6318424313891619,
          -0.30467700324239344,
          -0.30467700324239344,
          -0.30467700324239344,
          -0.30467700324239344,
          -0.30467700324239344,
          -0.6318424313891619,
          0.3077603867070061,
          0.3077603867070061,
          0.3077603867070061,
          0.3077603867070061,
          0.3077603867070061,
          0.3077603867070061,
          0.3077603867070061,
          0.3077603867070061,
          0.3077603867070061,
          0.3077603867070061,
          0.3077603867070061,
          0.3077603867070061,
          0.3077603867070061,
          0.3077603867070061,
          0.3077603867070061,
          -1.2411964378739493,
          -1.2411964378739493,
          -0.914031009727181,
          -0.914031009727181,
          -0.5868655815804126,
          -0.5868655815804126,
          -1.2411964378739493,
          -0.914031009727181,
          -0.2597001534336441,
          -0.914031009727181,
          -0.914031009727181,
          -1.2411964378739493,
          -0.914031009727181,
          -0.5868655815804126,
          -0.914031009727181,
          -0.914031009727181,
          0.23014022094795666,
          0.23014022094795666,
          0.23014022094795666,
          0.23014022094795666,
          0.23014022094795666,
          0.8844710772414934,
          0.23014022094795666,
          0.23014022094795666,
          0.23014022094795666,
          0.23014022094795666,
          0.23014022094795666,
          0.23014022094795666,
          0.23014022094795666,
          0.23014022094795666,
          0.23014022094795666,
          0.23014022094795666,
          0.1719250966286696,
          0.1719250966286696,
          0.1719250966286696,
          0.1719250966286696,
          0.1719250966286696,
          0.499090524775438,
          0.1719250966286696,
          0.1719250966286696,
          0.1719250966286696,
          0.1719250966286696,
          0.1719250966286696,
          0.1719250966286696,
          0.1719250966286696,
          0.1719250966286696,
          0.1719250966286696,
          0.1719250966286696,
          -0.1828062019454362,
          -0.1828062019454362,
          -0.1828062019454362,
          -0.1828062019454362,
          -0.1828062019454362,
          0.14435922620133224,
          -0.1828062019454362,
          -0.1828062019454362,
          0.14435922620133224,
          -0.1828062019454362,
          -0.1828062019454362,
          -0.1828062019454362,
          -0.1828062019454362,
          -0.1828062019454362,
          -0.1828062019454362,
          -0.1828062019454362,
          0.26895030382748136,
          0.26895030382748136,
          0.26895030382748136,
          0.26895030382748136,
          0.26895030382748136,
          0.5961157319742497,
          0.26895030382748136,
          0.26895030382748136,
          0.26895030382748136,
          0.26895030382748136,
          0.26895030382748136,
          0.26895030382748136,
          0.26895030382748136,
          0.26895030382748136,
          0.26895030382748136,
          0.26895030382748136,
          -0.8915425848228055,
          -1.5458734411163422,
          -1.2187080129695738,
          -1.2187080129695738,
          -1.5458734411163422,
          -0.8915425848228055,
          -1.2187080129695738,
          -1.2187080129695738,
          -0.8915425848228055,
          -1.2187080129695738,
          -1.2187080129695738,
          -1.5458734411163422,
          -1.5458734411163422,
          -1.5458734411163422,
          -1.5458734411163422,
          -0.8915425848228055
         ],
         "yaxis": "y"
        }
       ],
       "layout": {
        "legend": {
         "tracegroupgap": 0
        },
        "template": {
         "data": {
          "bar": [
           {
            "error_x": {
             "color": "#2a3f5f"
            },
            "error_y": {
             "color": "#2a3f5f"
            },
            "marker": {
             "line": {
              "color": "#E5ECF6",
              "width": 0.5
             },
             "pattern": {
              "fillmode": "overlay",
              "size": 10,
              "solidity": 0.2
             }
            },
            "type": "bar"
           }
          ],
          "barpolar": [
           {
            "marker": {
             "line": {
              "color": "#E5ECF6",
              "width": 0.5
             },
             "pattern": {
              "fillmode": "overlay",
              "size": 10,
              "solidity": 0.2
             }
            },
            "type": "barpolar"
           }
          ],
          "carpet": [
           {
            "aaxis": {
             "endlinecolor": "#2a3f5f",
             "gridcolor": "white",
             "linecolor": "white",
             "minorgridcolor": "white",
             "startlinecolor": "#2a3f5f"
            },
            "baxis": {
             "endlinecolor": "#2a3f5f",
             "gridcolor": "white",
             "linecolor": "white",
             "minorgridcolor": "white",
             "startlinecolor": "#2a3f5f"
            },
            "type": "carpet"
           }
          ],
          "choropleth": [
           {
            "colorbar": {
             "outlinewidth": 0,
             "ticks": ""
            },
            "type": "choropleth"
           }
          ],
          "contour": [
           {
            "colorbar": {
             "outlinewidth": 0,
             "ticks": ""
            },
            "colorscale": [
             [
              0,
              "#0d0887"
             ],
             [
              0.1111111111111111,
              "#46039f"
             ],
             [
              0.2222222222222222,
              "#7201a8"
             ],
             [
              0.3333333333333333,
              "#9c179e"
             ],
             [
              0.4444444444444444,
              "#bd3786"
             ],
             [
              0.5555555555555556,
              "#d8576b"
             ],
             [
              0.6666666666666666,
              "#ed7953"
             ],
             [
              0.7777777777777778,
              "#fb9f3a"
             ],
             [
              0.8888888888888888,
              "#fdca26"
             ],
             [
              1,
              "#f0f921"
             ]
            ],
            "type": "contour"
           }
          ],
          "contourcarpet": [
           {
            "colorbar": {
             "outlinewidth": 0,
             "ticks": ""
            },
            "type": "contourcarpet"
           }
          ],
          "heatmap": [
           {
            "colorbar": {
             "outlinewidth": 0,
             "ticks": ""
            },
            "colorscale": [
             [
              0,
              "#0d0887"
             ],
             [
              0.1111111111111111,
              "#46039f"
             ],
             [
              0.2222222222222222,
              "#7201a8"
             ],
             [
              0.3333333333333333,
              "#9c179e"
             ],
             [
              0.4444444444444444,
              "#bd3786"
             ],
             [
              0.5555555555555556,
              "#d8576b"
             ],
             [
              0.6666666666666666,
              "#ed7953"
             ],
             [
              0.7777777777777778,
              "#fb9f3a"
             ],
             [
              0.8888888888888888,
              "#fdca26"
             ],
             [
              1,
              "#f0f921"
             ]
            ],
            "type": "heatmap"
           }
          ],
          "heatmapgl": [
           {
            "colorbar": {
             "outlinewidth": 0,
             "ticks": ""
            },
            "colorscale": [
             [
              0,
              "#0d0887"
             ],
             [
              0.1111111111111111,
              "#46039f"
             ],
             [
              0.2222222222222222,
              "#7201a8"
             ],
             [
              0.3333333333333333,
              "#9c179e"
             ],
             [
              0.4444444444444444,
              "#bd3786"
             ],
             [
              0.5555555555555556,
              "#d8576b"
             ],
             [
              0.6666666666666666,
              "#ed7953"
             ],
             [
              0.7777777777777778,
              "#fb9f3a"
             ],
             [
              0.8888888888888888,
              "#fdca26"
             ],
             [
              1,
              "#f0f921"
             ]
            ],
            "type": "heatmapgl"
           }
          ],
          "histogram": [
           {
            "marker": {
             "pattern": {
              "fillmode": "overlay",
              "size": 10,
              "solidity": 0.2
             }
            },
            "type": "histogram"
           }
          ],
          "histogram2d": [
           {
            "colorbar": {
             "outlinewidth": 0,
             "ticks": ""
            },
            "colorscale": [
             [
              0,
              "#0d0887"
             ],
             [
              0.1111111111111111,
              "#46039f"
             ],
             [
              0.2222222222222222,
              "#7201a8"
             ],
             [
              0.3333333333333333,
              "#9c179e"
             ],
             [
              0.4444444444444444,
              "#bd3786"
             ],
             [
              0.5555555555555556,
              "#d8576b"
             ],
             [
              0.6666666666666666,
              "#ed7953"
             ],
             [
              0.7777777777777778,
              "#fb9f3a"
             ],
             [
              0.8888888888888888,
              "#fdca26"
             ],
             [
              1,
              "#f0f921"
             ]
            ],
            "type": "histogram2d"
           }
          ],
          "histogram2dcontour": [
           {
            "colorbar": {
             "outlinewidth": 0,
             "ticks": ""
            },
            "colorscale": [
             [
              0,
              "#0d0887"
             ],
             [
              0.1111111111111111,
              "#46039f"
             ],
             [
              0.2222222222222222,
              "#7201a8"
             ],
             [
              0.3333333333333333,
              "#9c179e"
             ],
             [
              0.4444444444444444,
              "#bd3786"
             ],
             [
              0.5555555555555556,
              "#d8576b"
             ],
             [
              0.6666666666666666,
              "#ed7953"
             ],
             [
              0.7777777777777778,
              "#fb9f3a"
             ],
             [
              0.8888888888888888,
              "#fdca26"
             ],
             [
              1,
              "#f0f921"
             ]
            ],
            "type": "histogram2dcontour"
           }
          ],
          "mesh3d": [
           {
            "colorbar": {
             "outlinewidth": 0,
             "ticks": ""
            },
            "type": "mesh3d"
           }
          ],
          "parcoords": [
           {
            "line": {
             "colorbar": {
              "outlinewidth": 0,
              "ticks": ""
             }
            },
            "type": "parcoords"
           }
          ],
          "pie": [
           {
            "automargin": true,
            "type": "pie"
           }
          ],
          "scatter": [
           {
            "fillpattern": {
             "fillmode": "overlay",
             "size": 10,
             "solidity": 0.2
            },
            "type": "scatter"
           }
          ],
          "scatter3d": [
           {
            "line": {
             "colorbar": {
              "outlinewidth": 0,
              "ticks": ""
             }
            },
            "marker": {
             "colorbar": {
              "outlinewidth": 0,
              "ticks": ""
             }
            },
            "type": "scatter3d"
           }
          ],
          "scattercarpet": [
           {
            "marker": {
             "colorbar": {
              "outlinewidth": 0,
              "ticks": ""
             }
            },
            "type": "scattercarpet"
           }
          ],
          "scattergeo": [
           {
            "marker": {
             "colorbar": {
              "outlinewidth": 0,
              "ticks": ""
             }
            },
            "type": "scattergeo"
           }
          ],
          "scattergl": [
           {
            "marker": {
             "colorbar": {
              "outlinewidth": 0,
              "ticks": ""
             }
            },
            "type": "scattergl"
           }
          ],
          "scattermapbox": [
           {
            "marker": {
             "colorbar": {
              "outlinewidth": 0,
              "ticks": ""
             }
            },
            "type": "scattermapbox"
           }
          ],
          "scatterpolar": [
           {
            "marker": {
             "colorbar": {
              "outlinewidth": 0,
              "ticks": ""
             }
            },
            "type": "scatterpolar"
           }
          ],
          "scatterpolargl": [
           {
            "marker": {
             "colorbar": {
              "outlinewidth": 0,
              "ticks": ""
             }
            },
            "type": "scatterpolargl"
           }
          ],
          "scatterternary": [
           {
            "marker": {
             "colorbar": {
              "outlinewidth": 0,
              "ticks": ""
             }
            },
            "type": "scatterternary"
           }
          ],
          "surface": [
           {
            "colorbar": {
             "outlinewidth": 0,
             "ticks": ""
            },
            "colorscale": [
             [
              0,
              "#0d0887"
             ],
             [
              0.1111111111111111,
              "#46039f"
             ],
             [
              0.2222222222222222,
              "#7201a8"
             ],
             [
              0.3333333333333333,
              "#9c179e"
             ],
             [
              0.4444444444444444,
              "#bd3786"
             ],
             [
              0.5555555555555556,
              "#d8576b"
             ],
             [
              0.6666666666666666,
              "#ed7953"
             ],
             [
              0.7777777777777778,
              "#fb9f3a"
             ],
             [
              0.8888888888888888,
              "#fdca26"
             ],
             [
              1,
              "#f0f921"
             ]
            ],
            "type": "surface"
           }
          ],
          "table": [
           {
            "cells": {
             "fill": {
              "color": "#EBF0F8"
             },
             "line": {
              "color": "white"
             }
            },
            "header": {
             "fill": {
              "color": "#C8D4E3"
             },
             "line": {
              "color": "white"
             }
            },
            "type": "table"
           }
          ]
         },
         "layout": {
          "annotationdefaults": {
           "arrowcolor": "#2a3f5f",
           "arrowhead": 0,
           "arrowwidth": 1
          },
          "autotypenumbers": "strict",
          "coloraxis": {
           "colorbar": {
            "outlinewidth": 0,
            "ticks": ""
           }
          },
          "colorscale": {
           "diverging": [
            [
             0,
             "#8e0152"
            ],
            [
             0.1,
             "#c51b7d"
            ],
            [
             0.2,
             "#de77ae"
            ],
            [
             0.3,
             "#f1b6da"
            ],
            [
             0.4,
             "#fde0ef"
            ],
            [
             0.5,
             "#f7f7f7"
            ],
            [
             0.6,
             "#e6f5d0"
            ],
            [
             0.7,
             "#b8e186"
            ],
            [
             0.8,
             "#7fbc41"
            ],
            [
             0.9,
             "#4d9221"
            ],
            [
             1,
             "#276419"
            ]
           ],
           "sequential": [
            [
             0,
             "#0d0887"
            ],
            [
             0.1111111111111111,
             "#46039f"
            ],
            [
             0.2222222222222222,
             "#7201a8"
            ],
            [
             0.3333333333333333,
             "#9c179e"
            ],
            [
             0.4444444444444444,
             "#bd3786"
            ],
            [
             0.5555555555555556,
             "#d8576b"
            ],
            [
             0.6666666666666666,
             "#ed7953"
            ],
            [
             0.7777777777777778,
             "#fb9f3a"
            ],
            [
             0.8888888888888888,
             "#fdca26"
            ],
            [
             1,
             "#f0f921"
            ]
           ],
           "sequentialminus": [
            [
             0,
             "#0d0887"
            ],
            [
             0.1111111111111111,
             "#46039f"
            ],
            [
             0.2222222222222222,
             "#7201a8"
            ],
            [
             0.3333333333333333,
             "#9c179e"
            ],
            [
             0.4444444444444444,
             "#bd3786"
            ],
            [
             0.5555555555555556,
             "#d8576b"
            ],
            [
             0.6666666666666666,
             "#ed7953"
            ],
            [
             0.7777777777777778,
             "#fb9f3a"
            ],
            [
             0.8888888888888888,
             "#fdca26"
            ],
            [
             1,
             "#f0f921"
            ]
           ]
          },
          "colorway": [
           "#636efa",
           "#EF553B",
           "#00cc96",
           "#ab63fa",
           "#FFA15A",
           "#19d3f3",
           "#FF6692",
           "#B6E880",
           "#FF97FF",
           "#FECB52"
          ],
          "font": {
           "color": "#2a3f5f"
          },
          "geo": {
           "bgcolor": "white",
           "lakecolor": "white",
           "landcolor": "#E5ECF6",
           "showlakes": true,
           "showland": true,
           "subunitcolor": "white"
          },
          "hoverlabel": {
           "align": "left"
          },
          "hovermode": "closest",
          "mapbox": {
           "style": "light"
          },
          "paper_bgcolor": "white",
          "plot_bgcolor": "#E5ECF6",
          "polar": {
           "angularaxis": {
            "gridcolor": "white",
            "linecolor": "white",
            "ticks": ""
           },
           "bgcolor": "#E5ECF6",
           "radialaxis": {
            "gridcolor": "white",
            "linecolor": "white",
            "ticks": ""
           }
          },
          "scene": {
           "xaxis": {
            "backgroundcolor": "#E5ECF6",
            "gridcolor": "white",
            "gridwidth": 2,
            "linecolor": "white",
            "showbackground": true,
            "ticks": "",
            "zerolinecolor": "white"
           },
           "yaxis": {
            "backgroundcolor": "#E5ECF6",
            "gridcolor": "white",
            "gridwidth": 2,
            "linecolor": "white",
            "showbackground": true,
            "ticks": "",
            "zerolinecolor": "white"
           },
           "zaxis": {
            "backgroundcolor": "#E5ECF6",
            "gridcolor": "white",
            "gridwidth": 2,
            "linecolor": "white",
            "showbackground": true,
            "ticks": "",
            "zerolinecolor": "white"
           }
          },
          "shapedefaults": {
           "line": {
            "color": "#2a3f5f"
           }
          },
          "ternary": {
           "aaxis": {
            "gridcolor": "white",
            "linecolor": "white",
            "ticks": ""
           },
           "baxis": {
            "gridcolor": "white",
            "linecolor": "white",
            "ticks": ""
           },
           "bgcolor": "#E5ECF6",
           "caxis": {
            "gridcolor": "white",
            "linecolor": "white",
            "ticks": ""
           }
          },
          "title": {
           "x": 0.05
          },
          "xaxis": {
           "automargin": true,
           "gridcolor": "white",
           "linecolor": "white",
           "ticks": "",
           "title": {
            "standoff": 15
           },
           "zerolinecolor": "white",
           "zerolinewidth": 2
          },
          "yaxis": {
           "automargin": true,
           "gridcolor": "white",
           "linecolor": "white",
           "ticks": "",
           "title": {
            "standoff": 15
           },
           "zerolinecolor": "white",
           "zerolinewidth": 2
          }
         }
        },
        "title": {
         "text": "Residual Plot for each BGC<br><sup>Difference between Median Depth and expected BGC count<sup>"
        },
        "xaxis": {
         "anchor": "y",
         "domain": [
          0,
          1
         ],
         "title": {
          "text": "Sample size (Gb)"
         }
        },
        "yaxis": {
         "anchor": "x",
         "domain": [
          0,
          1
         ],
         "title": {
          "text": "std_res"
         }
        }
       }
      },
      "text/html": [
       "<div>                            <div id=\"13cd74c1-5aab-4225-85b0-88d9d84ffc16\" class=\"plotly-graph-div\" style=\"height:525px; width:100%;\"></div>            <script type=\"text/javascript\">                require([\"plotly\"], function(Plotly) {                    window.PLOTLYENV=window.PLOTLYENV || {};                                    if (document.getElementById(\"13cd74c1-5aab-4225-85b0-88d9d84ffc16\")) {                    Plotly.newPlot(                        \"13cd74c1-5aab-4225-85b0-88d9d84ffc16\",                        [{\"hovertemplate\":\"Sample size (Gb)=%{x}<br>std_res=%{y}<extra></extra>\",\"legendgroup\":\"\",\"marker\":{\"color\":\"#636efa\",\"symbol\":\"circle\"},\"mode\":\"markers\",\"name\":\"\",\"orientation\":\"v\",\"showlegend\":false,\"x\":[0.5,0.5,0.5,0.5,0.5,0.5,0.5,0.5,0.5,0.5,0.5,0.5,0.5,0.5,0.5,0.5,0.9,0.9,0.9,0.9,0.9,0.9,0.9,0.9,0.9,0.9,0.9,0.9,0.9,0.9,0.9,0.9,0.01,0.01,0.01,0.01,0.01,0.01,0.01,0.01,0.01,0.01,0.01,0.01,0.01,0.01,0.01,0.01,0.07,0.07,0.07,0.07,0.07,0.07,0.07,0.07,0.07,0.07,0.07,0.07,0.07,0.07,0.07,0.07,0.02,0.02,0.02,0.02,0.02,0.02,0.02,0.02,0.02,0.02,0.02,0.02,0.02,0.02,0.02,0.02,0.09,0.09,0.09,0.09,0.09,0.09,0.09,0.09,0.09,0.09,0.09,0.09,0.09,0.09,0.09,0.09,0.007,0.007,0.007,0.007,0.007,0.007,0.007,0.007,0.007,0.007,0.007,0.007,0.007,0.007,0.007,0.007,0.006,0.006,0.006,0.006,0.006,0.006,0.006,0.006,0.006,0.006,0.006,0.006,0.006,0.006,0.006,0.006,0.6,0.6,0.6,0.6,0.6,0.6,0.6,0.6,0.6,0.6,0.6,0.6,0.6,0.6,0.6,0.6,0.08,0.08,0.08,0.08,0.08,0.08,0.08,0.08,0.08,0.08,0.08,0.08,0.08,0.08,0.08,0.08,0.04,0.04,0.04,0.04,0.04,0.04,0.04,0.04,0.04,0.04,0.04,0.04,0.04,0.04,0.04,0.04,0.05,0.05,0.05,0.05,0.05,0.05,0.05,0.05,0.05,0.05,0.05,0.05,0.05,0.05,0.05,0.05,1.0,1.0,1.0,1.0,1.0,1.0,1.0,1.0,1.0,1.0,1.0,1.0,1.0,1.0,1.0,1.0,0.03,0.03,0.03,0.03,0.03,0.03,0.03,0.03,0.03,0.03,0.03,0.03,0.03,0.03,0.03,0.03,0.004,0.004,0.004,0.004,0.004,0.004,0.004,0.004,0.004,0.004,0.004,0.004,0.004,0.004,0.004,0.004,0.002,0.002,0.002,0.002,0.002,0.002,0.002,0.002,0.002,0.002,0.002,0.002,0.002,0.002,0.002,0.002,0.009,0.009,0.009,0.009,0.009,0.009,0.009,0.009,0.009,0.009,0.009,0.009,0.009,0.009,0.009,0.009,0.7,0.7,0.7,0.7,0.7,0.7,0.7,0.7,0.7,0.7,0.7,0.7,0.7,0.7,0.7,0.7,0.8,0.8,0.8,0.8,0.8,0.8,0.8,0.8,0.8,0.8,0.8,0.8,0.8,0.8,0.8,0.8,0.2,0.2,0.2,0.2,0.2,0.2,0.2,0.2,0.2,0.2,0.2,0.2,0.2,0.2,0.2,0.2,0.1,0.1,0.1,0.1,0.1,0.1,0.1,0.1,0.1,0.1,0.1,0.1,0.1,0.1,0.1,0.1,0.001,0.001,0.001,0.001,0.001,0.001,0.001,0.001,0.001,0.001,0.001,0.001,0.001,0.001,0.001,0.3,0.3,0.3,0.3,0.3,0.3,0.3,0.3,0.3,0.3,0.3,0.3,0.3,0.3,0.3,0.3,0.005,0.005,0.005,0.005,0.005,0.005,0.005,0.005,0.005,0.005,0.005,0.005,0.005,0.005,0.005,0.005,0.008,0.008,0.008,0.008,0.008,0.008,0.008,0.008,0.008,0.008,0.008,0.008,0.008,0.008,0.008,0.008,0.06,0.06,0.06,0.06,0.06,0.06,0.06,0.06,0.06,0.06,0.06,0.06,0.06,0.06,0.06,0.06,0.003,0.003,0.003,0.003,0.003,0.003,0.003,0.003,0.003,0.003,0.003,0.003,0.003,0.003,0.003,0.003,0.4,0.4,0.4,0.4,0.4,0.4,0.4,0.4,0.4,0.4,0.4,0.4,0.4,0.4,0.4,0.4],\"xaxis\":\"x\",\"y\":[-1.8505504443587364,-1.523385016211968,-1.1962195880651993,-1.523385016211968,-1.523385016211968,-0.869054159918431,-1.8505504443587364,-1.1962195880651993,-0.869054159918431,-1.523385016211968,-1.523385016211968,-1.1962195880651993,-1.8505504443587364,-1.523385016211968,-1.8505504443587364,-1.8505504443587364,-2.7420930291815417,-2.7420930291815417,-2.414927601034773,-2.414927601034773,-2.414927601034773,-1.7605967447412365,-2.7420930291815417,-2.7420930291815417,-2.414927601034773,-2.7420930291815417,-2.7420930291815417,-2.087762172888005,-3.0692584573283104,-3.0692584573283104,-2.7420930291815417,-2.414927601034773,0.13311501374914486,0.13311501374914486,0.13311501374914486,0.13311501374914486,0.13311501374914486,0.46028044189591333,0.13311501374914486,0.13311501374914486,0.13311501374914486,0.13311501374914486,0.13311501374914486,0.13311501374914486,0.13311501374914486,0.13311501374914486,0.13311501374914486,0.13311501374914486,-0.3768566163430599,-0.3768566163430599,-0.04969118819629144,-0.04969118819629144,-0.3768566163430599,0.277474239950477,-0.3768566163430599,-0.04969118819629144,-0.04969118819629144,-0.04969118819629144,-0.3768566163430599,-0.3768566163430599,-0.04969118819629144,-0.3768566163430599,-0.3768566163430599,-0.04969118819629144,-0.06093540064847871,0.2662300274982897,-0.06093540064847871,-0.06093540064847871,-0.06093540064847871,0.2662300274982897,-0.06093540064847871,-0.06093540064847871,0.2662300274982897,-0.06093540064847871,0.2662300274982897,0.2662300274982897,-0.06093540064847871,-0.06093540064847871,0.2662300274982897,-0.06093540064847871,-0.11062658884477007,-0.4377920169915385,-0.4377920169915385,-0.11062658884477007,-0.4377920169915385,0.21653883930199835,-0.4377920169915385,-0.11062658884477007,-0.11062658884477007,-0.4377920169915385,-0.11062658884477007,-0.11062658884477007,-0.4377920169915385,-0.4377920169915385,-0.4377920169915385,-0.4377920169915385,0.1913301380684319,0.1913301380684319,0.1913301380684319,0.1913301380684319,0.1913301380684319,1.1728264225087373,0.1913301380684319,0.1913301380684319,0.1913301380684319,0.1913301380684319,0.1913301380684319,0.1913301380684319,0.1913301380684319,0.1913301380684319,0.1913301380684319,0.1913301380684319,0.2107351795081943,0.2107351795081943,0.2107351795081943,0.2107351795081943,0.2107351795081943,1.1922314639484994,0.2107351795081943,0.2107351795081943,0.2107351795081943,0.2107351795081943,0.2107351795081943,0.2107351795081943,0.2107351795081943,0.2107351795081943,0.2107351795081943,0.2107351795081943,-1.828062019454362,-1.828062019454362,-1.1737311631608252,-2.1552274476011304,-1.828062019454362,-0.8465657350140566,-2.1552274476011304,-2.1552274476011304,-1.1737311631608252,-1.828062019454362,-1.828062019454362,-1.5008965913075936,-2.1552274476011304,-1.828062019454362,-2.1552274476011304,-1.828062019454362,-0.24374160259391484,-0.24374160259391484,-0.24374160259391484,-0.24374160259391484,-0.24374160259391484,0.0834238255528536,-0.24374160259391484,-0.24374160259391484,-0.24374160259391484,-0.24374160259391484,-0.24374160259391484,-0.24374160259391484,-0.24374160259391484,-0.24374160259391484,-0.24374160259391484,-0.24374160259391484,-0.12187080129695742,-0.12187080129695742,-0.12187080129695742,-0.12187080129695742,-0.12187080129695742,0.205294626849811,-0.12187080129695742,-0.12187080129695742,0.205294626849811,-0.12187080129695742,-0.12187080129695742,-0.12187080129695742,-0.12187080129695742,-0.12187080129695742,-0.12187080129695742,-0.12187080129695742,0.011244212452187485,0.011244212452187485,0.011244212452187485,0.011244212452187485,0.011244212452187485,0.011244212452187485,0.011244212452187485,0.011244212452187485,0.011244212452187485,0.011244212452187485,-0.3159212156945809,0.011244212452187485,0.011244212452187485,-0.3159212156945809,-0.3159212156945809,0.011244212452187485,-3.046770032423936,-2.7196046042771673,-3.046770032423936,-2.7196046042771673,-3.373935460570704,-1.738108319836862,-3.373935460570704,-2.3924391761303987,-1.738108319836862,-3.046770032423936,-3.046770032423936,-2.7196046042771673,-3.046770032423936,-3.701100888717473,-3.046770032423936,-3.373935460570704,0.07217961310066612,0.07217961310066612,0.07217961310066612,0.07217961310066612,0.07217961310066612,0.07217961310066612,0.07217961310066612,0.07217961310066612,0.07217961310066612,0.07217961310066612,0.07217961310066612,0.07217961310066612,0.07217961310066612,-0.2549858150461023,0.07217961310066612,0.07217961310066612,0.249545262387719,0.249545262387719,0.249545262387719,0.249545262387719,0.249545262387719,0.903876118681256,0.249545262387719,0.249545262387719,0.249545262387719,0.249545262387719,0.249545262387719,0.249545262387719,0.249545262387719,0.249545262387719,0.249545262387719,0.249545262387719,0.2883553452672437,0.2883553452672437,0.2883553452672437,0.2883553452672437,0.2883553452672437,0.6155207734140122,0.2883553452672437,0.2883553452672437,0.2883553452672437,0.2883553452672437,0.2883553452672437,0.2883553452672437,0.2883553452672437,0.2883553452672437,0.2883553452672437,0.2883553452672437,0.1525200551889072,0.1525200551889072,0.1525200551889072,0.1525200551889072,0.1525200551889072,0.8068509114824441,0.1525200551889072,0.1525200551889072,0.1525200551889072,0.1525200551889072,0.1525200551889072,0.1525200551889072,0.1525200551889072,0.1525200551889072,0.1525200551889072,0.1525200551889072,-2.132739022696756,-2.132739022696756,-1.8055735945499876,-2.4599044508435246,-2.4599044508435246,-1.4784081664032191,-2.132739022696756,-2.132739022696756,-1.1512427382564507,-2.132739022696756,-2.132739022696756,-2.132739022696756,-2.132739022696756,-2.132739022696756,-2.4599044508435246,-1.4784081664032191,-2.764581454085916,-2.764581454085916,-2.764581454085916,-1.783085169645611,-2.764581454085916,-1.4559197414988423,-2.4374160259391475,-2.4374160259391475,-1.4559197414988423,-2.1102505977923793,-2.764581454085916,-2.4374160259391475,-2.764581454085916,-2.1102505977923793,-2.4374160259391475,-2.764581454085916,-0.6093540064847869,-0.6093540064847869,-0.6093540064847869,-0.6093540064847869,-0.6093540064847869,0.04497684980874994,-0.6093540064847869,-0.6093540064847869,0.04497684980874994,-0.9365194346315554,-0.6093540064847869,-0.6093540064847869,-0.9365194346315554,-0.9365194346315554,-0.9365194346315554,-0.9365194346315554,-0.30467700324239344,-0.30467700324239344,-0.30467700324239344,-0.30467700324239344,-0.30467700324239344,0.02248842490437497,-0.30467700324239344,-0.30467700324239344,0.02248842490437497,-0.6318424313891619,-0.30467700324239344,-0.30467700324239344,-0.30467700324239344,-0.30467700324239344,-0.30467700324239344,-0.6318424313891619,0.3077603867070061,0.3077603867070061,0.3077603867070061,0.3077603867070061,0.3077603867070061,0.3077603867070061,0.3077603867070061,0.3077603867070061,0.3077603867070061,0.3077603867070061,0.3077603867070061,0.3077603867070061,0.3077603867070061,0.3077603867070061,0.3077603867070061,-1.2411964378739493,-1.2411964378739493,-0.914031009727181,-0.914031009727181,-0.5868655815804126,-0.5868655815804126,-1.2411964378739493,-0.914031009727181,-0.2597001534336441,-0.914031009727181,-0.914031009727181,-1.2411964378739493,-0.914031009727181,-0.5868655815804126,-0.914031009727181,-0.914031009727181,0.23014022094795666,0.23014022094795666,0.23014022094795666,0.23014022094795666,0.23014022094795666,0.8844710772414934,0.23014022094795666,0.23014022094795666,0.23014022094795666,0.23014022094795666,0.23014022094795666,0.23014022094795666,0.23014022094795666,0.23014022094795666,0.23014022094795666,0.23014022094795666,0.1719250966286696,0.1719250966286696,0.1719250966286696,0.1719250966286696,0.1719250966286696,0.499090524775438,0.1719250966286696,0.1719250966286696,0.1719250966286696,0.1719250966286696,0.1719250966286696,0.1719250966286696,0.1719250966286696,0.1719250966286696,0.1719250966286696,0.1719250966286696,-0.1828062019454362,-0.1828062019454362,-0.1828062019454362,-0.1828062019454362,-0.1828062019454362,0.14435922620133224,-0.1828062019454362,-0.1828062019454362,0.14435922620133224,-0.1828062019454362,-0.1828062019454362,-0.1828062019454362,-0.1828062019454362,-0.1828062019454362,-0.1828062019454362,-0.1828062019454362,0.26895030382748136,0.26895030382748136,0.26895030382748136,0.26895030382748136,0.26895030382748136,0.5961157319742497,0.26895030382748136,0.26895030382748136,0.26895030382748136,0.26895030382748136,0.26895030382748136,0.26895030382748136,0.26895030382748136,0.26895030382748136,0.26895030382748136,0.26895030382748136,-0.8915425848228055,-1.5458734411163422,-1.2187080129695738,-1.2187080129695738,-1.5458734411163422,-0.8915425848228055,-1.2187080129695738,-1.2187080129695738,-0.8915425848228055,-1.2187080129695738,-1.2187080129695738,-1.5458734411163422,-1.5458734411163422,-1.5458734411163422,-1.5458734411163422,-0.8915425848228055],\"yaxis\":\"y\",\"type\":\"scatter\"}],                        {\"template\":{\"data\":{\"histogram2dcontour\":[{\"type\":\"histogram2dcontour\",\"colorbar\":{\"outlinewidth\":0,\"ticks\":\"\"},\"colorscale\":[[0.0,\"#0d0887\"],[0.1111111111111111,\"#46039f\"],[0.2222222222222222,\"#7201a8\"],[0.3333333333333333,\"#9c179e\"],[0.4444444444444444,\"#bd3786\"],[0.5555555555555556,\"#d8576b\"],[0.6666666666666666,\"#ed7953\"],[0.7777777777777778,\"#fb9f3a\"],[0.8888888888888888,\"#fdca26\"],[1.0,\"#f0f921\"]]}],\"choropleth\":[{\"type\":\"choropleth\",\"colorbar\":{\"outlinewidth\":0,\"ticks\":\"\"}}],\"histogram2d\":[{\"type\":\"histogram2d\",\"colorbar\":{\"outlinewidth\":0,\"ticks\":\"\"},\"colorscale\":[[0.0,\"#0d0887\"],[0.1111111111111111,\"#46039f\"],[0.2222222222222222,\"#7201a8\"],[0.3333333333333333,\"#9c179e\"],[0.4444444444444444,\"#bd3786\"],[0.5555555555555556,\"#d8576b\"],[0.6666666666666666,\"#ed7953\"],[0.7777777777777778,\"#fb9f3a\"],[0.8888888888888888,\"#fdca26\"],[1.0,\"#f0f921\"]]}],\"heatmap\":[{\"type\":\"heatmap\",\"colorbar\":{\"outlinewidth\":0,\"ticks\":\"\"},\"colorscale\":[[0.0,\"#0d0887\"],[0.1111111111111111,\"#46039f\"],[0.2222222222222222,\"#7201a8\"],[0.3333333333333333,\"#9c179e\"],[0.4444444444444444,\"#bd3786\"],[0.5555555555555556,\"#d8576b\"],[0.6666666666666666,\"#ed7953\"],[0.7777777777777778,\"#fb9f3a\"],[0.8888888888888888,\"#fdca26\"],[1.0,\"#f0f921\"]]}],\"heatmapgl\":[{\"type\":\"heatmapgl\",\"colorbar\":{\"outlinewidth\":0,\"ticks\":\"\"},\"colorscale\":[[0.0,\"#0d0887\"],[0.1111111111111111,\"#46039f\"],[0.2222222222222222,\"#7201a8\"],[0.3333333333333333,\"#9c179e\"],[0.4444444444444444,\"#bd3786\"],[0.5555555555555556,\"#d8576b\"],[0.6666666666666666,\"#ed7953\"],[0.7777777777777778,\"#fb9f3a\"],[0.8888888888888888,\"#fdca26\"],[1.0,\"#f0f921\"]]}],\"contourcarpet\":[{\"type\":\"contourcarpet\",\"colorbar\":{\"outlinewidth\":0,\"ticks\":\"\"}}],\"contour\":[{\"type\":\"contour\",\"colorbar\":{\"outlinewidth\":0,\"ticks\":\"\"},\"colorscale\":[[0.0,\"#0d0887\"],[0.1111111111111111,\"#46039f\"],[0.2222222222222222,\"#7201a8\"],[0.3333333333333333,\"#9c179e\"],[0.4444444444444444,\"#bd3786\"],[0.5555555555555556,\"#d8576b\"],[0.6666666666666666,\"#ed7953\"],[0.7777777777777778,\"#fb9f3a\"],[0.8888888888888888,\"#fdca26\"],[1.0,\"#f0f921\"]]}],\"surface\":[{\"type\":\"surface\",\"colorbar\":{\"outlinewidth\":0,\"ticks\":\"\"},\"colorscale\":[[0.0,\"#0d0887\"],[0.1111111111111111,\"#46039f\"],[0.2222222222222222,\"#7201a8\"],[0.3333333333333333,\"#9c179e\"],[0.4444444444444444,\"#bd3786\"],[0.5555555555555556,\"#d8576b\"],[0.6666666666666666,\"#ed7953\"],[0.7777777777777778,\"#fb9f3a\"],[0.8888888888888888,\"#fdca26\"],[1.0,\"#f0f921\"]]}],\"mesh3d\":[{\"type\":\"mesh3d\",\"colorbar\":{\"outlinewidth\":0,\"ticks\":\"\"}}],\"scatter\":[{\"fillpattern\":{\"fillmode\":\"overlay\",\"size\":10,\"solidity\":0.2},\"type\":\"scatter\"}],\"parcoords\":[{\"type\":\"parcoords\",\"line\":{\"colorbar\":{\"outlinewidth\":0,\"ticks\":\"\"}}}],\"scatterpolargl\":[{\"type\":\"scatterpolargl\",\"marker\":{\"colorbar\":{\"outlinewidth\":0,\"ticks\":\"\"}}}],\"bar\":[{\"error_x\":{\"color\":\"#2a3f5f\"},\"error_y\":{\"color\":\"#2a3f5f\"},\"marker\":{\"line\":{\"color\":\"#E5ECF6\",\"width\":0.5},\"pattern\":{\"fillmode\":\"overlay\",\"size\":10,\"solidity\":0.2}},\"type\":\"bar\"}],\"scattergeo\":[{\"type\":\"scattergeo\",\"marker\":{\"colorbar\":{\"outlinewidth\":0,\"ticks\":\"\"}}}],\"scatterpolar\":[{\"type\":\"scatterpolar\",\"marker\":{\"colorbar\":{\"outlinewidth\":0,\"ticks\":\"\"}}}],\"histogram\":[{\"marker\":{\"pattern\":{\"fillmode\":\"overlay\",\"size\":10,\"solidity\":0.2}},\"type\":\"histogram\"}],\"scattergl\":[{\"type\":\"scattergl\",\"marker\":{\"colorbar\":{\"outlinewidth\":0,\"ticks\":\"\"}}}],\"scatter3d\":[{\"type\":\"scatter3d\",\"line\":{\"colorbar\":{\"outlinewidth\":0,\"ticks\":\"\"}},\"marker\":{\"colorbar\":{\"outlinewidth\":0,\"ticks\":\"\"}}}],\"scattermapbox\":[{\"type\":\"scattermapbox\",\"marker\":{\"colorbar\":{\"outlinewidth\":0,\"ticks\":\"\"}}}],\"scatterternary\":[{\"type\":\"scatterternary\",\"marker\":{\"colorbar\":{\"outlinewidth\":0,\"ticks\":\"\"}}}],\"scattercarpet\":[{\"type\":\"scattercarpet\",\"marker\":{\"colorbar\":{\"outlinewidth\":0,\"ticks\":\"\"}}}],\"carpet\":[{\"aaxis\":{\"endlinecolor\":\"#2a3f5f\",\"gridcolor\":\"white\",\"linecolor\":\"white\",\"minorgridcolor\":\"white\",\"startlinecolor\":\"#2a3f5f\"},\"baxis\":{\"endlinecolor\":\"#2a3f5f\",\"gridcolor\":\"white\",\"linecolor\":\"white\",\"minorgridcolor\":\"white\",\"startlinecolor\":\"#2a3f5f\"},\"type\":\"carpet\"}],\"table\":[{\"cells\":{\"fill\":{\"color\":\"#EBF0F8\"},\"line\":{\"color\":\"white\"}},\"header\":{\"fill\":{\"color\":\"#C8D4E3\"},\"line\":{\"color\":\"white\"}},\"type\":\"table\"}],\"barpolar\":[{\"marker\":{\"line\":{\"color\":\"#E5ECF6\",\"width\":0.5},\"pattern\":{\"fillmode\":\"overlay\",\"size\":10,\"solidity\":0.2}},\"type\":\"barpolar\"}],\"pie\":[{\"automargin\":true,\"type\":\"pie\"}]},\"layout\":{\"autotypenumbers\":\"strict\",\"colorway\":[\"#636efa\",\"#EF553B\",\"#00cc96\",\"#ab63fa\",\"#FFA15A\",\"#19d3f3\",\"#FF6692\",\"#B6E880\",\"#FF97FF\",\"#FECB52\"],\"font\":{\"color\":\"#2a3f5f\"},\"hovermode\":\"closest\",\"hoverlabel\":{\"align\":\"left\"},\"paper_bgcolor\":\"white\",\"plot_bgcolor\":\"#E5ECF6\",\"polar\":{\"bgcolor\":\"#E5ECF6\",\"angularaxis\":{\"gridcolor\":\"white\",\"linecolor\":\"white\",\"ticks\":\"\"},\"radialaxis\":{\"gridcolor\":\"white\",\"linecolor\":\"white\",\"ticks\":\"\"}},\"ternary\":{\"bgcolor\":\"#E5ECF6\",\"aaxis\":{\"gridcolor\":\"white\",\"linecolor\":\"white\",\"ticks\":\"\"},\"baxis\":{\"gridcolor\":\"white\",\"linecolor\":\"white\",\"ticks\":\"\"},\"caxis\":{\"gridcolor\":\"white\",\"linecolor\":\"white\",\"ticks\":\"\"}},\"coloraxis\":{\"colorbar\":{\"outlinewidth\":0,\"ticks\":\"\"}},\"colorscale\":{\"sequential\":[[0.0,\"#0d0887\"],[0.1111111111111111,\"#46039f\"],[0.2222222222222222,\"#7201a8\"],[0.3333333333333333,\"#9c179e\"],[0.4444444444444444,\"#bd3786\"],[0.5555555555555556,\"#d8576b\"],[0.6666666666666666,\"#ed7953\"],[0.7777777777777778,\"#fb9f3a\"],[0.8888888888888888,\"#fdca26\"],[1.0,\"#f0f921\"]],\"sequentialminus\":[[0.0,\"#0d0887\"],[0.1111111111111111,\"#46039f\"],[0.2222222222222222,\"#7201a8\"],[0.3333333333333333,\"#9c179e\"],[0.4444444444444444,\"#bd3786\"],[0.5555555555555556,\"#d8576b\"],[0.6666666666666666,\"#ed7953\"],[0.7777777777777778,\"#fb9f3a\"],[0.8888888888888888,\"#fdca26\"],[1.0,\"#f0f921\"]],\"diverging\":[[0,\"#8e0152\"],[0.1,\"#c51b7d\"],[0.2,\"#de77ae\"],[0.3,\"#f1b6da\"],[0.4,\"#fde0ef\"],[0.5,\"#f7f7f7\"],[0.6,\"#e6f5d0\"],[0.7,\"#b8e186\"],[0.8,\"#7fbc41\"],[0.9,\"#4d9221\"],[1,\"#276419\"]]},\"xaxis\":{\"gridcolor\":\"white\",\"linecolor\":\"white\",\"ticks\":\"\",\"title\":{\"standoff\":15},\"zerolinecolor\":\"white\",\"automargin\":true,\"zerolinewidth\":2},\"yaxis\":{\"gridcolor\":\"white\",\"linecolor\":\"white\",\"ticks\":\"\",\"title\":{\"standoff\":15},\"zerolinecolor\":\"white\",\"automargin\":true,\"zerolinewidth\":2},\"scene\":{\"xaxis\":{\"backgroundcolor\":\"#E5ECF6\",\"gridcolor\":\"white\",\"linecolor\":\"white\",\"showbackground\":true,\"ticks\":\"\",\"zerolinecolor\":\"white\",\"gridwidth\":2},\"yaxis\":{\"backgroundcolor\":\"#E5ECF6\",\"gridcolor\":\"white\",\"linecolor\":\"white\",\"showbackground\":true,\"ticks\":\"\",\"zerolinecolor\":\"white\",\"gridwidth\":2},\"zaxis\":{\"backgroundcolor\":\"#E5ECF6\",\"gridcolor\":\"white\",\"linecolor\":\"white\",\"showbackground\":true,\"ticks\":\"\",\"zerolinecolor\":\"white\",\"gridwidth\":2}},\"shapedefaults\":{\"line\":{\"color\":\"#2a3f5f\"}},\"annotationdefaults\":{\"arrowcolor\":\"#2a3f5f\",\"arrowhead\":0,\"arrowwidth\":1},\"geo\":{\"bgcolor\":\"white\",\"landcolor\":\"#E5ECF6\",\"subunitcolor\":\"white\",\"showland\":true,\"showlakes\":true,\"lakecolor\":\"white\"},\"title\":{\"x\":0.05},\"mapbox\":{\"style\":\"light\"}}},\"xaxis\":{\"anchor\":\"y\",\"domain\":[0.0,1.0],\"title\":{\"text\":\"Sample size (Gb)\"}},\"yaxis\":{\"anchor\":\"x\",\"domain\":[0.0,1.0],\"title\":{\"text\":\"std_res\"}},\"legend\":{\"tracegroupgap\":0},\"title\":{\"text\":\"Residual Plot for each BGC<br><sup>Difference between Median Depth and expected BGC count<sup>\"}},                        {\"responsive\": true}                    ).then(function(){\n",
       "                            \n",
       "var gd = document.getElementById('13cd74c1-5aab-4225-85b0-88d9d84ffc16');\n",
       "var x = new MutationObserver(function (mutations, observer) {{\n",
       "        var display = window.getComputedStyle(gd).display;\n",
       "        if (!display || display === 'none') {{\n",
       "            console.log([gd, 'removed!']);\n",
       "            Plotly.purge(gd);\n",
       "            observer.disconnect();\n",
       "        }}\n",
       "}});\n",
       "\n",
       "// Listen for the removal of the full notebook cells\n",
       "var notebookContainer = gd.closest('#notebook-container');\n",
       "if (notebookContainer) {{\n",
       "    x.observe(notebookContainer, {childList: true});\n",
       "}}\n",
       "\n",
       "// Listen for the clearing of the current output cell\n",
       "var outputEl = gd.closest('.output');\n",
       "if (outputEl) {{\n",
       "    x.observe(outputEl, {childList: true});\n",
       "}}\n",
       "\n",
       "                        })                };                });            </script>        </div>"
      ]
     },
     "metadata": {},
     "output_type": "display_data"
    }
   ],
   "source": [
    "px.scatter(df_summary, x=\"readsGB\",y=\"std_res\",\n",
    "            labels={\"std_err\": \"Standardized Residuals\", \"readsGB\": \"Sample size (Gb)\"},\n",
    "            title=\"Residual Plot for each BGC<br><sup>Difference between Median Depth and expected BGC count<sup>\"\n",
    "          )"
   ]
  },
  {
   "cell_type": "code",
   "execution_count": 107,
   "metadata": {},
   "outputs": [
    {
     "data": {
      "application/vnd.plotly.v1+json": {
       "config": {
        "plotlyServerURL": "https://plot.ly"
       },
       "data": [
        {
         "hovertemplate": "col_standin=Median Depth<br>Sample size (Gb)=%{x}<br>Depth median=%{y}<extra></extra>",
         "legendgroup": "Median Depth",
         "marker": {
          "color": "#636efa",
          "symbol": "circle"
         },
         "mode": "markers",
         "name": "Median Depth",
         "orientation": "v",
         "showlegend": true,
         "type": "scatter",
         "x": [
          0.5,
          0.5,
          0.5,
          0.5,
          0.5,
          0.5,
          0.5,
          0.5,
          0.5,
          0.5,
          0.5,
          0.5,
          0.5,
          0.5,
          0.5,
          0.5,
          0.9,
          0.9,
          0.9,
          0.9,
          0.9,
          0.9,
          0.9,
          0.9,
          0.9,
          0.9,
          0.9,
          0.9,
          0.9,
          0.9,
          0.9,
          0.9,
          0.01,
          0.01,
          0.01,
          0.01,
          0.01,
          0.01,
          0.01,
          0.01,
          0.01,
          0.01,
          0.01,
          0.01,
          0.01,
          0.01,
          0.01,
          0.01,
          0.07,
          0.07,
          0.07,
          0.07,
          0.07,
          0.07,
          0.07,
          0.07,
          0.07,
          0.07,
          0.07,
          0.07,
          0.07,
          0.07,
          0.07,
          0.07,
          0.02,
          0.02,
          0.02,
          0.02,
          0.02,
          0.02,
          0.02,
          0.02,
          0.02,
          0.02,
          0.02,
          0.02,
          0.02,
          0.02,
          0.02,
          0.02,
          0.09,
          0.09,
          0.09,
          0.09,
          0.09,
          0.09,
          0.09,
          0.09,
          0.09,
          0.09,
          0.09,
          0.09,
          0.09,
          0.09,
          0.09,
          0.09,
          0.007,
          0.007,
          0.007,
          0.007,
          0.007,
          0.007,
          0.007,
          0.007,
          0.007,
          0.007,
          0.007,
          0.007,
          0.007,
          0.007,
          0.007,
          0.007,
          0.006,
          0.006,
          0.006,
          0.006,
          0.006,
          0.006,
          0.006,
          0.006,
          0.006,
          0.006,
          0.006,
          0.006,
          0.006,
          0.006,
          0.006,
          0.006,
          0.6,
          0.6,
          0.6,
          0.6,
          0.6,
          0.6,
          0.6,
          0.6,
          0.6,
          0.6,
          0.6,
          0.6,
          0.6,
          0.6,
          0.6,
          0.6,
          0.08,
          0.08,
          0.08,
          0.08,
          0.08,
          0.08,
          0.08,
          0.08,
          0.08,
          0.08,
          0.08,
          0.08,
          0.08,
          0.08,
          0.08,
          0.08,
          0.04,
          0.04,
          0.04,
          0.04,
          0.04,
          0.04,
          0.04,
          0.04,
          0.04,
          0.04,
          0.04,
          0.04,
          0.04,
          0.04,
          0.04,
          0.04,
          0.05,
          0.05,
          0.05,
          0.05,
          0.05,
          0.05,
          0.05,
          0.05,
          0.05,
          0.05,
          0.05,
          0.05,
          0.05,
          0.05,
          0.05,
          0.05,
          1,
          1,
          1,
          1,
          1,
          1,
          1,
          1,
          1,
          1,
          1,
          1,
          1,
          1,
          1,
          1,
          0.03,
          0.03,
          0.03,
          0.03,
          0.03,
          0.03,
          0.03,
          0.03,
          0.03,
          0.03,
          0.03,
          0.03,
          0.03,
          0.03,
          0.03,
          0.03,
          0.004,
          0.004,
          0.004,
          0.004,
          0.004,
          0.004,
          0.004,
          0.004,
          0.004,
          0.004,
          0.004,
          0.004,
          0.004,
          0.004,
          0.004,
          0.004,
          0.002,
          0.002,
          0.002,
          0.002,
          0.002,
          0.002,
          0.002,
          0.002,
          0.002,
          0.002,
          0.002,
          0.002,
          0.002,
          0.002,
          0.002,
          0.002,
          0.009,
          0.009,
          0.009,
          0.009,
          0.009,
          0.009,
          0.009,
          0.009,
          0.009,
          0.009,
          0.009,
          0.009,
          0.009,
          0.009,
          0.009,
          0.009,
          0.7,
          0.7,
          0.7,
          0.7,
          0.7,
          0.7,
          0.7,
          0.7,
          0.7,
          0.7,
          0.7,
          0.7,
          0.7,
          0.7,
          0.7,
          0.7,
          0.8,
          0.8,
          0.8,
          0.8,
          0.8,
          0.8,
          0.8,
          0.8,
          0.8,
          0.8,
          0.8,
          0.8,
          0.8,
          0.8,
          0.8,
          0.8,
          0.2,
          0.2,
          0.2,
          0.2,
          0.2,
          0.2,
          0.2,
          0.2,
          0.2,
          0.2,
          0.2,
          0.2,
          0.2,
          0.2,
          0.2,
          0.2,
          0.1,
          0.1,
          0.1,
          0.1,
          0.1,
          0.1,
          0.1,
          0.1,
          0.1,
          0.1,
          0.1,
          0.1,
          0.1,
          0.1,
          0.1,
          0.1,
          0.001,
          0.001,
          0.001,
          0.001,
          0.001,
          0.001,
          0.001,
          0.001,
          0.001,
          0.001,
          0.001,
          0.001,
          0.001,
          0.001,
          0.001,
          0.3,
          0.3,
          0.3,
          0.3,
          0.3,
          0.3,
          0.3,
          0.3,
          0.3,
          0.3,
          0.3,
          0.3,
          0.3,
          0.3,
          0.3,
          0.3,
          0.005,
          0.005,
          0.005,
          0.005,
          0.005,
          0.005,
          0.005,
          0.005,
          0.005,
          0.005,
          0.005,
          0.005,
          0.005,
          0.005,
          0.005,
          0.005,
          0.008,
          0.008,
          0.008,
          0.008,
          0.008,
          0.008,
          0.008,
          0.008,
          0.008,
          0.008,
          0.008,
          0.008,
          0.008,
          0.008,
          0.008,
          0.008,
          0.06,
          0.06,
          0.06,
          0.06,
          0.06,
          0.06,
          0.06,
          0.06,
          0.06,
          0.06,
          0.06,
          0.06,
          0.06,
          0.06,
          0.06,
          0.06,
          0.003,
          0.003,
          0.003,
          0.003,
          0.003,
          0.003,
          0.003,
          0.003,
          0.003,
          0.003,
          0.003,
          0.003,
          0.003,
          0.003,
          0.003,
          0.003,
          0.4,
          0.4,
          0.4,
          0.4,
          0.4,
          0.4,
          0.4,
          0.4,
          0.4,
          0.4,
          0.4,
          0.4,
          0.4,
          0.4,
          0.4,
          0.4
         ],
         "xaxis": "x",
         "y": [
          24,
          25,
          26,
          25,
          25,
          27,
          24,
          26,
          27,
          25,
          25,
          26,
          24,
          25,
          24,
          24,
          45,
          45,
          46,
          46,
          46,
          48,
          45,
          45,
          46,
          45,
          45,
          47,
          44,
          44,
          45,
          46,
          1,
          1,
          1,
          1,
          1,
          2,
          1,
          1,
          1,
          1,
          1,
          1,
          1,
          1,
          1,
          1,
          3,
          3,
          4,
          4,
          3,
          5,
          3,
          4,
          4,
          4,
          3,
          3,
          4,
          3,
          3,
          4,
          1,
          2,
          1,
          1,
          1,
          2,
          1,
          1,
          2,
          1,
          2,
          2,
          1,
          1,
          2,
          1,
          5,
          4,
          4,
          5,
          4,
          6,
          4,
          5,
          5,
          4,
          5,
          5,
          4,
          4,
          4,
          4,
          1,
          1,
          1,
          1,
          1,
          4,
          1,
          1,
          1,
          1,
          1,
          1,
          1,
          1,
          1,
          1,
          1,
          1,
          1,
          1,
          1,
          4,
          1,
          1,
          1,
          1,
          1,
          1,
          1,
          1,
          1,
          1,
          30,
          30,
          32,
          29,
          30,
          33,
          29,
          29,
          32,
          30,
          30,
          31,
          29,
          30,
          29,
          30,
          4,
          4,
          4,
          4,
          4,
          5,
          4,
          4,
          4,
          4,
          4,
          4,
          4,
          4,
          4,
          4,
          2,
          2,
          2,
          2,
          2,
          3,
          2,
          2,
          3,
          2,
          2,
          2,
          2,
          2,
          2,
          2,
          3,
          3,
          3,
          3,
          3,
          3,
          3,
          3,
          3,
          3,
          2,
          3,
          3,
          2,
          2,
          3,
          50,
          51,
          50,
          51,
          49,
          54,
          49,
          52,
          54,
          50,
          50,
          51,
          50,
          48,
          50,
          49,
          2,
          2,
          2,
          2,
          2,
          2,
          2,
          2,
          2,
          2,
          2,
          2,
          2,
          1,
          2,
          2,
          1,
          1,
          1,
          1,
          1,
          3,
          1,
          1,
          1,
          1,
          1,
          1,
          1,
          1,
          1,
          1,
          1,
          1,
          1,
          1,
          1,
          2,
          1,
          1,
          1,
          1,
          1,
          1,
          1,
          1,
          1,
          1,
          1,
          1,
          1,
          1,
          1,
          3,
          1,
          1,
          1,
          1,
          1,
          1,
          1,
          1,
          1,
          1,
          35,
          35,
          36,
          34,
          34,
          37,
          35,
          35,
          38,
          35,
          35,
          35,
          35,
          35,
          34,
          37,
          39,
          39,
          39,
          42,
          39,
          43,
          40,
          40,
          43,
          41,
          39,
          40,
          39,
          41,
          40,
          39,
          10,
          10,
          10,
          10,
          10,
          12,
          10,
          10,
          12,
          9,
          10,
          10,
          9,
          9,
          9,
          9,
          5,
          5,
          5,
          5,
          5,
          6,
          5,
          5,
          6,
          4,
          5,
          5,
          5,
          5,
          5,
          4,
          1,
          1,
          1,
          1,
          1,
          1,
          1,
          1,
          1,
          1,
          1,
          1,
          1,
          1,
          1,
          14,
          14,
          15,
          15,
          16,
          16,
          14,
          15,
          17,
          15,
          15,
          14,
          15,
          16,
          15,
          15,
          1,
          1,
          1,
          1,
          1,
          3,
          1,
          1,
          1,
          1,
          1,
          1,
          1,
          1,
          1,
          1,
          1,
          1,
          1,
          1,
          1,
          2,
          1,
          1,
          1,
          1,
          1,
          1,
          1,
          1,
          1,
          1,
          3,
          3,
          3,
          3,
          3,
          4,
          3,
          3,
          4,
          3,
          3,
          3,
          3,
          3,
          3,
          3,
          1,
          1,
          1,
          1,
          1,
          2,
          1,
          1,
          1,
          1,
          1,
          1,
          1,
          1,
          1,
          1,
          21,
          19,
          20,
          20,
          19,
          21,
          20,
          20,
          21,
          20,
          20,
          19,
          19,
          19,
          19,
          21
         ],
         "yaxis": "y"
        },
        {
         "name": "Expected",
         "type": "scatter",
         "x": [
          0.5,
          0.5,
          0.5,
          0.5,
          0.5,
          0.5,
          0.5,
          0.5,
          0.5,
          0.5,
          0.5,
          0.5,
          0.5,
          0.5,
          0.5,
          0.5,
          0.9,
          0.9,
          0.9,
          0.9,
          0.9,
          0.9,
          0.9,
          0.9,
          0.9,
          0.9,
          0.9,
          0.9,
          0.9,
          0.9,
          0.9,
          0.9,
          0.01,
          0.01,
          0.01,
          0.01,
          0.01,
          0.01,
          0.01,
          0.01,
          0.01,
          0.01,
          0.01,
          0.01,
          0.01,
          0.01,
          0.01,
          0.01,
          0.07,
          0.07,
          0.07,
          0.07,
          0.07,
          0.07,
          0.07,
          0.07,
          0.07,
          0.07,
          0.07,
          0.07,
          0.07,
          0.07,
          0.07,
          0.07,
          0.02,
          0.02,
          0.02,
          0.02,
          0.02,
          0.02,
          0.02,
          0.02,
          0.02,
          0.02,
          0.02,
          0.02,
          0.02,
          0.02,
          0.02,
          0.02,
          0.09,
          0.09,
          0.09,
          0.09,
          0.09,
          0.09,
          0.09,
          0.09,
          0.09,
          0.09,
          0.09,
          0.09,
          0.09,
          0.09,
          0.09,
          0.09,
          0.007,
          0.007,
          0.007,
          0.007,
          0.007,
          0.007,
          0.007,
          0.007,
          0.007,
          0.007,
          0.007,
          0.007,
          0.007,
          0.007,
          0.007,
          0.007,
          0.006,
          0.006,
          0.006,
          0.006,
          0.006,
          0.006,
          0.006,
          0.006,
          0.006,
          0.006,
          0.006,
          0.006,
          0.006,
          0.006,
          0.006,
          0.006,
          0.6,
          0.6,
          0.6,
          0.6,
          0.6,
          0.6,
          0.6,
          0.6,
          0.6,
          0.6,
          0.6,
          0.6,
          0.6,
          0.6,
          0.6,
          0.6,
          0.08,
          0.08,
          0.08,
          0.08,
          0.08,
          0.08,
          0.08,
          0.08,
          0.08,
          0.08,
          0.08,
          0.08,
          0.08,
          0.08,
          0.08,
          0.08,
          0.04,
          0.04,
          0.04,
          0.04,
          0.04,
          0.04,
          0.04,
          0.04,
          0.04,
          0.04,
          0.04,
          0.04,
          0.04,
          0.04,
          0.04,
          0.04,
          0.05,
          0.05,
          0.05,
          0.05,
          0.05,
          0.05,
          0.05,
          0.05,
          0.05,
          0.05,
          0.05,
          0.05,
          0.05,
          0.05,
          0.05,
          0.05,
          1,
          1,
          1,
          1,
          1,
          1,
          1,
          1,
          1,
          1,
          1,
          1,
          1,
          1,
          1,
          1,
          0.03,
          0.03,
          0.03,
          0.03,
          0.03,
          0.03,
          0.03,
          0.03,
          0.03,
          0.03,
          0.03,
          0.03,
          0.03,
          0.03,
          0.03,
          0.03,
          0.004,
          0.004,
          0.004,
          0.004,
          0.004,
          0.004,
          0.004,
          0.004,
          0.004,
          0.004,
          0.004,
          0.004,
          0.004,
          0.004,
          0.004,
          0.004,
          0.002,
          0.002,
          0.002,
          0.002,
          0.002,
          0.002,
          0.002,
          0.002,
          0.002,
          0.002,
          0.002,
          0.002,
          0.002,
          0.002,
          0.002,
          0.002,
          0.009,
          0.009,
          0.009,
          0.009,
          0.009,
          0.009,
          0.009,
          0.009,
          0.009,
          0.009,
          0.009,
          0.009,
          0.009,
          0.009,
          0.009,
          0.009,
          0.7,
          0.7,
          0.7,
          0.7,
          0.7,
          0.7,
          0.7,
          0.7,
          0.7,
          0.7,
          0.7,
          0.7,
          0.7,
          0.7,
          0.7,
          0.7,
          0.8,
          0.8,
          0.8,
          0.8,
          0.8,
          0.8,
          0.8,
          0.8,
          0.8,
          0.8,
          0.8,
          0.8,
          0.8,
          0.8,
          0.8,
          0.8,
          0.2,
          0.2,
          0.2,
          0.2,
          0.2,
          0.2,
          0.2,
          0.2,
          0.2,
          0.2,
          0.2,
          0.2,
          0.2,
          0.2,
          0.2,
          0.2,
          0.1,
          0.1,
          0.1,
          0.1,
          0.1,
          0.1,
          0.1,
          0.1,
          0.1,
          0.1,
          0.1,
          0.1,
          0.1,
          0.1,
          0.1,
          0.1,
          0.001,
          0.001,
          0.001,
          0.001,
          0.001,
          0.001,
          0.001,
          0.001,
          0.001,
          0.001,
          0.001,
          0.001,
          0.001,
          0.001,
          0.001,
          0.3,
          0.3,
          0.3,
          0.3,
          0.3,
          0.3,
          0.3,
          0.3,
          0.3,
          0.3,
          0.3,
          0.3,
          0.3,
          0.3,
          0.3,
          0.3,
          0.005,
          0.005,
          0.005,
          0.005,
          0.005,
          0.005,
          0.005,
          0.005,
          0.005,
          0.005,
          0.005,
          0.005,
          0.005,
          0.005,
          0.005,
          0.005,
          0.008,
          0.008,
          0.008,
          0.008,
          0.008,
          0.008,
          0.008,
          0.008,
          0.008,
          0.008,
          0.008,
          0.008,
          0.008,
          0.008,
          0.008,
          0.008,
          0.06,
          0.06,
          0.06,
          0.06,
          0.06,
          0.06,
          0.06,
          0.06,
          0.06,
          0.06,
          0.06,
          0.06,
          0.06,
          0.06,
          0.06,
          0.06,
          0.003,
          0.003,
          0.003,
          0.003,
          0.003,
          0.003,
          0.003,
          0.003,
          0.003,
          0.003,
          0.003,
          0.003,
          0.003,
          0.003,
          0.003,
          0.003,
          0.4,
          0.4,
          0.4,
          0.4,
          0.4,
          0.4,
          0.4,
          0.4,
          0.4,
          0.4,
          0.4,
          0.4,
          0.4,
          0.4,
          0.4,
          0.4
         ],
         "y": [
          29.656314161435688,
          29.656314161435688,
          29.656314161435688,
          29.656314161435688,
          29.656314161435688,
          29.656314161435688,
          29.656314161435688,
          29.656314161435688,
          29.656314161435688,
          29.656314161435688,
          29.656314161435688,
          29.656314161435688,
          29.656314161435688,
          29.656314161435688,
          29.656314161435688,
          29.656314161435688,
          53.38136549058424,
          53.38136549058424,
          53.38136549058424,
          53.38136549058424,
          53.38136549058424,
          53.38136549058424,
          53.38136549058424,
          53.38136549058424,
          53.38136549058424,
          53.38136549058424,
          53.38136549058424,
          53.38136549058424,
          53.38136549058424,
          53.38136549058424,
          53.38136549058424,
          53.38136549058424,
          0.5931262832287137,
          0.5931262832287137,
          0.5931262832287137,
          0.5931262832287137,
          0.5931262832287137,
          0.5931262832287137,
          0.5931262832287137,
          0.5931262832287137,
          0.5931262832287137,
          0.5931262832287137,
          0.5931262832287137,
          0.5931262832287137,
          0.5931262832287137,
          0.5931262832287137,
          0.5931262832287137,
          0.5931262832287137,
          4.151883982600997,
          4.151883982600997,
          4.151883982600997,
          4.151883982600997,
          4.151883982600997,
          4.151883982600997,
          4.151883982600997,
          4.151883982600997,
          4.151883982600997,
          4.151883982600997,
          4.151883982600997,
          4.151883982600997,
          4.151883982600997,
          4.151883982600997,
          4.151883982600997,
          4.151883982600997,
          1.1862525664574275,
          1.1862525664574275,
          1.1862525664574275,
          1.1862525664574275,
          1.1862525664574275,
          1.1862525664574275,
          1.1862525664574275,
          1.1862525664574275,
          1.1862525664574275,
          1.1862525664574275,
          1.1862525664574275,
          1.1862525664574275,
          1.1862525664574275,
          1.1862525664574275,
          1.1862525664574275,
          1.1862525664574275,
          5.338136549058424,
          5.338136549058424,
          5.338136549058424,
          5.338136549058424,
          5.338136549058424,
          5.338136549058424,
          5.338136549058424,
          5.338136549058424,
          5.338136549058424,
          5.338136549058424,
          5.338136549058424,
          5.338136549058424,
          5.338136549058424,
          5.338136549058424,
          5.338136549058424,
          5.338136549058424,
          0.4151883982600996,
          0.4151883982600996,
          0.4151883982600996,
          0.4151883982600996,
          0.4151883982600996,
          0.4151883982600996,
          0.4151883982600996,
          0.4151883982600996,
          0.4151883982600996,
          0.4151883982600996,
          0.4151883982600996,
          0.4151883982600996,
          0.4151883982600996,
          0.4151883982600996,
          0.4151883982600996,
          0.4151883982600996,
          0.35587576993722825,
          0.35587576993722825,
          0.35587576993722825,
          0.35587576993722825,
          0.35587576993722825,
          0.35587576993722825,
          0.35587576993722825,
          0.35587576993722825,
          0.35587576993722825,
          0.35587576993722825,
          0.35587576993722825,
          0.35587576993722825,
          0.35587576993722825,
          0.35587576993722825,
          0.35587576993722825,
          0.35587576993722825,
          35.58757699372283,
          35.58757699372283,
          35.58757699372283,
          35.58757699372283,
          35.58757699372283,
          35.58757699372283,
          35.58757699372283,
          35.58757699372283,
          35.58757699372283,
          35.58757699372283,
          35.58757699372283,
          35.58757699372283,
          35.58757699372283,
          35.58757699372283,
          35.58757699372283,
          35.58757699372283,
          4.74501026582971,
          4.74501026582971,
          4.74501026582971,
          4.74501026582971,
          4.74501026582971,
          4.74501026582971,
          4.74501026582971,
          4.74501026582971,
          4.74501026582971,
          4.74501026582971,
          4.74501026582971,
          4.74501026582971,
          4.74501026582971,
          4.74501026582971,
          4.74501026582971,
          4.74501026582971,
          2.372505132914855,
          2.372505132914855,
          2.372505132914855,
          2.372505132914855,
          2.372505132914855,
          2.372505132914855,
          2.372505132914855,
          2.372505132914855,
          2.372505132914855,
          2.372505132914855,
          2.372505132914855,
          2.372505132914855,
          2.372505132914855,
          2.372505132914855,
          2.372505132914855,
          2.372505132914855,
          2.9656314161435686,
          2.9656314161435686,
          2.9656314161435686,
          2.9656314161435686,
          2.9656314161435686,
          2.9656314161435686,
          2.9656314161435686,
          2.9656314161435686,
          2.9656314161435686,
          2.9656314161435686,
          2.9656314161435686,
          2.9656314161435686,
          2.9656314161435686,
          2.9656314161435686,
          2.9656314161435686,
          2.9656314161435686,
          59.312628322871376,
          59.312628322871376,
          59.312628322871376,
          59.312628322871376,
          59.312628322871376,
          59.312628322871376,
          59.312628322871376,
          59.312628322871376,
          59.312628322871376,
          59.312628322871376,
          59.312628322871376,
          59.312628322871376,
          59.312628322871376,
          59.312628322871376,
          59.312628322871376,
          59.312628322871376,
          1.7793788496861414,
          1.7793788496861414,
          1.7793788496861414,
          1.7793788496861414,
          1.7793788496861414,
          1.7793788496861414,
          1.7793788496861414,
          1.7793788496861414,
          1.7793788496861414,
          1.7793788496861414,
          1.7793788496861414,
          1.7793788496861414,
          1.7793788496861414,
          1.7793788496861414,
          1.7793788496861414,
          1.7793788496861414,
          0.2372505132914855,
          0.2372505132914855,
          0.2372505132914855,
          0.2372505132914855,
          0.2372505132914855,
          0.2372505132914855,
          0.2372505132914855,
          0.2372505132914855,
          0.2372505132914855,
          0.2372505132914855,
          0.2372505132914855,
          0.2372505132914855,
          0.2372505132914855,
          0.2372505132914855,
          0.2372505132914855,
          0.2372505132914855,
          0.11862525664574275,
          0.11862525664574275,
          0.11862525664574275,
          0.11862525664574275,
          0.11862525664574275,
          0.11862525664574275,
          0.11862525664574275,
          0.11862525664574275,
          0.11862525664574275,
          0.11862525664574275,
          0.11862525664574275,
          0.11862525664574275,
          0.11862525664574275,
          0.11862525664574275,
          0.11862525664574275,
          0.11862525664574275,
          0.5338136549058424,
          0.5338136549058424,
          0.5338136549058424,
          0.5338136549058424,
          0.5338136549058424,
          0.5338136549058424,
          0.5338136549058424,
          0.5338136549058424,
          0.5338136549058424,
          0.5338136549058424,
          0.5338136549058424,
          0.5338136549058424,
          0.5338136549058424,
          0.5338136549058424,
          0.5338136549058424,
          0.5338136549058424,
          41.518839826009966,
          41.518839826009966,
          41.518839826009966,
          41.518839826009966,
          41.518839826009966,
          41.518839826009966,
          41.518839826009966,
          41.518839826009966,
          41.518839826009966,
          41.518839826009966,
          41.518839826009966,
          41.518839826009966,
          41.518839826009966,
          41.518839826009966,
          41.518839826009966,
          41.518839826009966,
          47.4501026582971,
          47.4501026582971,
          47.4501026582971,
          47.4501026582971,
          47.4501026582971,
          47.4501026582971,
          47.4501026582971,
          47.4501026582971,
          47.4501026582971,
          47.4501026582971,
          47.4501026582971,
          47.4501026582971,
          47.4501026582971,
          47.4501026582971,
          47.4501026582971,
          47.4501026582971,
          11.862525664574274,
          11.862525664574274,
          11.862525664574274,
          11.862525664574274,
          11.862525664574274,
          11.862525664574274,
          11.862525664574274,
          11.862525664574274,
          11.862525664574274,
          11.862525664574274,
          11.862525664574274,
          11.862525664574274,
          11.862525664574274,
          11.862525664574274,
          11.862525664574274,
          11.862525664574274,
          5.931262832287137,
          5.931262832287137,
          5.931262832287137,
          5.931262832287137,
          5.931262832287137,
          5.931262832287137,
          5.931262832287137,
          5.931262832287137,
          5.931262832287137,
          5.931262832287137,
          5.931262832287137,
          5.931262832287137,
          5.931262832287137,
          5.931262832287137,
          5.931262832287137,
          5.931262832287137,
          0.059312628322871375,
          0.059312628322871375,
          0.059312628322871375,
          0.059312628322871375,
          0.059312628322871375,
          0.059312628322871375,
          0.059312628322871375,
          0.059312628322871375,
          0.059312628322871375,
          0.059312628322871375,
          0.059312628322871375,
          0.059312628322871375,
          0.059312628322871375,
          0.059312628322871375,
          0.059312628322871375,
          17.793788496861414,
          17.793788496861414,
          17.793788496861414,
          17.793788496861414,
          17.793788496861414,
          17.793788496861414,
          17.793788496861414,
          17.793788496861414,
          17.793788496861414,
          17.793788496861414,
          17.793788496861414,
          17.793788496861414,
          17.793788496861414,
          17.793788496861414,
          17.793788496861414,
          17.793788496861414,
          0.2965631416143569,
          0.2965631416143569,
          0.2965631416143569,
          0.2965631416143569,
          0.2965631416143569,
          0.2965631416143569,
          0.2965631416143569,
          0.2965631416143569,
          0.2965631416143569,
          0.2965631416143569,
          0.2965631416143569,
          0.2965631416143569,
          0.2965631416143569,
          0.2965631416143569,
          0.2965631416143569,
          0.2965631416143569,
          0.474501026582971,
          0.474501026582971,
          0.474501026582971,
          0.474501026582971,
          0.474501026582971,
          0.474501026582971,
          0.474501026582971,
          0.474501026582971,
          0.474501026582971,
          0.474501026582971,
          0.474501026582971,
          0.474501026582971,
          0.474501026582971,
          0.474501026582971,
          0.474501026582971,
          0.474501026582971,
          3.5587576993722827,
          3.5587576993722827,
          3.5587576993722827,
          3.5587576993722827,
          3.5587576993722827,
          3.5587576993722827,
          3.5587576993722827,
          3.5587576993722827,
          3.5587576993722827,
          3.5587576993722827,
          3.5587576993722827,
          3.5587576993722827,
          3.5587576993722827,
          3.5587576993722827,
          3.5587576993722827,
          3.5587576993722827,
          0.17793788496861412,
          0.17793788496861412,
          0.17793788496861412,
          0.17793788496861412,
          0.17793788496861412,
          0.17793788496861412,
          0.17793788496861412,
          0.17793788496861412,
          0.17793788496861412,
          0.17793788496861412,
          0.17793788496861412,
          0.17793788496861412,
          0.17793788496861412,
          0.17793788496861412,
          0.17793788496861412,
          0.17793788496861412,
          23.72505132914855,
          23.72505132914855,
          23.72505132914855,
          23.72505132914855,
          23.72505132914855,
          23.72505132914855,
          23.72505132914855,
          23.72505132914855,
          23.72505132914855,
          23.72505132914855,
          23.72505132914855,
          23.72505132914855,
          23.72505132914855,
          23.72505132914855,
          23.72505132914855,
          23.72505132914855
         ]
        }
       ],
       "layout": {
        "legend": {
         "title": {
          "text": "col_standin"
         },
         "tracegroupgap": 0
        },
        "margin": {
         "t": 60
        },
        "template": {
         "data": {
          "bar": [
           {
            "error_x": {
             "color": "#2a3f5f"
            },
            "error_y": {
             "color": "#2a3f5f"
            },
            "marker": {
             "line": {
              "color": "#E5ECF6",
              "width": 0.5
             },
             "pattern": {
              "fillmode": "overlay",
              "size": 10,
              "solidity": 0.2
             }
            },
            "type": "bar"
           }
          ],
          "barpolar": [
           {
            "marker": {
             "line": {
              "color": "#E5ECF6",
              "width": 0.5
             },
             "pattern": {
              "fillmode": "overlay",
              "size": 10,
              "solidity": 0.2
             }
            },
            "type": "barpolar"
           }
          ],
          "carpet": [
           {
            "aaxis": {
             "endlinecolor": "#2a3f5f",
             "gridcolor": "white",
             "linecolor": "white",
             "minorgridcolor": "white",
             "startlinecolor": "#2a3f5f"
            },
            "baxis": {
             "endlinecolor": "#2a3f5f",
             "gridcolor": "white",
             "linecolor": "white",
             "minorgridcolor": "white",
             "startlinecolor": "#2a3f5f"
            },
            "type": "carpet"
           }
          ],
          "choropleth": [
           {
            "colorbar": {
             "outlinewidth": 0,
             "ticks": ""
            },
            "type": "choropleth"
           }
          ],
          "contour": [
           {
            "colorbar": {
             "outlinewidth": 0,
             "ticks": ""
            },
            "colorscale": [
             [
              0,
              "#0d0887"
             ],
             [
              0.1111111111111111,
              "#46039f"
             ],
             [
              0.2222222222222222,
              "#7201a8"
             ],
             [
              0.3333333333333333,
              "#9c179e"
             ],
             [
              0.4444444444444444,
              "#bd3786"
             ],
             [
              0.5555555555555556,
              "#d8576b"
             ],
             [
              0.6666666666666666,
              "#ed7953"
             ],
             [
              0.7777777777777778,
              "#fb9f3a"
             ],
             [
              0.8888888888888888,
              "#fdca26"
             ],
             [
              1,
              "#f0f921"
             ]
            ],
            "type": "contour"
           }
          ],
          "contourcarpet": [
           {
            "colorbar": {
             "outlinewidth": 0,
             "ticks": ""
            },
            "type": "contourcarpet"
           }
          ],
          "heatmap": [
           {
            "colorbar": {
             "outlinewidth": 0,
             "ticks": ""
            },
            "colorscale": [
             [
              0,
              "#0d0887"
             ],
             [
              0.1111111111111111,
              "#46039f"
             ],
             [
              0.2222222222222222,
              "#7201a8"
             ],
             [
              0.3333333333333333,
              "#9c179e"
             ],
             [
              0.4444444444444444,
              "#bd3786"
             ],
             [
              0.5555555555555556,
              "#d8576b"
             ],
             [
              0.6666666666666666,
              "#ed7953"
             ],
             [
              0.7777777777777778,
              "#fb9f3a"
             ],
             [
              0.8888888888888888,
              "#fdca26"
             ],
             [
              1,
              "#f0f921"
             ]
            ],
            "type": "heatmap"
           }
          ],
          "heatmapgl": [
           {
            "colorbar": {
             "outlinewidth": 0,
             "ticks": ""
            },
            "colorscale": [
             [
              0,
              "#0d0887"
             ],
             [
              0.1111111111111111,
              "#46039f"
             ],
             [
              0.2222222222222222,
              "#7201a8"
             ],
             [
              0.3333333333333333,
              "#9c179e"
             ],
             [
              0.4444444444444444,
              "#bd3786"
             ],
             [
              0.5555555555555556,
              "#d8576b"
             ],
             [
              0.6666666666666666,
              "#ed7953"
             ],
             [
              0.7777777777777778,
              "#fb9f3a"
             ],
             [
              0.8888888888888888,
              "#fdca26"
             ],
             [
              1,
              "#f0f921"
             ]
            ],
            "type": "heatmapgl"
           }
          ],
          "histogram": [
           {
            "marker": {
             "pattern": {
              "fillmode": "overlay",
              "size": 10,
              "solidity": 0.2
             }
            },
            "type": "histogram"
           }
          ],
          "histogram2d": [
           {
            "colorbar": {
             "outlinewidth": 0,
             "ticks": ""
            },
            "colorscale": [
             [
              0,
              "#0d0887"
             ],
             [
              0.1111111111111111,
              "#46039f"
             ],
             [
              0.2222222222222222,
              "#7201a8"
             ],
             [
              0.3333333333333333,
              "#9c179e"
             ],
             [
              0.4444444444444444,
              "#bd3786"
             ],
             [
              0.5555555555555556,
              "#d8576b"
             ],
             [
              0.6666666666666666,
              "#ed7953"
             ],
             [
              0.7777777777777778,
              "#fb9f3a"
             ],
             [
              0.8888888888888888,
              "#fdca26"
             ],
             [
              1,
              "#f0f921"
             ]
            ],
            "type": "histogram2d"
           }
          ],
          "histogram2dcontour": [
           {
            "colorbar": {
             "outlinewidth": 0,
             "ticks": ""
            },
            "colorscale": [
             [
              0,
              "#0d0887"
             ],
             [
              0.1111111111111111,
              "#46039f"
             ],
             [
              0.2222222222222222,
              "#7201a8"
             ],
             [
              0.3333333333333333,
              "#9c179e"
             ],
             [
              0.4444444444444444,
              "#bd3786"
             ],
             [
              0.5555555555555556,
              "#d8576b"
             ],
             [
              0.6666666666666666,
              "#ed7953"
             ],
             [
              0.7777777777777778,
              "#fb9f3a"
             ],
             [
              0.8888888888888888,
              "#fdca26"
             ],
             [
              1,
              "#f0f921"
             ]
            ],
            "type": "histogram2dcontour"
           }
          ],
          "mesh3d": [
           {
            "colorbar": {
             "outlinewidth": 0,
             "ticks": ""
            },
            "type": "mesh3d"
           }
          ],
          "parcoords": [
           {
            "line": {
             "colorbar": {
              "outlinewidth": 0,
              "ticks": ""
             }
            },
            "type": "parcoords"
           }
          ],
          "pie": [
           {
            "automargin": true,
            "type": "pie"
           }
          ],
          "scatter": [
           {
            "fillpattern": {
             "fillmode": "overlay",
             "size": 10,
             "solidity": 0.2
            },
            "type": "scatter"
           }
          ],
          "scatter3d": [
           {
            "line": {
             "colorbar": {
              "outlinewidth": 0,
              "ticks": ""
             }
            },
            "marker": {
             "colorbar": {
              "outlinewidth": 0,
              "ticks": ""
             }
            },
            "type": "scatter3d"
           }
          ],
          "scattercarpet": [
           {
            "marker": {
             "colorbar": {
              "outlinewidth": 0,
              "ticks": ""
             }
            },
            "type": "scattercarpet"
           }
          ],
          "scattergeo": [
           {
            "marker": {
             "colorbar": {
              "outlinewidth": 0,
              "ticks": ""
             }
            },
            "type": "scattergeo"
           }
          ],
          "scattergl": [
           {
            "marker": {
             "colorbar": {
              "outlinewidth": 0,
              "ticks": ""
             }
            },
            "type": "scattergl"
           }
          ],
          "scattermapbox": [
           {
            "marker": {
             "colorbar": {
              "outlinewidth": 0,
              "ticks": ""
             }
            },
            "type": "scattermapbox"
           }
          ],
          "scatterpolar": [
           {
            "marker": {
             "colorbar": {
              "outlinewidth": 0,
              "ticks": ""
             }
            },
            "type": "scatterpolar"
           }
          ],
          "scatterpolargl": [
           {
            "marker": {
             "colorbar": {
              "outlinewidth": 0,
              "ticks": ""
             }
            },
            "type": "scatterpolargl"
           }
          ],
          "scatterternary": [
           {
            "marker": {
             "colorbar": {
              "outlinewidth": 0,
              "ticks": ""
             }
            },
            "type": "scatterternary"
           }
          ],
          "surface": [
           {
            "colorbar": {
             "outlinewidth": 0,
             "ticks": ""
            },
            "colorscale": [
             [
              0,
              "#0d0887"
             ],
             [
              0.1111111111111111,
              "#46039f"
             ],
             [
              0.2222222222222222,
              "#7201a8"
             ],
             [
              0.3333333333333333,
              "#9c179e"
             ],
             [
              0.4444444444444444,
              "#bd3786"
             ],
             [
              0.5555555555555556,
              "#d8576b"
             ],
             [
              0.6666666666666666,
              "#ed7953"
             ],
             [
              0.7777777777777778,
              "#fb9f3a"
             ],
             [
              0.8888888888888888,
              "#fdca26"
             ],
             [
              1,
              "#f0f921"
             ]
            ],
            "type": "surface"
           }
          ],
          "table": [
           {
            "cells": {
             "fill": {
              "color": "#EBF0F8"
             },
             "line": {
              "color": "white"
             }
            },
            "header": {
             "fill": {
              "color": "#C8D4E3"
             },
             "line": {
              "color": "white"
             }
            },
            "type": "table"
           }
          ]
         },
         "layout": {
          "annotationdefaults": {
           "arrowcolor": "#2a3f5f",
           "arrowhead": 0,
           "arrowwidth": 1
          },
          "autotypenumbers": "strict",
          "coloraxis": {
           "colorbar": {
            "outlinewidth": 0,
            "ticks": ""
           }
          },
          "colorscale": {
           "diverging": [
            [
             0,
             "#8e0152"
            ],
            [
             0.1,
             "#c51b7d"
            ],
            [
             0.2,
             "#de77ae"
            ],
            [
             0.3,
             "#f1b6da"
            ],
            [
             0.4,
             "#fde0ef"
            ],
            [
             0.5,
             "#f7f7f7"
            ],
            [
             0.6,
             "#e6f5d0"
            ],
            [
             0.7,
             "#b8e186"
            ],
            [
             0.8,
             "#7fbc41"
            ],
            [
             0.9,
             "#4d9221"
            ],
            [
             1,
             "#276419"
            ]
           ],
           "sequential": [
            [
             0,
             "#0d0887"
            ],
            [
             0.1111111111111111,
             "#46039f"
            ],
            [
             0.2222222222222222,
             "#7201a8"
            ],
            [
             0.3333333333333333,
             "#9c179e"
            ],
            [
             0.4444444444444444,
             "#bd3786"
            ],
            [
             0.5555555555555556,
             "#d8576b"
            ],
            [
             0.6666666666666666,
             "#ed7953"
            ],
            [
             0.7777777777777778,
             "#fb9f3a"
            ],
            [
             0.8888888888888888,
             "#fdca26"
            ],
            [
             1,
             "#f0f921"
            ]
           ],
           "sequentialminus": [
            [
             0,
             "#0d0887"
            ],
            [
             0.1111111111111111,
             "#46039f"
            ],
            [
             0.2222222222222222,
             "#7201a8"
            ],
            [
             0.3333333333333333,
             "#9c179e"
            ],
            [
             0.4444444444444444,
             "#bd3786"
            ],
            [
             0.5555555555555556,
             "#d8576b"
            ],
            [
             0.6666666666666666,
             "#ed7953"
            ],
            [
             0.7777777777777778,
             "#fb9f3a"
            ],
            [
             0.8888888888888888,
             "#fdca26"
            ],
            [
             1,
             "#f0f921"
            ]
           ]
          },
          "colorway": [
           "#636efa",
           "#EF553B",
           "#00cc96",
           "#ab63fa",
           "#FFA15A",
           "#19d3f3",
           "#FF6692",
           "#B6E880",
           "#FF97FF",
           "#FECB52"
          ],
          "font": {
           "color": "#2a3f5f"
          },
          "geo": {
           "bgcolor": "white",
           "lakecolor": "white",
           "landcolor": "#E5ECF6",
           "showlakes": true,
           "showland": true,
           "subunitcolor": "white"
          },
          "hoverlabel": {
           "align": "left"
          },
          "hovermode": "closest",
          "mapbox": {
           "style": "light"
          },
          "paper_bgcolor": "white",
          "plot_bgcolor": "#E5ECF6",
          "polar": {
           "angularaxis": {
            "gridcolor": "white",
            "linecolor": "white",
            "ticks": ""
           },
           "bgcolor": "#E5ECF6",
           "radialaxis": {
            "gridcolor": "white",
            "linecolor": "white",
            "ticks": ""
           }
          },
          "scene": {
           "xaxis": {
            "backgroundcolor": "#E5ECF6",
            "gridcolor": "white",
            "gridwidth": 2,
            "linecolor": "white",
            "showbackground": true,
            "ticks": "",
            "zerolinecolor": "white"
           },
           "yaxis": {
            "backgroundcolor": "#E5ECF6",
            "gridcolor": "white",
            "gridwidth": 2,
            "linecolor": "white",
            "showbackground": true,
            "ticks": "",
            "zerolinecolor": "white"
           },
           "zaxis": {
            "backgroundcolor": "#E5ECF6",
            "gridcolor": "white",
            "gridwidth": 2,
            "linecolor": "white",
            "showbackground": true,
            "ticks": "",
            "zerolinecolor": "white"
           }
          },
          "shapedefaults": {
           "line": {
            "color": "#2a3f5f"
           }
          },
          "ternary": {
           "aaxis": {
            "gridcolor": "white",
            "linecolor": "white",
            "ticks": ""
           },
           "baxis": {
            "gridcolor": "white",
            "linecolor": "white",
            "ticks": ""
           },
           "bgcolor": "#E5ECF6",
           "caxis": {
            "gridcolor": "white",
            "linecolor": "white",
            "ticks": ""
           }
          },
          "title": {
           "x": 0.05
          },
          "xaxis": {
           "automargin": true,
           "gridcolor": "white",
           "linecolor": "white",
           "ticks": "",
           "title": {
            "standoff": 15
           },
           "zerolinecolor": "white",
           "zerolinewidth": 2
          },
          "yaxis": {
           "automargin": true,
           "gridcolor": "white",
           "linecolor": "white",
           "ticks": "",
           "title": {
            "standoff": 15
           },
           "zerolinecolor": "white",
           "zerolinewidth": 2
          }
         }
        },
        "xaxis": {
         "anchor": "y",
         "domain": [
          0,
          1
         ],
         "title": {
          "text": "Sample size (Gb)"
         }
        },
        "yaxis": {
         "anchor": "x",
         "domain": [
          0,
          1
         ],
         "title": {
          "text": "Depth median"
         }
        }
       }
      },
      "text/html": [
       "<div>                            <div id=\"b741b074-6c6b-4d9b-9220-1d2ba337b1e9\" class=\"plotly-graph-div\" style=\"height:525px; width:100%;\"></div>            <script type=\"text/javascript\">                require([\"plotly\"], function(Plotly) {                    window.PLOTLYENV=window.PLOTLYENV || {};                                    if (document.getElementById(\"b741b074-6c6b-4d9b-9220-1d2ba337b1e9\")) {                    Plotly.newPlot(                        \"b741b074-6c6b-4d9b-9220-1d2ba337b1e9\",                        [{\"hovertemplate\":\"col_standin=Median Depth<br>Sample size (Gb)=%{x}<br>Depth median=%{y}<extra></extra>\",\"legendgroup\":\"Median Depth\",\"marker\":{\"color\":\"#636efa\",\"symbol\":\"circle\"},\"mode\":\"markers\",\"name\":\"Median Depth\",\"orientation\":\"v\",\"showlegend\":true,\"x\":[0.5,0.5,0.5,0.5,0.5,0.5,0.5,0.5,0.5,0.5,0.5,0.5,0.5,0.5,0.5,0.5,0.9,0.9,0.9,0.9,0.9,0.9,0.9,0.9,0.9,0.9,0.9,0.9,0.9,0.9,0.9,0.9,0.01,0.01,0.01,0.01,0.01,0.01,0.01,0.01,0.01,0.01,0.01,0.01,0.01,0.01,0.01,0.01,0.07,0.07,0.07,0.07,0.07,0.07,0.07,0.07,0.07,0.07,0.07,0.07,0.07,0.07,0.07,0.07,0.02,0.02,0.02,0.02,0.02,0.02,0.02,0.02,0.02,0.02,0.02,0.02,0.02,0.02,0.02,0.02,0.09,0.09,0.09,0.09,0.09,0.09,0.09,0.09,0.09,0.09,0.09,0.09,0.09,0.09,0.09,0.09,0.007,0.007,0.007,0.007,0.007,0.007,0.007,0.007,0.007,0.007,0.007,0.007,0.007,0.007,0.007,0.007,0.006,0.006,0.006,0.006,0.006,0.006,0.006,0.006,0.006,0.006,0.006,0.006,0.006,0.006,0.006,0.006,0.6,0.6,0.6,0.6,0.6,0.6,0.6,0.6,0.6,0.6,0.6,0.6,0.6,0.6,0.6,0.6,0.08,0.08,0.08,0.08,0.08,0.08,0.08,0.08,0.08,0.08,0.08,0.08,0.08,0.08,0.08,0.08,0.04,0.04,0.04,0.04,0.04,0.04,0.04,0.04,0.04,0.04,0.04,0.04,0.04,0.04,0.04,0.04,0.05,0.05,0.05,0.05,0.05,0.05,0.05,0.05,0.05,0.05,0.05,0.05,0.05,0.05,0.05,0.05,1.0,1.0,1.0,1.0,1.0,1.0,1.0,1.0,1.0,1.0,1.0,1.0,1.0,1.0,1.0,1.0,0.03,0.03,0.03,0.03,0.03,0.03,0.03,0.03,0.03,0.03,0.03,0.03,0.03,0.03,0.03,0.03,0.004,0.004,0.004,0.004,0.004,0.004,0.004,0.004,0.004,0.004,0.004,0.004,0.004,0.004,0.004,0.004,0.002,0.002,0.002,0.002,0.002,0.002,0.002,0.002,0.002,0.002,0.002,0.002,0.002,0.002,0.002,0.002,0.009,0.009,0.009,0.009,0.009,0.009,0.009,0.009,0.009,0.009,0.009,0.009,0.009,0.009,0.009,0.009,0.7,0.7,0.7,0.7,0.7,0.7,0.7,0.7,0.7,0.7,0.7,0.7,0.7,0.7,0.7,0.7,0.8,0.8,0.8,0.8,0.8,0.8,0.8,0.8,0.8,0.8,0.8,0.8,0.8,0.8,0.8,0.8,0.2,0.2,0.2,0.2,0.2,0.2,0.2,0.2,0.2,0.2,0.2,0.2,0.2,0.2,0.2,0.2,0.1,0.1,0.1,0.1,0.1,0.1,0.1,0.1,0.1,0.1,0.1,0.1,0.1,0.1,0.1,0.1,0.001,0.001,0.001,0.001,0.001,0.001,0.001,0.001,0.001,0.001,0.001,0.001,0.001,0.001,0.001,0.3,0.3,0.3,0.3,0.3,0.3,0.3,0.3,0.3,0.3,0.3,0.3,0.3,0.3,0.3,0.3,0.005,0.005,0.005,0.005,0.005,0.005,0.005,0.005,0.005,0.005,0.005,0.005,0.005,0.005,0.005,0.005,0.008,0.008,0.008,0.008,0.008,0.008,0.008,0.008,0.008,0.008,0.008,0.008,0.008,0.008,0.008,0.008,0.06,0.06,0.06,0.06,0.06,0.06,0.06,0.06,0.06,0.06,0.06,0.06,0.06,0.06,0.06,0.06,0.003,0.003,0.003,0.003,0.003,0.003,0.003,0.003,0.003,0.003,0.003,0.003,0.003,0.003,0.003,0.003,0.4,0.4,0.4,0.4,0.4,0.4,0.4,0.4,0.4,0.4,0.4,0.4,0.4,0.4,0.4,0.4],\"xaxis\":\"x\",\"y\":[24.0,25.0,26.0,25.0,25.0,27.0,24.0,26.0,27.0,25.0,25.0,26.0,24.0,25.0,24.0,24.0,45.0,45.0,46.0,46.0,46.0,48.0,45.0,45.0,46.0,45.0,45.0,47.0,44.0,44.0,45.0,46.0,1.0,1.0,1.0,1.0,1.0,2.0,1.0,1.0,1.0,1.0,1.0,1.0,1.0,1.0,1.0,1.0,3.0,3.0,4.0,4.0,3.0,5.0,3.0,4.0,4.0,4.0,3.0,3.0,4.0,3.0,3.0,4.0,1.0,2.0,1.0,1.0,1.0,2.0,1.0,1.0,2.0,1.0,2.0,2.0,1.0,1.0,2.0,1.0,5.0,4.0,4.0,5.0,4.0,6.0,4.0,5.0,5.0,4.0,5.0,5.0,4.0,4.0,4.0,4.0,1.0,1.0,1.0,1.0,1.0,4.0,1.0,1.0,1.0,1.0,1.0,1.0,1.0,1.0,1.0,1.0,1.0,1.0,1.0,1.0,1.0,4.0,1.0,1.0,1.0,1.0,1.0,1.0,1.0,1.0,1.0,1.0,30.0,30.0,32.0,29.0,30.0,33.0,29.0,29.0,32.0,30.0,30.0,31.0,29.0,30.0,29.0,30.0,4.0,4.0,4.0,4.0,4.0,5.0,4.0,4.0,4.0,4.0,4.0,4.0,4.0,4.0,4.0,4.0,2.0,2.0,2.0,2.0,2.0,3.0,2.0,2.0,3.0,2.0,2.0,2.0,2.0,2.0,2.0,2.0,3.0,3.0,3.0,3.0,3.0,3.0,3.0,3.0,3.0,3.0,2.0,3.0,3.0,2.0,2.0,3.0,50.0,51.0,50.0,51.0,49.0,54.0,49.0,52.0,54.0,50.0,50.0,51.0,50.0,48.0,50.0,49.0,2.0,2.0,2.0,2.0,2.0,2.0,2.0,2.0,2.0,2.0,2.0,2.0,2.0,1.0,2.0,2.0,1.0,1.0,1.0,1.0,1.0,3.0,1.0,1.0,1.0,1.0,1.0,1.0,1.0,1.0,1.0,1.0,1.0,1.0,1.0,1.0,1.0,2.0,1.0,1.0,1.0,1.0,1.0,1.0,1.0,1.0,1.0,1.0,1.0,1.0,1.0,1.0,1.0,3.0,1.0,1.0,1.0,1.0,1.0,1.0,1.0,1.0,1.0,1.0,35.0,35.0,36.0,34.0,34.0,37.0,35.0,35.0,38.0,35.0,35.0,35.0,35.0,35.0,34.0,37.0,39.0,39.0,39.0,42.0,39.0,43.0,40.0,40.0,43.0,41.0,39.0,40.0,39.0,41.0,40.0,39.0,10.0,10.0,10.0,10.0,10.0,12.0,10.0,10.0,12.0,9.0,10.0,10.0,9.0,9.0,9.0,9.0,5.0,5.0,5.0,5.0,5.0,6.0,5.0,5.0,6.0,4.0,5.0,5.0,5.0,5.0,5.0,4.0,1.0,1.0,1.0,1.0,1.0,1.0,1.0,1.0,1.0,1.0,1.0,1.0,1.0,1.0,1.0,14.0,14.0,15.0,15.0,16.0,16.0,14.0,15.0,17.0,15.0,15.0,14.0,15.0,16.0,15.0,15.0,1.0,1.0,1.0,1.0,1.0,3.0,1.0,1.0,1.0,1.0,1.0,1.0,1.0,1.0,1.0,1.0,1.0,1.0,1.0,1.0,1.0,2.0,1.0,1.0,1.0,1.0,1.0,1.0,1.0,1.0,1.0,1.0,3.0,3.0,3.0,3.0,3.0,4.0,3.0,3.0,4.0,3.0,3.0,3.0,3.0,3.0,3.0,3.0,1.0,1.0,1.0,1.0,1.0,2.0,1.0,1.0,1.0,1.0,1.0,1.0,1.0,1.0,1.0,1.0,21.0,19.0,20.0,20.0,19.0,21.0,20.0,20.0,21.0,20.0,20.0,19.0,19.0,19.0,19.0,21.0],\"yaxis\":\"y\",\"type\":\"scatter\"},{\"name\":\"Expected\",\"x\":[0.5,0.5,0.5,0.5,0.5,0.5,0.5,0.5,0.5,0.5,0.5,0.5,0.5,0.5,0.5,0.5,0.9,0.9,0.9,0.9,0.9,0.9,0.9,0.9,0.9,0.9,0.9,0.9,0.9,0.9,0.9,0.9,0.01,0.01,0.01,0.01,0.01,0.01,0.01,0.01,0.01,0.01,0.01,0.01,0.01,0.01,0.01,0.01,0.07,0.07,0.07,0.07,0.07,0.07,0.07,0.07,0.07,0.07,0.07,0.07,0.07,0.07,0.07,0.07,0.02,0.02,0.02,0.02,0.02,0.02,0.02,0.02,0.02,0.02,0.02,0.02,0.02,0.02,0.02,0.02,0.09,0.09,0.09,0.09,0.09,0.09,0.09,0.09,0.09,0.09,0.09,0.09,0.09,0.09,0.09,0.09,0.007,0.007,0.007,0.007,0.007,0.007,0.007,0.007,0.007,0.007,0.007,0.007,0.007,0.007,0.007,0.007,0.006,0.006,0.006,0.006,0.006,0.006,0.006,0.006,0.006,0.006,0.006,0.006,0.006,0.006,0.006,0.006,0.6,0.6,0.6,0.6,0.6,0.6,0.6,0.6,0.6,0.6,0.6,0.6,0.6,0.6,0.6,0.6,0.08,0.08,0.08,0.08,0.08,0.08,0.08,0.08,0.08,0.08,0.08,0.08,0.08,0.08,0.08,0.08,0.04,0.04,0.04,0.04,0.04,0.04,0.04,0.04,0.04,0.04,0.04,0.04,0.04,0.04,0.04,0.04,0.05,0.05,0.05,0.05,0.05,0.05,0.05,0.05,0.05,0.05,0.05,0.05,0.05,0.05,0.05,0.05,1.0,1.0,1.0,1.0,1.0,1.0,1.0,1.0,1.0,1.0,1.0,1.0,1.0,1.0,1.0,1.0,0.03,0.03,0.03,0.03,0.03,0.03,0.03,0.03,0.03,0.03,0.03,0.03,0.03,0.03,0.03,0.03,0.004,0.004,0.004,0.004,0.004,0.004,0.004,0.004,0.004,0.004,0.004,0.004,0.004,0.004,0.004,0.004,0.002,0.002,0.002,0.002,0.002,0.002,0.002,0.002,0.002,0.002,0.002,0.002,0.002,0.002,0.002,0.002,0.009,0.009,0.009,0.009,0.009,0.009,0.009,0.009,0.009,0.009,0.009,0.009,0.009,0.009,0.009,0.009,0.7,0.7,0.7,0.7,0.7,0.7,0.7,0.7,0.7,0.7,0.7,0.7,0.7,0.7,0.7,0.7,0.8,0.8,0.8,0.8,0.8,0.8,0.8,0.8,0.8,0.8,0.8,0.8,0.8,0.8,0.8,0.8,0.2,0.2,0.2,0.2,0.2,0.2,0.2,0.2,0.2,0.2,0.2,0.2,0.2,0.2,0.2,0.2,0.1,0.1,0.1,0.1,0.1,0.1,0.1,0.1,0.1,0.1,0.1,0.1,0.1,0.1,0.1,0.1,0.001,0.001,0.001,0.001,0.001,0.001,0.001,0.001,0.001,0.001,0.001,0.001,0.001,0.001,0.001,0.3,0.3,0.3,0.3,0.3,0.3,0.3,0.3,0.3,0.3,0.3,0.3,0.3,0.3,0.3,0.3,0.005,0.005,0.005,0.005,0.005,0.005,0.005,0.005,0.005,0.005,0.005,0.005,0.005,0.005,0.005,0.005,0.008,0.008,0.008,0.008,0.008,0.008,0.008,0.008,0.008,0.008,0.008,0.008,0.008,0.008,0.008,0.008,0.06,0.06,0.06,0.06,0.06,0.06,0.06,0.06,0.06,0.06,0.06,0.06,0.06,0.06,0.06,0.06,0.003,0.003,0.003,0.003,0.003,0.003,0.003,0.003,0.003,0.003,0.003,0.003,0.003,0.003,0.003,0.003,0.4,0.4,0.4,0.4,0.4,0.4,0.4,0.4,0.4,0.4,0.4,0.4,0.4,0.4,0.4,0.4],\"y\":[29.656314161435688,29.656314161435688,29.656314161435688,29.656314161435688,29.656314161435688,29.656314161435688,29.656314161435688,29.656314161435688,29.656314161435688,29.656314161435688,29.656314161435688,29.656314161435688,29.656314161435688,29.656314161435688,29.656314161435688,29.656314161435688,53.38136549058424,53.38136549058424,53.38136549058424,53.38136549058424,53.38136549058424,53.38136549058424,53.38136549058424,53.38136549058424,53.38136549058424,53.38136549058424,53.38136549058424,53.38136549058424,53.38136549058424,53.38136549058424,53.38136549058424,53.38136549058424,0.5931262832287137,0.5931262832287137,0.5931262832287137,0.5931262832287137,0.5931262832287137,0.5931262832287137,0.5931262832287137,0.5931262832287137,0.5931262832287137,0.5931262832287137,0.5931262832287137,0.5931262832287137,0.5931262832287137,0.5931262832287137,0.5931262832287137,0.5931262832287137,4.151883982600997,4.151883982600997,4.151883982600997,4.151883982600997,4.151883982600997,4.151883982600997,4.151883982600997,4.151883982600997,4.151883982600997,4.151883982600997,4.151883982600997,4.151883982600997,4.151883982600997,4.151883982600997,4.151883982600997,4.151883982600997,1.1862525664574275,1.1862525664574275,1.1862525664574275,1.1862525664574275,1.1862525664574275,1.1862525664574275,1.1862525664574275,1.1862525664574275,1.1862525664574275,1.1862525664574275,1.1862525664574275,1.1862525664574275,1.1862525664574275,1.1862525664574275,1.1862525664574275,1.1862525664574275,5.338136549058424,5.338136549058424,5.338136549058424,5.338136549058424,5.338136549058424,5.338136549058424,5.338136549058424,5.338136549058424,5.338136549058424,5.338136549058424,5.338136549058424,5.338136549058424,5.338136549058424,5.338136549058424,5.338136549058424,5.338136549058424,0.4151883982600996,0.4151883982600996,0.4151883982600996,0.4151883982600996,0.4151883982600996,0.4151883982600996,0.4151883982600996,0.4151883982600996,0.4151883982600996,0.4151883982600996,0.4151883982600996,0.4151883982600996,0.4151883982600996,0.4151883982600996,0.4151883982600996,0.4151883982600996,0.35587576993722825,0.35587576993722825,0.35587576993722825,0.35587576993722825,0.35587576993722825,0.35587576993722825,0.35587576993722825,0.35587576993722825,0.35587576993722825,0.35587576993722825,0.35587576993722825,0.35587576993722825,0.35587576993722825,0.35587576993722825,0.35587576993722825,0.35587576993722825,35.58757699372283,35.58757699372283,35.58757699372283,35.58757699372283,35.58757699372283,35.58757699372283,35.58757699372283,35.58757699372283,35.58757699372283,35.58757699372283,35.58757699372283,35.58757699372283,35.58757699372283,35.58757699372283,35.58757699372283,35.58757699372283,4.74501026582971,4.74501026582971,4.74501026582971,4.74501026582971,4.74501026582971,4.74501026582971,4.74501026582971,4.74501026582971,4.74501026582971,4.74501026582971,4.74501026582971,4.74501026582971,4.74501026582971,4.74501026582971,4.74501026582971,4.74501026582971,2.372505132914855,2.372505132914855,2.372505132914855,2.372505132914855,2.372505132914855,2.372505132914855,2.372505132914855,2.372505132914855,2.372505132914855,2.372505132914855,2.372505132914855,2.372505132914855,2.372505132914855,2.372505132914855,2.372505132914855,2.372505132914855,2.9656314161435686,2.9656314161435686,2.9656314161435686,2.9656314161435686,2.9656314161435686,2.9656314161435686,2.9656314161435686,2.9656314161435686,2.9656314161435686,2.9656314161435686,2.9656314161435686,2.9656314161435686,2.9656314161435686,2.9656314161435686,2.9656314161435686,2.9656314161435686,59.312628322871376,59.312628322871376,59.312628322871376,59.312628322871376,59.312628322871376,59.312628322871376,59.312628322871376,59.312628322871376,59.312628322871376,59.312628322871376,59.312628322871376,59.312628322871376,59.312628322871376,59.312628322871376,59.312628322871376,59.312628322871376,1.7793788496861414,1.7793788496861414,1.7793788496861414,1.7793788496861414,1.7793788496861414,1.7793788496861414,1.7793788496861414,1.7793788496861414,1.7793788496861414,1.7793788496861414,1.7793788496861414,1.7793788496861414,1.7793788496861414,1.7793788496861414,1.7793788496861414,1.7793788496861414,0.2372505132914855,0.2372505132914855,0.2372505132914855,0.2372505132914855,0.2372505132914855,0.2372505132914855,0.2372505132914855,0.2372505132914855,0.2372505132914855,0.2372505132914855,0.2372505132914855,0.2372505132914855,0.2372505132914855,0.2372505132914855,0.2372505132914855,0.2372505132914855,0.11862525664574275,0.11862525664574275,0.11862525664574275,0.11862525664574275,0.11862525664574275,0.11862525664574275,0.11862525664574275,0.11862525664574275,0.11862525664574275,0.11862525664574275,0.11862525664574275,0.11862525664574275,0.11862525664574275,0.11862525664574275,0.11862525664574275,0.11862525664574275,0.5338136549058424,0.5338136549058424,0.5338136549058424,0.5338136549058424,0.5338136549058424,0.5338136549058424,0.5338136549058424,0.5338136549058424,0.5338136549058424,0.5338136549058424,0.5338136549058424,0.5338136549058424,0.5338136549058424,0.5338136549058424,0.5338136549058424,0.5338136549058424,41.518839826009966,41.518839826009966,41.518839826009966,41.518839826009966,41.518839826009966,41.518839826009966,41.518839826009966,41.518839826009966,41.518839826009966,41.518839826009966,41.518839826009966,41.518839826009966,41.518839826009966,41.518839826009966,41.518839826009966,41.518839826009966,47.4501026582971,47.4501026582971,47.4501026582971,47.4501026582971,47.4501026582971,47.4501026582971,47.4501026582971,47.4501026582971,47.4501026582971,47.4501026582971,47.4501026582971,47.4501026582971,47.4501026582971,47.4501026582971,47.4501026582971,47.4501026582971,11.862525664574274,11.862525664574274,11.862525664574274,11.862525664574274,11.862525664574274,11.862525664574274,11.862525664574274,11.862525664574274,11.862525664574274,11.862525664574274,11.862525664574274,11.862525664574274,11.862525664574274,11.862525664574274,11.862525664574274,11.862525664574274,5.931262832287137,5.931262832287137,5.931262832287137,5.931262832287137,5.931262832287137,5.931262832287137,5.931262832287137,5.931262832287137,5.931262832287137,5.931262832287137,5.931262832287137,5.931262832287137,5.931262832287137,5.931262832287137,5.931262832287137,5.931262832287137,0.059312628322871375,0.059312628322871375,0.059312628322871375,0.059312628322871375,0.059312628322871375,0.059312628322871375,0.059312628322871375,0.059312628322871375,0.059312628322871375,0.059312628322871375,0.059312628322871375,0.059312628322871375,0.059312628322871375,0.059312628322871375,0.059312628322871375,17.793788496861414,17.793788496861414,17.793788496861414,17.793788496861414,17.793788496861414,17.793788496861414,17.793788496861414,17.793788496861414,17.793788496861414,17.793788496861414,17.793788496861414,17.793788496861414,17.793788496861414,17.793788496861414,17.793788496861414,17.793788496861414,0.2965631416143569,0.2965631416143569,0.2965631416143569,0.2965631416143569,0.2965631416143569,0.2965631416143569,0.2965631416143569,0.2965631416143569,0.2965631416143569,0.2965631416143569,0.2965631416143569,0.2965631416143569,0.2965631416143569,0.2965631416143569,0.2965631416143569,0.2965631416143569,0.474501026582971,0.474501026582971,0.474501026582971,0.474501026582971,0.474501026582971,0.474501026582971,0.474501026582971,0.474501026582971,0.474501026582971,0.474501026582971,0.474501026582971,0.474501026582971,0.474501026582971,0.474501026582971,0.474501026582971,0.474501026582971,3.5587576993722827,3.5587576993722827,3.5587576993722827,3.5587576993722827,3.5587576993722827,3.5587576993722827,3.5587576993722827,3.5587576993722827,3.5587576993722827,3.5587576993722827,3.5587576993722827,3.5587576993722827,3.5587576993722827,3.5587576993722827,3.5587576993722827,3.5587576993722827,0.17793788496861412,0.17793788496861412,0.17793788496861412,0.17793788496861412,0.17793788496861412,0.17793788496861412,0.17793788496861412,0.17793788496861412,0.17793788496861412,0.17793788496861412,0.17793788496861412,0.17793788496861412,0.17793788496861412,0.17793788496861412,0.17793788496861412,0.17793788496861412,23.72505132914855,23.72505132914855,23.72505132914855,23.72505132914855,23.72505132914855,23.72505132914855,23.72505132914855,23.72505132914855,23.72505132914855,23.72505132914855,23.72505132914855,23.72505132914855,23.72505132914855,23.72505132914855,23.72505132914855,23.72505132914855],\"type\":\"scatter\"}],                        {\"template\":{\"data\":{\"histogram2dcontour\":[{\"type\":\"histogram2dcontour\",\"colorbar\":{\"outlinewidth\":0,\"ticks\":\"\"},\"colorscale\":[[0.0,\"#0d0887\"],[0.1111111111111111,\"#46039f\"],[0.2222222222222222,\"#7201a8\"],[0.3333333333333333,\"#9c179e\"],[0.4444444444444444,\"#bd3786\"],[0.5555555555555556,\"#d8576b\"],[0.6666666666666666,\"#ed7953\"],[0.7777777777777778,\"#fb9f3a\"],[0.8888888888888888,\"#fdca26\"],[1.0,\"#f0f921\"]]}],\"choropleth\":[{\"type\":\"choropleth\",\"colorbar\":{\"outlinewidth\":0,\"ticks\":\"\"}}],\"histogram2d\":[{\"type\":\"histogram2d\",\"colorbar\":{\"outlinewidth\":0,\"ticks\":\"\"},\"colorscale\":[[0.0,\"#0d0887\"],[0.1111111111111111,\"#46039f\"],[0.2222222222222222,\"#7201a8\"],[0.3333333333333333,\"#9c179e\"],[0.4444444444444444,\"#bd3786\"],[0.5555555555555556,\"#d8576b\"],[0.6666666666666666,\"#ed7953\"],[0.7777777777777778,\"#fb9f3a\"],[0.8888888888888888,\"#fdca26\"],[1.0,\"#f0f921\"]]}],\"heatmap\":[{\"type\":\"heatmap\",\"colorbar\":{\"outlinewidth\":0,\"ticks\":\"\"},\"colorscale\":[[0.0,\"#0d0887\"],[0.1111111111111111,\"#46039f\"],[0.2222222222222222,\"#7201a8\"],[0.3333333333333333,\"#9c179e\"],[0.4444444444444444,\"#bd3786\"],[0.5555555555555556,\"#d8576b\"],[0.6666666666666666,\"#ed7953\"],[0.7777777777777778,\"#fb9f3a\"],[0.8888888888888888,\"#fdca26\"],[1.0,\"#f0f921\"]]}],\"heatmapgl\":[{\"type\":\"heatmapgl\",\"colorbar\":{\"outlinewidth\":0,\"ticks\":\"\"},\"colorscale\":[[0.0,\"#0d0887\"],[0.1111111111111111,\"#46039f\"],[0.2222222222222222,\"#7201a8\"],[0.3333333333333333,\"#9c179e\"],[0.4444444444444444,\"#bd3786\"],[0.5555555555555556,\"#d8576b\"],[0.6666666666666666,\"#ed7953\"],[0.7777777777777778,\"#fb9f3a\"],[0.8888888888888888,\"#fdca26\"],[1.0,\"#f0f921\"]]}],\"contourcarpet\":[{\"type\":\"contourcarpet\",\"colorbar\":{\"outlinewidth\":0,\"ticks\":\"\"}}],\"contour\":[{\"type\":\"contour\",\"colorbar\":{\"outlinewidth\":0,\"ticks\":\"\"},\"colorscale\":[[0.0,\"#0d0887\"],[0.1111111111111111,\"#46039f\"],[0.2222222222222222,\"#7201a8\"],[0.3333333333333333,\"#9c179e\"],[0.4444444444444444,\"#bd3786\"],[0.5555555555555556,\"#d8576b\"],[0.6666666666666666,\"#ed7953\"],[0.7777777777777778,\"#fb9f3a\"],[0.8888888888888888,\"#fdca26\"],[1.0,\"#f0f921\"]]}],\"surface\":[{\"type\":\"surface\",\"colorbar\":{\"outlinewidth\":0,\"ticks\":\"\"},\"colorscale\":[[0.0,\"#0d0887\"],[0.1111111111111111,\"#46039f\"],[0.2222222222222222,\"#7201a8\"],[0.3333333333333333,\"#9c179e\"],[0.4444444444444444,\"#bd3786\"],[0.5555555555555556,\"#d8576b\"],[0.6666666666666666,\"#ed7953\"],[0.7777777777777778,\"#fb9f3a\"],[0.8888888888888888,\"#fdca26\"],[1.0,\"#f0f921\"]]}],\"mesh3d\":[{\"type\":\"mesh3d\",\"colorbar\":{\"outlinewidth\":0,\"ticks\":\"\"}}],\"scatter\":[{\"fillpattern\":{\"fillmode\":\"overlay\",\"size\":10,\"solidity\":0.2},\"type\":\"scatter\"}],\"parcoords\":[{\"type\":\"parcoords\",\"line\":{\"colorbar\":{\"outlinewidth\":0,\"ticks\":\"\"}}}],\"scatterpolargl\":[{\"type\":\"scatterpolargl\",\"marker\":{\"colorbar\":{\"outlinewidth\":0,\"ticks\":\"\"}}}],\"bar\":[{\"error_x\":{\"color\":\"#2a3f5f\"},\"error_y\":{\"color\":\"#2a3f5f\"},\"marker\":{\"line\":{\"color\":\"#E5ECF6\",\"width\":0.5},\"pattern\":{\"fillmode\":\"overlay\",\"size\":10,\"solidity\":0.2}},\"type\":\"bar\"}],\"scattergeo\":[{\"type\":\"scattergeo\",\"marker\":{\"colorbar\":{\"outlinewidth\":0,\"ticks\":\"\"}}}],\"scatterpolar\":[{\"type\":\"scatterpolar\",\"marker\":{\"colorbar\":{\"outlinewidth\":0,\"ticks\":\"\"}}}],\"histogram\":[{\"marker\":{\"pattern\":{\"fillmode\":\"overlay\",\"size\":10,\"solidity\":0.2}},\"type\":\"histogram\"}],\"scattergl\":[{\"type\":\"scattergl\",\"marker\":{\"colorbar\":{\"outlinewidth\":0,\"ticks\":\"\"}}}],\"scatter3d\":[{\"type\":\"scatter3d\",\"line\":{\"colorbar\":{\"outlinewidth\":0,\"ticks\":\"\"}},\"marker\":{\"colorbar\":{\"outlinewidth\":0,\"ticks\":\"\"}}}],\"scattermapbox\":[{\"type\":\"scattermapbox\",\"marker\":{\"colorbar\":{\"outlinewidth\":0,\"ticks\":\"\"}}}],\"scatterternary\":[{\"type\":\"scatterternary\",\"marker\":{\"colorbar\":{\"outlinewidth\":0,\"ticks\":\"\"}}}],\"scattercarpet\":[{\"type\":\"scattercarpet\",\"marker\":{\"colorbar\":{\"outlinewidth\":0,\"ticks\":\"\"}}}],\"carpet\":[{\"aaxis\":{\"endlinecolor\":\"#2a3f5f\",\"gridcolor\":\"white\",\"linecolor\":\"white\",\"minorgridcolor\":\"white\",\"startlinecolor\":\"#2a3f5f\"},\"baxis\":{\"endlinecolor\":\"#2a3f5f\",\"gridcolor\":\"white\",\"linecolor\":\"white\",\"minorgridcolor\":\"white\",\"startlinecolor\":\"#2a3f5f\"},\"type\":\"carpet\"}],\"table\":[{\"cells\":{\"fill\":{\"color\":\"#EBF0F8\"},\"line\":{\"color\":\"white\"}},\"header\":{\"fill\":{\"color\":\"#C8D4E3\"},\"line\":{\"color\":\"white\"}},\"type\":\"table\"}],\"barpolar\":[{\"marker\":{\"line\":{\"color\":\"#E5ECF6\",\"width\":0.5},\"pattern\":{\"fillmode\":\"overlay\",\"size\":10,\"solidity\":0.2}},\"type\":\"barpolar\"}],\"pie\":[{\"automargin\":true,\"type\":\"pie\"}]},\"layout\":{\"autotypenumbers\":\"strict\",\"colorway\":[\"#636efa\",\"#EF553B\",\"#00cc96\",\"#ab63fa\",\"#FFA15A\",\"#19d3f3\",\"#FF6692\",\"#B6E880\",\"#FF97FF\",\"#FECB52\"],\"font\":{\"color\":\"#2a3f5f\"},\"hovermode\":\"closest\",\"hoverlabel\":{\"align\":\"left\"},\"paper_bgcolor\":\"white\",\"plot_bgcolor\":\"#E5ECF6\",\"polar\":{\"bgcolor\":\"#E5ECF6\",\"angularaxis\":{\"gridcolor\":\"white\",\"linecolor\":\"white\",\"ticks\":\"\"},\"radialaxis\":{\"gridcolor\":\"white\",\"linecolor\":\"white\",\"ticks\":\"\"}},\"ternary\":{\"bgcolor\":\"#E5ECF6\",\"aaxis\":{\"gridcolor\":\"white\",\"linecolor\":\"white\",\"ticks\":\"\"},\"baxis\":{\"gridcolor\":\"white\",\"linecolor\":\"white\",\"ticks\":\"\"},\"caxis\":{\"gridcolor\":\"white\",\"linecolor\":\"white\",\"ticks\":\"\"}},\"coloraxis\":{\"colorbar\":{\"outlinewidth\":0,\"ticks\":\"\"}},\"colorscale\":{\"sequential\":[[0.0,\"#0d0887\"],[0.1111111111111111,\"#46039f\"],[0.2222222222222222,\"#7201a8\"],[0.3333333333333333,\"#9c179e\"],[0.4444444444444444,\"#bd3786\"],[0.5555555555555556,\"#d8576b\"],[0.6666666666666666,\"#ed7953\"],[0.7777777777777778,\"#fb9f3a\"],[0.8888888888888888,\"#fdca26\"],[1.0,\"#f0f921\"]],\"sequentialminus\":[[0.0,\"#0d0887\"],[0.1111111111111111,\"#46039f\"],[0.2222222222222222,\"#7201a8\"],[0.3333333333333333,\"#9c179e\"],[0.4444444444444444,\"#bd3786\"],[0.5555555555555556,\"#d8576b\"],[0.6666666666666666,\"#ed7953\"],[0.7777777777777778,\"#fb9f3a\"],[0.8888888888888888,\"#fdca26\"],[1.0,\"#f0f921\"]],\"diverging\":[[0,\"#8e0152\"],[0.1,\"#c51b7d\"],[0.2,\"#de77ae\"],[0.3,\"#f1b6da\"],[0.4,\"#fde0ef\"],[0.5,\"#f7f7f7\"],[0.6,\"#e6f5d0\"],[0.7,\"#b8e186\"],[0.8,\"#7fbc41\"],[0.9,\"#4d9221\"],[1,\"#276419\"]]},\"xaxis\":{\"gridcolor\":\"white\",\"linecolor\":\"white\",\"ticks\":\"\",\"title\":{\"standoff\":15},\"zerolinecolor\":\"white\",\"automargin\":true,\"zerolinewidth\":2},\"yaxis\":{\"gridcolor\":\"white\",\"linecolor\":\"white\",\"ticks\":\"\",\"title\":{\"standoff\":15},\"zerolinecolor\":\"white\",\"automargin\":true,\"zerolinewidth\":2},\"scene\":{\"xaxis\":{\"backgroundcolor\":\"#E5ECF6\",\"gridcolor\":\"white\",\"linecolor\":\"white\",\"showbackground\":true,\"ticks\":\"\",\"zerolinecolor\":\"white\",\"gridwidth\":2},\"yaxis\":{\"backgroundcolor\":\"#E5ECF6\",\"gridcolor\":\"white\",\"linecolor\":\"white\",\"showbackground\":true,\"ticks\":\"\",\"zerolinecolor\":\"white\",\"gridwidth\":2},\"zaxis\":{\"backgroundcolor\":\"#E5ECF6\",\"gridcolor\":\"white\",\"linecolor\":\"white\",\"showbackground\":true,\"ticks\":\"\",\"zerolinecolor\":\"white\",\"gridwidth\":2}},\"shapedefaults\":{\"line\":{\"color\":\"#2a3f5f\"}},\"annotationdefaults\":{\"arrowcolor\":\"#2a3f5f\",\"arrowhead\":0,\"arrowwidth\":1},\"geo\":{\"bgcolor\":\"white\",\"landcolor\":\"#E5ECF6\",\"subunitcolor\":\"white\",\"showland\":true,\"showlakes\":true,\"lakecolor\":\"white\"},\"title\":{\"x\":0.05},\"mapbox\":{\"style\":\"light\"}}},\"xaxis\":{\"anchor\":\"y\",\"domain\":[0.0,1.0],\"title\":{\"text\":\"Sample size (Gb)\"}},\"yaxis\":{\"anchor\":\"x\",\"domain\":[0.0,1.0],\"title\":{\"text\":\"Depth median\"}},\"legend\":{\"title\":{\"text\":\"col_standin\"},\"tracegroupgap\":0},\"margin\":{\"t\":60}},                        {\"responsive\": true}                    ).then(function(){\n",
       "                            \n",
       "var gd = document.getElementById('b741b074-6c6b-4d9b-9220-1d2ba337b1e9');\n",
       "var x = new MutationObserver(function (mutations, observer) {{\n",
       "        var display = window.getComputedStyle(gd).display;\n",
       "        if (!display || display === 'none') {{\n",
       "            console.log([gd, 'removed!']);\n",
       "            Plotly.purge(gd);\n",
       "            observer.disconnect();\n",
       "        }}\n",
       "}});\n",
       "\n",
       "// Listen for the removal of the full notebook cells\n",
       "var notebookContainer = gd.closest('#notebook-container');\n",
       "if (notebookContainer) {{\n",
       "    x.observe(notebookContainer, {childList: true});\n",
       "}}\n",
       "\n",
       "// Listen for the clearing of the current output cell\n",
       "var outputEl = gd.closest('.output');\n",
       "if (outputEl) {{\n",
       "    x.observe(outputEl, {childList: true});\n",
       "}}\n",
       "\n",
       "                        })                };                });            </script>        </div>"
      ]
     },
     "metadata": {},
     "output_type": "display_data"
    }
   ],
   "source": [
    "fig = px.scatter(df_summary, x=\"readsGB\",y=\"Depth median\", \n",
    "                 #error_y=\"err_pos\", error_y_minus=\"err_neg\",\n",
    "                 color=\"col_standin\",\n",
    "                 labels={\"value\": \"Error\", \"readsGB\": \"Sample size (Gb)\"})\n",
    "fig.add_trace(go.Scatter(\n",
    "    x=df_summary[\"readsGB\"], y=df_summary[\"expected_value\"],\n",
    "    name = \"Expected\"\n",
    "))\n",
    "#fig.update_layout()"
   ]
  },
  {
   "cell_type": "code",
   "execution_count": null,
   "metadata": {},
   "outputs": [],
   "source": []
  }
 ],
 "metadata": {
  "kernelspec": {
   "display_name": "Python 3 (ipykernel)",
   "language": "python",
   "name": "python3"
  },
  "language_info": {
   "codemirror_mode": {
    "name": "ipython",
    "version": 3
   },
   "file_extension": ".py",
   "mimetype": "text/x-python",
   "name": "python",
   "nbconvert_exporter": "python",
   "pygments_lexer": "ipython3",
   "version": "3.10.4"
  }
 },
 "nbformat": 4,
 "nbformat_minor": 2
}
