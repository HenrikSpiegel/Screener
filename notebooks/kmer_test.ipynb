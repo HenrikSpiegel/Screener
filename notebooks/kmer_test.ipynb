{
 "cells": [
  {
   "cell_type": "code",
   "execution_count": 3,
   "id": "069354e5",
   "metadata": {},
   "outputs": [],
   "source": [
    "from Bio.Seq import Seq"
   ]
  },
  {
   "cell_type": "code",
   "execution_count": 4,
   "id": "ffbdbc11",
   "metadata": {},
   "outputs": [],
   "source": [
    "seq = \"AGCTTTGAAAGCGGTGATATACTGAGTAAGCTGTCAGAAACGACAGAAGCTTTGAAAGCGGTGATATACTGAGTAAGCTGTCAGAAACGACAGA\""
   ]
  },
  {
   "cell_type": "code",
   "execution_count": 23,
   "id": "655f0a8d",
   "metadata": {},
   "outputs": [],
   "source": [
    "def cannonalise(mer:str) -> str:\n",
    "    mer1 = Seq(mer)\n",
    "    mer2 = mer1.reverse_complement()\n",
    "    if mer1 < mer2:\n",
    "        return str(mer1)\n",
    "    return str(mer2)\n",
    "def kmerise(seq, k:int=21):\n",
    "    if len(seq) < k:\n",
    "        raise ValueError(f\"k cannot be larger than lenght of sequence -> k={k} > len(seq)={len(seq)}\")\n",
    "    return [seq[i:i+k] for i in range(len(seq)-k+1)]"
   ]
  },
  {
   "cell_type": "code",
   "execution_count": 24,
   "id": "c2c95dac",
   "metadata": {},
   "outputs": [],
   "source": [
    "s = \"AGCTTTGAAAGCGGTGATATACTGAG\""
   ]
  },
  {
   "cell_type": "code",
   "execution_count": 32,
   "id": "49b32a04",
   "metadata": {
    "scrolled": true
   },
   "outputs": [
    {
     "name": "stdout",
     "output_type": "stream",
     "text": [
      ">kmer0\n",
      "GGTGA\n",
      ">kmer1\n",
      "AGAAA\n",
      ">kmer2\n",
      "CTTAC\n",
      ">kmer3\n",
      "CAAAG\n",
      ">kmer4\n",
      "ACAGA\n",
      ">kmer5\n",
      "ACTCA\n",
      ">kmer6\n",
      "CTTTC\n",
      ">kmer7\n",
      "ACGAC\n",
      ">kmer8\n",
      "GAGTA\n",
      ">kmer9\n",
      "AACGA\n",
      ">kmer10\n",
      "ATCAC\n",
      ">kmer11\n",
      "ACTGA\n",
      ">kmer12\n",
      "CAGTA\n",
      ">kmer13\n",
      "AGTAT\n",
      ">kmer14\n",
      "ACAGC\n",
      ">kmer15\n",
      "TGACA\n",
      ">kmer16\n",
      "CTGAC\n",
      ">kmer17\n",
      "AAGCG\n",
      ">kmer18\n",
      "TCAGA\n",
      ">kmer19\n",
      "CGACA\n",
      ">kmer20\n",
      "TTCAA\n",
      ">kmer21\n",
      "AAGCT\n",
      ">kmer22\n",
      "TGAAA\n",
      ">kmer23\n",
      "CTGTC\n",
      ">kmer24\n",
      "CTCAG\n",
      ">kmer25\n",
      "TATCA\n",
      ">kmer26\n",
      "TCAAA\n",
      ">kmer27\n",
      "ATATA\n",
      ">kmer28\n",
      "AGAAG\n",
      ">kmer29\n",
      "AGTAA\n",
      ">kmer30\n",
      "AGCTG\n",
      ">kmer31\n",
      "ACCGC\n",
      ">kmer32\n",
      "ATATC\n",
      ">kmer33\n",
      "AAAGC\n",
      ">kmer34\n",
      "GAAGC\n",
      ">kmer35\n",
      "AGCGG\n",
      ">kmer36\n",
      "GCTTA\n",
      ">kmer37\n",
      "GAAAC\n",
      ">kmer38\n",
      "CAGAA\n",
      ">kmer39\n",
      "GTATA\n",
      ">kmer40\n",
      "AAACG\n",
      ">kmer41\n",
      "CACCG\n"
     ]
    }
   ],
   "source": [
    "kmers_cannonical = {cannonalise(x) for x in kmerise(seq, k=5)}\n",
    "entries = [f\">kmer{i}\\n{kmer}\" for i, kmer in enumerate(kmers_cannonical)]\n",
    "print((\"\\n\".join(entries)))"
   ]
  },
  {
   "cell_type": "code",
   "execution_count": null,
   "id": "062b8e05",
   "metadata": {},
   "outputs": [],
   "source": []
  }
 ],
 "metadata": {
  "kernelspec": {
   "display_name": "Python 3 (ipykernel)",
   "language": "python",
   "name": "python3"
  },
  "language_info": {
   "codemirror_mode": {
    "name": "ipython",
    "version": 3
   },
   "file_extension": ".py",
   "mimetype": "text/x-python",
   "name": "python",
   "nbconvert_exporter": "python",
   "pygments_lexer": "ipython3",
   "version": "3.10.4"
  }
 },
 "nbformat": 4,
 "nbformat_minor": 5
}
