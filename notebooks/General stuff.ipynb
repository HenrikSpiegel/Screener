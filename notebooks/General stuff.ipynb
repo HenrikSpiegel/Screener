{
 "cells": [
  {
   "cell_type": "code",
   "execution_count": 2,
   "id": "84781d8e",
   "metadata": {},
   "outputs": [],
   "source": [
    "import configparser"
   ]
  },
  {
   "cell_type": "code",
   "execution_count": 6,
   "id": "9d5973b8",
   "metadata": {},
   "outputs": [
    {
     "data": {
      "text/plain": [
       "['../config/project_config.ini']"
      ]
     },
     "execution_count": 6,
     "metadata": {},
     "output_type": "execute_result"
    }
   ],
   "source": [
    "config = configparser.ConfigParser()\n",
    "config.read(\"../config/project_config.ini\")"
   ]
  },
  {
   "cell_type": "code",
   "execution_count": 7,
   "id": "d324341f",
   "metadata": {},
   "outputs": [
    {
     "data": {
      "text/plain": [
       "'\\nNZ_LT906445.1\\nNZ_CP053893.1\\nNC_014328.1\\nNZ_CP020566.1\\nNZ_LT906470.1'"
      ]
     },
     "execution_count": 7,
     "metadata": {},
     "output_type": "execute_result"
    }
   ],
   "source": [
    "config.get(\"Simulation\", \"GenomeIDs\")#.strip(\"\\n\").split(\"\\n\")"
   ]
  },
  {
   "cell_type": "code",
   "execution_count": 8,
   "id": "6a37b013",
   "metadata": {},
   "outputs": [],
   "source": [
    "import json"
   ]
  },
  {
   "cell_type": "code",
   "execution_count": 11,
   "id": "10a23fcf",
   "metadata": {},
   "outputs": [],
   "source": [
    "from pathlib import Path"
   ]
  },
  {
   "cell_type": "code",
   "execution_count": 12,
   "id": "3860a8d5",
   "metadata": {},
   "outputs": [],
   "source": [
    "p = Path(\"../config/project_config.ini\")"
   ]
  },
  {
   "cell_type": "code",
   "execution_count": 16,
   "id": "04e29dec",
   "metadata": {},
   "outputs": [
    {
     "data": {
      "text/plain": [
       "'../config/project_config.ini'"
      ]
     },
     "execution_count": 16,
     "metadata": {},
     "output_type": "execute_result"
    }
   ],
   "source": [
    "p.__str__()"
   ]
  },
  {
   "cell_type": "code",
   "execution_count": 30,
   "id": "5c369982",
   "metadata": {},
   "outputs": [],
   "source": [
    "p = Path(\"abc/def/geh\")"
   ]
  },
  {
   "cell_type": "code",
   "execution_count": 31,
   "id": "f6242e64",
   "metadata": {},
   "outputs": [
    {
     "data": {
      "text/plain": [
       "PosixPath('abc/def')"
      ]
     },
     "execution_count": 31,
     "metadata": {},
     "output_type": "execute_result"
    }
   ],
   "source": [
    "p.parent"
   ]
  }
 ],
 "metadata": {
  "kernelspec": {
   "display_name": "Python 3 (ipykernel)",
   "language": "python",
   "name": "python3"
  },
  "language_info": {
   "codemirror_mode": {
    "name": "ipython",
    "version": 3
   },
   "file_extension": ".py",
   "mimetype": "text/x-python",
   "name": "python",
   "nbconvert_exporter": "python",
   "pygments_lexer": "ipython3",
   "version": "3.10.4"
  }
 },
 "nbformat": 4,
 "nbformat_minor": 5
}
